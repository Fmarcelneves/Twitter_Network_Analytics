{
  "nbformat": 4,
  "nbformat_minor": 0,
  "metadata": {
    "colab": {
      "name": "Machine learning model construction_Felipe_M_Neves_political-theme.ipynb",
      "provenance": [],
      "collapsed_sections": [],
      "toc_visible": true,
      "include_colab_link": true
    },
    "kernelspec": {
      "name": "python3",
      "display_name": "Python 3"
    }
  },
  "cells": [
    {
      "cell_type": "markdown",
      "metadata": {
        "id": "view-in-github",
        "colab_type": "text"
      },
      "source": [
        "<a href=\"https://colab.research.google.com/github/fmarcelneves/Twitter-Network-Analytics/blob/main/Machine_learning_model_construction_Felipe_M_Neves_political_theme.ipynb\" target=\"_parent\"><img src=\"https://colab.research.google.com/assets/colab-badge.svg\" alt=\"Open In Colab\"/></a>"
      ]
    },
    {
      "cell_type": "markdown",
      "metadata": {
        "_uuid": "39b49805abea346b301e8be2f6317f41f2040cb0",
        "id": "_ATEjsR7ojnq"
      },
      "source": [
        "<h1>Portuguese Tweets for Sentiment Analysis using nltk and sklearn</h1>"
      ]
    },
    {
      "cell_type": "markdown",
      "metadata": {
        "id": "t3FAjsEbkMW9"
      },
      "source": [
        "## Install package"
      ]
    },
    {
      "cell_type": "code",
      "metadata": {
        "colab": {
          "base_uri": "https://localhost:8080/"
        },
        "id": "kjr3G2adsHl-",
        "outputId": "78ba6c2e-b3d6-493b-beb0-d3d3c9d48439"
      },
      "source": [
        "!pip install xgboost"
      ],
      "execution_count": 1,
      "outputs": [
        {
          "output_type": "stream",
          "text": [
            "Requirement already satisfied: xgboost in /usr/local/lib/python3.7/dist-packages (0.90)\n",
            "Requirement already satisfied: numpy in /usr/local/lib/python3.7/dist-packages (from xgboost) (1.19.5)\n",
            "Requirement already satisfied: scipy in /usr/local/lib/python3.7/dist-packages (from xgboost) (1.4.1)\n"
          ],
          "name": "stdout"
        }
      ]
    },
    {
      "cell_type": "markdown",
      "metadata": {
        "_uuid": "b4f29bda96d086b23f57e2d4aa970c3c1e037578",
        "id": "nrMGO10Aojnq"
      },
      "source": [
        "## Load packages"
      ]
    },
    {
      "cell_type": "code",
      "metadata": {
        "trusted": true,
        "_uuid": "919b480a6075584c5f93cf511e90001ddcc7b649",
        "id": "VLxC5kVxojnq"
      },
      "source": [
        "import os\n",
        "import pandas as pd\n",
        "import numpy as np\n",
        "import random\n",
        "import re\n",
        "import nltk\n",
        "from nltk.tokenize import word_tokenize\n",
        "from nltk.tokenize import wordpunct_tokenize\n",
        "# from nltk.tokenize import sent_tokenize (Tokenization)\n",
        "from nltk.probability import FreqDist\n",
        "from nltk.metrics import ConfusionMatrix\n",
        "from wordcloud import WordCloud\n",
        "import matplotlib.pyplot as plt\n",
        "from sklearn.feature_extraction.text import CountVectorizer\n",
        "from sklearn.feature_extraction.text import TfidfTransformer\n",
        "from sklearn.naive_bayes import MultinomialNB\n",
        "from sklearn.linear_model import SGDClassifier\n",
        "from sklearn.linear_model import LogisticRegression\n",
        "from sklearn.svm import SVC\n",
        "from sklearn.ensemble import RandomForestClassifier\n",
        "from sklearn.ensemble import GradientBoostingClassifier\n",
        "from sklearn.pipeline import Pipeline\n",
        "from sklearn import metrics\n",
        "from sklearn.model_selection import GridSearchCV\n",
        "from sklearn.metrics import classification_report\n",
        "from sklearn.model_selection import cross_val_predict\n",
        "from sklearn.model_selection import train_test_split\n",
        "import  xgboost as xgb"
      ],
      "execution_count": 2,
      "outputs": []
    },
    {
      "cell_type": "code",
      "metadata": {
        "colab": {
          "base_uri": "https://localhost:8080/"
        },
        "id": "9eMtkH6n6u6b",
        "outputId": "abadb7ec-28aa-4e4a-8b02-923c4645ed2a"
      },
      "source": [
        " nltk.download('stopwords')"
      ],
      "execution_count": 3,
      "outputs": [
        {
          "output_type": "stream",
          "text": [
            "[nltk_data] Downloading package stopwords to /root/nltk_data...\n",
            "[nltk_data]   Unzipping corpora/stopwords.zip.\n"
          ],
          "name": "stdout"
        },
        {
          "output_type": "execute_result",
          "data": {
            "text/plain": [
              "True"
            ]
          },
          "metadata": {
            "tags": []
          },
          "execution_count": 3
        }
      ]
    },
    {
      "cell_type": "markdown",
      "metadata": {
        "_uuid": "6340d1fa4e6c1eb7317bc41d0e455f38cecff5e7",
        "id": "Oh5yVZT2ojnr"
      },
      "source": [
        "## Load and concatenate dataset"
      ]
    },
    {
      "cell_type": "markdown",
      "metadata": {
        "_uuid": "3796005c75ed73e961631cd6148ac209865498d7",
        "id": "VlaZL-WJojnr"
      },
      "source": [
        "<h4>Load and prepare</h4>"
      ]
    },
    {
      "cell_type": "code",
      "metadata": {
        "id": "LRLS8HzU0dL9"
      },
      "source": [
        "TweetsNeutralHash = 'https://raw.githubusercontent.com/fmarcelneves/Twitter-Network-Analytics/main/TweetsNeutralHash.csv'\n",
        "TweetsNeutralNews = 'https://raw.githubusercontent.com/fmarcelneves/Twitter-Network-Analytics/main/TweetsNeutralNews.csv'\n",
        "TweetsWithTheme = 'https://raw.githubusercontent.com/fmarcelneves/Twitter-Network-Analytics/main/TweetsWithTheme.csv'\n",
        "Train3Classes = 'https://raw.githubusercontent.com/fmarcelneves/Twitter-Network-Analytics/main/Train3Classes.csv'"
      ],
      "execution_count": 4,
      "outputs": []
    },
    {
      "cell_type": "code",
      "metadata": {
        "trusted": true,
        "_uuid": "5d6cf76ed57e7c9f7046c776b981afae40bc16cc",
        "id": "Gq5BNsUOojnr"
      },
      "source": [
        "NeutralHash = pd.read_csv(TweetsNeutralHash, encoding='utf-8')\n",
        "NeutralNews = pd.read_csv(TweetsNeutralNews, encoding='utf-8')\n",
        "Political_Neg_Pos = pd.read_csv(TweetsWithTheme, encoding='utf-8')\n",
        "Classes = pd.read_csv(Train3Classes, encoding='utf-8', sep=';')"
      ],
      "execution_count": 5,
      "outputs": []
    },
    {
      "cell_type": "code",
      "metadata": {
        "id": "FU0Lw4L1EfBs"
      },
      "source": [
        "NeutralHash  = NeutralHash[['tweet_text', 'sentiment']]\n",
        "NeutralHash.columns = ['texto', 'classificacao']"
      ],
      "execution_count": 6,
      "outputs": []
    },
    {
      "cell_type": "code",
      "metadata": {
        "colab": {
          "base_uri": "https://localhost:8080/"
        },
        "id": "IjZfD9KNFBs0",
        "outputId": "316a47d9-cf85-4372-f7e7-61fb46d22966"
      },
      "source": [
        "NeutralHash.shape"
      ],
      "execution_count": 7,
      "outputs": [
        {
          "output_type": "execute_result",
          "data": {
            "text/plain": [
              "(15727, 2)"
            ]
          },
          "metadata": {
            "tags": []
          },
          "execution_count": 7
        }
      ]
    },
    {
      "cell_type": "code",
      "metadata": {
        "id": "J9jEXZkLJFkc"
      },
      "source": [
        "NeutralHash = NeutralHash.drop_duplicates().reset_index(drop=True)"
      ],
      "execution_count": 8,
      "outputs": []
    },
    {
      "cell_type": "code",
      "metadata": {
        "colab": {
          "base_uri": "https://localhost:8080/"
        },
        "id": "1gNt_G2lJOPc",
        "outputId": "ae0f4c17-c810-4af0-cf78-607157230bb7"
      },
      "source": [
        "NeutralHash.shape"
      ],
      "execution_count": 9,
      "outputs": [
        {
          "output_type": "execute_result",
          "data": {
            "text/plain": [
              "(15515, 2)"
            ]
          },
          "metadata": {
            "tags": []
          },
          "execution_count": 9
        }
      ]
    },
    {
      "cell_type": "code",
      "metadata": {
        "id": "Hug5u6-XEuWO"
      },
      "source": [
        "NeutralNews  = NeutralNews[['tweet_text', 'sentiment']]\n",
        "NeutralNews.columns = ['texto', 'classificacao']"
      ],
      "execution_count": 10,
      "outputs": []
    },
    {
      "cell_type": "code",
      "metadata": {
        "colab": {
          "base_uri": "https://localhost:8080/"
        },
        "id": "kIV4NnaHFGuE",
        "outputId": "6ce94d7a-f4f7-4aef-f949-3a492e2db5d2"
      },
      "source": [
        "NeutralNews.shape"
      ],
      "execution_count": 11,
      "outputs": [
        {
          "output_type": "execute_result",
          "data": {
            "text/plain": [
              "(37556, 2)"
            ]
          },
          "metadata": {
            "tags": []
          },
          "execution_count": 11
        }
      ]
    },
    {
      "cell_type": "code",
      "metadata": {
        "id": "7TYMrbycJfX5"
      },
      "source": [
        "NeutralNews = NeutralNews.drop_duplicates().reset_index(drop=True)"
      ],
      "execution_count": 12,
      "outputs": []
    },
    {
      "cell_type": "code",
      "metadata": {
        "colab": {
          "base_uri": "https://localhost:8080/"
        },
        "id": "LlxcOlmfJkbN",
        "outputId": "12f95069-b120-4480-a6a8-e33170b9c7b8"
      },
      "source": [
        "NeutralNews.shape"
      ],
      "execution_count": 13,
      "outputs": [
        {
          "output_type": "execute_result",
          "data": {
            "text/plain": [
              "(37509, 2)"
            ]
          },
          "metadata": {
            "tags": []
          },
          "execution_count": 13
        }
      ]
    },
    {
      "cell_type": "code",
      "metadata": {
        "id": "vHTeO78UxI3w"
      },
      "source": [
        "Political_Neg_Pos  = Political_Neg_Pos[['tweet_text', 'sentiment']]\n",
        "Political_Neg_Pos.columns = ['texto', 'classificacao']"
      ],
      "execution_count": 14,
      "outputs": []
    },
    {
      "cell_type": "code",
      "metadata": {
        "colab": {
          "base_uri": "https://localhost:8080/"
        },
        "id": "iGqnSZ-lJx5O",
        "outputId": "2c2a8148-1e70-4deb-a858-e0ca39f0c9bd"
      },
      "source": [
        "Political_Neg_Pos.shape"
      ],
      "execution_count": 15,
      "outputs": [
        {
          "output_type": "execute_result",
          "data": {
            "text/plain": [
              "(61591, 2)"
            ]
          },
          "metadata": {
            "tags": []
          },
          "execution_count": 15
        }
      ]
    },
    {
      "cell_type": "code",
      "metadata": {
        "id": "XZoFHfaDJpRG"
      },
      "source": [
        "Political_Neg_Pos = Political_Neg_Pos.drop_duplicates().reset_index(drop=True)"
      ],
      "execution_count": 16,
      "outputs": []
    },
    {
      "cell_type": "code",
      "metadata": {
        "colab": {
          "base_uri": "https://localhost:8080/"
        },
        "id": "_SO-ueIiFOE7",
        "outputId": "4484bdfb-5b49-45ff-8e98-6215fa361def"
      },
      "source": [
        "Political_Neg_Pos.shape"
      ],
      "execution_count": 17,
      "outputs": [
        {
          "output_type": "execute_result",
          "data": {
            "text/plain": [
              "(61283, 2)"
            ]
          },
          "metadata": {
            "tags": []
          },
          "execution_count": 17
        }
      ]
    },
    {
      "cell_type": "code",
      "metadata": {
        "id": "UP8ROwB5Font"
      },
      "source": [
        "NeutralHash = NeutralHash.sample(8000) #14000 #8000"
      ],
      "execution_count": 18,
      "outputs": []
    },
    {
      "cell_type": "code",
      "metadata": {
        "colab": {
          "base_uri": "https://localhost:8080/"
        },
        "id": "dVhPGkbpWzkB",
        "outputId": "7dec7cfe-a4c5-4453-d2d7-0714627c2715"
      },
      "source": [
        "NeutralHash.shape"
      ],
      "execution_count": 19,
      "outputs": [
        {
          "output_type": "execute_result",
          "data": {
            "text/plain": [
              "(8000, 2)"
            ]
          },
          "metadata": {
            "tags": []
          },
          "execution_count": 19
        }
      ]
    },
    {
      "cell_type": "code",
      "metadata": {
        "id": "e3ewkebhGNVV"
      },
      "source": [
        "NeutralNews = NeutralNews.sample(20000) #14000 #20000"
      ],
      "execution_count": 20,
      "outputs": []
    },
    {
      "cell_type": "code",
      "metadata": {
        "colab": {
          "base_uri": "https://localhost:8080/"
        },
        "id": "61-uuGesXVjq",
        "outputId": "2c8326f4-1beb-4328-a37c-b53fb14528ca"
      },
      "source": [
        "NeutralNews.shape"
      ],
      "execution_count": 21,
      "outputs": [
        {
          "output_type": "execute_result",
          "data": {
            "text/plain": [
              "(20000, 2)"
            ]
          },
          "metadata": {
            "tags": []
          },
          "execution_count": 21
        }
      ]
    },
    {
      "cell_type": "code",
      "metadata": {
        "colab": {
          "base_uri": "https://localhost:8080/"
        },
        "id": "Ka26Jwf0lIrv",
        "outputId": "93a670fd-a9b2-46c4-ff50-1229594f7518"
      },
      "source": [
        "Political_Neg_Pos.loc[Political_Neg_Pos['classificacao'] == 'Positivo'].shape"
      ],
      "execution_count": 22,
      "outputs": [
        {
          "output_type": "execute_result",
          "data": {
            "text/plain": [
              "(32566, 2)"
            ]
          },
          "metadata": {
            "tags": []
          },
          "execution_count": 22
        }
      ]
    },
    {
      "cell_type": "code",
      "metadata": {
        "colab": {
          "base_uri": "https://localhost:8080/"
        },
        "id": "fPMoRx4-lUbN",
        "outputId": "f235f04e-23e7-416b-c928-764cecf86f09"
      },
      "source": [
        "Political_Neg_Pos.loc[Political_Neg_Pos['classificacao'] == 'Negativo'].shape"
      ],
      "execution_count": 23,
      "outputs": [
        {
          "output_type": "execute_result",
          "data": {
            "text/plain": [
              "(28717, 2)"
            ]
          },
          "metadata": {
            "tags": []
          },
          "execution_count": 23
        }
      ]
    },
    {
      "cell_type": "code",
      "metadata": {
        "id": "va8yRZWdTxRm"
      },
      "source": [
        "Political_Pos = Political_Neg_Pos.loc[Political_Neg_Pos['classificacao'] == 'Positivo'].sample(20000) #18000 #20000 #14000"
      ],
      "execution_count": 24,
      "outputs": []
    },
    {
      "cell_type": "code",
      "metadata": {
        "colab": {
          "base_uri": "https://localhost:8080/"
        },
        "id": "qjYPPBb-XqKY",
        "outputId": "e6adf9f2-0d4f-45e8-9775-6243bc6514da"
      },
      "source": [
        "Political_Pos.shape"
      ],
      "execution_count": 25,
      "outputs": [
        {
          "output_type": "execute_result",
          "data": {
            "text/plain": [
              "(20000, 2)"
            ]
          },
          "metadata": {
            "tags": []
          },
          "execution_count": 25
        }
      ]
    },
    {
      "cell_type": "code",
      "metadata": {
        "id": "AA476jZ74vb-"
      },
      "source": [
        "Classes_Pos  = Classes[['tweet_text', 'sentiment']]\n",
        "Classes_Pos.columns = ['texto', 'classificacao']"
      ],
      "execution_count": 26,
      "outputs": []
    },
    {
      "cell_type": "code",
      "metadata": {
        "colab": {
          "base_uri": "https://localhost:8080/"
        },
        "id": "HxaVKn_5AQzt",
        "outputId": "d11fc14a-7548-43b3-bf5e-ad94b8d5420f"
      },
      "source": [
        "Classes_Pos['classificacao'] = Classes_Pos['classificacao'].map({0: 'Negativo', 1: 'Positivo', 2: 'Neutro'})"
      ],
      "execution_count": 27,
      "outputs": [
        {
          "output_type": "stream",
          "text": [
            "/usr/local/lib/python3.7/dist-packages/ipykernel_launcher.py:1: SettingWithCopyWarning: \n",
            "A value is trying to be set on a copy of a slice from a DataFrame.\n",
            "Try using .loc[row_indexer,col_indexer] = value instead\n",
            "\n",
            "See the caveats in the documentation: https://pandas.pydata.org/pandas-docs/stable/user_guide/indexing.html#returning-a-view-versus-a-copy\n",
            "  \"\"\"Entry point for launching an IPython kernel.\n"
          ],
          "name": "stderr"
        }
      ]
    },
    {
      "cell_type": "code",
      "metadata": {
        "id": "ZDht-xymIyOF"
      },
      "source": [
        "Classes_Pos = Classes_Pos.loc[Classes_Pos['classificacao'] == 'Positivo'].sample(8000) #10000 #14000 #8000"
      ],
      "execution_count": 28,
      "outputs": []
    },
    {
      "cell_type": "code",
      "metadata": {
        "colab": {
          "base_uri": "https://localhost:8080/"
        },
        "id": "LnRd8nmwJD14",
        "outputId": "3f830405-6f51-4eeb-883b-ceb24d1ec9ac"
      },
      "source": [
        "Classes_Pos.shape"
      ],
      "execution_count": 29,
      "outputs": [
        {
          "output_type": "execute_result",
          "data": {
            "text/plain": [
              "(8000, 2)"
            ]
          },
          "metadata": {
            "tags": []
          },
          "execution_count": 29
        }
      ]
    },
    {
      "cell_type": "code",
      "metadata": {
        "id": "zp0GdYQgGRTc"
      },
      "source": [
        "Political_Neg = Political_Neg_Pos.loc[Political_Neg_Pos['classificacao'] == 'Negativo'].sample(28000)"
      ],
      "execution_count": 30,
      "outputs": []
    },
    {
      "cell_type": "code",
      "metadata": {
        "colab": {
          "base_uri": "https://localhost:8080/"
        },
        "id": "EOp1X9VHXtvg",
        "outputId": "8c66762d-4b5f-4e48-ec70-c692415327c0"
      },
      "source": [
        "Political_Neg.shape"
      ],
      "execution_count": 31,
      "outputs": [
        {
          "output_type": "execute_result",
          "data": {
            "text/plain": [
              "(28000, 2)"
            ]
          },
          "metadata": {
            "tags": []
          },
          "execution_count": 31
        }
      ]
    },
    {
      "cell_type": "code",
      "metadata": {
        "colab": {
          "base_uri": "https://localhost:8080/",
          "height": 419
        },
        "id": "oXfhSUO6I-DC",
        "outputId": "fe112bd6-f240-478d-8ce6-69816a48adab"
      },
      "source": [
        "dataset = pd.concat([NeutralHash, NeutralNews, Political_Pos, Classes_Pos, Political_Neg]).drop_duplicates().reset_index(drop=True)\n",
        "dataset"
      ],
      "execution_count": 32,
      "outputs": [
        {
          "output_type": "execute_result",
          "data": {
            "text/html": [
              "<div>\n",
              "<style scoped>\n",
              "    .dataframe tbody tr th:only-of-type {\n",
              "        vertical-align: middle;\n",
              "    }\n",
              "\n",
              "    .dataframe tbody tr th {\n",
              "        vertical-align: top;\n",
              "    }\n",
              "\n",
              "    .dataframe thead th {\n",
              "        text-align: right;\n",
              "    }\n",
              "</style>\n",
              "<table border=\"1\" class=\"dataframe\">\n",
              "  <thead>\n",
              "    <tr style=\"text-align: right;\">\n",
              "      <th></th>\n",
              "      <th>texto</th>\n",
              "      <th>classificacao</th>\n",
              "    </tr>\n",
              "  </thead>\n",
              "  <tbody>\n",
              "    <tr>\n",
              "      <th>0</th>\n",
              "      <td>@AbreuLudmylla Vcs sabem fazer mininu bonito #...</td>\n",
              "      <td>Neutro</td>\n",
              "    </tr>\n",
              "    <tr>\n",
              "      <th>1</th>\n",
              "      <td>#corretoradeseguros #segurosauto #segurosdevid...</td>\n",
              "      <td>Neutro</td>\n",
              "    </tr>\n",
              "    <tr>\n",
              "      <th>2</th>\n",
              "      <td>@jeffs_araujo35 Queimará o último livro, mas n...</td>\n",
              "      <td>Neutro</td>\n",
              "    </tr>\n",
              "    <tr>\n",
              "      <th>3</th>\n",
              "      <td>Nova sessão de fotos pelas lentes da @patty_sc...</td>\n",
              "      <td>Neutro</td>\n",
              "    </tr>\n",
              "    <tr>\n",
              "      <th>4</th>\n",
              "      <td>😱DESCUBRA Quando 4 temporada da série GOTHAM c...</td>\n",
              "      <td>Neutro</td>\n",
              "    </tr>\n",
              "    <tr>\n",
              "      <th>...</th>\n",
              "      <td>...</td>\n",
              "      <td>...</td>\n",
              "    </tr>\n",
              "    <tr>\n",
              "      <th>83662</th>\n",
              "      <td>Enfim, 24 anos. E NUNCA estive tão ansiosa, tr...</td>\n",
              "      <td>Negativo</td>\n",
              "    </tr>\n",
              "    <tr>\n",
              "      <th>83663</th>\n",
              "      <td>Esses vídeos dos eleitores do bolsonaro votand...</td>\n",
              "      <td>Negativo</td>\n",
              "    </tr>\n",
              "    <tr>\n",
              "      <th>83664</th>\n",
              "      <td>Tenho seguidores que seguem o Bolsonaro oppa, ...</td>\n",
              "      <td>Negativo</td>\n",
              "    </tr>\n",
              "    <tr>\n",
              "      <th>83665</th>\n",
              "      <td>:( \"'New York Times' critica Bolsonaro em edit...</td>\n",
              "      <td>Negativo</td>\n",
              "    </tr>\n",
              "    <tr>\n",
              "      <th>83666</th>\n",
              "      <td>@_jdiasb serio amiga? A minha ta cheia de fasc...</td>\n",
              "      <td>Negativo</td>\n",
              "    </tr>\n",
              "  </tbody>\n",
              "</table>\n",
              "<p>83667 rows × 2 columns</p>\n",
              "</div>"
            ],
            "text/plain": [
              "                                                   texto classificacao\n",
              "0      @AbreuLudmylla Vcs sabem fazer mininu bonito #...        Neutro\n",
              "1      #corretoradeseguros #segurosauto #segurosdevid...        Neutro\n",
              "2      @jeffs_araujo35 Queimará o último livro, mas n...        Neutro\n",
              "3      Nova sessão de fotos pelas lentes da @patty_sc...        Neutro\n",
              "4      😱DESCUBRA Quando 4 temporada da série GOTHAM c...        Neutro\n",
              "...                                                  ...           ...\n",
              "83662  Enfim, 24 anos. E NUNCA estive tão ansiosa, tr...      Negativo\n",
              "83663  Esses vídeos dos eleitores do bolsonaro votand...      Negativo\n",
              "83664  Tenho seguidores que seguem o Bolsonaro oppa, ...      Negativo\n",
              "83665  :( \"'New York Times' critica Bolsonaro em edit...      Negativo\n",
              "83666  @_jdiasb serio amiga? A minha ta cheia de fasc...      Negativo\n",
              "\n",
              "[83667 rows x 2 columns]"
            ]
          },
          "metadata": {
            "tags": []
          },
          "execution_count": 32
        }
      ]
    },
    {
      "cell_type": "code",
      "metadata": {
        "colab": {
          "base_uri": "https://localhost:8080/"
        },
        "id": "2abip6xKlfm6",
        "outputId": "ee1df781-4dd8-40e5-8a42-8ef7015f28f5"
      },
      "source": [
        "dataset.shape"
      ],
      "execution_count": 33,
      "outputs": [
        {
          "output_type": "execute_result",
          "data": {
            "text/plain": [
              "(83667, 2)"
            ]
          },
          "metadata": {
            "tags": []
          },
          "execution_count": 33
        }
      ]
    },
    {
      "cell_type": "code",
      "metadata": {
        "id": "99aGu-b4V6cR"
      },
      "source": [
        "#dataset = pd.concat([NeutralHash, NeutralNews, Political_Pos, Political_Neg]).drop_duplicates().reset_index(drop=True)\n",
        "#dataset"
      ],
      "execution_count": 34,
      "outputs": []
    },
    {
      "cell_type": "code",
      "metadata": {
        "id": "YTJGBA3RaUxD"
      },
      "source": [
        "#dataset = pd.concat([NeutralNews, Political_Pos, Political_Neg]).drop_duplicates().reset_index(drop=True)\n",
        "#dataset"
      ],
      "execution_count": 35,
      "outputs": []
    },
    {
      "cell_type": "markdown",
      "metadata": {
        "_uuid": "099ce684b4fe8f313bb2c6fc51bee367fb79c9fe",
        "id": "kpOHnqZmojnr"
      },
      "source": [
        "## Exploratory Analysis"
      ]
    },
    {
      "cell_type": "code",
      "metadata": {
        "trusted": true,
        "_uuid": "515a9096a3a52d337223b5c0599bbf3fe890f457",
        "colab": {
          "base_uri": "https://localhost:8080/",
          "height": 204
        },
        "id": "08yO3uJfojnr",
        "outputId": "c7e1fb38-ec0a-4762-c352-b1d9ce5c3ba0"
      },
      "source": [
        "dataset.sample(5)"
      ],
      "execution_count": 36,
      "outputs": [
        {
          "output_type": "execute_result",
          "data": {
            "text/html": [
              "<div>\n",
              "<style scoped>\n",
              "    .dataframe tbody tr th:only-of-type {\n",
              "        vertical-align: middle;\n",
              "    }\n",
              "\n",
              "    .dataframe tbody tr th {\n",
              "        vertical-align: top;\n",
              "    }\n",
              "\n",
              "    .dataframe thead th {\n",
              "        text-align: right;\n",
              "    }\n",
              "</style>\n",
              "<table border=\"1\" class=\"dataframe\">\n",
              "  <thead>\n",
              "    <tr style=\"text-align: right;\">\n",
              "      <th></th>\n",
              "      <th>texto</th>\n",
              "      <th>classificacao</th>\n",
              "    </tr>\n",
              "  </thead>\n",
              "  <tbody>\n",
              "    <tr>\n",
              "      <th>14459</th>\n",
              "      <td>Paes recebe apoio do PV e diz que vai privatiz...</td>\n",
              "      <td>Neutro</td>\n",
              "    </tr>\n",
              "    <tr>\n",
              "      <th>47733</th>\n",
              "      <td>a PEQUENA diferença é que o Bolsonaro diz com ...</td>\n",
              "      <td>Positivo</td>\n",
              "    </tr>\n",
              "    <tr>\n",
              "      <th>37764</th>\n",
              "      <td>@thaissagonzales @faustinobeats Indiretamente ...</td>\n",
              "      <td>Positivo</td>\n",
              "    </tr>\n",
              "    <tr>\n",
              "      <th>17196</th>\n",
              "      <td>Gerdau conclui plano de desinvestimento em 201...</td>\n",
              "      <td>Neutro</td>\n",
              "    </tr>\n",
              "    <tr>\n",
              "      <th>60410</th>\n",
              "      <td>@igor_3k Procede, títulos de antes de 2012 é m...</td>\n",
              "      <td>Negativo</td>\n",
              "    </tr>\n",
              "  </tbody>\n",
              "</table>\n",
              "</div>"
            ],
            "text/plain": [
              "                                                   texto classificacao\n",
              "14459  Paes recebe apoio do PV e diz que vai privatiz...        Neutro\n",
              "47733  a PEQUENA diferença é que o Bolsonaro diz com ...      Positivo\n",
              "37764  @thaissagonzales @faustinobeats Indiretamente ...      Positivo\n",
              "17196  Gerdau conclui plano de desinvestimento em 201...        Neutro\n",
              "60410  @igor_3k Procede, títulos de antes de 2012 é m...      Negativo"
            ]
          },
          "metadata": {
            "tags": []
          },
          "execution_count": 36
        }
      ]
    },
    {
      "cell_type": "code",
      "metadata": {
        "colab": {
          "base_uri": "https://localhost:8080/"
        },
        "id": "zSmFYy1yTuUH",
        "outputId": "b6296632-a79a-4f16-b59e-665aa29cf5d9"
      },
      "source": [
        "series = dataset['classificacao'].value_counts()\n",
        "series"
      ],
      "execution_count": 37,
      "outputs": [
        {
          "output_type": "execute_result",
          "data": {
            "text/plain": [
              "Negativo    28000\n",
              "Neutro      27993\n",
              "Positivo    27674\n",
              "Name: classificacao, dtype: int64"
            ]
          },
          "metadata": {
            "tags": []
          },
          "execution_count": 37
        }
      ]
    },
    {
      "cell_type": "code",
      "metadata": {
        "id": "fa-v1dJ07uVp"
      },
      "source": [
        "%%capture\n",
        "!pip install plotly --upgrade\n",
        "from plotly import __version__\n",
        "print (__version__)\n",
        "import plotly.express as px\n",
        "from plotly.subplots import make_subplots\n",
        "import plotly.graph_objs as go\n",
        "import plotly as py\n",
        "#import plotly.figure_factory as ff\n",
        "from plotly import tools\n",
        "#import cufflinks as cf\n",
        "from plotly.offline import iplot, init_notebook_mode\n",
        "# Display all cell outputs\n",
        "from IPython.core.interactiveshell import InteractiveShell\n",
        "import plotly.io as pio\n",
        "pio.templates.default = \"plotly_white\""
      ],
      "execution_count": 38,
      "outputs": []
    },
    {
      "cell_type": "code",
      "metadata": {
        "id": "oLkUd6G-8LFo"
      },
      "source": [
        "pd.options.plotting.backend = \"plotly\"\n"
      ],
      "execution_count": 39,
      "outputs": []
    },
    {
      "cell_type": "code",
      "metadata": {
        "trusted": true,
        "_uuid": "754cdcf1f1b7e2d5abfc5a97f5c53891842be1e1",
        "colab": {
          "base_uri": "https://localhost:8080/",
          "height": 542
        },
        "id": "1GHwg04Tojnr",
        "outputId": "453606f0-4129-4640-d74b-fccf49f4e7a4"
      },
      "source": [
        "series.plot(kind='bar', title='Número de tweets classificados para cada sentimento considerado', \n",
        "labels={\"value\": \"Frequências\", \"index\": \"Sentimentos\"}, color = ['Negativo', 'Neutro', 'Positivo'], \n",
        "color_discrete_sequence =['#EF553B', '#00CC96', '#636EFA'])"
      ],
      "execution_count": 40,
      "outputs": [
        {
          "output_type": "display_data",
          "data": {
            "text/html": [
              "<html>\n",
              "<head><meta charset=\"utf-8\" /></head>\n",
              "<body>\n",
              "    <div>            <script src=\"https://cdnjs.cloudflare.com/ajax/libs/mathjax/2.7.5/MathJax.js?config=TeX-AMS-MML_SVG\"></script><script type=\"text/javascript\">if (window.MathJax) {MathJax.Hub.Config({SVG: {font: \"STIX-Web\"}});}</script>                <script type=\"text/javascript\">window.PlotlyConfig = {MathJaxConfig: 'local'};</script>\n",
              "        <script src=\"https://cdn.plot.ly/plotly-latest.min.js\"></script>                <div id=\"76a1de9f-38ca-44ef-af0e-b82f4af502f6\" class=\"plotly-graph-div\" style=\"height:525px; width:100%;\"></div>            <script type=\"text/javascript\">                                    window.PLOTLYENV=window.PLOTLYENV || {};                                    if (document.getElementById(\"76a1de9f-38ca-44ef-af0e-b82f4af502f6\")) {                    Plotly.newPlot(                        \"76a1de9f-38ca-44ef-af0e-b82f4af502f6\",                        [{\"alignmentgroup\": \"True\", \"hovertemplate\": \"color=Negativo<br>Sentimentos=%{x}<br>Frequ\\u00eancias=%{y}<extra></extra>\", \"legendgroup\": \"Negativo\", \"marker\": {\"color\": \"#EF553B\"}, \"name\": \"Negativo\", \"offsetgroup\": \"Negativo\", \"orientation\": \"v\", \"showlegend\": true, \"textposition\": \"auto\", \"type\": \"bar\", \"x\": [\"Negativo\"], \"xaxis\": \"x\", \"y\": [28000], \"yaxis\": \"y\"}, {\"alignmentgroup\": \"True\", \"hovertemplate\": \"color=Neutro<br>Sentimentos=%{x}<br>Frequ\\u00eancias=%{y}<extra></extra>\", \"legendgroup\": \"Neutro\", \"marker\": {\"color\": \"#00CC96\"}, \"name\": \"Neutro\", \"offsetgroup\": \"Neutro\", \"orientation\": \"v\", \"showlegend\": true, \"textposition\": \"auto\", \"type\": \"bar\", \"x\": [\"Neutro\"], \"xaxis\": \"x\", \"y\": [27993], \"yaxis\": \"y\"}, {\"alignmentgroup\": \"True\", \"hovertemplate\": \"color=Positivo<br>Sentimentos=%{x}<br>Frequ\\u00eancias=%{y}<extra></extra>\", \"legendgroup\": \"Positivo\", \"marker\": {\"color\": \"#636EFA\"}, \"name\": \"Positivo\", \"offsetgroup\": \"Positivo\", \"orientation\": \"v\", \"showlegend\": true, \"textposition\": \"auto\", \"type\": \"bar\", \"x\": [\"Positivo\"], \"xaxis\": \"x\", \"y\": [27674], \"yaxis\": \"y\"}],                        {\"barmode\": \"relative\", \"legend\": {\"title\": {\"text\": \"color\"}, \"tracegroupgap\": 0}, \"template\": {\"data\": {\"bar\": [{\"error_x\": {\"color\": \"#2a3f5f\"}, \"error_y\": {\"color\": \"#2a3f5f\"}, \"marker\": {\"line\": {\"color\": \"white\", \"width\": 0.5}}, \"type\": \"bar\"}], \"barpolar\": [{\"marker\": {\"line\": {\"color\": \"white\", \"width\": 0.5}}, \"type\": \"barpolar\"}], \"carpet\": [{\"aaxis\": {\"endlinecolor\": \"#2a3f5f\", \"gridcolor\": \"#C8D4E3\", \"linecolor\": \"#C8D4E3\", \"minorgridcolor\": \"#C8D4E3\", \"startlinecolor\": \"#2a3f5f\"}, \"baxis\": {\"endlinecolor\": \"#2a3f5f\", \"gridcolor\": \"#C8D4E3\", \"linecolor\": \"#C8D4E3\", \"minorgridcolor\": \"#C8D4E3\", \"startlinecolor\": \"#2a3f5f\"}, \"type\": \"carpet\"}], \"choropleth\": [{\"colorbar\": {\"outlinewidth\": 0, \"ticks\": \"\"}, \"type\": \"choropleth\"}], \"contour\": [{\"colorbar\": {\"outlinewidth\": 0, \"ticks\": \"\"}, \"colorscale\": [[0.0, \"#0d0887\"], [0.1111111111111111, \"#46039f\"], [0.2222222222222222, \"#7201a8\"], [0.3333333333333333, \"#9c179e\"], [0.4444444444444444, \"#bd3786\"], [0.5555555555555556, \"#d8576b\"], [0.6666666666666666, \"#ed7953\"], [0.7777777777777778, \"#fb9f3a\"], [0.8888888888888888, \"#fdca26\"], [1.0, \"#f0f921\"]], \"type\": \"contour\"}], \"contourcarpet\": [{\"colorbar\": {\"outlinewidth\": 0, \"ticks\": \"\"}, \"type\": \"contourcarpet\"}], \"heatmap\": [{\"colorbar\": {\"outlinewidth\": 0, \"ticks\": \"\"}, \"colorscale\": [[0.0, \"#0d0887\"], [0.1111111111111111, \"#46039f\"], [0.2222222222222222, \"#7201a8\"], [0.3333333333333333, \"#9c179e\"], [0.4444444444444444, \"#bd3786\"], [0.5555555555555556, \"#d8576b\"], [0.6666666666666666, \"#ed7953\"], [0.7777777777777778, \"#fb9f3a\"], [0.8888888888888888, \"#fdca26\"], [1.0, \"#f0f921\"]], \"type\": \"heatmap\"}], \"heatmapgl\": [{\"colorbar\": {\"outlinewidth\": 0, \"ticks\": \"\"}, \"colorscale\": [[0.0, \"#0d0887\"], [0.1111111111111111, \"#46039f\"], [0.2222222222222222, \"#7201a8\"], [0.3333333333333333, \"#9c179e\"], [0.4444444444444444, \"#bd3786\"], [0.5555555555555556, \"#d8576b\"], [0.6666666666666666, \"#ed7953\"], [0.7777777777777778, \"#fb9f3a\"], [0.8888888888888888, \"#fdca26\"], [1.0, \"#f0f921\"]], \"type\": \"heatmapgl\"}], \"histogram\": [{\"marker\": {\"colorbar\": {\"outlinewidth\": 0, \"ticks\": \"\"}}, \"type\": \"histogram\"}], \"histogram2d\": [{\"colorbar\": {\"outlinewidth\": 0, \"ticks\": \"\"}, \"colorscale\": [[0.0, \"#0d0887\"], [0.1111111111111111, \"#46039f\"], [0.2222222222222222, \"#7201a8\"], [0.3333333333333333, \"#9c179e\"], [0.4444444444444444, \"#bd3786\"], [0.5555555555555556, \"#d8576b\"], [0.6666666666666666, \"#ed7953\"], [0.7777777777777778, \"#fb9f3a\"], [0.8888888888888888, \"#fdca26\"], [1.0, \"#f0f921\"]], \"type\": \"histogram2d\"}], \"histogram2dcontour\": [{\"colorbar\": {\"outlinewidth\": 0, \"ticks\": \"\"}, \"colorscale\": [[0.0, \"#0d0887\"], [0.1111111111111111, \"#46039f\"], [0.2222222222222222, \"#7201a8\"], [0.3333333333333333, \"#9c179e\"], [0.4444444444444444, \"#bd3786\"], [0.5555555555555556, \"#d8576b\"], [0.6666666666666666, \"#ed7953\"], [0.7777777777777778, \"#fb9f3a\"], [0.8888888888888888, \"#fdca26\"], [1.0, \"#f0f921\"]], \"type\": \"histogram2dcontour\"}], \"mesh3d\": [{\"colorbar\": {\"outlinewidth\": 0, \"ticks\": \"\"}, \"type\": \"mesh3d\"}], \"parcoords\": [{\"line\": {\"colorbar\": {\"outlinewidth\": 0, \"ticks\": \"\"}}, \"type\": \"parcoords\"}], \"pie\": [{\"automargin\": true, \"type\": \"pie\"}], \"scatter\": [{\"marker\": {\"colorbar\": {\"outlinewidth\": 0, \"ticks\": \"\"}}, \"type\": \"scatter\"}], \"scatter3d\": [{\"line\": {\"colorbar\": {\"outlinewidth\": 0, \"ticks\": \"\"}}, \"marker\": {\"colorbar\": {\"outlinewidth\": 0, \"ticks\": \"\"}}, \"type\": \"scatter3d\"}], \"scattercarpet\": [{\"marker\": {\"colorbar\": {\"outlinewidth\": 0, \"ticks\": \"\"}}, \"type\": \"scattercarpet\"}], \"scattergeo\": [{\"marker\": {\"colorbar\": {\"outlinewidth\": 0, \"ticks\": \"\"}}, \"type\": \"scattergeo\"}], \"scattergl\": [{\"marker\": {\"colorbar\": {\"outlinewidth\": 0, \"ticks\": \"\"}}, \"type\": \"scattergl\"}], \"scattermapbox\": [{\"marker\": {\"colorbar\": {\"outlinewidth\": 0, \"ticks\": \"\"}}, \"type\": \"scattermapbox\"}], \"scatterpolar\": [{\"marker\": {\"colorbar\": {\"outlinewidth\": 0, \"ticks\": \"\"}}, \"type\": \"scatterpolar\"}], \"scatterpolargl\": [{\"marker\": {\"colorbar\": {\"outlinewidth\": 0, \"ticks\": \"\"}}, \"type\": \"scatterpolargl\"}], \"scatterternary\": [{\"marker\": {\"colorbar\": {\"outlinewidth\": 0, \"ticks\": \"\"}}, \"type\": \"scatterternary\"}], \"surface\": [{\"colorbar\": {\"outlinewidth\": 0, \"ticks\": \"\"}, \"colorscale\": [[0.0, \"#0d0887\"], [0.1111111111111111, \"#46039f\"], [0.2222222222222222, \"#7201a8\"], [0.3333333333333333, \"#9c179e\"], [0.4444444444444444, \"#bd3786\"], [0.5555555555555556, \"#d8576b\"], [0.6666666666666666, \"#ed7953\"], [0.7777777777777778, \"#fb9f3a\"], [0.8888888888888888, \"#fdca26\"], [1.0, \"#f0f921\"]], \"type\": \"surface\"}], \"table\": [{\"cells\": {\"fill\": {\"color\": \"#EBF0F8\"}, \"line\": {\"color\": \"white\"}}, \"header\": {\"fill\": {\"color\": \"#C8D4E3\"}, \"line\": {\"color\": \"white\"}}, \"type\": \"table\"}]}, \"layout\": {\"annotationdefaults\": {\"arrowcolor\": \"#2a3f5f\", \"arrowhead\": 0, \"arrowwidth\": 1}, \"autotypenumbers\": \"strict\", \"coloraxis\": {\"colorbar\": {\"outlinewidth\": 0, \"ticks\": \"\"}}, \"colorscale\": {\"diverging\": [[0, \"#8e0152\"], [0.1, \"#c51b7d\"], [0.2, \"#de77ae\"], [0.3, \"#f1b6da\"], [0.4, \"#fde0ef\"], [0.5, \"#f7f7f7\"], [0.6, \"#e6f5d0\"], [0.7, \"#b8e186\"], [0.8, \"#7fbc41\"], [0.9, \"#4d9221\"], [1, \"#276419\"]], \"sequential\": [[0.0, \"#0d0887\"], [0.1111111111111111, \"#46039f\"], [0.2222222222222222, \"#7201a8\"], [0.3333333333333333, \"#9c179e\"], [0.4444444444444444, \"#bd3786\"], [0.5555555555555556, \"#d8576b\"], [0.6666666666666666, \"#ed7953\"], [0.7777777777777778, \"#fb9f3a\"], [0.8888888888888888, \"#fdca26\"], [1.0, \"#f0f921\"]], \"sequentialminus\": [[0.0, \"#0d0887\"], [0.1111111111111111, \"#46039f\"], [0.2222222222222222, \"#7201a8\"], [0.3333333333333333, \"#9c179e\"], [0.4444444444444444, \"#bd3786\"], [0.5555555555555556, \"#d8576b\"], [0.6666666666666666, \"#ed7953\"], [0.7777777777777778, \"#fb9f3a\"], [0.8888888888888888, \"#fdca26\"], [1.0, \"#f0f921\"]]}, \"colorway\": [\"#636efa\", \"#EF553B\", \"#00cc96\", \"#ab63fa\", \"#FFA15A\", \"#19d3f3\", \"#FF6692\", \"#B6E880\", \"#FF97FF\", \"#FECB52\"], \"font\": {\"color\": \"#2a3f5f\"}, \"geo\": {\"bgcolor\": \"white\", \"lakecolor\": \"white\", \"landcolor\": \"white\", \"showlakes\": true, \"showland\": true, \"subunitcolor\": \"#C8D4E3\"}, \"hoverlabel\": {\"align\": \"left\"}, \"hovermode\": \"closest\", \"mapbox\": {\"style\": \"light\"}, \"paper_bgcolor\": \"white\", \"plot_bgcolor\": \"white\", \"polar\": {\"angularaxis\": {\"gridcolor\": \"#EBF0F8\", \"linecolor\": \"#EBF0F8\", \"ticks\": \"\"}, \"bgcolor\": \"white\", \"radialaxis\": {\"gridcolor\": \"#EBF0F8\", \"linecolor\": \"#EBF0F8\", \"ticks\": \"\"}}, \"scene\": {\"xaxis\": {\"backgroundcolor\": \"white\", \"gridcolor\": \"#DFE8F3\", \"gridwidth\": 2, \"linecolor\": \"#EBF0F8\", \"showbackground\": true, \"ticks\": \"\", \"zerolinecolor\": \"#EBF0F8\"}, \"yaxis\": {\"backgroundcolor\": \"white\", \"gridcolor\": \"#DFE8F3\", \"gridwidth\": 2, \"linecolor\": \"#EBF0F8\", \"showbackground\": true, \"ticks\": \"\", \"zerolinecolor\": \"#EBF0F8\"}, \"zaxis\": {\"backgroundcolor\": \"white\", \"gridcolor\": \"#DFE8F3\", \"gridwidth\": 2, \"linecolor\": \"#EBF0F8\", \"showbackground\": true, \"ticks\": \"\", \"zerolinecolor\": \"#EBF0F8\"}}, \"shapedefaults\": {\"line\": {\"color\": \"#2a3f5f\"}}, \"ternary\": {\"aaxis\": {\"gridcolor\": \"#DFE8F3\", \"linecolor\": \"#A2B1C6\", \"ticks\": \"\"}, \"baxis\": {\"gridcolor\": \"#DFE8F3\", \"linecolor\": \"#A2B1C6\", \"ticks\": \"\"}, \"bgcolor\": \"white\", \"caxis\": {\"gridcolor\": \"#DFE8F3\", \"linecolor\": \"#A2B1C6\", \"ticks\": \"\"}}, \"title\": {\"x\": 0.05}, \"xaxis\": {\"automargin\": true, \"gridcolor\": \"#EBF0F8\", \"linecolor\": \"#EBF0F8\", \"ticks\": \"\", \"title\": {\"standoff\": 15}, \"zerolinecolor\": \"#EBF0F8\", \"zerolinewidth\": 2}, \"yaxis\": {\"automargin\": true, \"gridcolor\": \"#EBF0F8\", \"linecolor\": \"#EBF0F8\", \"ticks\": \"\", \"title\": {\"standoff\": 15}, \"zerolinecolor\": \"#EBF0F8\", \"zerolinewidth\": 2}}}, \"title\": {\"text\": \"N\\u00famero de tweets classificados para cada sentimento considerado\"}, \"xaxis\": {\"anchor\": \"y\", \"domain\": [0.0, 1.0], \"title\": {\"text\": \"Sentimentos\"}}, \"yaxis\": {\"anchor\": \"x\", \"domain\": [0.0, 1.0], \"title\": {\"text\": \"Frequ\\u00eancias\"}}},                        {\"responsive\": true}                    ).then(function(){\n",
              "                            \n",
              "var gd = document.getElementById('76a1de9f-38ca-44ef-af0e-b82f4af502f6');\n",
              "var x = new MutationObserver(function (mutations, observer) {{\n",
              "        var display = window.getComputedStyle(gd).display;\n",
              "        if (!display || display === 'none') {{\n",
              "            console.log([gd, 'removed!']);\n",
              "            Plotly.purge(gd);\n",
              "            observer.disconnect();\n",
              "        }}\n",
              "}});\n",
              "\n",
              "// Listen for the removal of the full notebook cells\n",
              "var notebookContainer = gd.closest('#notebook-container');\n",
              "if (notebookContainer) {{\n",
              "    x.observe(notebookContainer, {childList: true});\n",
              "}}\n",
              "\n",
              "// Listen for the clearing of the current output cell\n",
              "var outputEl = gd.closest('.output');\n",
              "if (outputEl) {{\n",
              "    x.observe(outputEl, {childList: true});\n",
              "}}\n",
              "\n",
              "                        })                };                            </script>        </div>\n",
              "</body>\n",
              "</html>"
            ]
          },
          "metadata": {
            "tags": []
          }
        }
      ]
    },
    {
      "cell_type": "markdown",
      "metadata": {
        "_uuid": "cbd7bc340b754fd41719e7e472c120036df3c181",
        "id": "vV2dDvZlojns"
      },
      "source": [
        "## Text Preprocessing"
      ]
    },
    {
      "cell_type": "markdown",
      "metadata": {
        "_uuid": "e0fa7ffe4702a970770210c0d5e84d99a2a5b67d",
        "id": "aOFuMZ7vojns"
      },
      "source": [
        "  Noise Removal\n",
        "    <ul>\n",
        "      <li>Remove urls from text (http(s), www)</li>\n",
        "      <li>Remove a regex pattern (hashtags, notations)</li>\n",
        "      <li>Prepare text, replace emoticons \":)) :) :D :(\" to positive_emoticon or negative_emoticon or neutral_emoticon tags</li>\n",
        "  <li>Tokenize text with nltk</li>\n",
        "  <li>Object Standardization</li>\n",
        "  <li>Remove stopwords (noise removal and dimensionality reduction)</li>\n",
        "  <li>Lexicon Normalization</li>\n",
        "    <ul>\n",
        "      <li>Lemmatization (not implemented...)</li>\n",
        "      <li>Stemming (dimensionality reduction)</li>\n",
        "    </ul>\n",
        "</ul> "
      ]
    },
    {
      "cell_type": "markdown",
      "metadata": {
        "_uuid": "64a6bcec4c251bcdb97dbb5e3c7f57776dfd68f0",
        "id": "N_bstK-kojns"
      },
      "source": [
        "<h4>Examples of emoticons</h4>"
      ]
    },
    {
      "cell_type": "markdown",
      "metadata": {
        "_uuid": "5f6986c23fc2eaaa528220adf21d2a42b7c08ef5",
        "id": "vIDBhxHtojns"
      },
      "source": [
        "<h4>Noise Removal</h4>"
      ]
    },
    {
      "cell_type": "markdown",
      "metadata": {
        "_uuid": "7930c6a98074a8666f0fd4d896f7c79e38615049",
        "id": "E8WRBTOpojns"
      },
      "source": [
        "Remove urls from text (http(s), www)"
      ]
    },
    {
      "cell_type": "code",
      "metadata": {
        "trusted": true,
        "_uuid": "e5d26054f5f80d24cd741780a750876d1dc35234",
        "id": "UFsBRn3Gojns"
      },
      "source": [
        "def _remove_url(data):\n",
        "    ls = []\n",
        "    words = ''\n",
        "    regexp1 = re.compile('http[s]?://(?:[a-zA-Z]|[0-9]|[$-_@.&+]|[!*\\(\\),]|(?:%[0-9a-fA-F][0-9a-fA-F]))+')\n",
        "    regexp2 = re.compile('www?.(?:[a-zA-Z]|[0-9]|[$-_@.&+]|[!*\\(\\),]|(?:%[0-9a-fA-F][0-9a-fA-F]))+')\n",
        "    \n",
        "    for line in data:\n",
        "        urls = regexp1.findall(line)\n",
        "\n",
        "        for u in urls:\n",
        "            line = line.replace(u, ' ')\n",
        "\n",
        "        urls = regexp2.findall(line)\n",
        "\n",
        "        for u in urls:\n",
        "            line = line.replace(u, ' ')\n",
        "            \n",
        "        ls.append(line)\n",
        "    return ls"
      ],
      "execution_count": 41,
      "outputs": []
    },
    {
      "cell_type": "code",
      "metadata": {
        "trusted": true,
        "_uuid": "4b4cb2e93c9eef7e403b2dc11edd49db08e862d5",
        "id": "epM1R1yyojns"
      },
      "source": [
        "dataset['texto'] = _remove_url(dataset['texto'])"
      ],
      "execution_count": 42,
      "outputs": []
    },
    {
      "cell_type": "markdown",
      "metadata": {
        "_uuid": "5e07dc326bac08bf835ddeb3227de048d4b9601b",
        "id": "BwdZuRmqojns"
      },
      "source": [
        "Remove a regex pattern (hashtags, notations)"
      ]
    },
    {
      "cell_type": "code",
      "metadata": {
        "trusted": true,
        "_uuid": "03f2d222c1a3195ed3cc27e9d68568f04681f9ef",
        "id": "4WVUVlErojns"
      },
      "source": [
        "def _remove_regex(data, regex_pattern):\n",
        "    ls = []\n",
        "    words = ''\n",
        "    \n",
        "    for line in data:\n",
        "        matches = re.finditer(regex_pattern, line)\n",
        "        \n",
        "        for m in matches: \n",
        "            line = re.sub(m.group().strip(), '', line)\n",
        "\n",
        "        ls.append(line)\n",
        "\n",
        "    return ls"
      ],
      "execution_count": 43,
      "outputs": []
    },
    {
      "cell_type": "code",
      "metadata": {
        "trusted": true,
        "_uuid": "acecf0294d1de79dda5f206a58fd50bb48275df4",
        "id": "gvggNDzaojns"
      },
      "source": [
        "# hashtags\n",
        "regex_pattern = '#[\\w]*'\n",
        "dataset['texto'] = _remove_regex(dataset['texto'], regex_pattern)"
      ],
      "execution_count": 44,
      "outputs": []
    },
    {
      "cell_type": "code",
      "metadata": {
        "trusted": true,
        "_uuid": "3497146e06fa9d24c47dd29d8cf5f772f67a4c92",
        "id": "2zaRMW7Lojns"
      },
      "source": [
        "# notations\n",
        "regex_pattern = '@[\\w]*'\n",
        "dataset['texto'] = _remove_regex(dataset['texto'], regex_pattern)"
      ],
      "execution_count": 45,
      "outputs": []
    },
    {
      "cell_type": "code",
      "metadata": {
        "id": "h1377cvrjaVZ"
      },
      "source": [
        "# rt\n",
        "regex_pattern = 'RT[\\w]*'\n",
        "dataset['texto'] = _remove_regex(dataset['texto'], regex_pattern)"
      ],
      "execution_count": 46,
      "outputs": []
    },
    {
      "cell_type": "code",
      "metadata": {
        "id": "_t77t1E0g_n6"
      },
      "source": [
        " emoji_pattern = re.compile(\"[\"\n",
        "                           u\"\\U0001F600-\\U0001F64F\"  # emoticons\n",
        "                           u\"\\U0001F300-\\U0001F5FF\"  # symbols & pictographs\n",
        "                           u\"\\U0001F680-\\U0001F6FF\"  # transport & map symbols\n",
        "                           u\"\\U0001F1E0-\\U0001F1FF\"  # flags (iOS)\n",
        "                           u\"\\U00002702-\\U000027B0\"\n",
        "                           u\"\\U000024C2-\\U0001F251\"\n",
        "                           \"]+\", flags=re.UNICODE)"
      ],
      "execution_count": 47,
      "outputs": []
    },
    {
      "cell_type": "code",
      "metadata": {
        "id": "g-UMyj7fhJ-V"
      },
      "source": [
        "# emoji pattern \n",
        "regex_pattern = emoji_pattern \n",
        "dataset['texto'] = _remove_regex(dataset['texto'], regex_pattern)"
      ],
      "execution_count": 48,
      "outputs": []
    },
    {
      "cell_type": "code",
      "metadata": {
        "trusted": true,
        "_uuid": "2309bf72c0aad14c571a623bd483b2f4bba2e8c9",
        "id": "03ztf7ueojns",
        "colab": {
          "base_uri": "https://localhost:8080/"
        },
        "outputId": "1d0a5cea-9490-4d16-a9b9-fbfa288efe06"
      },
      "source": [
        "# check data\n",
        "for i in range(0, 5):\n",
        "    print(dataset['texto'][i])"
      ],
      "execution_count": 49,
      "outputs": [
        {
          "output_type": "stream",
          "text": [
            " Vcs sabem fazer mininu bonito \n",
            "             \n",
            " Queimará o último livro, mas não cessará o auxílio-moradia. Nem com o reajuste do subsídio. \n",
            "Nova sessão de fotos pelas lentes da       es esdobrasil       …  \n",
            "DESCUBRA Quando 4 temporada da série GOTHAM chegará na NETFLIX! veja    gabriel jesus  seleção  renato augusto  hugo    richarlison  dedé  fagner  brasil   \n"
          ],
          "name": "stdout"
        }
      ]
    },
    {
      "cell_type": "markdown",
      "metadata": {
        "_uuid": "e782207b501150d076945e4bc96d2545f84e62c6",
        "id": "7XoT2rMfojns"
      },
      "source": [
        "Prepare text, replace emoticons \":)) :) :D :(\" to positive_emoticon or negative_emoticon or neutral_emoticon"
      ]
    },
    {
      "cell_type": "code",
      "metadata": {
        "trusted": true,
        "_uuid": "99d8c0fc7e981b49831f442f76382e8051d78ab8",
        "id": "xL2bGnwmojns"
      },
      "source": [
        "def _replace_emoticons(data, emoticon_list):\n",
        "    ls = []\n",
        "\n",
        "    for line in data:\n",
        "        for exp in emoticon_list:\n",
        "            line = line.replace(exp, emoticon_list[exp])\n",
        "\n",
        "        ls.append(line)\n",
        "\n",
        "    return ls"
      ],
      "execution_count": 50,
      "outputs": []
    },
    {
      "cell_type": "code",
      "metadata": {
        "trusted": true,
        "_uuid": "685e6a7a9826385f33101ff5e777a827140e6650",
        "id": "OEJt5ujGojns"
      },
      "source": [
        "emoticon_list = {':))': 'emoticon_positivo', ':)': 'emoticon_positivo', ':D': 'emoticon_positivo', ':(': 'emoticon_negativo', ':((': 'emoticon_negativo', '8)': 'emoticon_neutro'}"
      ],
      "execution_count": 51,
      "outputs": []
    },
    {
      "cell_type": "code",
      "metadata": {
        "trusted": true,
        "_uuid": "d6606859968ee012ea23cb5f3f02c1256377b8b6",
        "id": "TfwSCz8Pojns"
      },
      "source": [
        "dataset['texto']= _replace_emoticons(dataset['texto'], emoticon_list)"
      ],
      "execution_count": 52,
      "outputs": []
    },
    {
      "cell_type": "code",
      "metadata": {
        "trusted": true,
        "_uuid": "2e7dbd3f837739cc8ac8ee86917f5f24cc67cd96",
        "id": "-iiHuMTkojns",
        "colab": {
          "base_uri": "https://localhost:8080/"
        },
        "outputId": "f7c51dfc-50bc-4523-9a28-699cbd0a91a7"
      },
      "source": [
        "# check data\n",
        "for i in range(0, 5):\n",
        "    print(dataset['texto'][i])"
      ],
      "execution_count": 53,
      "outputs": [
        {
          "output_type": "stream",
          "text": [
            " Vcs sabem fazer mininu bonito \n",
            "             \n",
            " Queimará o último livro, mas não cessará o auxílio-moradia. Nem com o reajuste do subsídio. \n",
            "Nova sessão de fotos pelas lentes da       es esdobrasil       …  \n",
            "DESCUBRA Quando 4 temporada da série GOTHAM chegará na NETFLIX! veja    gabriel jesus  seleção  renato augusto  hugo    richarlison  dedé  fagner  brasil   \n"
          ],
          "name": "stdout"
        }
      ]
    },
    {
      "cell_type": "markdown",
      "metadata": {
        "_uuid": "b967c8949c0640ec9f4a6090366ab970a30947f3",
        "id": "Jjn0q4SOojns"
      },
      "source": [
        "<h5 style=\"color:red;\">Note: We can remove or replace with tags some noisy words or special characters like ✨💖🎈🎉🎊❤️, but we need to evaluate if they are important to express some sentiment</h5>"
      ]
    },
    {
      "cell_type": "code",
      "metadata": {
        "id": "rR_aEBemyt7Y",
        "colab": {
          "base_uri": "https://localhost:8080/",
          "height": 419
        },
        "outputId": "a1087cc8-f354-4ae7-be75-aa382d300d77"
      },
      "source": [
        "dataset"
      ],
      "execution_count": 54,
      "outputs": [
        {
          "output_type": "execute_result",
          "data": {
            "text/html": [
              "<div>\n",
              "<style scoped>\n",
              "    .dataframe tbody tr th:only-of-type {\n",
              "        vertical-align: middle;\n",
              "    }\n",
              "\n",
              "    .dataframe tbody tr th {\n",
              "        vertical-align: top;\n",
              "    }\n",
              "\n",
              "    .dataframe thead th {\n",
              "        text-align: right;\n",
              "    }\n",
              "</style>\n",
              "<table border=\"1\" class=\"dataframe\">\n",
              "  <thead>\n",
              "    <tr style=\"text-align: right;\">\n",
              "      <th></th>\n",
              "      <th>texto</th>\n",
              "      <th>classificacao</th>\n",
              "    </tr>\n",
              "  </thead>\n",
              "  <tbody>\n",
              "    <tr>\n",
              "      <th>0</th>\n",
              "      <td>Vcs sabem fazer mininu bonito</td>\n",
              "      <td>Neutro</td>\n",
              "    </tr>\n",
              "    <tr>\n",
              "      <th>1</th>\n",
              "      <td></td>\n",
              "      <td>Neutro</td>\n",
              "    </tr>\n",
              "    <tr>\n",
              "      <th>2</th>\n",
              "      <td>Queimará o último livro, mas não cessará o au...</td>\n",
              "      <td>Neutro</td>\n",
              "    </tr>\n",
              "    <tr>\n",
              "      <th>3</th>\n",
              "      <td>Nova sessão de fotos pelas lentes da       es ...</td>\n",
              "      <td>Neutro</td>\n",
              "    </tr>\n",
              "    <tr>\n",
              "      <th>4</th>\n",
              "      <td>DESCUBRA Quando 4 temporada da série GOTHAM ch...</td>\n",
              "      <td>Neutro</td>\n",
              "    </tr>\n",
              "    <tr>\n",
              "      <th>...</th>\n",
              "      <td>...</td>\n",
              "      <td>...</td>\n",
              "    </tr>\n",
              "    <tr>\n",
              "      <th>83662</th>\n",
              "      <td>Enfim, 24 anos. E NUNCA estive tão ansiosa, tr...</td>\n",
              "      <td>Negativo</td>\n",
              "    </tr>\n",
              "    <tr>\n",
              "      <th>83663</th>\n",
              "      <td>Esses vídeos dos eleitores do bolsonaro votand...</td>\n",
              "      <td>Negativo</td>\n",
              "    </tr>\n",
              "    <tr>\n",
              "      <th>83664</th>\n",
              "      <td>Tenho seguidores que seguem o Bolsonaro oppa, ...</td>\n",
              "      <td>Negativo</td>\n",
              "    </tr>\n",
              "    <tr>\n",
              "      <th>83665</th>\n",
              "      <td>emoticon_negativo \"'New York Times' critica Bo...</td>\n",
              "      <td>Negativo</td>\n",
              "    </tr>\n",
              "    <tr>\n",
              "      <th>83666</th>\n",
              "      <td>serio amiga? A minha ta cheia de fascista emo...</td>\n",
              "      <td>Negativo</td>\n",
              "    </tr>\n",
              "  </tbody>\n",
              "</table>\n",
              "<p>83667 rows × 2 columns</p>\n",
              "</div>"
            ],
            "text/plain": [
              "                                                   texto classificacao\n",
              "0                         Vcs sabem fazer mininu bonito         Neutro\n",
              "1                                                               Neutro\n",
              "2       Queimará o último livro, mas não cessará o au...        Neutro\n",
              "3      Nova sessão de fotos pelas lentes da       es ...        Neutro\n",
              "4      DESCUBRA Quando 4 temporada da série GOTHAM ch...        Neutro\n",
              "...                                                  ...           ...\n",
              "83662  Enfim, 24 anos. E NUNCA estive tão ansiosa, tr...      Negativo\n",
              "83663  Esses vídeos dos eleitores do bolsonaro votand...      Negativo\n",
              "83664  Tenho seguidores que seguem o Bolsonaro oppa, ...      Negativo\n",
              "83665  emoticon_negativo \"'New York Times' critica Bo...      Negativo\n",
              "83666   serio amiga? A minha ta cheia de fascista emo...      Negativo\n",
              "\n",
              "[83667 rows x 2 columns]"
            ]
          },
          "metadata": {
            "tags": []
          },
          "execution_count": 54
        }
      ]
    },
    {
      "cell_type": "code",
      "metadata": {
        "id": "-8tgUxhe0MXe"
      },
      "source": [
        "nan_value = float(\"NaN\")\n",
        "dataset.replace(\"\", nan_value, inplace=True)"
      ],
      "execution_count": 55,
      "outputs": []
    },
    {
      "cell_type": "markdown",
      "metadata": {
        "_uuid": "4284b6e6bdbe2878aeefb50651b9b219b3acffd1",
        "id": "plBne9Xjojnt"
      },
      "source": [
        "<h4>Tokenize text with nltk</h4>"
      ]
    },
    {
      "cell_type": "code",
      "metadata": {
        "trusted": true,
        "_uuid": "2d77a5e4f41cdbf15c1dd0d5e0d93a72bd41c29e",
        "id": "6_9vdlenojnt"
      },
      "source": [
        "def _tokenize_text(data):\n",
        "    ls = []\n",
        "\n",
        "    for line in data:\n",
        "        tokens = wordpunct_tokenize(line)\n",
        "        ls.append(tokens)\n",
        "\n",
        "    return ls"
      ],
      "execution_count": 56,
      "outputs": []
    },
    {
      "cell_type": "code",
      "metadata": {
        "trusted": true,
        "_uuid": "095fa1e33c81a1bbc728db503ac7832071e99422",
        "id": "yDebMnaBojnt"
      },
      "source": [
        "dataset_texto_tokens = _tokenize_text(dataset['texto'])"
      ],
      "execution_count": 57,
      "outputs": []
    },
    {
      "cell_type": "code",
      "metadata": {
        "trusted": true,
        "_uuid": "7f03a8c02502d8e7da6fc9ad7767aca9dbe95a9a",
        "id": "X7_qrAYjojnt",
        "colab": {
          "base_uri": "https://localhost:8080/"
        },
        "outputId": "3321c405-52a7-452e-9b91-838d0e0b3686"
      },
      "source": [
        "# check data\n",
        "for i in range(0, 5):\n",
        "    print(dataset_texto_tokens[i])"
      ],
      "execution_count": 58,
      "outputs": [
        {
          "output_type": "stream",
          "text": [
            "['Vcs', 'sabem', 'fazer', 'mininu', 'bonito']\n",
            "[]\n",
            "['Queimará', 'o', 'último', 'livro', ',', 'mas', 'não', 'cessará', 'o', 'auxílio', '-', 'moradia', '.', 'Nem', 'com', 'o', 'reajuste', 'do', 'subsídio', '.']\n",
            "['Nova', 'sessão', 'de', 'fotos', 'pelas', 'lentes', 'da', 'es', 'esdobrasil', '…']\n",
            "['DESCUBRA', 'Quando', '4', 'temporada', 'da', 'série', 'GOTHAM', 'chegará', 'na', 'NETFLIX', '!', 'veja', 'gabriel', 'jesus', 'seleção', 'renato', 'augusto', 'hugo', 'richarlison', 'dedé', 'fagner', 'brasil']\n"
          ],
          "name": "stdout"
        }
      ]
    },
    {
      "cell_type": "code",
      "metadata": {
        "id": "HP6B6LDKUsVe"
      },
      "source": [
        "#dataset_texto_tokens = list(filter(None, dataset_texto_tokens))"
      ],
      "execution_count": 59,
      "outputs": []
    },
    {
      "cell_type": "code",
      "metadata": {
        "id": "QXRjSU-b8v8K",
        "colab": {
          "base_uri": "https://localhost:8080/"
        },
        "outputId": "72721117-143c-4d90-9f39-19d57c90ef9f"
      },
      "source": [
        "# check data\n",
        "for i in range(0, 5):\n",
        "    print(dataset_texto_tokens[i])"
      ],
      "execution_count": 60,
      "outputs": [
        {
          "output_type": "stream",
          "text": [
            "['Vcs', 'sabem', 'fazer', 'mininu', 'bonito']\n",
            "[]\n",
            "['Queimará', 'o', 'último', 'livro', ',', 'mas', 'não', 'cessará', 'o', 'auxílio', '-', 'moradia', '.', 'Nem', 'com', 'o', 'reajuste', 'do', 'subsídio', '.']\n",
            "['Nova', 'sessão', 'de', 'fotos', 'pelas', 'lentes', 'da', 'es', 'esdobrasil', '…']\n",
            "['DESCUBRA', 'Quando', '4', 'temporada', 'da', 'série', 'GOTHAM', 'chegará', 'na', 'NETFLIX', '!', 'veja', 'gabriel', 'jesus', 'seleção', 'renato', 'augusto', 'hugo', 'richarlison', 'dedé', 'fagner', 'brasil']\n"
          ],
          "name": "stdout"
        }
      ]
    },
    {
      "cell_type": "markdown",
      "metadata": {
        "_uuid": "01759032a73a4e34ae6d07a0888aa30837fdad29",
        "id": "n4oRiT_gojnt"
      },
      "source": [
        "<h4>Object Standardization</h4>"
      ]
    },
    {
      "cell_type": "code",
      "metadata": {
        "trusted": true,
        "_uuid": "ad31d2a779d4c121e6eb61429775241d91a7b7ef",
        "id": "ZbQPsvsFojnt"
      },
      "source": [
        "def _apply_standardization(tokens, std_list):\n",
        "    ls = []\n",
        "\n",
        "    for tk_line in tokens:\n",
        "        new_tokens = []\n",
        "        \n",
        "        for word in tk_line:\n",
        "            if word.lower() in std_list:\n",
        "                word = std_list[word.lower()]\n",
        "                \n",
        "            new_tokens.append(word) \n",
        "            \n",
        "        ls.append(new_tokens)\n",
        "\n",
        "    return ls"
      ],
      "execution_count": 61,
      "outputs": []
    },
    {
      "cell_type": "code",
      "metadata": {
        "trusted": true,
        "_uuid": "bbb9fd394e34e02d691335dd99d1c9496facaff0",
        "id": "SnqQpeZgojnt"
      },
      "source": [
        "# create your own list\n",
        "std_list = {'eh': 'é', 'vc': 'você', 'vcs': 'vocês','tb': 'também', 'tbm': 'também', 'obg': 'obrigado', 'gnt': 'gente', 'q': 'que', 'n': 'não', 'cmg': 'comigo', 'p': 'para', 'ta': 'está', 'to': 'estou', 'vdd': 'verdade'}"
      ],
      "execution_count": 62,
      "outputs": []
    },
    {
      "cell_type": "code",
      "metadata": {
        "trusted": true,
        "_uuid": "26add53a456dfd06a7fdfa6aed5739d53ac2c5f6",
        "id": "bZLnIHF-ojnt"
      },
      "source": [
        "dataset_texto_tokens = _apply_standardization(dataset_texto_tokens, std_list)"
      ],
      "execution_count": 63,
      "outputs": []
    },
    {
      "cell_type": "code",
      "metadata": {
        "trusted": true,
        "_uuid": "8c17dd517c02f34abeb8f9808695da38bed22ae0",
        "id": "OPAMqHHYojnt",
        "colab": {
          "base_uri": "https://localhost:8080/"
        },
        "outputId": "428e5c02-bbea-443a-d7a4-7cb6c6ab06bc"
      },
      "source": [
        "# check data\n",
        "print(dataset_texto_tokens[4], dataset_texto_tokens[1008])"
      ],
      "execution_count": 64,
      "outputs": [
        {
          "output_type": "stream",
          "text": [
            "['DESCUBRA', 'Quando', '4', 'temporada', 'da', 'série', 'GOTHAM', 'chegará', 'na', 'NETFLIX', '!', 'veja', 'gabriel', 'jesus', 'seleção', 'renato', 'augusto', 'hugo', 'richarlison', 'dedé', 'fagner', 'brasil'] ['Compartilhar', 'sabedoria', ',', 'te', 'leva', 'um', 'um', 'outro', 'nível', 'de', 'conhecimento', '.', 'em', 'Gama', ',', 'Distrito', 'Federal', ',', 'Brazil']\n"
          ],
          "name": "stdout"
        }
      ]
    },
    {
      "cell_type": "markdown",
      "metadata": {
        "_uuid": "7cade7774b181e67a77f56ccff60b68b30a9e05e",
        "id": "NRoaN4Nfojnt"
      },
      "source": [
        "<h4>Remove stopwords (noise removal and dimensionality reduction)</h4>"
      ]
    },
    {
      "cell_type": "markdown",
      "metadata": {
        "_uuid": "191fcf8d3066ef422390224111c93b4a309d2907",
        "id": "JoM2vAV0ojnt"
      },
      "source": [
        "Remove stopwords"
      ]
    },
    {
      "cell_type": "code",
      "metadata": {
        "trusted": true,
        "_uuid": "93209116226f6edf24a07b0972dfa0801ee84333",
        "id": "bmem-OYBojnt"
      },
      "source": [
        "def _remove_stopwords(tokens, stopword_list):\n",
        "    ls = []\n",
        "\n",
        "    for tk_line in tokens:\n",
        "        new_tokens = []\n",
        "        \n",
        "        for word in tk_line:\n",
        "            if word.lower() not in stopword_list:\n",
        "                new_tokens.append(word) \n",
        "            \n",
        "        ls.append(new_tokens)\n",
        "        \n",
        "    return ls"
      ],
      "execution_count": 65,
      "outputs": []
    },
    {
      "cell_type": "code",
      "metadata": {
        "trusted": true,
        "_uuid": "d42c58078128e5de8a83c2bb158c8e484ecd8201",
        "id": "5Nvgu3xIojnt"
      },
      "source": [
        "stopword_list = []"
      ],
      "execution_count": 66,
      "outputs": []
    },
    {
      "cell_type": "code",
      "metadata": {
        "trusted": true,
        "_uuid": "868d2bb4061ce7034a82d0e502237f435fbcb7fc",
        "id": "Om9k3WLgojnt"
      },
      "source": [
        "# get nltk portuguese stopwords\n",
        "nltk_stopwords = nltk.corpus.stopwords.words('portuguese')"
      ],
      "execution_count": 67,
      "outputs": []
    },
    {
      "cell_type": "code",
      "metadata": {
        "trusted": true,
        "_uuid": "454f789d7db906bb6afcc151c0f53a84f2523f46",
        "id": "5CfstDhnojnt"
      },
      "source": [
        "# You can also add stopwords manually instead of loading from the database. Generally, we add stopwords that belong to this context.\n",
        "stopword_list.append('é')\n",
        "stopword_list.append('vou')\n",
        "stopword_list.append('que')\n",
        "stopword_list.append('tão')\n",
        "stopword_list.append('...')\n",
        "stopword_list.append('«')\n",
        "stopword_list.append('➔')\n",
        "stopword_list.append('|')\n",
        "stopword_list.append('//')\n",
        "stopword_list.append('/')\n",
        "stopword_list.append('||') \n",
        "stopword_list.append(':')\n",
        "stopword_list.append('-')\n",
        "stopword_list.append(';')\n",
        "stopword_list.append('»')\n",
        "stopword_list.append('…')\n",
        "stopword_list.append(')')\n",
        "stopword_list.append('(')\n",
        "stopword_list.append('uai') \n",
        "stopword_list.append(']')\n",
        "stopword_list.append('[')\n",
        "stopword_list.append('((')\n",
        "stopword_list.append('))')\n",
        "stopword_list.append('emoticon_positivo') \n",
        "stopword_list.append('emoticon_negativo')\n",
        "stopword_list.append('emoticon_neutro')\n",
        "# 'expression from the mineiros (MG/Brazil)'"
      ],
      "execution_count": 68,
      "outputs": []
    },
    {
      "cell_type": "markdown",
      "metadata": {
        "_uuid": "5c85d05f946199f85151af31bf1c2009bf093d5c",
        "id": "nCHFkbWUojnt"
      },
      "source": [
        "<h5 style=\"color:red;\">Note: Numbers, some punctuations (.,;:) and special characters such as (_- = &%) are not relevant to express some sentiment, they can be considered noisy words. You can treat them here.</h5>\n",
        "<h5 style=\"color:red;\">noisy_words = ['.', '?', '!', ':', ',', ';', '(', ')', '-']</h5>\n",
        "<h5 style=\"color:red;\">Note: ? and ! can be important to express sentiment.</h5>"
      ]
    },
    {
      "cell_type": "code",
      "metadata": {
        "trusted": true,
        "_uuid": "1e4a2258684531e15ed3d48d84bdc710cba5a133",
        "id": "4BjLpq2nojnt"
      },
      "source": [
        "# join all stopwords\n",
        "stopword_list.extend(nltk_stopwords)\n",
        "#stopword_list.extend(custom_stopwords)"
      ],
      "execution_count": 69,
      "outputs": []
    },
    {
      "cell_type": "code",
      "metadata": {
        "trusted": true,
        "_uuid": "7a34c75cbec835334fdf530d1a857039c24392e4",
        "id": "rEVFI8_lojnt"
      },
      "source": [
        "# remove duplicate stopwords (unique list)\n",
        "stopword_list = list(set(stopword_list))"
      ],
      "execution_count": 70,
      "outputs": []
    },
    {
      "cell_type": "code",
      "metadata": {
        "trusted": true,
        "_uuid": "25748a09312e1241038aae27f4ce0d962fc30c26",
        "id": "JnjZ0mniojnt"
      },
      "source": [
        "dataset_texto_tokens = _remove_stopwords(dataset_texto_tokens, stopword_list)"
      ],
      "execution_count": 71,
      "outputs": []
    },
    {
      "cell_type": "code",
      "metadata": {
        "trusted": true,
        "_uuid": "5254a491c2acc0a70c4f8705ddb31ee7e245624e",
        "id": "Rfxl59rIojnt",
        "colab": {
          "base_uri": "https://localhost:8080/"
        },
        "outputId": "cdb7850b-14bf-4d10-af57-0d77bddc59c6"
      },
      "source": [
        "# check data\n",
        "for i in range(0, 5):\n",
        "    print(dataset_texto_tokens[i])"
      ],
      "execution_count": 72,
      "outputs": [
        {
          "output_type": "stream",
          "text": [
            "['sabem', 'fazer', 'mininu', 'bonito']\n",
            "[]\n",
            "['Queimará', 'último', 'livro', ',', 'cessará', 'auxílio', 'moradia', '.', 'reajuste', 'subsídio', '.']\n",
            "['Nova', 'sessão', 'fotos', 'lentes', 'es', 'esdobrasil']\n",
            "['DESCUBRA', '4', 'temporada', 'série', 'GOTHAM', 'chegará', 'NETFLIX', '!', 'veja', 'gabriel', 'jesus', 'seleção', 'renato', 'augusto', 'hugo', 'richarlison', 'dedé', 'fagner', 'brasil']\n"
          ],
          "name": "stdout"
        }
      ]
    },
    {
      "cell_type": "markdown",
      "metadata": {
        "_uuid": "5917183f41e842477fb49520beb8568a368f7046",
        "id": "oiUb8A67ojnt"
      },
      "source": [
        "<h4>Lexicon Normalization</h4>"
      ]
    },
    {
      "cell_type": "markdown",
      "metadata": {
        "_uuid": "3f3f8826d74fb5fd28d6ff1f76ffb1101e96cc43",
        "id": "Q2mQWghXojnt"
      },
      "source": [
        "Lemmatization (not implemented...)"
      ]
    },
    {
      "cell_type": "markdown",
      "metadata": {
        "_uuid": "b69051f6e85ce27a64fa49a968019d8a7957f377",
        "id": "9xYG8tvXojnt"
      },
      "source": [
        "Stemming (dimensionality reduction)"
      ]
    },
    {
      "cell_type": "code",
      "metadata": {
        "trusted": true,
        "_uuid": "75df6b7d0b3af4219321089b6161e6dc74dc1dbf",
        "id": "ksuuqUD7ojnt"
      },
      "source": [
        "def _apply_stemmer(tokens):\n",
        "    ls = []\n",
        "    stemmer = nltk.stem.RSLPStemmer()\n",
        "\n",
        "    for tk_line in tokens:\n",
        "        new_tokens = []\n",
        "        \n",
        "        for word in tk_line:\n",
        "            word = str(stemmer.stem(word))\n",
        "            new_tokens.append(word) \n",
        "            \n",
        "        ls.append(new_tokens)\n",
        "        \n",
        "    return ls"
      ],
      "execution_count": 73,
      "outputs": []
    },
    {
      "cell_type": "code",
      "metadata": {
        "id": "spQc5w3iNCed",
        "colab": {
          "base_uri": "https://localhost:8080/"
        },
        "outputId": "0a5e9793-8b83-4c31-d5cd-88f629029c8b"
      },
      "source": [
        "nltk.download('rslp')"
      ],
      "execution_count": 74,
      "outputs": [
        {
          "output_type": "stream",
          "text": [
            "[nltk_data] Downloading package rslp to /root/nltk_data...\n",
            "[nltk_data]   Unzipping stemmers/rslp.zip.\n"
          ],
          "name": "stdout"
        },
        {
          "output_type": "execute_result",
          "data": {
            "text/plain": [
              "True"
            ]
          },
          "metadata": {
            "tags": []
          },
          "execution_count": 74
        }
      ]
    },
    {
      "cell_type": "code",
      "metadata": {
        "trusted": true,
        "_uuid": "7c3907b1ff4e1495ce16d0d6e5190277dd8faad5",
        "id": "qzs5zFWkojnu"
      },
      "source": [
        "dataset_texto_stemm = _apply_stemmer(dataset_texto_tokens)"
      ],
      "execution_count": 75,
      "outputs": []
    },
    {
      "cell_type": "code",
      "metadata": {
        "trusted": true,
        "_uuid": "45cdcc98a8462e4ec5132b192a762affc4399904",
        "id": "FAIwa48hojnu",
        "colab": {
          "base_uri": "https://localhost:8080/"
        },
        "outputId": "c21add00-691f-477d-dffb-5fe8d62919d6"
      },
      "source": [
        "# check data\n",
        "for i in range(0, 5):\n",
        "    print(dataset_texto_tokens[i])"
      ],
      "execution_count": 76,
      "outputs": [
        {
          "output_type": "stream",
          "text": [
            "['sabem', 'fazer', 'mininu', 'bonito']\n",
            "[]\n",
            "['Queimará', 'último', 'livro', ',', 'cessará', 'auxílio', 'moradia', '.', 'reajuste', 'subsídio', '.']\n",
            "['Nova', 'sessão', 'fotos', 'lentes', 'es', 'esdobrasil']\n",
            "['DESCUBRA', '4', 'temporada', 'série', 'GOTHAM', 'chegará', 'NETFLIX', '!', 'veja', 'gabriel', 'jesus', 'seleção', 'renato', 'augusto', 'hugo', 'richarlison', 'dedé', 'fagner', 'brasil']\n"
          ],
          "name": "stdout"
        }
      ]
    },
    {
      "cell_type": "markdown",
      "metadata": {
        "_uuid": "689723a6b68a74cfa2fa19f274e842011473d770",
        "id": "--FUBz4oojnu"
      },
      "source": [
        "<h4>Dataset preparation</h4>\n",
        "Untokenize text (transform tokenized text into string list)"
      ]
    },
    {
      "cell_type": "code",
      "metadata": {
        "trusted": true,
        "_uuid": "bfe4d9dca0e03d751fa5b086003e07bc7ff945da",
        "id": "UZVLaerxojnu"
      },
      "source": [
        "def _untokenize_text(tokens):\n",
        "    ls = []\n",
        "\n",
        "    for tk_line in tokens:\n",
        "        new_line = ''\n",
        "        \n",
        "        for word in tk_line:\n",
        "            new_line += word + ' '\n",
        "            \n",
        "        ls.append(new_line)\n",
        "        \n",
        "    return ls"
      ],
      "execution_count": 77,
      "outputs": []
    },
    {
      "cell_type": "code",
      "metadata": {
        "trusted": true,
        "_uuid": "126cdaadb79c0c3141803e68615c093ec21872ea",
        "id": "katwR_thojnu"
      },
      "source": [
        "dataset_texto_tokens = _untokenize_text(dataset_texto_tokens)"
      ],
      "execution_count": 78,
      "outputs": []
    },
    {
      "cell_type": "code",
      "metadata": {
        "id": "dBk9oC4y4c9u"
      },
      "source": [
        "dataset_texto_stemm = _untokenize_text(dataset_texto_stemm)"
      ],
      "execution_count": 79,
      "outputs": []
    },
    {
      "cell_type": "code",
      "metadata": {
        "trusted": true,
        "_uuid": "81b7797ea3848e78316c871fd0a630dcf69d82b0",
        "id": "c7v_vLZ9ojnu",
        "colab": {
          "base_uri": "https://localhost:8080/"
        },
        "outputId": "b616d42c-1cfc-44a0-c4b1-afabdb65edbf"
      },
      "source": [
        "# check data\n",
        "for i in range(0, 5):\n",
        "    print(dataset_texto_stemm[i])"
      ],
      "execution_count": 80,
      "outputs": [
        {
          "output_type": "stream",
          "text": [
            "sab faz mininu bonit \n",
            "\n",
            "queim últ livr , cess auxíli morad . reajust subsídi . \n",
            "nov sess fot lent es esdobrasil \n",
            "descubr 4 tempor séri goth cheg netflix ! vej gabriel jesu seleç renat august hug richarlison dedé fagn brasil \n"
          ],
          "name": "stdout"
        }
      ]
    },
    {
      "cell_type": "markdown",
      "metadata": {
        "_uuid": "02a043145724f1ce5b626329816c59268c605683",
        "id": "s962uC7Bojny"
      },
      "source": [
        "## Implementing a Model\n"
      ]
    },
    {
      "cell_type": "code",
      "metadata": {
        "id": "z1mxqVNbcdul",
        "colab": {
          "base_uri": "https://localhost:8080/"
        },
        "outputId": "a2d3c666-5e17-4ce4-9fdc-508f4a37c364"
      },
      "source": [
        "X_tweets = np.array(dataset_texto_stemm,  dtype=object)\n",
        "X_tweets"
      ],
      "execution_count": 81,
      "outputs": [
        {
          "output_type": "execute_result",
          "data": {
            "text/plain": [
              "array(['sab faz mininu bonit ', '',\n",
              "       'queim últ livr , cess auxíli morad . reajust subsídi . ', ...,\n",
              "       'segu segu bolsonar opp , cred & gt ;.& lt soft block & gt ',\n",
              "       '\"\\' new york tim \\' crit bolsonar editor \\' trist escolh brasil \\'\" ',\n",
              "       'seri amig ? chei fasc '], dtype=object)"
            ]
          },
          "metadata": {
            "tags": []
          },
          "execution_count": 81
        }
      ]
    },
    {
      "cell_type": "code",
      "metadata": {
        "id": "eDcYyIYtcdj-",
        "colab": {
          "base_uri": "https://localhost:8080/"
        },
        "outputId": "cf19c2b4-c9e1-44ec-bc63-0f8f5ab22912"
      },
      "source": [
        "y_classes = dataset[\"classificacao\"].values\n",
        "y_classes"
      ],
      "execution_count": 82,
      "outputs": [
        {
          "output_type": "execute_result",
          "data": {
            "text/plain": [
              "array(['Neutro', 'Neutro', 'Neutro', ..., 'Negativo', 'Negativo',\n",
              "       'Negativo'], dtype=object)"
            ]
          },
          "metadata": {
            "tags": []
          },
          "execution_count": 82
        }
      ]
    },
    {
      "cell_type": "code",
      "metadata": {
        "id": "GsCjxSeTZaru"
      },
      "source": [
        "from sklearn.decomposition import PCA, TruncatedSVD\n",
        "from sklearn.neural_network import MLPClassifier"
      ],
      "execution_count": 83,
      "outputs": []
    },
    {
      "cell_type": "markdown",
      "metadata": {
        "id": "GlRIt9nucpeJ"
      },
      "source": [
        "## Random Forest"
      ]
    },
    {
      "cell_type": "code",
      "metadata": {
        "id": "clbBnwmU31ut"
      },
      "source": [
        "model = RandomForestClassifier(random_state=42, n_jobs=-1)"
      ],
      "execution_count": 84,
      "outputs": []
    },
    {
      "cell_type": "code",
      "metadata": {
        "id": "fEo0sAEO4SqU"
      },
      "source": [
        "model_RF = Pipeline([\n",
        "    ('vect', CountVectorizer(ngram_range=(1, 2))),\n",
        "    ('tfidf', TfidfTransformer()),\n",
        "    ('clf', model),\n",
        "])"
      ],
      "execution_count": 85,
      "outputs": []
    },
    {
      "cell_type": "markdown",
      "metadata": {
        "id": "2dJ_n0Af0aQ1"
      },
      "source": [
        "### Random Forest model with gridsearch and cross-validation"
      ]
    },
    {
      "cell_type": "code",
      "metadata": {
        "id": "nKVwSn7m0YBQ"
      },
      "source": [
        "RF_param_grid = {\n",
        "    'clf__criterion': ['gini', 'entropy'],\n",
        "    'clf__n_estimators': [100, 200, 500],\n",
        "    'clf__max_depth': [None, 1, 3],\n",
        "    'clf__min_samples_split': [5, 10],\n",
        "    'clf__min_samples_leaf': [1, 3, 4, 5]\n",
        "}"
      ],
      "execution_count": 86,
      "outputs": []
    },
    {
      "cell_type": "code",
      "metadata": {
        "id": "tfY098T2OVYn"
      },
      "source": [
        "from sklearn.model_selection import RandomizedSearchCV"
      ],
      "execution_count": 87,
      "outputs": []
    },
    {
      "cell_type": "code",
      "metadata": {
        "id": "J9A4j3ZF0jf8"
      },
      "source": [
        "grid_rf = GridSearchCV(param_grid=RF_param_grid, estimator=model_RF, \n",
        "                        scoring='f1_weighted', cv=3, verbose=2, n_jobs=-1)"
      ],
      "execution_count": 88,
      "outputs": []
    },
    {
      "cell_type": "code",
      "metadata": {
        "id": "nKZQKt_9ObLK"
      },
      "source": [
        "grid_rf = RandomizedSearchCV(estimator=model_RF, param_distributions=RF_param_grid,  \n",
        "                        scoring='f1_weighted', cv=3, verbose=2, n_jobs=-1)"
      ],
      "execution_count": 89,
      "outputs": []
    },
    {
      "cell_type": "code",
      "metadata": {
        "id": "C-Nx45uD49Pm",
        "colab": {
          "base_uri": "https://localhost:8080/"
        },
        "outputId": "935ea484-0a09-4632-f38b-d33470c20443"
      },
      "source": [
        "#grid_rf.fit(X_tweets, y_classes)"
      ],
      "execution_count": 90,
      "outputs": [
        {
          "output_type": "stream",
          "text": [
            "Fitting 3 folds for each of 10 candidates, totalling 30 fits\n"
          ],
          "name": "stdout"
        },
        {
          "output_type": "stream",
          "text": [
            "[Parallel(n_jobs=-1)]: Using backend LokyBackend with 2 concurrent workers.\n",
            "[Parallel(n_jobs=-1)]: Done  30 out of  30 | elapsed:  9.4min finished\n"
          ],
          "name": "stderr"
        },
        {
          "output_type": "execute_result",
          "data": {
            "text/plain": [
              "RandomizedSearchCV(cv=3, error_score=nan,\n",
              "                   estimator=Pipeline(memory=None,\n",
              "                                      steps=[('vect',\n",
              "                                              CountVectorizer(analyzer='word',\n",
              "                                                              binary=False,\n",
              "                                                              decode_error='strict',\n",
              "                                                              dtype=<class 'numpy.int64'>,\n",
              "                                                              encoding='utf-8',\n",
              "                                                              input='content',\n",
              "                                                              lowercase=True,\n",
              "                                                              max_df=1.0,\n",
              "                                                              max_features=None,\n",
              "                                                              min_df=1,\n",
              "                                                              ngram_range=(1,\n",
              "                                                                           2),\n",
              "                                                              preprocessor=None,\n",
              "                                                              stop_words=None,\n",
              "                                                              strip_accents=None,\n",
              "                                                              token_pattern...\n",
              "                                                                     warm_start=False))],\n",
              "                                      verbose=False),\n",
              "                   iid='deprecated', n_iter=10, n_jobs=-1,\n",
              "                   param_distributions={'clf__criterion': ['gini', 'entropy'],\n",
              "                                        'clf__max_depth': [None, 1, 3],\n",
              "                                        'clf__min_samples_leaf': [1, 3, 4, 5],\n",
              "                                        'clf__min_samples_split': [5, 10],\n",
              "                                        'clf__n_estimators': [100, 200, 500]},\n",
              "                   pre_dispatch='2*n_jobs', random_state=None, refit=True,\n",
              "                   return_train_score=False, scoring='f1_weighted', verbose=2)"
            ]
          },
          "metadata": {
            "tags": []
          },
          "execution_count": 90
        }
      ]
    },
    {
      "cell_type": "code",
      "metadata": {
        "id": "jpaY01Es6PcU",
        "colab": {
          "base_uri": "https://localhost:8080/"
        },
        "outputId": "99bba6b2-6c2b-4217-da13-b9f7dd58bcb6"
      },
      "source": [
        "#print(\"Best parameters found: \", grid_rf.best_params_)"
      ],
      "execution_count": 91,
      "outputs": [
        {
          "output_type": "stream",
          "text": [
            "Best parameters found:  {'clf__n_estimators': 500, 'clf__min_samples_split': 10, 'clf__min_samples_leaf': 5, 'clf__max_depth': None, 'clf__criterion': 'gini'}\n"
          ],
          "name": "stdout"
        }
      ]
    },
    {
      "cell_type": "code",
      "metadata": {
        "id": "r6FtBbnlYhg8"
      },
      "source": [
        "model = RandomForestClassifier(n_estimators= 500, min_samples_split= 10, random_state=42, min_samples_leaf= 5, criterion = 'gini', n_jobs=-1)"
      ],
      "execution_count": 95,
      "outputs": []
    },
    {
      "cell_type": "code",
      "metadata": {
        "id": "9P8-Q-sSYnz6"
      },
      "source": [
        "model_RF = Pipeline([\n",
        "    ('vect', CountVectorizer(ngram_range=(1, 2))),\n",
        "    ('tfidf', TfidfTransformer()),\n",
        "    ('clf', model),\n",
        "])"
      ],
      "execution_count": 96,
      "outputs": []
    },
    {
      "cell_type": "code",
      "metadata": {
        "id": "-DxVCylBIrP0"
      },
      "source": [
        "predictions_RF = cross_val_predict(model_RF, X_tweets, y_classes, cv = 5)"
      ],
      "execution_count": 97,
      "outputs": []
    },
    {
      "cell_type": "code",
      "metadata": {
        "colab": {
          "base_uri": "https://localhost:8080/"
        },
        "id": "T7HBvAgrIrP0",
        "outputId": "2e9f49c1-85ba-431c-880a-061fbb23df2e"
      },
      "source": [
        "print(classification_report(y_classes, predictions_RF))"
      ],
      "execution_count": 98,
      "outputs": [
        {
          "output_type": "stream",
          "text": [
            "              precision    recall  f1-score   support\n",
            "\n",
            "    Negativo       0.67      0.77      0.72     28000\n",
            "      Neutro       0.77      0.85      0.81     27993\n",
            "    Positivo       0.64      0.48      0.55     27674\n",
            "\n",
            "    accuracy                           0.70     83667\n",
            "   macro avg       0.70      0.70      0.69     83667\n",
            "weighted avg       0.70      0.70      0.69     83667\n",
            "\n"
          ],
          "name": "stdout"
        }
      ]
    },
    {
      "cell_type": "code",
      "metadata": {
        "id": "oS5rV21BIrP1"
      },
      "source": [
        "#for doc, predictions_RF, y in zip(tweets[0:10], predictions_RF[0:10], classes[0:10]):\n",
        "#    print('%r => %s [%s]' % (doc, predictions_RF, y))"
      ],
      "execution_count": null,
      "outputs": []
    },
    {
      "cell_type": "markdown",
      "metadata": {
        "id": "r01tldFguZJh"
      },
      "source": [
        "### Random forest model with Hold-out"
      ]
    },
    {
      "cell_type": "code",
      "metadata": {
        "id": "cCcXiocamDEp"
      },
      "source": [
        "X_train, X_test, y_train, y_test = train_test_split(X_tweets, y_classes, test_size=0.33, random_state=42)"
      ],
      "execution_count": 99,
      "outputs": []
    },
    {
      "cell_type": "code",
      "metadata": {
        "colab": {
          "base_uri": "https://localhost:8080/"
        },
        "id": "jUwr66SCtw_K",
        "outputId": "b96874b9-eab4-4071-e7ee-15af8033b640"
      },
      "source": [
        "model_RF.fit(X_train, y_train)"
      ],
      "execution_count": 100,
      "outputs": [
        {
          "output_type": "execute_result",
          "data": {
            "text/plain": [
              "Pipeline(memory=None,\n",
              "         steps=[('vect',\n",
              "                 CountVectorizer(analyzer='word', binary=False,\n",
              "                                 decode_error='strict',\n",
              "                                 dtype=<class 'numpy.int64'>, encoding='utf-8',\n",
              "                                 input='content', lowercase=True, max_df=1.0,\n",
              "                                 max_features=None, min_df=1,\n",
              "                                 ngram_range=(1, 2), preprocessor=None,\n",
              "                                 stop_words=None, strip_accents=None,\n",
              "                                 token_pattern='(?u)\\\\b\\\\w\\\\w+\\\\b',\n",
              "                                 tokenizer=None, vocabulary=Non...\n",
              "                 RandomForestClassifier(bootstrap=True, ccp_alpha=0.0,\n",
              "                                        class_weight=None, criterion='gini',\n",
              "                                        max_depth=None, max_features='auto',\n",
              "                                        max_leaf_nodes=None, max_samples=None,\n",
              "                                        min_impurity_decrease=0.0,\n",
              "                                        min_impurity_split=None,\n",
              "                                        min_samples_leaf=5,\n",
              "                                        min_samples_split=10,\n",
              "                                        min_weight_fraction_leaf=0.0,\n",
              "                                        n_estimators=500, n_jobs=-1,\n",
              "                                        oob_score=False, random_state=42,\n",
              "                                        verbose=0, warm_start=False))],\n",
              "         verbose=False)"
            ]
          },
          "metadata": {
            "tags": []
          },
          "execution_count": 100
        }
      ]
    },
    {
      "cell_type": "code",
      "metadata": {
        "id": "3MBOxgOA1Yen"
      },
      "source": [
        "predictions_RF = model_RF.predict(X_test)"
      ],
      "execution_count": 101,
      "outputs": []
    },
    {
      "cell_type": "code",
      "metadata": {
        "colab": {
          "base_uri": "https://localhost:8080/"
        },
        "id": "J1O5AtFO1gAl",
        "outputId": "408b9f66-2776-4384-ea41-729aae539e84"
      },
      "source": [
        "print(classification_report(y_test, predictions_RF))"
      ],
      "execution_count": 102,
      "outputs": [
        {
          "output_type": "stream",
          "text": [
            "              precision    recall  f1-score   support\n",
            "\n",
            "    Negativo       0.69      0.77      0.73      9290\n",
            "      Neutro       0.77      0.87      0.82      9123\n",
            "    Positivo       0.68      0.52      0.59      9198\n",
            "\n",
            "    accuracy                           0.72     27611\n",
            "   macro avg       0.71      0.72      0.71     27611\n",
            "weighted avg       0.71      0.72      0.71     27611\n",
            "\n"
          ],
          "name": "stdout"
        }
      ]
    },
    {
      "cell_type": "code",
      "metadata": {
        "id": "pVRa3g3ay3Ve",
        "colab": {
          "base_uri": "https://localhost:8080/"
        },
        "outputId": "607c32ac-f0de-45cd-8451-726d4259eede"
      },
      "source": [
        "for doc, prediction, y in zip(X_test[0:20], predictions_RF[0:20], y_test[0:20]):\n",
        "    print('%r => %s [%s]' % (doc, prediction, y))"
      ],
      "execution_count": 103,
      "outputs": [
        {
          "output_type": "stream",
          "text": [
            "'feliz aprend manerj automa nayl ' => Positivo [Positivo]\n",
            "'amig infeliz post real aind corr risc perd tt diz preg odi ! ' => Negativo [Negativo]\n",
            "\"hom , si , s ' ha pod fer brom tot , 1 vez diz semelh galeg terí sid abond :-) \" => Neutro [Positivo]\n",
            "'vot cir pq projet pra cuid dogu etc ' => Negativo [Positivo]\n",
            "'& gt pt vai ‘ explor ’ aus lul band ' => Neutro [Neutro]\n",
            "'btg pra asn assim cut pra post ? joã , deix marin pra trá ? :-) ' => Positivo [Positivo]\n",
            "'haddad fantoch ali , gent sab tá ind long demal hahah quer acredit cir , agr ' => Negativo [Negativo]\n",
            "'ex amig hahah olh tweet reply lá discuss total ridícul vir compar gent fasc ' => Positivo [Positivo]\n",
            "'quer boul pergunt bolsonar ' => Negativo [Negativo]\n",
            "'debat vem . faz quê ?! \" elit fic doi ano procur candidat represent la . ach pi congress nacion , ' => Negativo [Negativo]\n",
            "'presidenci gast r $ 2 , 68 milhã direcion red soc ' => Neutro [Neutro]\n",
            "'cidad det . tá respond 3 crim ' => Positivo [Positivo]\n",
            "'estagi administr cont , mg ' => Neutro [Neutro]\n",
            "'comit polít monetár mantém tax básic jur 6 , 5 % ano ' => Neutro [Neutro]\n",
            "'ele deix assim desgost entr twitt quas silenci palavr aqu ' => Positivo [Negativo]\n",
            "'vot bolsonar pq car ode comunidad lgbt , lut pes pra simples vot car cans ofend tant entrev . vai vot , respeit . esper quebr car dnv ' => Negativo [Negativo]\n",
            "'melhor situ possível , atual . , tá haddad ' => Negativo [Negativo]\n",
            "'inform font confi sobr espalh lei propost expost red . confi diz aí sobr candidat ! ' => Neutro [Positivo]\n",
            "'tá fod seman ' => Negativo [Negativo]\n",
            "'venom , vil hom aranh , ganh prim film sol cinem ' => Neutro [Neutro]\n"
          ],
          "name": "stdout"
        }
      ]
    },
    {
      "cell_type": "markdown",
      "metadata": {
        "id": "FQfgDPc5rlBM"
      },
      "source": [
        "## XGBoost "
      ]
    },
    {
      "cell_type": "code",
      "metadata": {
        "id": "NKb0Zs5prpqN"
      },
      "source": [
        "model_xgb = Pipeline([\n",
        "    ('vect', CountVectorizer()),\n",
        "    #('tfidf', TfidfTransformer()),\n",
        "    #('pca', TruncatedSVD(n_components=200)),\n",
        "    ('clf', xgb.XGBClassifier(n_estimators=1000, n_jobs=-1, nthread=-1))\n",
        "])"
      ],
      "execution_count": null,
      "outputs": []
    },
    {
      "cell_type": "markdown",
      "metadata": {
        "id": "JBObayzBcsHO"
      },
      "source": [
        "## Neural Network - Multilayer Perceptron"
      ]
    },
    {
      "cell_type": "markdown",
      "metadata": {
        "id": "VMmjAod5c_qG"
      },
      "source": [
        "<img src=\"https://st2.ning.com/topology/rest/1.0/file/get/1140047167?profile=original\" width=\"500\"/>"
      ]
    },
    {
      "cell_type": "code",
      "metadata": {
        "id": "8NbFCKnbcvbH"
      },
      "source": [
        "model_NN = Pipeline([\n",
        "    ('vect', CountVectorizer(ngram_range=(1, 2))),\n",
        "    ('tfidf', TfidfTransformer()),\n",
        "    ('pca', TruncatedSVD(n_components=200)), # 100000 linhas por 150 colunas (features)\n",
        "    ('clf', MLPClassifier(hidden_layer_sizes=(100,50), #2 camadas escondidas sendo a primeira com 100 neurônios e a segunda com 50 neurônios \n",
        "                          random_state=42, \n",
        "                          activation='relu', #Teste outras funções de ativação. Ex. tanh, entre outras (relu).\n",
        "                          max_iter=1000,\n",
        "                          early_stopping=True))\n",
        "])"
      ],
      "execution_count": null,
      "outputs": []
    },
    {
      "cell_type": "code",
      "metadata": {
        "id": "quTIk4RxsmvI"
      },
      "source": [
        "#predictions_NN = cross_val_predict(model_NN, tweets, classes, cv=5)"
      ],
      "execution_count": null,
      "outputs": []
    },
    {
      "cell_type": "code",
      "metadata": {
        "id": "YTQom7AXf500"
      },
      "source": [
        "#print(classification_report(classes, predictions_NN))"
      ],
      "execution_count": null,
      "outputs": []
    },
    {
      "cell_type": "code",
      "metadata": {
        "id": "l3QRaZEKbVyn"
      },
      "source": [
        "#for doc, prediction, y in zip(tweets[0:30], resultados[0:30], classes[0:30]):\n",
        "#    print('%r => %s [%s]' % (doc, prediction, y))"
      ],
      "execution_count": null,
      "outputs": []
    },
    {
      "cell_type": "code",
      "metadata": {
        "id": "tPYNcTztAJH8"
      },
      "source": [
        "#param_grid = { \n",
        "#    'vect__ngram_range': [(1, 1), (1, 2)],\n",
        "#    'tfidf__use_idf': (True, False),\n",
        "#    'clf__n_estimators': [100, 200, 300, 400, 500],\n",
        "#    'clf__max_features': ['auto', 'sqrt', 'log2'],\n",
        "#    'clf__max_depth' : [None, 4,5,6,7,8],\n",
        "#    'clf__criterion' :['gini', 'entropy']\n",
        "#}"
      ],
      "execution_count": null,
      "outputs": []
    },
    {
      "cell_type": "markdown",
      "metadata": {
        "id": "q2NI9ErszQ0M"
      },
      "source": [
        "### Neural network model with Hold-out"
      ]
    },
    {
      "cell_type": "code",
      "metadata": {
        "id": "QW_YYQqhzQ0M"
      },
      "source": [
        "X_train, X_test, y_train, y_test = train_test_split(tweets, classes, test_size=0.33, random_state=42)"
      ],
      "execution_count": null,
      "outputs": []
    },
    {
      "cell_type": "code",
      "metadata": {
        "id": "BD2poD35bx6H"
      },
      "source": [
        "X_train.shape"
      ],
      "execution_count": null,
      "outputs": []
    },
    {
      "cell_type": "code",
      "metadata": {
        "id": "QpkimiWXb273"
      },
      "source": [
        "X_test.shape"
      ],
      "execution_count": null,
      "outputs": []
    },
    {
      "cell_type": "code",
      "metadata": {
        "id": "jL6mmimJzQ0M"
      },
      "source": [
        "model_NN.fit(X_train, y_train)\n",
        "predictions_NN = model_NN.predict(X_test)"
      ],
      "execution_count": null,
      "outputs": []
    },
    {
      "cell_type": "code",
      "metadata": {
        "id": "gLR4lQjPzQ0M"
      },
      "source": [
        "print(classification_report(y_test, predictions_NN))"
      ],
      "execution_count": null,
      "outputs": []
    },
    {
      "cell_type": "code",
      "metadata": {
        "id": "8O2bEN2-zQ0N"
      },
      "source": [
        "for doc, prediction, y in zip(X_test[0:20], predictions_NN[0:20], y_test[0:20]):\n",
        "    print('%r => %s [%s]' % (doc, prediction, y))"
      ],
      "execution_count": null,
      "outputs": []
    },
    {
      "cell_type": "markdown",
      "metadata": {
        "id": "eO1WLFoPIbEL"
      },
      "source": [
        "## SVM model with Hold out"
      ]
    },
    {
      "cell_type": "code",
      "metadata": {
        "id": "eDIAK5XdIbEM"
      },
      "source": [
        "model_SVC = Pipeline([\n",
        "    ('vect', CountVectorizer(ngram_range=(1, 2))),\n",
        "    ('tfidf', TfidfTransformer()),\n",
        "    ('clf', LogisticRegression(random_state=42, multi_class='multinomial', max_iter=500, n_jobs=-1)),\n",
        "])"
      ],
      "execution_count": null,
      "outputs": []
    },
    {
      "cell_type": "code",
      "metadata": {
        "id": "TUn1baJEIbEM"
      },
      "source": [
        "model_SVC = Pipeline([\n",
        "    ('vect', CountVectorizer(ngram_range=(1, 2))),\n",
        "    ('tfidf', TfidfTransformer()),\n",
        "    ('clf', SVC(random_state=42)),\n",
        "])"
      ],
      "execution_count": null,
      "outputs": []
    },
    {
      "cell_type": "code",
      "metadata": {
        "id": "ZficA-nKIbEN"
      },
      "source": [
        "X_train, X_test, y_train, y_test = train_test_split(tweets, classes, test_size=0.35, random_state=42)"
      ],
      "execution_count": null,
      "outputs": []
    },
    {
      "cell_type": "code",
      "metadata": {
        "id": "OVwQUGT1IbEO"
      },
      "source": [
        "X_train.shape"
      ],
      "execution_count": null,
      "outputs": []
    },
    {
      "cell_type": "code",
      "metadata": {
        "id": "RoavQ29YIbEQ"
      },
      "source": [
        "X_test.shape"
      ],
      "execution_count": null,
      "outputs": []
    },
    {
      "cell_type": "code",
      "metadata": {
        "id": "KseA2cv6IbEQ"
      },
      "source": [
        "#model_SVC.fit(X_train, y_train)\n",
        "#predictions_SVC = model_SVC.predict(predictions_SVC)"
      ],
      "execution_count": null,
      "outputs": []
    },
    {
      "cell_type": "code",
      "metadata": {
        "id": "L_-mBK1IIbER"
      },
      "source": [
        "#print(classification_report(y_test, predictions_LR))"
      ],
      "execution_count": null,
      "outputs": []
    },
    {
      "cell_type": "code",
      "metadata": {
        "id": "7cF4P59RIbER"
      },
      "source": [
        "#for doc, prediction, y in zip(X_test[0:20], predictions_SVC[0:20], y_test[0:20]):\n",
        "#    print('%r => %s [%s]' % (doc, prediction, y))"
      ],
      "execution_count": null,
      "outputs": []
    },
    {
      "cell_type": "markdown",
      "metadata": {
        "id": "eN8QyOFqu0lk"
      },
      "source": [
        "## Logistic Regression with Hold Out"
      ]
    },
    {
      "cell_type": "code",
      "metadata": {
        "id": "wAeN-flLu4yq"
      },
      "source": [
        "X_train, X_test, y_train, y_test = train_test_split(X_tweets, y_classes, test_size=0.35, random_state=42)"
      ],
      "execution_count": null,
      "outputs": []
    },
    {
      "cell_type": "code",
      "metadata": {
        "id": "HN_ksiNAu4yr"
      },
      "source": [
        "model_LR.fit(X_train, y_train)\n",
        "predictions_LR = model_LR.predict(X_test)"
      ],
      "execution_count": null,
      "outputs": []
    },
    {
      "cell_type": "code",
      "metadata": {
        "id": "i2ksyMhwu4ys"
      },
      "source": [
        "X_train.shape, X_test.shape"
      ],
      "execution_count": null,
      "outputs": []
    },
    {
      "cell_type": "code",
      "metadata": {
        "id": "-DCOH2fSu4yt"
      },
      "source": [
        "print(classification_report(y_test, predictions_LR))"
      ],
      "execution_count": null,
      "outputs": []
    },
    {
      "cell_type": "code",
      "metadata": {
        "id": "KuPaWwAzu4yt"
      },
      "source": [
        "for doc, prediction, y in zip(X_test[0:20], predictions_LR[0:20], y_test[0:20]):\n",
        "    print('%r => %s [%s]' % (doc, prediction, y))"
      ],
      "execution_count": null,
      "outputs": []
    },
    {
      "cell_type": "markdown",
      "metadata": {
        "id": "iWEQZ-1OpPN4"
      },
      "source": [
        "## Logistic Regression with hold out and gridsearch"
      ]
    },
    {
      "cell_type": "code",
      "metadata": {
        "id": "NqxJt5OJpPN5"
      },
      "source": [
        "X_train, X_test, y_train, y_test = train_test_split(X_tweets, y_classes, test_size=0.35, random_state=42)"
      ],
      "execution_count": null,
      "outputs": []
    },
    {
      "cell_type": "code",
      "metadata": {
        "id": "jF2YRUWQukzT"
      },
      "source": [
        "for g in ParameterGrid(grid):\n",
        "    rf.set_params(**g)\n",
        "    rf.fit(X_train, y_train)\n",
        "    # save if best\n",
        "    if rf.oob_score_ > best_score:\n",
        "        best_score = rf.oob_score_\n",
        "        best_grid = g\n",
        "\n",
        "print \"OOB: %0.5f\" % best_score \n",
        "print \"Grid:\", best_grid"
      ],
      "execution_count": null,
      "outputs": []
    },
    {
      "cell_type": "code",
      "metadata": {
        "id": "TvL1zhL9pPN6"
      },
      "source": [
        "model_LR.fit(X_train, y_train)\n",
        "predictions_LR = model_LR.predict(X_test)"
      ],
      "execution_count": null,
      "outputs": []
    },
    {
      "cell_type": "code",
      "metadata": {
        "id": "22cM600IpPN7"
      },
      "source": [
        "X_train.shape, X_test.shape"
      ],
      "execution_count": null,
      "outputs": []
    },
    {
      "cell_type": "code",
      "metadata": {
        "id": "F6w5xmPFpPN9"
      },
      "source": [
        "print(classification_report(y_test, predictions_LR))"
      ],
      "execution_count": null,
      "outputs": []
    },
    {
      "cell_type": "code",
      "metadata": {
        "id": "9hRXrd7KpPN-"
      },
      "source": [
        "for doc, prediction, y in zip(X_test[0:20], predictions_LR[0:20], y_test[0:20]):\n",
        "    print('%r => %s [%s]' % (doc, prediction, y))"
      ],
      "execution_count": null,
      "outputs": []
    },
    {
      "cell_type": "markdown",
      "metadata": {
        "id": "RiZyLJP05gKy"
      },
      "source": [
        "## Logistic Regression with cross-validation and gridsearch "
      ]
    },
    {
      "cell_type": "code",
      "metadata": {
        "id": "b8A0vi2j5grx"
      },
      "source": [
        "model_LR = Pipeline([\n",
        "    ('vect', CountVectorizer(ngram_range=(1, 2))),\n",
        "    ('tfidf', TfidfTransformer()),\n",
        "    ('clf', LogisticRegression(random_state=42, multi_class='multinomial', max_iter=500, n_jobs=-1)),\n",
        "])"
      ],
      "execution_count": null,
      "outputs": []
    },
    {
      "cell_type": "code",
      "metadata": {
        "id": "RVkm2xmRLG94"
      },
      "source": [
        "param_grid_LR = {\n",
        "    'clf__solver': ['newton-cg', 'lbfgs', 'liblinear', 'sag', 'saga'],\n",
        "    'clf__penalty': ['l1', 'l2', 'elasticnet', 'none']\n",
        "}"
      ],
      "execution_count": null,
      "outputs": []
    },
    {
      "cell_type": "code",
      "metadata": {
        "id": "DQ6QFTbNlOPB"
      },
      "source": [
        "grid_LR = GridSearchCV(param_grid=param_grid_LR, estimator=model_LR, \n",
        "                        scoring='f1_weighted', cv=5, verbose=1, n_jobs=-1)"
      ],
      "execution_count": null,
      "outputs": []
    },
    {
      "cell_type": "code",
      "metadata": {
        "id": "VENM5GkYk_NE"
      },
      "source": [
        "#grid_LR.fit(X_tweets, y_classes)"
      ],
      "execution_count": null,
      "outputs": []
    },
    {
      "cell_type": "code",
      "metadata": {
        "id": "70JZ0tehOHkv"
      },
      "source": [
        "#print(grid_LR.best_params_)"
      ],
      "execution_count": null,
      "outputs": []
    },
    {
      "cell_type": "code",
      "metadata": {
        "id": "cpAJxQsa29kw"
      },
      "source": [
        "model = LogisticRegression(random_state=42, multi_class='multinomial', max_iter=100, n_jobs=-1, solver= 'newton-cg')"
      ],
      "execution_count": null,
      "outputs": []
    },
    {
      "cell_type": "code",
      "metadata": {
        "id": "qYNI97EA29lI"
      },
      "source": [
        "model_LR = Pipeline([\n",
        "    ('vect', CountVectorizer(ngram_range=(1, 2))),\n",
        "    ('tfidf', TfidfTransformer()),\n",
        "    ('clf', model),\n",
        "])"
      ],
      "execution_count": null,
      "outputs": []
    },
    {
      "cell_type": "code",
      "metadata": {
        "id": "-VHQnIzf4HHY"
      },
      "source": [
        "predictions_LR = cross_val_predict(model_LR, X_tweets, y_classes, cv = 5)"
      ],
      "execution_count": null,
      "outputs": []
    },
    {
      "cell_type": "code",
      "metadata": {
        "id": "KcJ_aY2L4HHe"
      },
      "source": [
        "print(classification_report(y_classes, predictions_LR))"
      ],
      "execution_count": null,
      "outputs": []
    },
    {
      "cell_type": "code",
      "metadata": {
        "id": "vESsQSYP4HHf"
      },
      "source": [
        "#for doc, predictions_RF, y in zip(tweets[0:10], predictions_RF[0:10], classes[0:10]):\n",
        "#    print('%r => %s [%s]' % (doc, predictions_RF, y))"
      ],
      "execution_count": null,
      "outputs": []
    },
    {
      "cell_type": "markdown",
      "metadata": {
        "id": "3E9RvBzoJpNv"
      },
      "source": [
        "## Exporting models"
      ]
    },
    {
      "cell_type": "code",
      "metadata": {
        "id": "UVpOeP1v7luq"
      },
      "source": [
        "import pickle"
      ],
      "execution_count": null,
      "outputs": []
    },
    {
      "cell_type": "code",
      "metadata": {
        "id": "HsYBa7ah729P"
      },
      "source": [
        "#filename = 'RF_sa_model.sav'\n",
        "pickle.dump(model_RF, open('RF_model_we', 'wb'))"
      ],
      "execution_count": null,
      "outputs": []
    },
    {
      "cell_type": "code",
      "metadata": {
        "id": "0YIR6fd2gCXg"
      },
      "source": [
        "#filename = 'RF_sa_model.sav'\n",
        "pickle.dump(model_NN, open('NN_model_we', 'wb'))"
      ],
      "execution_count": null,
      "outputs": []
    },
    {
      "cell_type": "code",
      "metadata": {
        "id": "P3ufMJai7KX4"
      },
      "source": [
        "#filename = 'LR_sa_model.sav'\n",
        "pickle.dump(model_LR, open('LR_model_we', 'wb'))"
      ],
      "execution_count": null,
      "outputs": []
    },
    {
      "cell_type": "code",
      "metadata": {
        "id": "AKA_SsHNopJB"
      },
      "source": [
        "loaded_model = pickle.load(open('RF_model_we', 'rb'))"
      ],
      "execution_count": null,
      "outputs": []
    },
    {
      "cell_type": "code",
      "metadata": {
        "id": "_KkMTXjhbR_M"
      },
      "source": [
        "loaded_model = pickle.load(open('NN_model_we', 'rb'))"
      ],
      "execution_count": null,
      "outputs": []
    },
    {
      "cell_type": "code",
      "metadata": {
        "id": "4SyP86_F7Nt4"
      },
      "source": [
        "loaded_model = pickle.load(open('LR_model_we', 'rb'))"
      ],
      "execution_count": null,
      "outputs": []
    },
    {
      "cell_type": "code",
      "metadata": {
        "id": "-bXYj-yg8Hyu"
      },
      "source": [
        "model_LR.predict(X_test)"
      ],
      "execution_count": null,
      "outputs": []
    },
    {
      "cell_type": "code",
      "metadata": {
        "id": "Az_tSLdZyBC8"
      },
      "source": [
        "predictions = loaded_model.predict(X_test)"
      ],
      "execution_count": null,
      "outputs": []
    },
    {
      "cell_type": "code",
      "metadata": {
        "id": "-5mIvaVrlFKk"
      },
      "source": [
        "print(classification_report(y_test, predictions))"
      ],
      "execution_count": null,
      "outputs": []
    }
  ]
}