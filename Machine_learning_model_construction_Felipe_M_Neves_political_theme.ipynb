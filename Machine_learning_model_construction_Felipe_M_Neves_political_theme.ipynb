{
  "nbformat": 4,
  "nbformat_minor": 0,
  "metadata": {
    "colab": {
      "name": "Machine learning model construction_Felipe_M_Neves_political-theme.ipynb",
      "provenance": [],
      "collapsed_sections": [],
      "toc_visible": true,
      "include_colab_link": true
    },
    "kernelspec": {
      "name": "python3",
      "display_name": "Python 3"
    }
  },
  "cells": [
    {
      "cell_type": "markdown",
      "metadata": {
        "id": "view-in-github",
        "colab_type": "text"
      },
      "source": [
        "<a href=\"https://colab.research.google.com/github/fmarcelneves/Twitter-Network-Analytics/blob/main/Machine_learning_model_construction_Felipe_M_Neves_political_theme.ipynb\" target=\"_parent\"><img src=\"https://colab.research.google.com/assets/colab-badge.svg\" alt=\"Open In Colab\"/></a>"
      ]
    },
    {
      "cell_type": "markdown",
      "metadata": {
        "_uuid": "39b49805abea346b301e8be2f6317f41f2040cb0",
        "id": "_ATEjsR7ojnq"
      },
      "source": [
        "<h1>Portuguese Tweets for Sentiment Analysis using nltk and sklearn</h1>"
      ]
    },
    {
      "cell_type": "markdown",
      "metadata": {
        "id": "t3FAjsEbkMW9"
      },
      "source": [
        "## Install package"
      ]
    },
    {
      "cell_type": "code",
      "metadata": {
        "colab": {
          "base_uri": "https://localhost:8080/"
        },
        "id": "kjr3G2adsHl-",
        "outputId": "4624e70e-c10b-4fb4-d092-1f041c3ae7ed"
      },
      "source": [
        "!pip install xgboost"
      ],
      "execution_count": 1,
      "outputs": [
        {
          "output_type": "stream",
          "text": [
            "Requirement already satisfied: xgboost in /usr/local/lib/python3.7/dist-packages (0.90)\n",
            "Requirement already satisfied: scipy in /usr/local/lib/python3.7/dist-packages (from xgboost) (1.4.1)\n",
            "Requirement already satisfied: numpy in /usr/local/lib/python3.7/dist-packages (from xgboost) (1.19.5)\n"
          ],
          "name": "stdout"
        }
      ]
    },
    {
      "cell_type": "markdown",
      "metadata": {
        "_uuid": "b4f29bda96d086b23f57e2d4aa970c3c1e037578",
        "id": "nrMGO10Aojnq"
      },
      "source": [
        "## Load packages"
      ]
    },
    {
      "cell_type": "code",
      "metadata": {
        "trusted": true,
        "_uuid": "919b480a6075584c5f93cf511e90001ddcc7b649",
        "id": "VLxC5kVxojnq"
      },
      "source": [
        "import os\n",
        "import pandas as pd\n",
        "import numpy as np\n",
        "import random\n",
        "import re\n",
        "import nltk\n",
        "from nltk.tokenize import word_tokenize\n",
        "from nltk.tokenize import wordpunct_tokenize\n",
        "# from nltk.tokenize import sent_tokenize (Tokenization)\n",
        "from nltk.probability import FreqDist\n",
        "from nltk.metrics import ConfusionMatrix\n",
        "from wordcloud import WordCloud\n",
        "import matplotlib.pyplot as plt\n",
        "from sklearn.feature_extraction.text import CountVectorizer\n",
        "from sklearn.feature_extraction.text import TfidfTransformer\n",
        "from sklearn.naive_bayes import MultinomialNB\n",
        "from sklearn.linear_model import SGDClassifier\n",
        "from sklearn.linear_model import LogisticRegression\n",
        "from sklearn.svm import SVC\n",
        "from sklearn.ensemble import RandomForestClassifier\n",
        "from sklearn.ensemble import GradientBoostingClassifier\n",
        "from sklearn.pipeline import Pipeline\n",
        "from sklearn import metrics\n",
        "from sklearn.model_selection import GridSearchCV\n",
        "from sklearn.metrics import classification_report\n",
        "from sklearn.model_selection import cross_val_predict\n",
        "from sklearn.model_selection import train_test_split\n",
        "import  xgboost as xgb"
      ],
      "execution_count": 2,
      "outputs": []
    },
    {
      "cell_type": "code",
      "metadata": {
        "colab": {
          "base_uri": "https://localhost:8080/"
        },
        "id": "9eMtkH6n6u6b",
        "outputId": "ac214170-c2d6-46b8-fe74-124bb8f1af8e"
      },
      "source": [
        " nltk.download('stopwords')"
      ],
      "execution_count": 3,
      "outputs": [
        {
          "output_type": "stream",
          "text": [
            "[nltk_data] Downloading package stopwords to /root/nltk_data...\n",
            "[nltk_data]   Package stopwords is already up-to-date!\n"
          ],
          "name": "stdout"
        },
        {
          "output_type": "execute_result",
          "data": {
            "text/plain": [
              "True"
            ]
          },
          "metadata": {
            "tags": []
          },
          "execution_count": 3
        }
      ]
    },
    {
      "cell_type": "code",
      "metadata": {
        "id": "0OYkhb-ATOuE"
      },
      "source": [
        "%%capture\n",
        "!pip install plotly --upgrade\n",
        "from plotly import __version__\n",
        "print (__version__)\n",
        "import plotly.express as px\n",
        "import plotly as py\n",
        "#import plotly.figure_factory as ff\n",
        "#import cufflinks as cf\n",
        "from plotly.offline import iplot, init_notebook_mode\n",
        "# Display all cell outputs\n",
        "from IPython.core.interactiveshell import InteractiveShell\n",
        "import plotly.io as pio\n",
        "pio.templates.default = \"plotly_white\""
      ],
      "execution_count": 4,
      "outputs": []
    },
    {
      "cell_type": "markdown",
      "metadata": {
        "_uuid": "6340d1fa4e6c1eb7317bc41d0e455f38cecff5e7",
        "id": "Oh5yVZT2ojnr"
      },
      "source": [
        "## Load and concatenate dataset"
      ]
    },
    {
      "cell_type": "markdown",
      "metadata": {
        "_uuid": "3796005c75ed73e961631cd6148ac209865498d7",
        "id": "VlaZL-WJojnr"
      },
      "source": [
        "<h4>Load and prepare</h4>"
      ]
    },
    {
      "cell_type": "code",
      "metadata": {
        "id": "LRLS8HzU0dL9"
      },
      "source": [
        "TweetsNeutralHash = 'https://raw.githubusercontent.com/fmarcelneves/Twitter-Network-Analytics/main/TweetsNeutralHash.csv'\n",
        "TweetsNeutralNews = 'https://raw.githubusercontent.com/fmarcelneves/Twitter-Network-Analytics/main/TweetsNeutralNews.csv'\n",
        "TweetsWithTheme = 'https://raw.githubusercontent.com/fmarcelneves/Twitter-Network-Analytics/main/TweetsWithTheme.csv'\n",
        "#Train3Classes = 'https://raw.githubusercontent.com/fmarcelneves/Twitter-Network-Analytics/main/Train3Classes.csv'\n",
        "NoThemeTweets = 'https://raw.githubusercontent.com/fmarcelneves/Twitter-Network-Analytics/main/NoThemeTweets.csv'"
      ],
      "execution_count": 5,
      "outputs": []
    },
    {
      "cell_type": "code",
      "metadata": {
        "trusted": true,
        "_uuid": "5d6cf76ed57e7c9f7046c776b981afae40bc16cc",
        "id": "Gq5BNsUOojnr"
      },
      "source": [
        "NeutralHash = pd.read_csv(TweetsNeutralHash, encoding='utf-8')\n",
        "NeutralNews = pd.read_csv(TweetsNeutralNews, encoding='utf-8')\n",
        "Political_Neg_Pos = pd.read_csv(TweetsWithTheme, encoding='utf-8')\n",
        "#Classes = pd.read_csv(Train3Classes, encoding='utf-8', sep=';')\n",
        "NoThemeTweets_Pos = pd.read_csv(NoThemeTweets, encoding='latin-1', sep=';')"
      ],
      "execution_count": 6,
      "outputs": []
    },
    {
      "cell_type": "markdown",
      "metadata": {
        "id": "8sOz2GDDHcZY"
      },
      "source": [
        "Neutral"
      ]
    },
    {
      "cell_type": "code",
      "metadata": {
        "id": "FU0Lw4L1EfBs"
      },
      "source": [
        "NeutralHash  = NeutralHash[['tweet_text', 'sentiment']]\n",
        "NeutralHash.columns = ['texto', 'classificacao']"
      ],
      "execution_count": 7,
      "outputs": []
    },
    {
      "cell_type": "code",
      "metadata": {
        "id": "sG3VXQunDSMc",
        "colab": {
          "base_uri": "https://localhost:8080/",
          "height": 0
        },
        "outputId": "aeec507b-ce16-4964-fcf9-d6a86e00ba52"
      },
      "source": [
        "NeutralHash.head()"
      ],
      "execution_count": 8,
      "outputs": [
        {
          "output_type": "execute_result",
          "data": {
            "text/html": [
              "<div>\n",
              "<style scoped>\n",
              "    .dataframe tbody tr th:only-of-type {\n",
              "        vertical-align: middle;\n",
              "    }\n",
              "\n",
              "    .dataframe tbody tr th {\n",
              "        vertical-align: top;\n",
              "    }\n",
              "\n",
              "    .dataframe thead th {\n",
              "        text-align: right;\n",
              "    }\n",
              "</style>\n",
              "<table border=\"1\" class=\"dataframe\">\n",
              "  <thead>\n",
              "    <tr style=\"text-align: right;\">\n",
              "      <th></th>\n",
              "      <th>texto</th>\n",
              "      <th>classificacao</th>\n",
              "    </tr>\n",
              "  </thead>\n",
              "  <tbody>\n",
              "    <tr>\n",
              "      <th>0</th>\n",
              "      <td>@dilsonramoslima #Fato Acho que o Roger é um b...</td>\n",
              "      <td>Neutro</td>\n",
              "    </tr>\n",
              "    <tr>\n",
              "      <th>1</th>\n",
              "      <td>#NOVIDADE! @LATAM_BRA acaba de anunciar novo v...</td>\n",
              "      <td>Neutro</td>\n",
              "    </tr>\n",
              "    <tr>\n",
              "      <th>2</th>\n",
              "      <td>Quando tem #novidade😆 tem @novafm103 na área! ...</td>\n",
              "      <td>Neutro</td>\n",
              "    </tr>\n",
              "    <tr>\n",
              "      <th>3</th>\n",
              "      <td>@RiodeNojeira #Novidade Taí o sucesso dos filh...</td>\n",
              "      <td>Neutro</td>\n",
              "    </tr>\n",
              "    <tr>\n",
              "      <th>4</th>\n",
              "      <td>[Livro/Novidades] Segredos, uma história de Lu...</td>\n",
              "      <td>Neutro</td>\n",
              "    </tr>\n",
              "  </tbody>\n",
              "</table>\n",
              "</div>"
            ],
            "text/plain": [
              "                                               texto classificacao\n",
              "0  @dilsonramoslima #Fato Acho que o Roger é um b...        Neutro\n",
              "1  #NOVIDADE! @LATAM_BRA acaba de anunciar novo v...        Neutro\n",
              "2  Quando tem #novidade😆 tem @novafm103 na área! ...        Neutro\n",
              "3  @RiodeNojeira #Novidade Taí o sucesso dos filh...        Neutro\n",
              "4  [Livro/Novidades] Segredos, uma história de Lu...        Neutro"
            ]
          },
          "metadata": {
            "tags": []
          },
          "execution_count": 8
        }
      ]
    },
    {
      "cell_type": "code",
      "metadata": {
        "id": "J9jEXZkLJFkc"
      },
      "source": [
        "NeutralHash = NeutralHash.drop_duplicates().reset_index(drop=True)"
      ],
      "execution_count": 9,
      "outputs": []
    },
    {
      "cell_type": "code",
      "metadata": {
        "colab": {
          "base_uri": "https://localhost:8080/"
        },
        "id": "IjZfD9KNFBs0",
        "outputId": "6fbc0509-3d2a-4798-98c7-af5c2971d352"
      },
      "source": [
        "NeutralHash.shape"
      ],
      "execution_count": 10,
      "outputs": [
        {
          "output_type": "execute_result",
          "data": {
            "text/plain": [
              "(15515, 2)"
            ]
          },
          "metadata": {
            "tags": []
          },
          "execution_count": 10
        }
      ]
    },
    {
      "cell_type": "code",
      "metadata": {
        "id": "OLIicYRqIkQn"
      },
      "source": [
        "NeutralHash = NeutralHash.sample(8000) #14000 #8000"
      ],
      "execution_count": 11,
      "outputs": []
    },
    {
      "cell_type": "code",
      "metadata": {
        "colab": {
          "base_uri": "https://localhost:8080/"
        },
        "id": "mIlnUbgIIkQx",
        "outputId": "29c6e92e-a7cb-4dc5-ccda-9ac360845de4"
      },
      "source": [
        "NeutralHash.shape"
      ],
      "execution_count": 12,
      "outputs": [
        {
          "output_type": "execute_result",
          "data": {
            "text/plain": [
              "(8000, 2)"
            ]
          },
          "metadata": {
            "tags": []
          },
          "execution_count": 12
        }
      ]
    },
    {
      "cell_type": "code",
      "metadata": {
        "id": "Hug5u6-XEuWO"
      },
      "source": [
        "NeutralNews  = NeutralNews[['tweet_text', 'sentiment']]\n",
        "NeutralNews.columns = ['texto', 'classificacao']"
      ],
      "execution_count": 13,
      "outputs": []
    },
    {
      "cell_type": "code",
      "metadata": {
        "id": "7TYMrbycJfX5"
      },
      "source": [
        "NeutralNews = NeutralNews.drop_duplicates().reset_index(drop=True)"
      ],
      "execution_count": 14,
      "outputs": []
    },
    {
      "cell_type": "code",
      "metadata": {
        "id": "y0cCpKkrJSyE",
        "colab": {
          "base_uri": "https://localhost:8080/"
        },
        "outputId": "85ae3042-c2a9-4602-e62c-662f9f9b15b1"
      },
      "source": [
        "NeutralNews.shape"
      ],
      "execution_count": 15,
      "outputs": [
        {
          "output_type": "execute_result",
          "data": {
            "text/plain": [
              "(37509, 2)"
            ]
          },
          "metadata": {
            "tags": []
          },
          "execution_count": 15
        }
      ]
    },
    {
      "cell_type": "code",
      "metadata": {
        "id": "i7SauHeAIkQy"
      },
      "source": [
        "NeutralNews = NeutralNews.sample(20000) #14000 #20000"
      ],
      "execution_count": 16,
      "outputs": []
    },
    {
      "cell_type": "code",
      "metadata": {
        "colab": {
          "base_uri": "https://localhost:8080/"
        },
        "id": "7s1g2BOdIkQy",
        "outputId": "836d80e9-a99e-4259-e173-0eec7e5fe4f8"
      },
      "source": [
        "NeutralNews.shape"
      ],
      "execution_count": 17,
      "outputs": [
        {
          "output_type": "execute_result",
          "data": {
            "text/plain": [
              "(20000, 2)"
            ]
          },
          "metadata": {
            "tags": []
          },
          "execution_count": 17
        }
      ]
    },
    {
      "cell_type": "code",
      "metadata": {
        "id": "GbVTe_KzLqsP"
      },
      "source": [
        "#NeutralHash+NeutralNews = Neutral"
      ],
      "execution_count": 18,
      "outputs": []
    },
    {
      "cell_type": "markdown",
      "metadata": {
        "id": "yY2WjRNeJg1b"
      },
      "source": [
        "Positive "
      ]
    },
    {
      "cell_type": "code",
      "metadata": {
        "id": "vHTeO78UxI3w"
      },
      "source": [
        "Political_Neg_Pos  = Political_Neg_Pos[['tweet_text', 'sentiment']]\n",
        "Political_Neg_Pos.columns = ['texto', 'classificacao']"
      ],
      "execution_count": 19,
      "outputs": []
    },
    {
      "cell_type": "code",
      "metadata": {
        "colab": {
          "base_uri": "https://localhost:8080/"
        },
        "id": "iGqnSZ-lJx5O",
        "outputId": "88fe06f2-2ea1-4706-a2db-1573ea932a5a"
      },
      "source": [
        "Political_Neg_Pos.shape"
      ],
      "execution_count": 20,
      "outputs": [
        {
          "output_type": "execute_result",
          "data": {
            "text/plain": [
              "(61591, 2)"
            ]
          },
          "metadata": {
            "tags": []
          },
          "execution_count": 20
        }
      ]
    },
    {
      "cell_type": "code",
      "metadata": {
        "id": "XZoFHfaDJpRG"
      },
      "source": [
        "Political_Neg_Pos = Political_Neg_Pos.drop_duplicates().reset_index(drop=True)"
      ],
      "execution_count": 21,
      "outputs": []
    },
    {
      "cell_type": "code",
      "metadata": {
        "colab": {
          "base_uri": "https://localhost:8080/"
        },
        "id": "_SO-ueIiFOE7",
        "outputId": "b502c94e-67d9-47e5-bafa-ace4a3b3754b"
      },
      "source": [
        "Political_Neg_Pos.shape"
      ],
      "execution_count": 22,
      "outputs": [
        {
          "output_type": "execute_result",
          "data": {
            "text/plain": [
              "(61283, 2)"
            ]
          },
          "metadata": {
            "tags": []
          },
          "execution_count": 22
        }
      ]
    },
    {
      "cell_type": "code",
      "metadata": {
        "colab": {
          "base_uri": "https://localhost:8080/"
        },
        "id": "Ka26Jwf0lIrv",
        "outputId": "229956af-b134-4d0f-901c-e2121297f76b"
      },
      "source": [
        "Political_Neg_Pos.loc[Political_Neg_Pos['classificacao'] == 'Positivo'].shape"
      ],
      "execution_count": 23,
      "outputs": [
        {
          "output_type": "execute_result",
          "data": {
            "text/plain": [
              "(32566, 2)"
            ]
          },
          "metadata": {
            "tags": []
          },
          "execution_count": 23
        }
      ]
    },
    {
      "cell_type": "code",
      "metadata": {
        "id": "xWX_GpfaJmki"
      },
      "source": [
        "Political_Pos = Political_Neg_Pos.loc[Political_Neg_Pos['classificacao'] == 'Positivo'].sample(20000) #18000 #20000 #14000"
      ],
      "execution_count": 24,
      "outputs": []
    },
    {
      "cell_type": "code",
      "metadata": {
        "id": "NJPmTJH3Jpdm",
        "colab": {
          "base_uri": "https://localhost:8080/"
        },
        "outputId": "82eacddc-1d9b-4757-a7a3-ef2bcc3bdf82"
      },
      "source": [
        "Political_Pos.shape"
      ],
      "execution_count": 25,
      "outputs": [
        {
          "output_type": "execute_result",
          "data": {
            "text/plain": [
              "(20000, 2)"
            ]
          },
          "metadata": {
            "tags": []
          },
          "execution_count": 25
        }
      ]
    },
    {
      "cell_type": "code",
      "metadata": {
        "id": "09S8O9E1HulZ"
      },
      "source": [
        "NoThemeTweets_Pos.columns = ['texto', 'classificacao']"
      ],
      "execution_count": 26,
      "outputs": []
    },
    {
      "cell_type": "code",
      "metadata": {
        "colab": {
          "base_uri": "https://localhost:8080/",
          "height": 0
        },
        "id": "uU5yG2BuHulZ",
        "outputId": "d2394d72-cfda-41da-dfd4-7d818d92fd15"
      },
      "source": [
        "NoThemeTweets_Pos.head()"
      ],
      "execution_count": 27,
      "outputs": [
        {
          "output_type": "execute_result",
          "data": {
            "text/html": [
              "<div>\n",
              "<style scoped>\n",
              "    .dataframe tbody tr th:only-of-type {\n",
              "        vertical-align: middle;\n",
              "    }\n",
              "\n",
              "    .dataframe tbody tr th {\n",
              "        vertical-align: top;\n",
              "    }\n",
              "\n",
              "    .dataframe thead th {\n",
              "        text-align: right;\n",
              "    }\n",
              "</style>\n",
              "<table border=\"1\" class=\"dataframe\">\n",
              "  <thead>\n",
              "    <tr style=\"text-align: right;\">\n",
              "      <th></th>\n",
              "      <th>texto</th>\n",
              "      <th>classificacao</th>\n",
              "    </tr>\n",
              "  </thead>\n",
              "  <tbody>\n",
              "    <tr>\n",
              "      <th>0</th>\n",
              "      <td>@Tixaa23 14 para eu ir :)</td>\n",
              "      <td>Positivo</td>\n",
              "    </tr>\n",
              "    <tr>\n",
              "      <th>1</th>\n",
              "      <td>@drexalvarez O meu like eu já dei na época :)</td>\n",
              "      <td>Positivo</td>\n",
              "    </tr>\n",
              "    <tr>\n",
              "      <th>2</th>\n",
              "      <td>Eu só queria conseguir comer alguma coisa pra ...</td>\n",
              "      <td>Positivo</td>\n",
              "    </tr>\n",
              "    <tr>\n",
              "      <th>3</th>\n",
              "      <td>:D que lindo dia !</td>\n",
              "      <td>Positivo</td>\n",
              "    </tr>\n",
              "    <tr>\n",
              "      <th>4</th>\n",
              "      <td>@Primo_Resmungao Pq da pr jeito!!é uma \"oferta...</td>\n",
              "      <td>Positivo</td>\n",
              "    </tr>\n",
              "  </tbody>\n",
              "</table>\n",
              "</div>"
            ],
            "text/plain": [
              "                                               texto classificacao\n",
              "0                          @Tixaa23 14 para eu ir :)      Positivo\n",
              "1      @drexalvarez O meu like eu já dei na época :)      Positivo\n",
              "2  Eu só queria conseguir comer alguma coisa pra ...      Positivo\n",
              "3                                 :D que lindo dia !      Positivo\n",
              "4  @Primo_Resmungao Pq da pr jeito!!é uma \"oferta...      Positivo"
            ]
          },
          "metadata": {
            "tags": []
          },
          "execution_count": 27
        }
      ]
    },
    {
      "cell_type": "code",
      "metadata": {
        "id": "BZ5Z_L8dEMoF"
      },
      "source": [
        "NoThemeTweets_Pos = NoThemeTweets_Pos.drop_duplicates().reset_index(drop=True)"
      ],
      "execution_count": 28,
      "outputs": []
    },
    {
      "cell_type": "code",
      "metadata": {
        "id": "vfxO69Q0N6py",
        "colab": {
          "base_uri": "https://localhost:8080/"
        },
        "outputId": "284e82f2-2183-4f29-a176-e49cc9806eb6"
      },
      "source": [
        "NoThemeTweets_Pos.shape"
      ],
      "execution_count": 29,
      "outputs": [
        {
          "output_type": "execute_result",
          "data": {
            "text/plain": [
              "(19983, 2)"
            ]
          },
          "metadata": {
            "tags": []
          },
          "execution_count": 29
        }
      ]
    },
    {
      "cell_type": "code",
      "metadata": {
        "id": "7tUW03EzDlpm"
      },
      "source": [
        "NoTheme_Pos = NoThemeTweets_Pos[NoThemeTweets_Pos['classificacao'] == 'Positivo'].sample(8000)"
      ],
      "execution_count": 30,
      "outputs": []
    },
    {
      "cell_type": "code",
      "metadata": {
        "id": "wH_UDtPNL38I",
        "colab": {
          "base_uri": "https://localhost:8080/"
        },
        "outputId": "e0818090-2b29-4105-add9-a7433e83d836"
      },
      "source": [
        "NoTheme_Pos.shape"
      ],
      "execution_count": 31,
      "outputs": [
        {
          "output_type": "execute_result",
          "data": {
            "text/plain": [
              "(8000, 2)"
            ]
          },
          "metadata": {
            "tags": []
          },
          "execution_count": 31
        }
      ]
    },
    {
      "cell_type": "code",
      "metadata": {
        "id": "tIe3HOo6H4du"
      },
      "source": [
        "#from IPython.display import HTML\n",
        "#HTML(Political_Pos.to_html())"
      ],
      "execution_count": 32,
      "outputs": []
    },
    {
      "cell_type": "code",
      "metadata": {
        "id": "AA476jZ74vb-"
      },
      "source": [
        "#Classes_Pos  = Classes[['tweet_text', 'sentiment']]\n",
        "#Classes_Pos.columns = ['texto', 'classificacao']"
      ],
      "execution_count": 33,
      "outputs": []
    },
    {
      "cell_type": "code",
      "metadata": {
        "id": "HxaVKn_5AQzt"
      },
      "source": [
        "#Classes_Pos['classificacao'] = Classes_Pos['classificacao'].map({0: 'Negativo', 1: 'Positivo', 2: 'Neutro'})"
      ],
      "execution_count": 34,
      "outputs": []
    },
    {
      "cell_type": "code",
      "metadata": {
        "id": "ZDht-xymIyOF"
      },
      "source": [
        "#Classes_Pos = Classes_Pos.loc[Classes_Pos['classificacao'] == 'Positivo'].sample(8000) #10000 #14000 #8000"
      ],
      "execution_count": 35,
      "outputs": []
    },
    {
      "cell_type": "code",
      "metadata": {
        "id": "LnRd8nmwJD14"
      },
      "source": [
        "#Classes_Pos.shape"
      ],
      "execution_count": 36,
      "outputs": []
    },
    {
      "cell_type": "code",
      "metadata": {
        "id": "Ne_R2p-pMCk5"
      },
      "source": [
        "#Political_Pos+NoTheme_Pos = Positive"
      ],
      "execution_count": 37,
      "outputs": []
    },
    {
      "cell_type": "markdown",
      "metadata": {
        "id": "uH7xMYl7KZri"
      },
      "source": [
        "Negative"
      ]
    },
    {
      "cell_type": "code",
      "metadata": {
        "id": "axUPkR4JKhJS"
      },
      "source": [
        "Political_Neg_Pos = Political_Neg_Pos.drop_duplicates().reset_index(drop=True)"
      ],
      "execution_count": 38,
      "outputs": []
    },
    {
      "cell_type": "code",
      "metadata": {
        "id": "Kqd2MC1bJzbJ",
        "colab": {
          "base_uri": "https://localhost:8080/"
        },
        "outputId": "a12565af-ff95-425f-b447-c46481568650"
      },
      "source": [
        "Political_Neg_Pos.loc[Political_Neg_Pos['classificacao'] == 'Negativo'].shape"
      ],
      "execution_count": 39,
      "outputs": [
        {
          "output_type": "execute_result",
          "data": {
            "text/plain": [
              "(28717, 2)"
            ]
          },
          "metadata": {
            "tags": []
          },
          "execution_count": 39
        }
      ]
    },
    {
      "cell_type": "code",
      "metadata": {
        "id": "zp0GdYQgGRTc"
      },
      "source": [
        "Political_Neg = Political_Neg_Pos.loc[Political_Neg_Pos['classificacao'] == 'Negativo'].sample(28000)"
      ],
      "execution_count": 40,
      "outputs": []
    },
    {
      "cell_type": "code",
      "metadata": {
        "colab": {
          "base_uri": "https://localhost:8080/"
        },
        "id": "EOp1X9VHXtvg",
        "outputId": "9b3a0374-da27-4bbe-ec0a-d2999ab69462"
      },
      "source": [
        "Political_Neg.shape"
      ],
      "execution_count": 41,
      "outputs": [
        {
          "output_type": "execute_result",
          "data": {
            "text/plain": [
              "(28000, 2)"
            ]
          },
          "metadata": {
            "tags": []
          },
          "execution_count": 41
        }
      ]
    },
    {
      "cell_type": "code",
      "metadata": {
        "colab": {
          "base_uri": "https://localhost:8080/",
          "height": 0
        },
        "id": "oXfhSUO6I-DC",
        "outputId": "4d5701b9-2896-4968-d0b9-de69090e9163"
      },
      "source": [
        "dataset = pd.concat([NeutralHash, NeutralNews, Political_Pos, NoTheme_Pos, Political_Neg]).drop_duplicates().reset_index(drop=True)\n",
        "dataset"
      ],
      "execution_count": 42,
      "outputs": [
        {
          "output_type": "execute_result",
          "data": {
            "text/html": [
              "<div>\n",
              "<style scoped>\n",
              "    .dataframe tbody tr th:only-of-type {\n",
              "        vertical-align: middle;\n",
              "    }\n",
              "\n",
              "    .dataframe tbody tr th {\n",
              "        vertical-align: top;\n",
              "    }\n",
              "\n",
              "    .dataframe thead th {\n",
              "        text-align: right;\n",
              "    }\n",
              "</style>\n",
              "<table border=\"1\" class=\"dataframe\">\n",
              "  <thead>\n",
              "    <tr style=\"text-align: right;\">\n",
              "      <th></th>\n",
              "      <th>texto</th>\n",
              "      <th>classificacao</th>\n",
              "    </tr>\n",
              "  </thead>\n",
              "  <tbody>\n",
              "    <tr>\n",
              "      <th>0</th>\n",
              "      <td>🙈Lançamentos Netflix de Setembro 2018😍 👉👉veja ...</td>\n",
              "      <td>Neutro</td>\n",
              "    </tr>\n",
              "    <tr>\n",
              "      <th>1</th>\n",
              "      <td>É #FATO que vale manter aspirina à mão em caso...</td>\n",
              "      <td>Neutro</td>\n",
              "    </tr>\n",
              "    <tr>\n",
              "      <th>2</th>\n",
              "      <td>Samuel se reuniu com os amigos da Associação E...</td>\n",
              "      <td>Neutro</td>\n",
              "    </tr>\n",
              "    <tr>\n",
              "      <th>3</th>\n",
              "      <td>Latam demite 1.200 funcionários após #terceiri...</td>\n",
              "      <td>Neutro</td>\n",
              "    </tr>\n",
              "    <tr>\n",
              "      <th>4</th>\n",
              "      <td>[#CURIOSIDADE] Os emojis “❤️☀️❤️☀️” que #Key u...</td>\n",
              "      <td>Neutro</td>\n",
              "    </tr>\n",
              "    <tr>\n",
              "      <th>...</th>\n",
              "      <td>...</td>\n",
              "      <td>...</td>\n",
              "    </tr>\n",
              "    <tr>\n",
              "      <th>83931</th>\n",
              "      <td>@juviegasf @jjeiel not :( segunda mais votada ...</td>\n",
              "      <td>Negativo</td>\n",
              "    </tr>\n",
              "    <tr>\n",
              "      <th>83932</th>\n",
              "      <td>essa movimentação pro ciro na internet me deix...</td>\n",
              "      <td>Negativo</td>\n",
              "    </tr>\n",
              "    <tr>\n",
              "      <th>83933</th>\n",
              "      <td>Hoje ou amanhã farei uma festa pra comemorar a...</td>\n",
              "      <td>Negativo</td>\n",
              "    </tr>\n",
              "    <tr>\n",
              "      <th>83934</th>\n",
              "      <td>fico brava tmb de gente q falou e fez campanha...</td>\n",
              "      <td>Negativo</td>\n",
              "    </tr>\n",
              "    <tr>\n",
              "      <th>83935</th>\n",
              "      <td>@manotelli Todas vez que li \"a culpa do cresci...</td>\n",
              "      <td>Negativo</td>\n",
              "    </tr>\n",
              "  </tbody>\n",
              "</table>\n",
              "<p>83936 rows × 2 columns</p>\n",
              "</div>"
            ],
            "text/plain": [
              "                                                   texto classificacao\n",
              "0      🙈Lançamentos Netflix de Setembro 2018😍 👉👉veja ...        Neutro\n",
              "1      É #FATO que vale manter aspirina à mão em caso...        Neutro\n",
              "2      Samuel se reuniu com os amigos da Associação E...        Neutro\n",
              "3      Latam demite 1.200 funcionários após #terceiri...        Neutro\n",
              "4      [#CURIOSIDADE] Os emojis “❤️☀️❤️☀️” que #Key u...        Neutro\n",
              "...                                                  ...           ...\n",
              "83931  @juviegasf @jjeiel not :( segunda mais votada ...      Negativo\n",
              "83932  essa movimentação pro ciro na internet me deix...      Negativo\n",
              "83933  Hoje ou amanhã farei uma festa pra comemorar a...      Negativo\n",
              "83934  fico brava tmb de gente q falou e fez campanha...      Negativo\n",
              "83935  @manotelli Todas vez que li \"a culpa do cresci...      Negativo\n",
              "\n",
              "[83936 rows x 2 columns]"
            ]
          },
          "metadata": {
            "tags": []
          },
          "execution_count": 42
        }
      ]
    },
    {
      "cell_type": "code",
      "metadata": {
        "colab": {
          "base_uri": "https://localhost:8080/"
        },
        "id": "2abip6xKlfm6",
        "outputId": "66d47ce2-9676-4278-f2c1-aeddb45fd8f7"
      },
      "source": [
        "dataset.shape"
      ],
      "execution_count": 43,
      "outputs": [
        {
          "output_type": "execute_result",
          "data": {
            "text/plain": [
              "(83936, 2)"
            ]
          },
          "metadata": {
            "tags": []
          },
          "execution_count": 43
        }
      ]
    },
    {
      "cell_type": "code",
      "metadata": {
        "id": "99aGu-b4V6cR"
      },
      "source": [
        "#dataset = pd.concat([NeutralHash, NeutralNews, Political_Pos, Political_Neg]).drop_duplicates().reset_index(drop=True)\n",
        "#dataset"
      ],
      "execution_count": 44,
      "outputs": []
    },
    {
      "cell_type": "code",
      "metadata": {
        "id": "YTJGBA3RaUxD"
      },
      "source": [
        "#dataset = pd.concat([NeutralNews, Political_Pos, Political_Neg]).drop_duplicates().reset_index(drop=True)\n",
        "#dataset"
      ],
      "execution_count": 45,
      "outputs": []
    },
    {
      "cell_type": "markdown",
      "metadata": {
        "_uuid": "099ce684b4fe8f313bb2c6fc51bee367fb79c9fe",
        "id": "kpOHnqZmojnr"
      },
      "source": [
        "## Exploratory Analysis"
      ]
    },
    {
      "cell_type": "code",
      "metadata": {
        "trusted": true,
        "_uuid": "515a9096a3a52d337223b5c0599bbf3fe890f457",
        "colab": {
          "base_uri": "https://localhost:8080/",
          "height": 0
        },
        "id": "08yO3uJfojnr",
        "outputId": "7b3408d2-cfb4-47d1-b6dc-2d303c39b6b6"
      },
      "source": [
        "dataset.sample(5)"
      ],
      "execution_count": 46,
      "outputs": [
        {
          "output_type": "execute_result",
          "data": {
            "text/html": [
              "<div>\n",
              "<style scoped>\n",
              "    .dataframe tbody tr th:only-of-type {\n",
              "        vertical-align: middle;\n",
              "    }\n",
              "\n",
              "    .dataframe tbody tr th {\n",
              "        vertical-align: top;\n",
              "    }\n",
              "\n",
              "    .dataframe thead th {\n",
              "        text-align: right;\n",
              "    }\n",
              "</style>\n",
              "<table border=\"1\" class=\"dataframe\">\n",
              "  <thead>\n",
              "    <tr style=\"text-align: right;\">\n",
              "      <th></th>\n",
              "      <th>texto</th>\n",
              "      <th>classificacao</th>\n",
              "    </tr>\n",
              "  </thead>\n",
              "  <tbody>\n",
              "    <tr>\n",
              "      <th>39917</th>\n",
              "      <td>@LopescVini não parei pra verificar se ele dis...</td>\n",
              "      <td>Positivo</td>\n",
              "    </tr>\n",
              "    <tr>\n",
              "      <th>81733</th>\n",
              "      <td>@rodandopelavida Vi hoje propaganda de um cand...</td>\n",
              "      <td>Negativo</td>\n",
              "    </tr>\n",
              "    <tr>\n",
              "      <th>25944</th>\n",
              "      <td>Primeiro goleiro profissional da história do F...</td>\n",
              "      <td>Neutro</td>\n",
              "    </tr>\n",
              "    <tr>\n",
              "      <th>41177</th>\n",
              "      <td>Amoedinho ia fazer tudo que o Jair ta prometen...</td>\n",
              "      <td>Positivo</td>\n",
              "    </tr>\n",
              "    <tr>\n",
              "      <th>75190</th>\n",
              "      <td>@beatrizgomeslmm @JoaoVitorMotaaa Olha q bolso...</td>\n",
              "      <td>Negativo</td>\n",
              "    </tr>\n",
              "  </tbody>\n",
              "</table>\n",
              "</div>"
            ],
            "text/plain": [
              "                                                   texto classificacao\n",
              "39917  @LopescVini não parei pra verificar se ele dis...      Positivo\n",
              "81733  @rodandopelavida Vi hoje propaganda de um cand...      Negativo\n",
              "25944  Primeiro goleiro profissional da história do F...        Neutro\n",
              "41177  Amoedinho ia fazer tudo que o Jair ta prometen...      Positivo\n",
              "75190  @beatrizgomeslmm @JoaoVitorMotaaa Olha q bolso...      Negativo"
            ]
          },
          "metadata": {
            "tags": []
          },
          "execution_count": 46
        }
      ]
    },
    {
      "cell_type": "code",
      "metadata": {
        "colab": {
          "base_uri": "https://localhost:8080/"
        },
        "id": "zSmFYy1yTuUH",
        "outputId": "825e8acf-4bda-40e8-aff7-42fb9aebf9ca"
      },
      "source": [
        "series = dataset['classificacao'].value_counts()\n",
        "series"
      ],
      "execution_count": 47,
      "outputs": [
        {
          "output_type": "execute_result",
          "data": {
            "text/plain": [
              "Negativo    28000\n",
              "Neutro      27989\n",
              "Positivo    27947\n",
              "Name: classificacao, dtype: int64"
            ]
          },
          "metadata": {
            "tags": []
          },
          "execution_count": 47
        }
      ]
    },
    {
      "cell_type": "code",
      "metadata": {
        "id": "oLkUd6G-8LFo"
      },
      "source": [
        "pd.options.plotting.backend = \"plotly\""
      ],
      "execution_count": 48,
      "outputs": []
    },
    {
      "cell_type": "code",
      "metadata": {
        "trusted": true,
        "_uuid": "754cdcf1f1b7e2d5abfc5a97f5c53891842be1e1",
        "colab": {
          "base_uri": "https://localhost:8080/",
          "height": 0
        },
        "id": "1GHwg04Tojnr",
        "outputId": "a18b5c16-757c-485e-d5f5-910735008626"
      },
      "source": [
        "series.plot(kind='bar', title='Número de tweets classificados para cada sentimento considerado', \n",
        "labels={\"value\": \"Frequências\", \"index\": \"Sentimentos\"}, color = ['Negativo', 'Neutro', 'Positivo'], \n",
        "color_discrete_sequence =['#EF553B', '#00CC96', '#636EFA'])"
      ],
      "execution_count": 49,
      "outputs": [
        {
          "output_type": "display_data",
          "data": {
            "text/html": [
              "<html>\n",
              "<head><meta charset=\"utf-8\" /></head>\n",
              "<body>\n",
              "    <div>            <script src=\"https://cdnjs.cloudflare.com/ajax/libs/mathjax/2.7.5/MathJax.js?config=TeX-AMS-MML_SVG\"></script><script type=\"text/javascript\">if (window.MathJax) {MathJax.Hub.Config({SVG: {font: \"STIX-Web\"}});}</script>                <script type=\"text/javascript\">window.PlotlyConfig = {MathJaxConfig: 'local'};</script>\n",
              "        <script src=\"https://cdn.plot.ly/plotly-latest.min.js\"></script>                <div id=\"e70712f7-7eec-4480-8e9c-147761bdbbbf\" class=\"plotly-graph-div\" style=\"height:525px; width:100%;\"></div>            <script type=\"text/javascript\">                                    window.PLOTLYENV=window.PLOTLYENV || {};                                    if (document.getElementById(\"e70712f7-7eec-4480-8e9c-147761bdbbbf\")) {                    Plotly.newPlot(                        \"e70712f7-7eec-4480-8e9c-147761bdbbbf\",                        [{\"alignmentgroup\": \"True\", \"hovertemplate\": \"color=Negativo<br>Sentimentos=%{x}<br>Frequ\\u00eancias=%{y}<extra></extra>\", \"legendgroup\": \"Negativo\", \"marker\": {\"color\": \"#EF553B\"}, \"name\": \"Negativo\", \"offsetgroup\": \"Negativo\", \"orientation\": \"v\", \"showlegend\": true, \"textposition\": \"auto\", \"type\": \"bar\", \"x\": [\"Negativo\"], \"xaxis\": \"x\", \"y\": [28000], \"yaxis\": \"y\"}, {\"alignmentgroup\": \"True\", \"hovertemplate\": \"color=Neutro<br>Sentimentos=%{x}<br>Frequ\\u00eancias=%{y}<extra></extra>\", \"legendgroup\": \"Neutro\", \"marker\": {\"color\": \"#00CC96\"}, \"name\": \"Neutro\", \"offsetgroup\": \"Neutro\", \"orientation\": \"v\", \"showlegend\": true, \"textposition\": \"auto\", \"type\": \"bar\", \"x\": [\"Neutro\"], \"xaxis\": \"x\", \"y\": [27989], \"yaxis\": \"y\"}, {\"alignmentgroup\": \"True\", \"hovertemplate\": \"color=Positivo<br>Sentimentos=%{x}<br>Frequ\\u00eancias=%{y}<extra></extra>\", \"legendgroup\": \"Positivo\", \"marker\": {\"color\": \"#636EFA\"}, \"name\": \"Positivo\", \"offsetgroup\": \"Positivo\", \"orientation\": \"v\", \"showlegend\": true, \"textposition\": \"auto\", \"type\": \"bar\", \"x\": [\"Positivo\"], \"xaxis\": \"x\", \"y\": [27947], \"yaxis\": \"y\"}],                        {\"barmode\": \"relative\", \"legend\": {\"title\": {\"text\": \"color\"}, \"tracegroupgap\": 0}, \"template\": {\"data\": {\"bar\": [{\"error_x\": {\"color\": \"#2a3f5f\"}, \"error_y\": {\"color\": \"#2a3f5f\"}, \"marker\": {\"line\": {\"color\": \"white\", \"width\": 0.5}}, \"type\": \"bar\"}], \"barpolar\": [{\"marker\": {\"line\": {\"color\": \"white\", \"width\": 0.5}}, \"type\": \"barpolar\"}], \"carpet\": [{\"aaxis\": {\"endlinecolor\": \"#2a3f5f\", \"gridcolor\": \"#C8D4E3\", \"linecolor\": \"#C8D4E3\", \"minorgridcolor\": \"#C8D4E3\", \"startlinecolor\": \"#2a3f5f\"}, \"baxis\": {\"endlinecolor\": \"#2a3f5f\", \"gridcolor\": \"#C8D4E3\", \"linecolor\": \"#C8D4E3\", \"minorgridcolor\": \"#C8D4E3\", \"startlinecolor\": \"#2a3f5f\"}, \"type\": \"carpet\"}], \"choropleth\": [{\"colorbar\": {\"outlinewidth\": 0, \"ticks\": \"\"}, \"type\": \"choropleth\"}], \"contour\": [{\"colorbar\": {\"outlinewidth\": 0, \"ticks\": \"\"}, \"colorscale\": [[0.0, \"#0d0887\"], [0.1111111111111111, \"#46039f\"], [0.2222222222222222, \"#7201a8\"], [0.3333333333333333, \"#9c179e\"], [0.4444444444444444, \"#bd3786\"], [0.5555555555555556, \"#d8576b\"], [0.6666666666666666, \"#ed7953\"], [0.7777777777777778, \"#fb9f3a\"], [0.8888888888888888, \"#fdca26\"], [1.0, \"#f0f921\"]], \"type\": \"contour\"}], \"contourcarpet\": [{\"colorbar\": {\"outlinewidth\": 0, \"ticks\": \"\"}, \"type\": \"contourcarpet\"}], \"heatmap\": [{\"colorbar\": {\"outlinewidth\": 0, \"ticks\": \"\"}, \"colorscale\": [[0.0, \"#0d0887\"], [0.1111111111111111, \"#46039f\"], [0.2222222222222222, \"#7201a8\"], [0.3333333333333333, \"#9c179e\"], [0.4444444444444444, \"#bd3786\"], [0.5555555555555556, \"#d8576b\"], [0.6666666666666666, \"#ed7953\"], [0.7777777777777778, \"#fb9f3a\"], [0.8888888888888888, \"#fdca26\"], [1.0, \"#f0f921\"]], \"type\": \"heatmap\"}], \"heatmapgl\": [{\"colorbar\": {\"outlinewidth\": 0, \"ticks\": \"\"}, \"colorscale\": [[0.0, \"#0d0887\"], [0.1111111111111111, \"#46039f\"], [0.2222222222222222, \"#7201a8\"], [0.3333333333333333, \"#9c179e\"], [0.4444444444444444, \"#bd3786\"], [0.5555555555555556, \"#d8576b\"], [0.6666666666666666, \"#ed7953\"], [0.7777777777777778, \"#fb9f3a\"], [0.8888888888888888, \"#fdca26\"], [1.0, \"#f0f921\"]], \"type\": \"heatmapgl\"}], \"histogram\": [{\"marker\": {\"colorbar\": {\"outlinewidth\": 0, \"ticks\": \"\"}}, \"type\": \"histogram\"}], \"histogram2d\": [{\"colorbar\": {\"outlinewidth\": 0, \"ticks\": \"\"}, \"colorscale\": [[0.0, \"#0d0887\"], [0.1111111111111111, \"#46039f\"], [0.2222222222222222, \"#7201a8\"], [0.3333333333333333, \"#9c179e\"], [0.4444444444444444, \"#bd3786\"], [0.5555555555555556, \"#d8576b\"], [0.6666666666666666, \"#ed7953\"], [0.7777777777777778, \"#fb9f3a\"], [0.8888888888888888, \"#fdca26\"], [1.0, \"#f0f921\"]], \"type\": \"histogram2d\"}], \"histogram2dcontour\": [{\"colorbar\": {\"outlinewidth\": 0, \"ticks\": \"\"}, \"colorscale\": [[0.0, \"#0d0887\"], [0.1111111111111111, \"#46039f\"], [0.2222222222222222, \"#7201a8\"], [0.3333333333333333, \"#9c179e\"], [0.4444444444444444, \"#bd3786\"], [0.5555555555555556, \"#d8576b\"], [0.6666666666666666, \"#ed7953\"], [0.7777777777777778, \"#fb9f3a\"], [0.8888888888888888, \"#fdca26\"], [1.0, \"#f0f921\"]], \"type\": \"histogram2dcontour\"}], \"mesh3d\": [{\"colorbar\": {\"outlinewidth\": 0, \"ticks\": \"\"}, \"type\": \"mesh3d\"}], \"parcoords\": [{\"line\": {\"colorbar\": {\"outlinewidth\": 0, \"ticks\": \"\"}}, \"type\": \"parcoords\"}], \"pie\": [{\"automargin\": true, \"type\": \"pie\"}], \"scatter\": [{\"marker\": {\"colorbar\": {\"outlinewidth\": 0, \"ticks\": \"\"}}, \"type\": \"scatter\"}], \"scatter3d\": [{\"line\": {\"colorbar\": {\"outlinewidth\": 0, \"ticks\": \"\"}}, \"marker\": {\"colorbar\": {\"outlinewidth\": 0, \"ticks\": \"\"}}, \"type\": \"scatter3d\"}], \"scattercarpet\": [{\"marker\": {\"colorbar\": {\"outlinewidth\": 0, \"ticks\": \"\"}}, \"type\": \"scattercarpet\"}], \"scattergeo\": [{\"marker\": {\"colorbar\": {\"outlinewidth\": 0, \"ticks\": \"\"}}, \"type\": \"scattergeo\"}], \"scattergl\": [{\"marker\": {\"colorbar\": {\"outlinewidth\": 0, \"ticks\": \"\"}}, \"type\": \"scattergl\"}], \"scattermapbox\": [{\"marker\": {\"colorbar\": {\"outlinewidth\": 0, \"ticks\": \"\"}}, \"type\": \"scattermapbox\"}], \"scatterpolar\": [{\"marker\": {\"colorbar\": {\"outlinewidth\": 0, \"ticks\": \"\"}}, \"type\": \"scatterpolar\"}], \"scatterpolargl\": [{\"marker\": {\"colorbar\": {\"outlinewidth\": 0, \"ticks\": \"\"}}, \"type\": \"scatterpolargl\"}], \"scatterternary\": [{\"marker\": {\"colorbar\": {\"outlinewidth\": 0, \"ticks\": \"\"}}, \"type\": \"scatterternary\"}], \"surface\": [{\"colorbar\": {\"outlinewidth\": 0, \"ticks\": \"\"}, \"colorscale\": [[0.0, \"#0d0887\"], [0.1111111111111111, \"#46039f\"], [0.2222222222222222, \"#7201a8\"], [0.3333333333333333, \"#9c179e\"], [0.4444444444444444, \"#bd3786\"], [0.5555555555555556, \"#d8576b\"], [0.6666666666666666, \"#ed7953\"], [0.7777777777777778, \"#fb9f3a\"], [0.8888888888888888, \"#fdca26\"], [1.0, \"#f0f921\"]], \"type\": \"surface\"}], \"table\": [{\"cells\": {\"fill\": {\"color\": \"#EBF0F8\"}, \"line\": {\"color\": \"white\"}}, \"header\": {\"fill\": {\"color\": \"#C8D4E3\"}, \"line\": {\"color\": \"white\"}}, \"type\": \"table\"}]}, \"layout\": {\"annotationdefaults\": {\"arrowcolor\": \"#2a3f5f\", \"arrowhead\": 0, \"arrowwidth\": 1}, \"autotypenumbers\": \"strict\", \"coloraxis\": {\"colorbar\": {\"outlinewidth\": 0, \"ticks\": \"\"}}, \"colorscale\": {\"diverging\": [[0, \"#8e0152\"], [0.1, \"#c51b7d\"], [0.2, \"#de77ae\"], [0.3, \"#f1b6da\"], [0.4, \"#fde0ef\"], [0.5, \"#f7f7f7\"], [0.6, \"#e6f5d0\"], [0.7, \"#b8e186\"], [0.8, \"#7fbc41\"], [0.9, \"#4d9221\"], [1, \"#276419\"]], \"sequential\": [[0.0, \"#0d0887\"], [0.1111111111111111, \"#46039f\"], [0.2222222222222222, \"#7201a8\"], [0.3333333333333333, \"#9c179e\"], [0.4444444444444444, \"#bd3786\"], [0.5555555555555556, \"#d8576b\"], [0.6666666666666666, \"#ed7953\"], [0.7777777777777778, \"#fb9f3a\"], [0.8888888888888888, \"#fdca26\"], [1.0, \"#f0f921\"]], \"sequentialminus\": [[0.0, \"#0d0887\"], [0.1111111111111111, \"#46039f\"], [0.2222222222222222, \"#7201a8\"], [0.3333333333333333, \"#9c179e\"], [0.4444444444444444, \"#bd3786\"], [0.5555555555555556, \"#d8576b\"], [0.6666666666666666, \"#ed7953\"], [0.7777777777777778, \"#fb9f3a\"], [0.8888888888888888, \"#fdca26\"], [1.0, \"#f0f921\"]]}, \"colorway\": [\"#636efa\", \"#EF553B\", \"#00cc96\", \"#ab63fa\", \"#FFA15A\", \"#19d3f3\", \"#FF6692\", \"#B6E880\", \"#FF97FF\", \"#FECB52\"], \"font\": {\"color\": \"#2a3f5f\"}, \"geo\": {\"bgcolor\": \"white\", \"lakecolor\": \"white\", \"landcolor\": \"white\", \"showlakes\": true, \"showland\": true, \"subunitcolor\": \"#C8D4E3\"}, \"hoverlabel\": {\"align\": \"left\"}, \"hovermode\": \"closest\", \"mapbox\": {\"style\": \"light\"}, \"paper_bgcolor\": \"white\", \"plot_bgcolor\": \"white\", \"polar\": {\"angularaxis\": {\"gridcolor\": \"#EBF0F8\", \"linecolor\": \"#EBF0F8\", \"ticks\": \"\"}, \"bgcolor\": \"white\", \"radialaxis\": {\"gridcolor\": \"#EBF0F8\", \"linecolor\": \"#EBF0F8\", \"ticks\": \"\"}}, \"scene\": {\"xaxis\": {\"backgroundcolor\": \"white\", \"gridcolor\": \"#DFE8F3\", \"gridwidth\": 2, \"linecolor\": \"#EBF0F8\", \"showbackground\": true, \"ticks\": \"\", \"zerolinecolor\": \"#EBF0F8\"}, \"yaxis\": {\"backgroundcolor\": \"white\", \"gridcolor\": \"#DFE8F3\", \"gridwidth\": 2, \"linecolor\": \"#EBF0F8\", \"showbackground\": true, \"ticks\": \"\", \"zerolinecolor\": \"#EBF0F8\"}, \"zaxis\": {\"backgroundcolor\": \"white\", \"gridcolor\": \"#DFE8F3\", \"gridwidth\": 2, \"linecolor\": \"#EBF0F8\", \"showbackground\": true, \"ticks\": \"\", \"zerolinecolor\": \"#EBF0F8\"}}, \"shapedefaults\": {\"line\": {\"color\": \"#2a3f5f\"}}, \"ternary\": {\"aaxis\": {\"gridcolor\": \"#DFE8F3\", \"linecolor\": \"#A2B1C6\", \"ticks\": \"\"}, \"baxis\": {\"gridcolor\": \"#DFE8F3\", \"linecolor\": \"#A2B1C6\", \"ticks\": \"\"}, \"bgcolor\": \"white\", \"caxis\": {\"gridcolor\": \"#DFE8F3\", \"linecolor\": \"#A2B1C6\", \"ticks\": \"\"}}, \"title\": {\"x\": 0.05}, \"xaxis\": {\"automargin\": true, \"gridcolor\": \"#EBF0F8\", \"linecolor\": \"#EBF0F8\", \"ticks\": \"\", \"title\": {\"standoff\": 15}, \"zerolinecolor\": \"#EBF0F8\", \"zerolinewidth\": 2}, \"yaxis\": {\"automargin\": true, \"gridcolor\": \"#EBF0F8\", \"linecolor\": \"#EBF0F8\", \"ticks\": \"\", \"title\": {\"standoff\": 15}, \"zerolinecolor\": \"#EBF0F8\", \"zerolinewidth\": 2}}}, \"title\": {\"text\": \"N\\u00famero de tweets classificados para cada sentimento considerado\"}, \"xaxis\": {\"anchor\": \"y\", \"domain\": [0.0, 1.0], \"title\": {\"text\": \"Sentimentos\"}}, \"yaxis\": {\"anchor\": \"x\", \"domain\": [0.0, 1.0], \"title\": {\"text\": \"Frequ\\u00eancias\"}}},                        {\"responsive\": true}                    ).then(function(){\n",
              "                            \n",
              "var gd = document.getElementById('e70712f7-7eec-4480-8e9c-147761bdbbbf');\n",
              "var x = new MutationObserver(function (mutations, observer) {{\n",
              "        var display = window.getComputedStyle(gd).display;\n",
              "        if (!display || display === 'none') {{\n",
              "            console.log([gd, 'removed!']);\n",
              "            Plotly.purge(gd);\n",
              "            observer.disconnect();\n",
              "        }}\n",
              "}});\n",
              "\n",
              "// Listen for the removal of the full notebook cells\n",
              "var notebookContainer = gd.closest('#notebook-container');\n",
              "if (notebookContainer) {{\n",
              "    x.observe(notebookContainer, {childList: true});\n",
              "}}\n",
              "\n",
              "// Listen for the clearing of the current output cell\n",
              "var outputEl = gd.closest('.output');\n",
              "if (outputEl) {{\n",
              "    x.observe(outputEl, {childList: true});\n",
              "}}\n",
              "\n",
              "                        })                };                            </script>        </div>\n",
              "</body>\n",
              "</html>"
            ]
          },
          "metadata": {
            "tags": []
          }
        }
      ]
    },
    {
      "cell_type": "markdown",
      "metadata": {
        "_uuid": "cbd7bc340b754fd41719e7e472c120036df3c181",
        "id": "vV2dDvZlojns"
      },
      "source": [
        "## Text Preprocessing"
      ]
    },
    {
      "cell_type": "markdown",
      "metadata": {
        "_uuid": "e0fa7ffe4702a970770210c0d5e84d99a2a5b67d",
        "id": "aOFuMZ7vojns"
      },
      "source": [
        "  Noise Removal\n",
        "    <ul>\n",
        "      <li>Remove urls from text (http(s), www)</li>\n",
        "      <li>Remove a regex pattern (hashtags, notations)</li>\n",
        "      <li>Prepare text, replace emoticons \":)) :) :D :(\" to positive_emoticon or negative_emoticon or neutral_emoticon tags</li>\n",
        "  <li>Tokenize text with nltk</li>\n",
        "  <li>Object Standardization</li>\n",
        "  <li>Remove stopwords (noise removal and dimensionality reduction)</li>\n",
        "  <li>Lexicon Normalization</li>\n",
        "    <ul>\n",
        "      <li>Lemmatization (not implemented...)</li>\n",
        "      <li>Stemming (dimensionality reduction)</li>\n",
        "    </ul>\n",
        "</ul> "
      ]
    },
    {
      "cell_type": "markdown",
      "metadata": {
        "_uuid": "64a6bcec4c251bcdb97dbb5e3c7f57776dfd68f0",
        "id": "N_bstK-kojns"
      },
      "source": [
        "<h4>Examples of emoticons</h4>"
      ]
    },
    {
      "cell_type": "markdown",
      "metadata": {
        "_uuid": "5f6986c23fc2eaaa528220adf21d2a42b7c08ef5",
        "id": "vIDBhxHtojns"
      },
      "source": [
        "<h4>Noise Removal</h4>"
      ]
    },
    {
      "cell_type": "markdown",
      "metadata": {
        "_uuid": "7930c6a98074a8666f0fd4d896f7c79e38615049",
        "id": "E8WRBTOpojns"
      },
      "source": [
        "Remove urls from text (http(s), www)"
      ]
    },
    {
      "cell_type": "code",
      "metadata": {
        "trusted": true,
        "_uuid": "e5d26054f5f80d24cd741780a750876d1dc35234",
        "id": "UFsBRn3Gojns"
      },
      "source": [
        "def _remove_url(data):\n",
        "    ls = []\n",
        "    words = ''\n",
        "    regexp1 = re.compile('http[s]?://(?:[a-zA-Z]|[0-9]|[$-_@.&+]|[!*\\(\\),]|(?:%[0-9a-fA-F][0-9a-fA-F]))+')\n",
        "    regexp2 = re.compile('www?.(?:[a-zA-Z]|[0-9]|[$-_@.&+]|[!*\\(\\),]|(?:%[0-9a-fA-F][0-9a-fA-F]))+')\n",
        "    \n",
        "    for line in data:\n",
        "        urls = regexp1.findall(line)\n",
        "\n",
        "        for u in urls:\n",
        "            line = line.replace(u, ' ')\n",
        "\n",
        "        urls = regexp2.findall(line)\n",
        "\n",
        "        for u in urls:\n",
        "            line = line.replace(u, ' ')\n",
        "            \n",
        "        ls.append(line)\n",
        "    return ls"
      ],
      "execution_count": 50,
      "outputs": []
    },
    {
      "cell_type": "code",
      "metadata": {
        "trusted": true,
        "_uuid": "4b4cb2e93c9eef7e403b2dc11edd49db08e862d5",
        "id": "epM1R1yyojns"
      },
      "source": [
        "dataset['texto'] = _remove_url(dataset['texto'])"
      ],
      "execution_count": 51,
      "outputs": []
    },
    {
      "cell_type": "markdown",
      "metadata": {
        "_uuid": "5e07dc326bac08bf835ddeb3227de048d4b9601b",
        "id": "BwdZuRmqojns"
      },
      "source": [
        "Remove a regex pattern (hashtags, notations)"
      ]
    },
    {
      "cell_type": "code",
      "metadata": {
        "trusted": true,
        "_uuid": "03f2d222c1a3195ed3cc27e9d68568f04681f9ef",
        "id": "4WVUVlErojns"
      },
      "source": [
        "def _remove_regex(data, regex_pattern):\n",
        "    ls = []\n",
        "    words = ''\n",
        "    \n",
        "    for line in data:\n",
        "        matches = re.finditer(regex_pattern, line)\n",
        "        \n",
        "        for m in matches: \n",
        "            line = re.sub(m.group().strip(), '', line)\n",
        "\n",
        "        ls.append(line)\n",
        "\n",
        "    return ls"
      ],
      "execution_count": 52,
      "outputs": []
    },
    {
      "cell_type": "code",
      "metadata": {
        "trusted": true,
        "_uuid": "acecf0294d1de79dda5f206a58fd50bb48275df4",
        "id": "gvggNDzaojns"
      },
      "source": [
        "# hashtags\n",
        "regex_pattern = '#[\\w]*'\n",
        "dataset['texto'] = _remove_regex(dataset['texto'], regex_pattern)"
      ],
      "execution_count": 53,
      "outputs": []
    },
    {
      "cell_type": "code",
      "metadata": {
        "trusted": true,
        "_uuid": "3497146e06fa9d24c47dd29d8cf5f772f67a4c92",
        "id": "2zaRMW7Lojns"
      },
      "source": [
        "# notations\n",
        "regex_pattern = '@[\\w]*'\n",
        "dataset['texto'] = _remove_regex(dataset['texto'], regex_pattern)"
      ],
      "execution_count": 54,
      "outputs": []
    },
    {
      "cell_type": "code",
      "metadata": {
        "id": "h1377cvrjaVZ"
      },
      "source": [
        "# rt\n",
        "regex_pattern = 'RT[\\w]*'\n",
        "dataset['texto'] = _remove_regex(dataset['texto'], regex_pattern)"
      ],
      "execution_count": 55,
      "outputs": []
    },
    {
      "cell_type": "code",
      "metadata": {
        "id": "_t77t1E0g_n6"
      },
      "source": [
        " emoji_pattern = re.compile(\"[\"\n",
        "                           u\"\\U0001F600-\\U0001F64F\"  # emoticons\n",
        "                           u\"\\U0001F300-\\U0001F5FF\"  # symbols & pictographs\n",
        "                           u\"\\U0001F680-\\U0001F6FF\"  # transport & map symbols\n",
        "                           u\"\\U0001F1E0-\\U0001F1FF\"  # flags (iOS)\n",
        "                           u\"\\U00002702-\\U000027B0\"\n",
        "                           u\"\\U000024C2-\\U0001F251\"\n",
        "                           \"]+\", flags=re.UNICODE)"
      ],
      "execution_count": 56,
      "outputs": []
    },
    {
      "cell_type": "code",
      "metadata": {
        "id": "g-UMyj7fhJ-V"
      },
      "source": [
        "# emoji pattern \n",
        "regex_pattern = emoji_pattern \n",
        "dataset['texto'] = _remove_regex(dataset['texto'], regex_pattern)"
      ],
      "execution_count": 57,
      "outputs": []
    },
    {
      "cell_type": "code",
      "metadata": {
        "trusted": true,
        "_uuid": "2309bf72c0aad14c571a623bd483b2f4bba2e8c9",
        "id": "03ztf7ueojns",
        "colab": {
          "base_uri": "https://localhost:8080/"
        },
        "outputId": "742d5e07-2ac9-400c-b609-99f881067f54"
      },
      "source": [
        "# check data\n",
        "for i in range(0, 5):\n",
        "    print(dataset['texto'][i])"
      ],
      "execution_count": 58,
      "outputs": [
        {
          "output_type": "stream",
          "text": [
            "Lançamentos Netflix de Setembro 2018 veja aqui      brasil         seriado      \n",
            "É  que vale manter aspirina à mão em caso de infarto  \n",
            "Samuel se reuniu com os amigos da Associação Esportiva Aruana I Leia em:        \n",
            "Latam demite 1.200 funcionários após  nos aeroportos do Galeão e de Guarulhos.Temer prometeu mais empregos após .Falta  para 27,6 milhões de brasileiros, segundo o IBGE.        \n",
            "[] Os emojis “” que  usou em sua publicação no Instagram significam “saranghae, saranghae” (port: eu te amo, eu te amo)  = sarang (amor)  = hae (sol) [Via: sakura_tuanct]\n"
          ],
          "name": "stdout"
        }
      ]
    },
    {
      "cell_type": "markdown",
      "metadata": {
        "_uuid": "e782207b501150d076945e4bc96d2545f84e62c6",
        "id": "7XoT2rMfojns"
      },
      "source": [
        "Prepare text, replace emoticons \":)) :) :D :(\" to positive_emoticon or negative_emoticon or neutral_emoticon"
      ]
    },
    {
      "cell_type": "code",
      "metadata": {
        "trusted": true,
        "_uuid": "99d8c0fc7e981b49831f442f76382e8051d78ab8",
        "id": "xL2bGnwmojns"
      },
      "source": [
        "def _replace_emoticons(data, emoticon_list):\n",
        "    ls = []\n",
        "\n",
        "    for line in data:\n",
        "        for exp in emoticon_list:\n",
        "            line = line.replace(exp, emoticon_list[exp])\n",
        "\n",
        "        ls.append(line)\n",
        "\n",
        "    return ls"
      ],
      "execution_count": 59,
      "outputs": []
    },
    {
      "cell_type": "code",
      "metadata": {
        "trusted": true,
        "_uuid": "685e6a7a9826385f33101ff5e777a827140e6650",
        "id": "OEJt5ujGojns"
      },
      "source": [
        "emoticon_list = {':))': 'emoticon_positivo', ':)': 'emoticon_positivo', ':D': 'emoticon_positivo', ':-)': 'emoticon_positivo',  ':(': 'emoticon_negativo', ':((': 'emoticon_negativo', '8)': 'emoticon_neutro'}"
      ],
      "execution_count": 60,
      "outputs": []
    },
    {
      "cell_type": "code",
      "metadata": {
        "trusted": true,
        "_uuid": "d6606859968ee012ea23cb5f3f02c1256377b8b6",
        "id": "TfwSCz8Pojns"
      },
      "source": [
        "dataset['texto']= _replace_emoticons(dataset['texto'], emoticon_list)"
      ],
      "execution_count": 61,
      "outputs": []
    },
    {
      "cell_type": "code",
      "metadata": {
        "trusted": true,
        "_uuid": "2e7dbd3f837739cc8ac8ee86917f5f24cc67cd96",
        "id": "-iiHuMTkojns",
        "colab": {
          "base_uri": "https://localhost:8080/"
        },
        "outputId": "fca2c73c-876b-43df-9393-d036da0c1337"
      },
      "source": [
        "# check data\n",
        "for i in range(0, 5):\n",
        "    print(dataset['texto'][i])"
      ],
      "execution_count": 62,
      "outputs": [
        {
          "output_type": "stream",
          "text": [
            "Lançamentos Netflix de Setembro 2018 veja aqui      brasil         seriado      \n",
            "É  que vale manter aspirina à mão em caso de infarto  \n",
            "Samuel se reuniu com os amigos da Associação Esportiva Aruana I Leia em:        \n",
            "Latam demite 1.200 funcionários após  nos aeroportos do Galeão e de Guarulhos.Temer prometeu mais empregos após .Falta  para 27,6 milhões de brasileiros, segundo o IBGE.        \n",
            "[] Os emojis “” que  usou em sua publicação no Instagram significam “saranghae, saranghae” (port: eu te amo, eu te amo)  = sarang (amor)  = hae (sol) [Via: sakura_tuanct]\n"
          ],
          "name": "stdout"
        }
      ]
    },
    {
      "cell_type": "code",
      "metadata": {
        "id": "rR_aEBemyt7Y",
        "colab": {
          "base_uri": "https://localhost:8080/",
          "height": 402
        },
        "outputId": "4f65cf0e-8d3c-454e-a2a6-065a829ab147"
      },
      "source": [
        "dataset"
      ],
      "execution_count": 63,
      "outputs": [
        {
          "output_type": "execute_result",
          "data": {
            "text/html": [
              "<div>\n",
              "<style scoped>\n",
              "    .dataframe tbody tr th:only-of-type {\n",
              "        vertical-align: middle;\n",
              "    }\n",
              "\n",
              "    .dataframe tbody tr th {\n",
              "        vertical-align: top;\n",
              "    }\n",
              "\n",
              "    .dataframe thead th {\n",
              "        text-align: right;\n",
              "    }\n",
              "</style>\n",
              "<table border=\"1\" class=\"dataframe\">\n",
              "  <thead>\n",
              "    <tr style=\"text-align: right;\">\n",
              "      <th></th>\n",
              "      <th>texto</th>\n",
              "      <th>classificacao</th>\n",
              "    </tr>\n",
              "  </thead>\n",
              "  <tbody>\n",
              "    <tr>\n",
              "      <th>0</th>\n",
              "      <td>Lançamentos Netflix de Setembro 2018 veja aqui...</td>\n",
              "      <td>Neutro</td>\n",
              "    </tr>\n",
              "    <tr>\n",
              "      <th>1</th>\n",
              "      <td>É  que vale manter aspirina à mão em caso de i...</td>\n",
              "      <td>Neutro</td>\n",
              "    </tr>\n",
              "    <tr>\n",
              "      <th>2</th>\n",
              "      <td>Samuel se reuniu com os amigos da Associação E...</td>\n",
              "      <td>Neutro</td>\n",
              "    </tr>\n",
              "    <tr>\n",
              "      <th>3</th>\n",
              "      <td>Latam demite 1.200 funcionários após  nos aero...</td>\n",
              "      <td>Neutro</td>\n",
              "    </tr>\n",
              "    <tr>\n",
              "      <th>4</th>\n",
              "      <td>[] Os emojis “” que  usou em sua publicação no...</td>\n",
              "      <td>Neutro</td>\n",
              "    </tr>\n",
              "    <tr>\n",
              "      <th>...</th>\n",
              "      <td>...</td>\n",
              "      <td>...</td>\n",
              "    </tr>\n",
              "    <tr>\n",
              "      <th>83931</th>\n",
              "      <td>not emoticon_negativo segunda mais votada do...</td>\n",
              "      <td>Negativo</td>\n",
              "    </tr>\n",
              "    <tr>\n",
              "      <th>83932</th>\n",
              "      <td>essa movimentação pro ciro na internet me deix...</td>\n",
              "      <td>Negativo</td>\n",
              "    </tr>\n",
              "    <tr>\n",
              "      <th>83933</th>\n",
              "      <td>Hoje ou amanhã farei uma festa pra comemorar a...</td>\n",
              "      <td>Negativo</td>\n",
              "    </tr>\n",
              "    <tr>\n",
              "      <th>83934</th>\n",
              "      <td>fico brava tmb de gente q falou e fez campanha...</td>\n",
              "      <td>Negativo</td>\n",
              "    </tr>\n",
              "    <tr>\n",
              "      <th>83935</th>\n",
              "      <td>Todas vez que li \"a culpa do crescimento do B...</td>\n",
              "      <td>Negativo</td>\n",
              "    </tr>\n",
              "  </tbody>\n",
              "</table>\n",
              "<p>83936 rows × 2 columns</p>\n",
              "</div>"
            ],
            "text/plain": [
              "                                                   texto classificacao\n",
              "0      Lançamentos Netflix de Setembro 2018 veja aqui...        Neutro\n",
              "1      É  que vale manter aspirina à mão em caso de i...        Neutro\n",
              "2      Samuel se reuniu com os amigos da Associação E...        Neutro\n",
              "3      Latam demite 1.200 funcionários após  nos aero...        Neutro\n",
              "4      [] Os emojis “” que  usou em sua publicação no...        Neutro\n",
              "...                                                  ...           ...\n",
              "83931    not emoticon_negativo segunda mais votada do...      Negativo\n",
              "83932  essa movimentação pro ciro na internet me deix...      Negativo\n",
              "83933  Hoje ou amanhã farei uma festa pra comemorar a...      Negativo\n",
              "83934  fico brava tmb de gente q falou e fez campanha...      Negativo\n",
              "83935   Todas vez que li \"a culpa do crescimento do B...      Negativo\n",
              "\n",
              "[83936 rows x 2 columns]"
            ]
          },
          "metadata": {
            "tags": []
          },
          "execution_count": 63
        }
      ]
    },
    {
      "cell_type": "code",
      "metadata": {
        "id": "-8tgUxhe0MXe"
      },
      "source": [
        "nan_value = float(\"NaN\")\n",
        "dataset.replace(\"\", nan_value, inplace=True)"
      ],
      "execution_count": 64,
      "outputs": []
    },
    {
      "cell_type": "code",
      "metadata": {
        "id": "5M8tOgaOSLze"
      },
      "source": [
        "dataset.replace('\\d+', '', regex=True, inplace=True)"
      ],
      "execution_count": 65,
      "outputs": []
    },
    {
      "cell_type": "code",
      "metadata": {
        "id": "dXQ5klkwSr3i",
        "outputId": "a2301557-1ae7-468f-f277-44f19e27f86e",
        "colab": {
          "base_uri": "https://localhost:8080/",
          "height": 402
        }
      },
      "source": [
        "dataset"
      ],
      "execution_count": 66,
      "outputs": [
        {
          "output_type": "execute_result",
          "data": {
            "text/html": [
              "<div>\n",
              "<style scoped>\n",
              "    .dataframe tbody tr th:only-of-type {\n",
              "        vertical-align: middle;\n",
              "    }\n",
              "\n",
              "    .dataframe tbody tr th {\n",
              "        vertical-align: top;\n",
              "    }\n",
              "\n",
              "    .dataframe thead th {\n",
              "        text-align: right;\n",
              "    }\n",
              "</style>\n",
              "<table border=\"1\" class=\"dataframe\">\n",
              "  <thead>\n",
              "    <tr style=\"text-align: right;\">\n",
              "      <th></th>\n",
              "      <th>texto</th>\n",
              "      <th>classificacao</th>\n",
              "    </tr>\n",
              "  </thead>\n",
              "  <tbody>\n",
              "    <tr>\n",
              "      <th>0</th>\n",
              "      <td>Lançamentos Netflix de Setembro  veja aqui    ...</td>\n",
              "      <td>Neutro</td>\n",
              "    </tr>\n",
              "    <tr>\n",
              "      <th>1</th>\n",
              "      <td>É  que vale manter aspirina à mão em caso de i...</td>\n",
              "      <td>Neutro</td>\n",
              "    </tr>\n",
              "    <tr>\n",
              "      <th>2</th>\n",
              "      <td>Samuel se reuniu com os amigos da Associação E...</td>\n",
              "      <td>Neutro</td>\n",
              "    </tr>\n",
              "    <tr>\n",
              "      <th>3</th>\n",
              "      <td>Latam demite . funcionários após  nos aeroport...</td>\n",
              "      <td>Neutro</td>\n",
              "    </tr>\n",
              "    <tr>\n",
              "      <th>4</th>\n",
              "      <td>[] Os emojis “” que  usou em sua publicação no...</td>\n",
              "      <td>Neutro</td>\n",
              "    </tr>\n",
              "    <tr>\n",
              "      <th>...</th>\n",
              "      <td>...</td>\n",
              "      <td>...</td>\n",
              "    </tr>\n",
              "    <tr>\n",
              "      <th>83931</th>\n",
              "      <td>not emoticon_negativo segunda mais votada do...</td>\n",
              "      <td>Negativo</td>\n",
              "    </tr>\n",
              "    <tr>\n",
              "      <th>83932</th>\n",
              "      <td>essa movimentação pro ciro na internet me deix...</td>\n",
              "      <td>Negativo</td>\n",
              "    </tr>\n",
              "    <tr>\n",
              "      <th>83933</th>\n",
              "      <td>Hoje ou amanhã farei uma festa pra comemorar a...</td>\n",
              "      <td>Negativo</td>\n",
              "    </tr>\n",
              "    <tr>\n",
              "      <th>83934</th>\n",
              "      <td>fico brava tmb de gente q falou e fez campanha...</td>\n",
              "      <td>Negativo</td>\n",
              "    </tr>\n",
              "    <tr>\n",
              "      <th>83935</th>\n",
              "      <td>Todas vez que li \"a culpa do crescimento do B...</td>\n",
              "      <td>Negativo</td>\n",
              "    </tr>\n",
              "  </tbody>\n",
              "</table>\n",
              "<p>83936 rows × 2 columns</p>\n",
              "</div>"
            ],
            "text/plain": [
              "                                                   texto classificacao\n",
              "0      Lançamentos Netflix de Setembro  veja aqui    ...        Neutro\n",
              "1      É  que vale manter aspirina à mão em caso de i...        Neutro\n",
              "2      Samuel se reuniu com os amigos da Associação E...        Neutro\n",
              "3      Latam demite . funcionários após  nos aeroport...        Neutro\n",
              "4      [] Os emojis “” que  usou em sua publicação no...        Neutro\n",
              "...                                                  ...           ...\n",
              "83931    not emoticon_negativo segunda mais votada do...      Negativo\n",
              "83932  essa movimentação pro ciro na internet me deix...      Negativo\n",
              "83933  Hoje ou amanhã farei uma festa pra comemorar a...      Negativo\n",
              "83934  fico brava tmb de gente q falou e fez campanha...      Negativo\n",
              "83935   Todas vez que li \"a culpa do crescimento do B...      Negativo\n",
              "\n",
              "[83936 rows x 2 columns]"
            ]
          },
          "metadata": {
            "tags": []
          },
          "execution_count": 66
        }
      ]
    },
    {
      "cell_type": "markdown",
      "metadata": {
        "_uuid": "4284b6e6bdbe2878aeefb50651b9b219b3acffd1",
        "id": "plBne9Xjojnt"
      },
      "source": [
        "<h4>Tokenize text with nltk</h4>"
      ]
    },
    {
      "cell_type": "code",
      "metadata": {
        "trusted": true,
        "_uuid": "2d77a5e4f41cdbf15c1dd0d5e0d93a72bd41c29e",
        "id": "6_9vdlenojnt"
      },
      "source": [
        "def _tokenize_text(data):\n",
        "    ls = []\n",
        "\n",
        "    for line in data:\n",
        "        tokens = wordpunct_tokenize(line)\n",
        "        ls.append(tokens)\n",
        "\n",
        "    return ls"
      ],
      "execution_count": 67,
      "outputs": []
    },
    {
      "cell_type": "code",
      "metadata": {
        "trusted": true,
        "_uuid": "095fa1e33c81a1bbc728db503ac7832071e99422",
        "id": "yDebMnaBojnt"
      },
      "source": [
        "dataset_texto_tokens = _tokenize_text(dataset['texto'])"
      ],
      "execution_count": 68,
      "outputs": []
    },
    {
      "cell_type": "code",
      "metadata": {
        "trusted": true,
        "_uuid": "7f03a8c02502d8e7da6fc9ad7767aca9dbe95a9a",
        "id": "X7_qrAYjojnt",
        "colab": {
          "base_uri": "https://localhost:8080/"
        },
        "outputId": "7eb40e81-20d9-4ea3-e46f-cd20d7a32f8d"
      },
      "source": [
        "# check data\n",
        "for i in range(0, 5):\n",
        "    print(dataset_texto_tokens[i])"
      ],
      "execution_count": 69,
      "outputs": [
        {
          "output_type": "stream",
          "text": [
            "['Lançamentos', 'Netflix', 'de', 'Setembro', 'veja', 'aqui', 'brasil', 'seriado']\n",
            "['É', 'que', 'vale', 'manter', 'aspirina', 'à', 'mão', 'em', 'caso', 'de', 'infarto']\n",
            "['Samuel', 'se', 'reuniu', 'com', 'os', 'amigos', 'da', 'Associação', 'Esportiva', 'Aruana', 'I', 'Leia', 'em', ':']\n",
            "['Latam', 'demite', '.', 'funcionários', 'após', 'nos', 'aeroportos', 'do', 'Galeão', 'e', 'de', 'Guarulhos', '.', 'Temer', 'prometeu', 'mais', 'empregos', 'após', '.', 'Falta', 'para', ',', 'milhões', 'de', 'brasileiros', ',', 'segundo', 'o', 'IBGE', '.']\n",
            "['[]', 'Os', 'emojis', '“”', 'que', 'usou', 'em', 'sua', 'publicação', 'no', 'Instagram', 'significam', '“', 'saranghae', ',', 'saranghae', '”', '(', 'port', ':', 'eu', 'te', 'amo', ',', 'eu', 'te', 'amo', ')', '=', 'sarang', '(', 'amor', ')', '=', 'hae', '(', 'sol', ')', '[', 'Via', ':', 'sakura_tuanct', ']']\n"
          ],
          "name": "stdout"
        }
      ]
    },
    {
      "cell_type": "code",
      "metadata": {
        "id": "HP6B6LDKUsVe"
      },
      "source": [
        "#dataset_texto_tokens = list(filter(None, dataset_texto_tokens))"
      ],
      "execution_count": 70,
      "outputs": []
    },
    {
      "cell_type": "code",
      "metadata": {
        "id": "QXRjSU-b8v8K",
        "colab": {
          "base_uri": "https://localhost:8080/"
        },
        "outputId": "c51b1d88-76fd-4044-fbd0-b44a94f57807"
      },
      "source": [
        "# check data\n",
        "for i in range(0, 5):\n",
        "    print(dataset_texto_tokens[i])"
      ],
      "execution_count": 71,
      "outputs": [
        {
          "output_type": "stream",
          "text": [
            "['Lançamentos', 'Netflix', 'de', 'Setembro', 'veja', 'aqui', 'brasil', 'seriado']\n",
            "['É', 'que', 'vale', 'manter', 'aspirina', 'à', 'mão', 'em', 'caso', 'de', 'infarto']\n",
            "['Samuel', 'se', 'reuniu', 'com', 'os', 'amigos', 'da', 'Associação', 'Esportiva', 'Aruana', 'I', 'Leia', 'em', ':']\n",
            "['Latam', 'demite', '.', 'funcionários', 'após', 'nos', 'aeroportos', 'do', 'Galeão', 'e', 'de', 'Guarulhos', '.', 'Temer', 'prometeu', 'mais', 'empregos', 'após', '.', 'Falta', 'para', ',', 'milhões', 'de', 'brasileiros', ',', 'segundo', 'o', 'IBGE', '.']\n",
            "['[]', 'Os', 'emojis', '“”', 'que', 'usou', 'em', 'sua', 'publicação', 'no', 'Instagram', 'significam', '“', 'saranghae', ',', 'saranghae', '”', '(', 'port', ':', 'eu', 'te', 'amo', ',', 'eu', 'te', 'amo', ')', '=', 'sarang', '(', 'amor', ')', '=', 'hae', '(', 'sol', ')', '[', 'Via', ':', 'sakura_tuanct', ']']\n"
          ],
          "name": "stdout"
        }
      ]
    },
    {
      "cell_type": "markdown",
      "metadata": {
        "_uuid": "01759032a73a4e34ae6d07a0888aa30837fdad29",
        "id": "n4oRiT_gojnt"
      },
      "source": [
        "<h4>Object Standardization</h4>"
      ]
    },
    {
      "cell_type": "code",
      "metadata": {
        "trusted": true,
        "_uuid": "ad31d2a779d4c121e6eb61429775241d91a7b7ef",
        "id": "ZbQPsvsFojnt"
      },
      "source": [
        "def _apply_standardization(tokens, std_list):\n",
        "    ls = []\n",
        "\n",
        "    for tk_line in tokens:\n",
        "        new_tokens = []\n",
        "        \n",
        "        for word in tk_line:\n",
        "            if word.lower() in std_list:\n",
        "                word = std_list[word.lower()]\n",
        "                \n",
        "            new_tokens.append(word) \n",
        "            \n",
        "        ls.append(new_tokens)\n",
        "\n",
        "    return ls"
      ],
      "execution_count": 72,
      "outputs": []
    },
    {
      "cell_type": "code",
      "metadata": {
        "trusted": true,
        "_uuid": "bbb9fd394e34e02d691335dd99d1c9496facaff0",
        "id": "SnqQpeZgojnt"
      },
      "source": [
        "# create your own list\n",
        "std_list = {'eh': 'é', 'vc': 'você', 'vcs': 'vocês','tb': 'também', 'tbm': 'também', 'obg': 'obrigado', 'gnt': 'gente', 'q': 'que', 'n': 'não', 'cmg': 'comigo', 'p': 'para', 'ta': 'está', 'to': 'estou', 'vdd': 'verdade'}"
      ],
      "execution_count": 73,
      "outputs": []
    },
    {
      "cell_type": "code",
      "metadata": {
        "trusted": true,
        "_uuid": "26add53a456dfd06a7fdfa6aed5739d53ac2c5f6",
        "id": "bZLnIHF-ojnt"
      },
      "source": [
        "dataset_texto_tokens = _apply_standardization(dataset_texto_tokens, std_list)"
      ],
      "execution_count": 74,
      "outputs": []
    },
    {
      "cell_type": "code",
      "metadata": {
        "trusted": true,
        "_uuid": "8c17dd517c02f34abeb8f9808695da38bed22ae0",
        "id": "OPAMqHHYojnt",
        "colab": {
          "base_uri": "https://localhost:8080/"
        },
        "outputId": "72e69dd7-dbab-4a64-df83-c6d4dbdcd55a"
      },
      "source": [
        "# check data\n",
        "print(dataset_texto_tokens[4], dataset_texto_tokens[1008])"
      ],
      "execution_count": 75,
      "outputs": [
        {
          "output_type": "stream",
          "text": [
            "['[]', 'Os', 'emojis', '“”', 'que', 'usou', 'em', 'sua', 'publicação', 'no', 'Instagram', 'significam', '“', 'saranghae', ',', 'saranghae', '”', '(', 'port', ':', 'eu', 'te', 'amo', ',', 'eu', 'te', 'amo', ')', '=', 'sarang', '(', 'amor', ')', '=', 'hae', '(', 'sol', ')', '[', 'Via', ':', 'sakura_tuanct', ']'] ['Espero', 'vocês', 'para', 'uma', 'caminhada', 'no', 'bairro', 'Rio', 'Verde', ',', 'ao', 'lado', 'da', 'nossa', 'candidata', 'à', 'deputada', 'Estadual', 'Alessandra', 'Vieira', 'e', 'do', 'nosso', 'candidato', 'a', 'deputado', 'federal', 'Fernando', 'Filho', '.']\n"
          ],
          "name": "stdout"
        }
      ]
    },
    {
      "cell_type": "markdown",
      "metadata": {
        "_uuid": "7cade7774b181e67a77f56ccff60b68b30a9e05e",
        "id": "NRoaN4Nfojnt"
      },
      "source": [
        "<h4>Remove stopwords (noise removal and dimensionality reduction)</h4>"
      ]
    },
    {
      "cell_type": "markdown",
      "metadata": {
        "_uuid": "191fcf8d3066ef422390224111c93b4a309d2907",
        "id": "JoM2vAV0ojnt"
      },
      "source": [
        "Remove stopwords"
      ]
    },
    {
      "cell_type": "code",
      "metadata": {
        "trusted": true,
        "_uuid": "93209116226f6edf24a07b0972dfa0801ee84333",
        "id": "bmem-OYBojnt"
      },
      "source": [
        "def _remove_stopwords(tokens, stopword_list):\n",
        "    ls = []\n",
        "\n",
        "    for tk_line in tokens:\n",
        "        new_tokens = []\n",
        "        \n",
        "        for word in tk_line:\n",
        "            if word.lower() not in stopword_list:\n",
        "                new_tokens.append(word) \n",
        "            \n",
        "        ls.append(new_tokens)\n",
        "        \n",
        "    return ls"
      ],
      "execution_count": 76,
      "outputs": []
    },
    {
      "cell_type": "code",
      "metadata": {
        "trusted": true,
        "_uuid": "d42c58078128e5de8a83c2bb158c8e484ecd8201",
        "id": "5Nvgu3xIojnt"
      },
      "source": [
        "stopword_list = []"
      ],
      "execution_count": 77,
      "outputs": []
    },
    {
      "cell_type": "code",
      "metadata": {
        "trusted": true,
        "_uuid": "868d2bb4061ce7034a82d0e502237f435fbcb7fc",
        "id": "Om9k3WLgojnt"
      },
      "source": [
        "# get nltk portuguese stopwords\n",
        "nltk_stopwords = nltk.corpus.stopwords.words('portuguese')"
      ],
      "execution_count": 78,
      "outputs": []
    },
    {
      "cell_type": "code",
      "metadata": {
        "trusted": true,
        "_uuid": "454f789d7db906bb6afcc151c0f53a84f2523f46",
        "id": "5CfstDhnojnt"
      },
      "source": [
        "# You can also add stopwords manually instead of loading from the database. Generally, we add stopwords that belong to this context.\n",
        "stopword_list.append('é')\n",
        "stopword_list.append('vou')\n",
        "stopword_list.append('que')\n",
        "stopword_list.append('tão')\n",
        "stopword_list.append('...')\n",
        "stopword_list.append('«')\n",
        "stopword_list.append('➔')\n",
        "stopword_list.append('|')\n",
        "stopword_list.append('!!')\n",
        "stopword_list.append('!!!')\n",
        "stopword_list.append('!!!!')\n",
        "stopword_list.append('//')\n",
        "stopword_list.append('/')\n",
        "stopword_list.append('||') \n",
        "stopword_list.append(':')\n",
        "stopword_list.append('-')\n",
        "stopword_list.append(';')\n",
        "stopword_list.append('»')\n",
        "stopword_list.append('…')\n",
        "stopword_list.append(')')\n",
        "stopword_list.append('(')\n",
        "stopword_list.append('uai') \n",
        "stopword_list.append(']')\n",
        "stopword_list.append('[')\n",
        "stopword_list.append('((')\n",
        "stopword_list.append('))')\n",
        "stopword_list.append(',')\n",
        "stopword_list.append(', ')\n",
        "stopword_list.append('...')\n",
        "stopword_list.append('.')\n",
        "stopword_list.append('•')\n",
        "stopword_list.append('$')\n",
        "stopword_list.append('%')\n",
        "stopword_list.append('()')\n",
        "stopword_list.append(').')\n",
        "stopword_list.append('..')\n",
        "stopword_list.append('”')\n",
        "stopword_list.append('“')\n",
        "stopword_list.append(\"'\")\n",
        "stopword_list.append('=')\n",
        "stopword_list.append('&')\n",
        "stopword_list.append('\\u200d')\n",
        "stopword_list.append('emoticon_positivo') \n",
        "stopword_list.append('emoticon_negativo')\n",
        "stopword_list.append('emoticon_neutro')"
      ],
      "execution_count": 79,
      "outputs": []
    },
    {
      "cell_type": "markdown",
      "metadata": {
        "_uuid": "5c85d05f946199f85151af31bf1c2009bf093d5c",
        "id": "nCHFkbWUojnt"
      },
      "source": [
        "<h5 style=\"color:red;\">Note: Numbers, some punctuations (.,;:) and special characters such as (_- = &%) are not relevant to express some sentiment, they can be considered noisy words. You can treat them here.</h5>\n",
        "<h5 style=\"color:red;\">noisy_words = ['.', '?', '!', ':', ',', ';', '(', ')', '-']</h5>\n",
        "<h5 style=\"color:red;\">Note: ? and ! can be important to express sentiment.</h5>"
      ]
    },
    {
      "cell_type": "code",
      "metadata": {
        "trusted": true,
        "_uuid": "1e4a2258684531e15ed3d48d84bdc710cba5a133",
        "id": "4BjLpq2nojnt"
      },
      "source": [
        "# join all stopwords\n",
        "stopword_list.extend(nltk_stopwords)\n",
        "#stopword_list.extend(custom_stopwords'\\d+')"
      ],
      "execution_count": 80,
      "outputs": []
    },
    {
      "cell_type": "code",
      "metadata": {
        "trusted": true,
        "_uuid": "7a34c75cbec835334fdf530d1a857039c24392e4",
        "id": "rEVFI8_lojnt"
      },
      "source": [
        "# remove duplicate stopwords (unique list)\n",
        "stopword_list = list(set(stopword_list))"
      ],
      "execution_count": 81,
      "outputs": []
    },
    {
      "cell_type": "code",
      "metadata": {
        "trusted": true,
        "_uuid": "25748a09312e1241038aae27f4ce0d962fc30c26",
        "id": "JnjZ0mniojnt"
      },
      "source": [
        "dataset_texto_tokens = _remove_stopwords(dataset_texto_tokens, stopword_list)"
      ],
      "execution_count": 82,
      "outputs": []
    },
    {
      "cell_type": "code",
      "metadata": {
        "trusted": true,
        "_uuid": "5254a491c2acc0a70c4f8705ddb31ee7e245624e",
        "id": "Rfxl59rIojnt",
        "colab": {
          "base_uri": "https://localhost:8080/"
        },
        "outputId": "f1f0ea6d-97d3-4323-8450-fa8df1464a6d"
      },
      "source": [
        "# check data\n",
        "for i in range(0, 5):\n",
        "    print(dataset_texto_tokens[i])"
      ],
      "execution_count": 83,
      "outputs": [
        {
          "output_type": "stream",
          "text": [
            "['Lançamentos', 'Netflix', 'Setembro', 'veja', 'aqui', 'brasil', 'seriado']\n",
            "['vale', 'manter', 'aspirina', 'mão', 'caso', 'infarto']\n",
            "['Samuel', 'reuniu', 'amigos', 'Associação', 'Esportiva', 'Aruana', 'I', 'Leia']\n",
            "['Latam', 'demite', 'funcionários', 'após', 'aeroportos', 'Galeão', 'Guarulhos', 'Temer', 'prometeu', 'empregos', 'após', 'Falta', 'milhões', 'brasileiros', 'segundo', 'IBGE']\n",
            "['[]', 'emojis', '“”', 'usou', 'publicação', 'Instagram', 'significam', 'saranghae', 'saranghae', 'port', 'amo', 'amo', 'sarang', 'amor', 'hae', 'sol', 'Via', 'sakura_tuanct']\n"
          ],
          "name": "stdout"
        }
      ]
    },
    {
      "cell_type": "markdown",
      "metadata": {
        "_uuid": "5917183f41e842477fb49520beb8568a368f7046",
        "id": "oiUb8A67ojnt"
      },
      "source": [
        "<h4>Lexicon Normalization</h4>"
      ]
    },
    {
      "cell_type": "markdown",
      "metadata": {
        "_uuid": "3f3f8826d74fb5fd28d6ff1f76ffb1101e96cc43",
        "id": "Q2mQWghXojnt"
      },
      "source": [
        "Lemmatization (not implemented...)"
      ]
    },
    {
      "cell_type": "markdown",
      "metadata": {
        "_uuid": "b69051f6e85ce27a64fa49a968019d8a7957f377",
        "id": "9xYG8tvXojnt"
      },
      "source": [
        "Stemming (dimensionality reduction)"
      ]
    },
    {
      "cell_type": "code",
      "metadata": {
        "trusted": true,
        "_uuid": "75df6b7d0b3af4219321089b6161e6dc74dc1dbf",
        "id": "ksuuqUD7ojnt"
      },
      "source": [
        "def _apply_stemmer(tokens):\n",
        "    ls = []\n",
        "    stemmer = nltk.stem.RSLPStemmer()\n",
        "\n",
        "    for tk_line in tokens:\n",
        "        new_tokens = []\n",
        "        \n",
        "        for word in tk_line:\n",
        "            word = str(stemmer.stem(word))\n",
        "            new_tokens.append(word) \n",
        "            \n",
        "        ls.append(new_tokens)\n",
        "        \n",
        "    return ls"
      ],
      "execution_count": 84,
      "outputs": []
    },
    {
      "cell_type": "code",
      "metadata": {
        "id": "spQc5w3iNCed",
        "colab": {
          "base_uri": "https://localhost:8080/"
        },
        "outputId": "2f6035b3-6fcf-4530-a0de-d079aae12011"
      },
      "source": [
        "nltk.download('rslp')"
      ],
      "execution_count": 85,
      "outputs": [
        {
          "output_type": "stream",
          "text": [
            "[nltk_data] Downloading package rslp to /root/nltk_data...\n",
            "[nltk_data]   Package rslp is already up-to-date!\n"
          ],
          "name": "stdout"
        },
        {
          "output_type": "execute_result",
          "data": {
            "text/plain": [
              "True"
            ]
          },
          "metadata": {
            "tags": []
          },
          "execution_count": 85
        }
      ]
    },
    {
      "cell_type": "code",
      "metadata": {
        "trusted": true,
        "_uuid": "7c3907b1ff4e1495ce16d0d6e5190277dd8faad5",
        "id": "qzs5zFWkojnu"
      },
      "source": [
        "dataset_texto_stemm = _apply_stemmer(dataset_texto_tokens)"
      ],
      "execution_count": 86,
      "outputs": []
    },
    {
      "cell_type": "code",
      "metadata": {
        "trusted": true,
        "_uuid": "45cdcc98a8462e4ec5132b192a762affc4399904",
        "id": "FAIwa48hojnu",
        "colab": {
          "base_uri": "https://localhost:8080/"
        },
        "outputId": "6490710f-5a3b-4f54-d94e-bf388ed0935b"
      },
      "source": [
        "# check data\n",
        "for i in range(0, 5):\n",
        "    print(dataset_texto_tokens[i])"
      ],
      "execution_count": 87,
      "outputs": [
        {
          "output_type": "stream",
          "text": [
            "['Lançamentos', 'Netflix', 'Setembro', 'veja', 'aqui', 'brasil', 'seriado']\n",
            "['vale', 'manter', 'aspirina', 'mão', 'caso', 'infarto']\n",
            "['Samuel', 'reuniu', 'amigos', 'Associação', 'Esportiva', 'Aruana', 'I', 'Leia']\n",
            "['Latam', 'demite', 'funcionários', 'após', 'aeroportos', 'Galeão', 'Guarulhos', 'Temer', 'prometeu', 'empregos', 'após', 'Falta', 'milhões', 'brasileiros', 'segundo', 'IBGE']\n",
            "['[]', 'emojis', '“”', 'usou', 'publicação', 'Instagram', 'significam', 'saranghae', 'saranghae', 'port', 'amo', 'amo', 'sarang', 'amor', 'hae', 'sol', 'Via', 'sakura_tuanct']\n"
          ],
          "name": "stdout"
        }
      ]
    },
    {
      "cell_type": "markdown",
      "metadata": {
        "_uuid": "689723a6b68a74cfa2fa19f274e842011473d770",
        "id": "--FUBz4oojnu"
      },
      "source": [
        "<h4>Dataset preparation</h4>\n",
        "Untokenize text (transform tokenized text into string list)"
      ]
    },
    {
      "cell_type": "code",
      "metadata": {
        "trusted": true,
        "_uuid": "bfe4d9dca0e03d751fa5b086003e07bc7ff945da",
        "id": "UZVLaerxojnu"
      },
      "source": [
        "def _untokenize_text(tokens):\n",
        "    ls = []\n",
        "\n",
        "    for tk_line in tokens:\n",
        "        new_line = ''\n",
        "        \n",
        "        for word in tk_line:\n",
        "            new_line += word + ' '\n",
        "            \n",
        "        ls.append(new_line)\n",
        "        \n",
        "    return ls"
      ],
      "execution_count": 88,
      "outputs": []
    },
    {
      "cell_type": "code",
      "metadata": {
        "trusted": true,
        "_uuid": "126cdaadb79c0c3141803e68615c093ec21872ea",
        "id": "katwR_thojnu"
      },
      "source": [
        "dataset_texto_tokens = _untokenize_text(dataset_texto_tokens)"
      ],
      "execution_count": 89,
      "outputs": []
    },
    {
      "cell_type": "code",
      "metadata": {
        "id": "dBk9oC4y4c9u"
      },
      "source": [
        "dataset_texto_stemm = _untokenize_text(dataset_texto_stemm)"
      ],
      "execution_count": 90,
      "outputs": []
    },
    {
      "cell_type": "code",
      "metadata": {
        "trusted": true,
        "_uuid": "81b7797ea3848e78316c871fd0a630dcf69d82b0",
        "id": "c7v_vLZ9ojnu",
        "colab": {
          "base_uri": "https://localhost:8080/"
        },
        "outputId": "bbd5f0a0-a6b7-443f-88b6-951a6b9afde5"
      },
      "source": [
        "# check data\n",
        "for i in range(0, 5):\n",
        "    print(dataset_texto_stemm[i])"
      ],
      "execution_count": 91,
      "outputs": [
        {
          "output_type": "stream",
          "text": [
            "lanç netflix setembr vej aqu brasil seri \n",
            "val mant aspirin mão cas infart \n",
            "samuel reun amig associ espor aruan i lei \n",
            "lat demit funcion após aeroport gal guarulh tem promet empreg após falt milhã brasil segund ibg \n",
            "[] emojil “” usou public instagr signific sarangha sarangha port amo amo sarang am hae sol via sakura_tuanct \n"
          ],
          "name": "stdout"
        }
      ]
    },
    {
      "cell_type": "markdown",
      "metadata": {
        "_uuid": "02a043145724f1ce5b626329816c59268c605683",
        "id": "s962uC7Bojny"
      },
      "source": [
        "## Implementing a Model\n"
      ]
    },
    {
      "cell_type": "code",
      "metadata": {
        "id": "z1mxqVNbcdul",
        "colab": {
          "base_uri": "https://localhost:8080/"
        },
        "outputId": "23dfadc7-1d27-4a74-8e51-9d124f058f10"
      },
      "source": [
        "X_tweets = np.array(dataset_texto_stemm,  dtype=object)\n",
        "X_tweets"
      ],
      "execution_count": 92,
      "outputs": [
        {
          "output_type": "execute_result",
          "data": {
            "text/plain": [
              "array(['lanç netflix setembr vej aqu brasil seri ',\n",
              "       'val mant aspirin mão cas infart ',\n",
              "       'samuel reun amig associ espor aruan i lei ', ...,\n",
              "       'hoj amanhã far fest pra comemor ele candidat venc rol fuzu bonossaur ganh vai ser fest pijam listr gent ',\n",
              "       'fic br tmb gent fal fez campanh cir grit mudanç titul elei tir ',\n",
              "       'tod vez li \" culp cresc bolsonar esquerd \" assunt atrel problem contesta internet tip branc pod us turb etc descobr dá pra alavanc bost us escorreg outr lad dá '],\n",
              "      dtype=object)"
            ]
          },
          "metadata": {
            "tags": []
          },
          "execution_count": 92
        }
      ]
    },
    {
      "cell_type": "code",
      "metadata": {
        "id": "eDcYyIYtcdj-",
        "colab": {
          "base_uri": "https://localhost:8080/"
        },
        "outputId": "d6cd1cc5-56f3-4289-8416-e05ac51b5a62"
      },
      "source": [
        "y_classes = dataset[\"classificacao\"].values\n",
        "y_classes"
      ],
      "execution_count": 93,
      "outputs": [
        {
          "output_type": "execute_result",
          "data": {
            "text/plain": [
              "array(['Neutro', 'Neutro', 'Neutro', ..., 'Negativo', 'Negativo',\n",
              "       'Negativo'], dtype=object)"
            ]
          },
          "metadata": {
            "tags": []
          },
          "execution_count": 93
        }
      ]
    },
    {
      "cell_type": "code",
      "metadata": {
        "id": "GsCjxSeTZaru"
      },
      "source": [
        "from sklearn.decomposition import PCA, TruncatedSVD\n",
        "from sklearn.neural_network import MLPClassifier"
      ],
      "execution_count": 94,
      "outputs": []
    },
    {
      "cell_type": "markdown",
      "metadata": {
        "id": "4mcRWJi7-8Ma"
      },
      "source": [
        "Split data"
      ]
    },
    {
      "cell_type": "code",
      "metadata": {
        "id": "fHrZZw5U-9nw"
      },
      "source": [
        "X_train, X_test, y_train, y_test = train_test_split(X_tweets, y_classes, test_size=0.33, random_state=42)"
      ],
      "execution_count": 95,
      "outputs": []
    },
    {
      "cell_type": "markdown",
      "metadata": {
        "id": "GlRIt9nucpeJ"
      },
      "source": [
        "## Random Forest"
      ]
    },
    {
      "cell_type": "code",
      "metadata": {
        "id": "clbBnwmU31ut"
      },
      "source": [
        "model = RandomForestClassifier(random_state=42, n_jobs=-1)"
      ],
      "execution_count": null,
      "outputs": []
    },
    {
      "cell_type": "code",
      "metadata": {
        "id": "fEo0sAEO4SqU"
      },
      "source": [
        "model_RF = Pipeline([\n",
        "    ('vect', CountVectorizer(ngram_range=(1, 2))),\n",
        "    ('tfidf', TfidfTransformer()),\n",
        "    ('clf', model),\n",
        "])"
      ],
      "execution_count": null,
      "outputs": []
    },
    {
      "cell_type": "markdown",
      "metadata": {
        "id": "ww8UbiEH3-F3"
      },
      "source": [
        "### Random forest model with Hold-out"
      ]
    },
    {
      "cell_type": "code",
      "metadata": {
        "colab": {
          "base_uri": "https://localhost:8080/"
        },
        "id": "e1HE9RF63-F4",
        "outputId": "9a3ffe97-cd95-4643-e704-a92564399e64"
      },
      "source": [
        "model_RF.fit(X_train, y_train)"
      ],
      "execution_count": null,
      "outputs": [
        {
          "output_type": "execute_result",
          "data": {
            "text/plain": [
              "Pipeline(memory=None,\n",
              "         steps=[('vect',\n",
              "                 CountVectorizer(analyzer='word', binary=False,\n",
              "                                 decode_error='strict',\n",
              "                                 dtype=<class 'numpy.int64'>, encoding='utf-8',\n",
              "                                 input='content', lowercase=True, max_df=1.0,\n",
              "                                 max_features=None, min_df=1,\n",
              "                                 ngram_range=(1, 2), preprocessor=None,\n",
              "                                 stop_words=None, strip_accents=None,\n",
              "                                 token_pattern='(?u)\\\\b\\\\w\\\\w+\\\\b',\n",
              "                                 tokenizer=None, vocabulary=Non...\n",
              "                 RandomForestClassifier(bootstrap=True, ccp_alpha=0.0,\n",
              "                                        class_weight=None, criterion='gini',\n",
              "                                        max_depth=None, max_features='auto',\n",
              "                                        max_leaf_nodes=None, max_samples=None,\n",
              "                                        min_impurity_decrease=0.0,\n",
              "                                        min_impurity_split=None,\n",
              "                                        min_samples_leaf=1, min_samples_split=2,\n",
              "                                        min_weight_fraction_leaf=0.0,\n",
              "                                        n_estimators=100, n_jobs=-1,\n",
              "                                        oob_score=False, random_state=42,\n",
              "                                        verbose=0, warm_start=False))],\n",
              "         verbose=False)"
            ]
          },
          "metadata": {
            "tags": []
          },
          "execution_count": 94
        }
      ]
    },
    {
      "cell_type": "code",
      "metadata": {
        "id": "1YDUSIvR3-F5"
      },
      "source": [
        "predictions_RF = model_RF.predict(X_test)"
      ],
      "execution_count": null,
      "outputs": []
    },
    {
      "cell_type": "code",
      "metadata": {
        "colab": {
          "base_uri": "https://localhost:8080/"
        },
        "id": "VATLvTFU3-F5",
        "outputId": "67ec1032-1a0d-4b9b-fb25-cc555f49d749"
      },
      "source": [
        "print(classification_report(y_test, predictions_RF))"
      ],
      "execution_count": null,
      "outputs": [
        {
          "output_type": "stream",
          "text": [
            "              precision    recall  f1-score   support\n",
            "\n",
            "    Negativo       0.69      0.77      0.73      9256\n",
            "      Neutro       0.86      0.81      0.83      9117\n",
            "    Positivo       0.65      0.61      0.63      9244\n",
            "\n",
            "    accuracy                           0.73     27617\n",
            "   macro avg       0.73      0.73      0.73     27617\n",
            "weighted avg       0.73      0.73      0.73     27617\n",
            "\n"
          ],
          "name": "stdout"
        }
      ]
    },
    {
      "cell_type": "code",
      "metadata": {
        "id": "UxpexbWp3-F5"
      },
      "source": [
        "#for doc, prediction, y in zip(X_test[0:20], predictions_RF[0:20], y_test[0:20]):\n",
        "#    print('%r => %s [%s]' % (doc, prediction, y))"
      ],
      "execution_count": null,
      "outputs": []
    },
    {
      "cell_type": "markdown",
      "metadata": {
        "id": "2dJ_n0Af0aQ1"
      },
      "source": [
        "### Random Forest model with gridsearch and cross-validation"
      ]
    },
    {
      "cell_type": "code",
      "metadata": {
        "id": "nKVwSn7m0YBQ"
      },
      "source": [
        "RF_param_grid = {\n",
        "    'clf__criterion': ['gini', 'entropy'],\n",
        "    'clf__n_estimators': [100, 200, 500],\n",
        "    'clf__max_depth': [None, 1, 3],\n",
        "    'clf__min_samples_split': [5, 10],\n",
        "    'clf__min_samples_leaf': [1, 3, 4, 5]\n",
        "}"
      ],
      "execution_count": null,
      "outputs": []
    },
    {
      "cell_type": "code",
      "metadata": {
        "id": "tfY098T2OVYn"
      },
      "source": [
        "from sklearn.model_selection import RandomizedSearchCV"
      ],
      "execution_count": null,
      "outputs": []
    },
    {
      "cell_type": "code",
      "metadata": {
        "id": "J9A4j3ZF0jf8"
      },
      "source": [
        "grid_rf = GridSearchCV(param_grid=RF_param_grid, estimator=model_RF, \n",
        "                        scoring='f1_weighted', cv=3, verbose=2, n_jobs=-1)"
      ],
      "execution_count": null,
      "outputs": []
    },
    {
      "cell_type": "code",
      "metadata": {
        "id": "nKZQKt_9ObLK"
      },
      "source": [
        "grid_rf = RandomizedSearchCV(estimator=model_RF, param_distributions=RF_param_grid,  \n",
        "                        scoring='f1_weighted', cv=3, verbose=2, n_jobs=-1)"
      ],
      "execution_count": null,
      "outputs": []
    },
    {
      "cell_type": "code",
      "metadata": {
        "id": "C-Nx45uD49Pm",
        "colab": {
          "base_uri": "https://localhost:8080/"
        },
        "outputId": "935ea484-0a09-4632-f38b-d33470c20443"
      },
      "source": [
        "#grid_rf.fit(X_tweets, y_classes)"
      ],
      "execution_count": null,
      "outputs": [
        {
          "output_type": "stream",
          "text": [
            "Fitting 3 folds for each of 10 candidates, totalling 30 fits\n"
          ],
          "name": "stdout"
        },
        {
          "output_type": "stream",
          "text": [
            "[Parallel(n_jobs=-1)]: Using backend LokyBackend with 2 concurrent workers.\n",
            "[Parallel(n_jobs=-1)]: Done  30 out of  30 | elapsed:  9.4min finished\n"
          ],
          "name": "stderr"
        },
        {
          "output_type": "execute_result",
          "data": {
            "text/plain": [
              "RandomizedSearchCV(cv=3, error_score=nan,\n",
              "                   estimator=Pipeline(memory=None,\n",
              "                                      steps=[('vect',\n",
              "                                              CountVectorizer(analyzer='word',\n",
              "                                                              binary=False,\n",
              "                                                              decode_error='strict',\n",
              "                                                              dtype=<class 'numpy.int64'>,\n",
              "                                                              encoding='utf-8',\n",
              "                                                              input='content',\n",
              "                                                              lowercase=True,\n",
              "                                                              max_df=1.0,\n",
              "                                                              max_features=None,\n",
              "                                                              min_df=1,\n",
              "                                                              ngram_range=(1,\n",
              "                                                                           2),\n",
              "                                                              preprocessor=None,\n",
              "                                                              stop_words=None,\n",
              "                                                              strip_accents=None,\n",
              "                                                              token_pattern...\n",
              "                                                                     warm_start=False))],\n",
              "                                      verbose=False),\n",
              "                   iid='deprecated', n_iter=10, n_jobs=-1,\n",
              "                   param_distributions={'clf__criterion': ['gini', 'entropy'],\n",
              "                                        'clf__max_depth': [None, 1, 3],\n",
              "                                        'clf__min_samples_leaf': [1, 3, 4, 5],\n",
              "                                        'clf__min_samples_split': [5, 10],\n",
              "                                        'clf__n_estimators': [100, 200, 500]},\n",
              "                   pre_dispatch='2*n_jobs', random_state=None, refit=True,\n",
              "                   return_train_score=False, scoring='f1_weighted', verbose=2)"
            ]
          },
          "metadata": {
            "tags": []
          },
          "execution_count": 90
        }
      ]
    },
    {
      "cell_type": "code",
      "metadata": {
        "id": "jpaY01Es6PcU",
        "colab": {
          "base_uri": "https://localhost:8080/"
        },
        "outputId": "99bba6b2-6c2b-4217-da13-b9f7dd58bcb6"
      },
      "source": [
        "#print(\"Best parameters found: \", grid_rf.best_params_)"
      ],
      "execution_count": null,
      "outputs": [
        {
          "output_type": "stream",
          "text": [
            "Best parameters found:  {'clf__n_estimators': 500, 'clf__min_samples_split': 10, 'clf__min_samples_leaf': 5, 'clf__max_depth': None, 'clf__criterion': 'gini'}\n"
          ],
          "name": "stdout"
        }
      ]
    },
    {
      "cell_type": "code",
      "metadata": {
        "id": "r6FtBbnlYhg8"
      },
      "source": [
        "model = RandomForestClassifier(n_estimators= 500, min_samples_split= 10, random_state=42, min_samples_leaf= 5, criterion = 'gini', n_jobs=-1)"
      ],
      "execution_count": null,
      "outputs": []
    },
    {
      "cell_type": "code",
      "metadata": {
        "id": "9P8-Q-sSYnz6"
      },
      "source": [
        "model_RF = Pipeline([\n",
        "    ('vect', CountVectorizer(ngram_range=(1, 2))),\n",
        "    ('tfidf', TfidfTransformer()),\n",
        "    ('clf', model),\n",
        "])"
      ],
      "execution_count": null,
      "outputs": []
    },
    {
      "cell_type": "code",
      "metadata": {
        "id": "-DxVCylBIrP0"
      },
      "source": [
        "predictions_RF = cross_val_predict(model_RF, X_tweets, y_classes, cv = 5)"
      ],
      "execution_count": null,
      "outputs": []
    },
    {
      "cell_type": "code",
      "metadata": {
        "colab": {
          "base_uri": "https://localhost:8080/"
        },
        "id": "T7HBvAgrIrP0",
        "outputId": "2e9f49c1-85ba-431c-880a-061fbb23df2e"
      },
      "source": [
        "print(classification_report(y_classes, predictions_RF))"
      ],
      "execution_count": null,
      "outputs": [
        {
          "output_type": "stream",
          "text": [
            "              precision    recall  f1-score   support\n",
            "\n",
            "    Negativo       0.67      0.77      0.72     28000\n",
            "      Neutro       0.77      0.85      0.81     27993\n",
            "    Positivo       0.64      0.48      0.55     27674\n",
            "\n",
            "    accuracy                           0.70     83667\n",
            "   macro avg       0.70      0.70      0.69     83667\n",
            "weighted avg       0.70      0.70      0.69     83667\n",
            "\n"
          ],
          "name": "stdout"
        }
      ]
    },
    {
      "cell_type": "code",
      "metadata": {
        "id": "oS5rV21BIrP1"
      },
      "source": [
        "#for doc, predictions_RF, y in zip(tweets[0:10], predictions_RF[0:10], classes[0:10]):\n",
        "#    print('%r => %s [%s]' % (doc, predictions_RF, y))"
      ],
      "execution_count": null,
      "outputs": []
    },
    {
      "cell_type": "markdown",
      "metadata": {
        "id": "FQfgDPc5rlBM"
      },
      "source": [
        "## XGBoost "
      ]
    },
    {
      "cell_type": "code",
      "metadata": {
        "id": "NKb0Zs5prpqN"
      },
      "source": [
        "model_XGB = Pipeline([\n",
        "    ('vect', CountVectorizer(ngram_range=(1, 2))),\n",
        "    ('tfidf', TfidfTransformer()),\n",
        "    ('clf', xgb.XGBClassifier(n_estimators=1000, n_jobs=-1, nthread=-1))\n",
        "])"
      ],
      "execution_count": null,
      "outputs": []
    },
    {
      "cell_type": "markdown",
      "metadata": {
        "id": "0KojRYt_CZ-K"
      },
      "source": [
        "##XGBoost with Hold-out"
      ]
    },
    {
      "cell_type": "code",
      "metadata": {
        "id": "P6kdOl3r4My7",
        "colab": {
          "base_uri": "https://localhost:8080/"
        },
        "outputId": "84899406-ca95-4c06-e2c0-fffb1fa9ca40"
      },
      "source": [
        "model_XGB.fit(X_train, y_train)"
      ],
      "execution_count": null,
      "outputs": [
        {
          "output_type": "execute_result",
          "data": {
            "text/plain": [
              "Pipeline(memory=None,\n",
              "         steps=[('vect',\n",
              "                 CountVectorizer(analyzer='word', binary=False,\n",
              "                                 decode_error='strict',\n",
              "                                 dtype=<class 'numpy.int64'>, encoding='utf-8',\n",
              "                                 input='content', lowercase=True, max_df=1.0,\n",
              "                                 max_features=None, min_df=1,\n",
              "                                 ngram_range=(1, 1), preprocessor=None,\n",
              "                                 stop_words=None, strip_accents=None,\n",
              "                                 token_pattern='(?u)\\\\b\\\\w\\\\w+\\\\b',\n",
              "                                 tokenizer=None, vocabulary=Non...\n",
              "                 XGBClassifier(base_score=0.5, booster='gbtree',\n",
              "                               colsample_bylevel=1, colsample_bynode=1,\n",
              "                               colsample_bytree=1, gamma=0, learning_rate=0.1,\n",
              "                               max_delta_step=0, max_depth=3,\n",
              "                               min_child_weight=1, missing=None,\n",
              "                               n_estimators=1000, n_jobs=-1, nthread=-1,\n",
              "                               objective='multi:softprob', random_state=0,\n",
              "                               reg_alpha=0, reg_lambda=1, scale_pos_weight=1,\n",
              "                               seed=None, silent=None, subsample=1,\n",
              "                               verbosity=1))],\n",
              "         verbose=False)"
            ]
          },
          "metadata": {
            "tags": []
          },
          "execution_count": 99
        }
      ]
    },
    {
      "cell_type": "code",
      "metadata": {
        "id": "55kOJioBS4Mp"
      },
      "source": [
        "predictions_XGB = model_XGB.predict(X_test)"
      ],
      "execution_count": null,
      "outputs": []
    },
    {
      "cell_type": "code",
      "metadata": {
        "id": "a148fwPs4RAd",
        "colab": {
          "base_uri": "https://localhost:8080/"
        },
        "outputId": "d0051b2a-a770-4598-b1ae-bfde0e24242a"
      },
      "source": [
        "print(classification_report(y_test, predictions_XGB))"
      ],
      "execution_count": null,
      "outputs": [
        {
          "output_type": "stream",
          "text": [
            "              precision    recall  f1-score   support\n",
            "\n",
            "    Negativo       0.75      0.68      0.72      9256\n",
            "      Neutro       0.75      0.88      0.81      9117\n",
            "    Positivo       0.65      0.60      0.63      9244\n",
            "\n",
            "    accuracy                           0.72     27617\n",
            "   macro avg       0.72      0.72      0.72     27617\n",
            "weighted avg       0.72      0.72      0.72     27617\n",
            "\n"
          ],
          "name": "stdout"
        }
      ]
    },
    {
      "cell_type": "markdown",
      "metadata": {
        "id": "JBObayzBcsHO"
      },
      "source": [
        "## Neural Network - Multilayer Perceptron"
      ]
    },
    {
      "cell_type": "markdown",
      "metadata": {
        "id": "VMmjAod5c_qG"
      },
      "source": [
        "<img src=\"https://st2.ning.com/topology/rest/1.0/file/get/1140047167?profile=original\" width=\"500\"/>"
      ]
    },
    {
      "cell_type": "code",
      "metadata": {
        "id": "LOkRstBz_eSp"
      },
      "source": [
        "model_NN = Pipeline([\n",
        "    ('vect', CountVectorizer(ngram_range=(1, 2))),\n",
        "    ('tfidf', TfidfTransformer()),\n",
        "    ('pca', TruncatedSVD(n_components=200)), # 100000 linhas por 150 colunas (features)\n",
        "    ('clf', MLPClassifier(hidden_layer_sizes=(100,50), #2 camadas escondidas sendo a primeira com 100 neurônios e a segunda com 50 neurônios \n",
        "                          random_state=42, \n",
        "                          activation='relu', #Testar outras funções de ativação. Ex. tanh, entre outras (relu).\n",
        "                          max_iter=1000,\n",
        "                          early_stopping=True))\n",
        "])"
      ],
      "execution_count": null,
      "outputs": []
    },
    {
      "cell_type": "markdown",
      "metadata": {
        "id": "qPMaMMru-0BR"
      },
      "source": [
        "### Neural network model with Hold-out"
      ]
    },
    {
      "cell_type": "code",
      "metadata": {
        "id": "ejUHo6f8-0BT"
      },
      "source": [
        "model_NN.fit(X_train, y_train)\n",
        "predictions_NN = model_NN.predict(X_test)"
      ],
      "execution_count": null,
      "outputs": []
    },
    {
      "cell_type": "code",
      "metadata": {
        "id": "Gugv_VxF-0BT",
        "colab": {
          "base_uri": "https://localhost:8080/"
        },
        "outputId": "1e80d2be-3247-4b38-f2c3-a284b75ac84d"
      },
      "source": [
        "print(classification_report(y_test, predictions_NN))"
      ],
      "execution_count": null,
      "outputs": [
        {
          "output_type": "stream",
          "text": [
            "              precision    recall  f1-score   support\n",
            "\n",
            "    Negativo       0.70      0.74      0.72      9256\n",
            "      Neutro       0.85      0.82      0.84      9117\n",
            "    Positivo       0.63      0.62      0.63      9244\n",
            "\n",
            "    accuracy                           0.73     27617\n",
            "   macro avg       0.73      0.73      0.73     27617\n",
            "weighted avg       0.73      0.73      0.73     27617\n",
            "\n"
          ],
          "name": "stdout"
        }
      ]
    },
    {
      "cell_type": "code",
      "metadata": {
        "id": "k6PppGx5-0BT"
      },
      "source": [
        "for doc, prediction, y in zip(X_test[0:20], predictions_NN[0:20], y_test[0:20]):\n",
        "    print('%r => %s [%s]' % (doc, prediction, y))"
      ],
      "execution_count": null,
      "outputs": []
    },
    {
      "cell_type": "markdown",
      "metadata": {
        "id": "mfyhzij7CtGH"
      },
      "source": [
        "## SVM model"
      ]
    },
    {
      "cell_type": "code",
      "metadata": {
        "id": "eDIAK5XdIbEM"
      },
      "source": [
        "model_SVC = Pipeline([\n",
        "    ('vect', CountVectorizer(ngram_range=(1, 2))),\n",
        "    ('tfidf', TfidfTransformer()),\n",
        "    ('clf', SVC(random_state=42)),\n",
        "])"
      ],
      "execution_count": null,
      "outputs": []
    },
    {
      "cell_type": "markdown",
      "metadata": {
        "id": "eO1WLFoPIbEL"
      },
      "source": [
        "## SVM model with Hold out"
      ]
    },
    {
      "cell_type": "code",
      "metadata": {
        "id": "KseA2cv6IbEQ"
      },
      "source": [
        "model_SVC.fit(X_train, y_train)\n",
        "predictions_SVC = model_SVC.predict(X_test)"
      ],
      "execution_count": null,
      "outputs": []
    },
    {
      "cell_type": "code",
      "metadata": {
        "id": "L_-mBK1IIbER",
        "colab": {
          "base_uri": "https://localhost:8080/"
        },
        "outputId": "4dd701db-bc5d-4674-cfcd-9583c32ac56c"
      },
      "source": [
        "print(classification_report(y_test, predictions_SVC))"
      ],
      "execution_count": null,
      "outputs": [
        {
          "output_type": "stream",
          "text": [
            "/usr/local/lib/python3.7/dist-packages/sklearn/metrics/_classification.py:1272: UndefinedMetricWarning:\n",
            "\n",
            "Precision and F-score are ill-defined and being set to 0.0 in labels with no predicted samples. Use `zero_division` parameter to control this behavior.\n",
            "\n"
          ],
          "name": "stderr"
        },
        {
          "output_type": "stream",
          "text": [
            "              precision    recall  f1-score   support\n",
            "\n",
            "    Negativo       0.00      0.00      0.00      9813\n",
            "      Neutro       0.33      1.00      0.50      9664\n",
            "    Positivo       0.00      0.00      0.00      9813\n",
            "\n",
            "    accuracy                           0.33     29290\n",
            "   macro avg       0.11      0.33      0.17     29290\n",
            "weighted avg       0.11      0.33      0.16     29290\n",
            "\n"
          ],
          "name": "stdout"
        }
      ]
    },
    {
      "cell_type": "code",
      "metadata": {
        "id": "7cF4P59RIbER",
        "colab": {
          "base_uri": "https://localhost:8080/"
        },
        "outputId": "8e40d028-dc4f-4418-ad7a-0c37d217a208"
      },
      "source": [
        "for doc, prediction, y in zip(X_test[0:20], predictions_SVC[0:20], y_test[0:20]):\n",
        "    print('%r => %s [%s]' % (doc, prediction, y))"
      ],
      "execution_count": null,
      "outputs": [
        {
          "output_type": "stream",
          "text": [
            "'saib nazist ode jud jerusalém caracterís esquerdopat . além diss esquerd ador corrupt , pedófil , estupr marg . enquadr ness tim ? pesquis amig lulal merd mesm cois :-) ' => Positivo [Positivo]\n",
            "'príncip harry complet 34 ano receb homen intern ' => Neutro [Neutro]\n",
            "'blizzard problem overwatch , diz licenç jog tav jog ate ont boa , tod bug compr jog mó feliz mei deix entr ' => Positivo [Negativo]\n",
            "'oi mig ' => Positivo [Positivo]\n",
            "'imagin iri ter gent centr quer ir pro lad bolsonar . ' => Negativo [Positivo]\n",
            "'ali marin tem alv dobr bolsonar daciol debat . ' => Negativo [Neutro]\n",
            "'aha !!! import pro irm irm vai sent bem famíl lá ^^ ' => Positivo [Positivo]\n",
            "'big broth ingl políci vê 11 mil hor víde ach suspeit envenen ex espiã . ' => Neutro [Neutro]\n",
            "'agor sim united par cicl posi watford som prim derrot nest ediç premi leag ' => Positivo [Positivo]\n",
            "'post elogi manu aqu . ler post , vai entend toler ser zer pra tip açã . ele terr . candidat pres . atitud infeliz . :-( ' => Negativo [Negativo]\n",
            "'confirm public amanhã , 22 ago , diári ofic uni ! ' => Neutro [Neutro]\n",
            "'sim , fal ! :-) inter niss , bast artig livr escrit sobr assunt . faç pesquis internet sobr revoluç 1974 portug lug mulh . pod começ pagin part comun portugu , clar , + ' => Positivo [Positivo]\n",
            "'sent trabalh rend ? vej artig 8 dic melhor produt ! ' => Neutro [Neutro]\n",
            "'pod trabalh bermud ? op .. :-) manau , brazil ' => Neutro [Positivo]\n",
            "'& gt sobreviv , sindicat inclu contribu negoci ' => Neutro [Neutro]\n",
            "'sad sad mort , ameaç intimid discurs bolsonar inflam radic via ' => Neutro [Negativo]\n",
            "'& gt aliment gás co faz defl baix rend ser dobr ric ' => Neutro [Neutro]\n",
            "'festiv mir receb apanh colômb nov peç antun filh ' => Neutro [Neutro]\n",
            "'abert inscr curs dist \" prov process administr disciplin \". particip ! curs gratuit direit certific conclus ! ' => Neutro [Neutro]\n",
            "'simmmm vai ser batalh titã extrem esquerd extrem direit , cois horr ver chor porqu real consider vot tir títul marin deboch diss ' => Negativo [Negativo]\n"
          ],
          "name": "stdout"
        }
      ]
    },
    {
      "cell_type": "markdown",
      "metadata": {
        "id": "QyjkdeeEC156"
      },
      "source": [
        "## Logistic Regression"
      ]
    },
    {
      "cell_type": "code",
      "metadata": {
        "id": "iw8hQgSDjFkM"
      },
      "source": [
        "model_LR = Pipeline([\n",
        "    ('vect', CountVectorizer(ngram_range=(1, 2))),\n",
        "    ('tfidf', TfidfTransformer()),\n",
        "    ('clf', LogisticRegression(random_state=42, multi_class='multinomial', max_iter=500, n_jobs=-1)),\n",
        "])"
      ],
      "execution_count": 96,
      "outputs": []
    },
    {
      "cell_type": "markdown",
      "metadata": {
        "id": "eN8QyOFqu0lk"
      },
      "source": [
        "## Logistic Regression with Hold Out"
      ]
    },
    {
      "cell_type": "code",
      "metadata": {
        "id": "HN_ksiNAu4yr"
      },
      "source": [
        "model_LR.fit(X_train, y_train)\n",
        "predictions_LR = model_LR.predict(X_test)"
      ],
      "execution_count": 97,
      "outputs": []
    },
    {
      "cell_type": "code",
      "metadata": {
        "id": "i2ksyMhwu4ys",
        "colab": {
          "base_uri": "https://localhost:8080/"
        },
        "outputId": "ab315783-857c-44cc-dd0f-df517866e2aa"
      },
      "source": [
        "X_train.shape, X_test.shape"
      ],
      "execution_count": 98,
      "outputs": [
        {
          "output_type": "execute_result",
          "data": {
            "text/plain": [
              "((56237,), (27699,))"
            ]
          },
          "metadata": {
            "tags": []
          },
          "execution_count": 98
        }
      ]
    },
    {
      "cell_type": "code",
      "metadata": {
        "id": "-DCOH2fSu4yt",
        "colab": {
          "base_uri": "https://localhost:8080/"
        },
        "outputId": "b8374aa6-f0f6-472b-9f5f-504d856878c7"
      },
      "source": [
        "print(classification_report(y_test, predictions_LR))"
      ],
      "execution_count": 100,
      "outputs": [
        {
          "output_type": "stream",
          "text": [
            "              precision    recall  f1-score   support\n",
            "\n",
            "    Negativo       0.73      0.78      0.76      9237\n",
            "      Neutro       0.85      0.86      0.85      9126\n",
            "    Positivo       0.70      0.65      0.68      9336\n",
            "\n",
            "    accuracy                           0.76     27699\n",
            "   macro avg       0.76      0.76      0.76     27699\n",
            "weighted avg       0.76      0.76      0.76     27699\n",
            "\n"
          ],
          "name": "stdout"
        }
      ]
    },
    {
      "cell_type": "code",
      "metadata": {
        "id": "KuPaWwAzu4yt",
        "colab": {
          "base_uri": "https://localhost:8080/"
        },
        "outputId": "3749a9af-4215-4f8f-8695-e748436225dc"
      },
      "source": [
        "for doc, prediction, y in zip(X_test[0:20], predictions_LR[0:20], y_test[0:20]):\n",
        "    print('%r => %s [%s]' % (doc, prediction, y))"
      ],
      "execution_count": 101,
      "outputs": [
        {
          "output_type": "stream",
          "text": [
            "'independ est bund lind majest roup simples pq pra vot preconceit ' => Positivo [Positivo]\n",
            "'apen fic melhor ' => Positivo [Positivo]\n",
            "'\" anunci vitori ant pov vot \", diz cir gom fern haddad ' => Neutro [Neutro]\n",
            "'explor petróle país prepar retom após cris ' => Neutro [Neutro]\n",
            "'ataqu embaix apiment cris turqu eua ' => Neutro [Neutro]\n",
            "'vai deix alckmin ganh ? tant gent morr caus .... ' => Negativo [Negativo]\n",
            "'pra const rest brasil pi prefeit capit paul tant aguent fic final mandat ' => Negativo [Negativo]\n",
            "'pesso possu curs superi bolsonar intens vot sab signif ? nad ' => Positivo [Positivo]\n",
            "'avis leit nov númer chec fak new receb algum conteúd acredit ser fals ? envi (- xx -) ' => Neutro [Neutro]\n",
            "'cir diz substitut lul talv trein necess ' => Neutro [Neutro]\n",
            "'menin mei quer fal polít hj tô descaralh dei cont assunt polít fic anális hj ' => Negativo [Negativo]\n",
            "'dia * ' => Positivo [Positivo]\n",
            "'disput tá vai segund turn bolsonar prov nov presid pesquis ibop ' => Neutro [Neutro]\n",
            "'deu ceu apel decent marin sec ' => Negativo [Negativo]\n",
            "'pra troux acredit soci dá cert acredit bolsonar sofr ataqu aceit viv mund paralel amig ! ' => Positivo [Positivo]\n",
            "'?? new wallpap ?? ?? ?? tem surviv ?? by ?? scom fic igual expepress outr mov fic legal ' => Positivo [Positivo]\n",
            "'ent med agor fat infeliz haddad corr séri risc perd ° turn cir cas ganh boa diferenç ' => Negativo [Negativo]\n",
            "'aí entr tribun espor aberr excrec band sujeit corrupt aceit autoridad epa ond vim film ? ' => Positivo [Positivo]\n",
            "'tent mando vide zap fal vai volt argument fal tod outr ministr lul falcatru ceg tad ach menos corrupt (((( ' => Negativo [Negativo]\n",
            "'tá boul haddad cir ? algum destaqu ? consig ver cont internet ' => Negativo [Negativo]\n"
          ],
          "name": "stdout"
        }
      ]
    },
    {
      "cell_type": "markdown",
      "metadata": {
        "id": "RiZyLJP05gKy"
      },
      "source": [
        "## Logistic Regression with cross-validation and gridsearch \n",
        "Doing CV and gridsearch on the model with the best performance with the default settings "
      ]
    },
    {
      "cell_type": "code",
      "metadata": {
        "id": "b8A0vi2j5grx"
      },
      "source": [
        "model_LR = Pipeline([\n",
        "    ('vect', CountVectorizer(ngram_range=(1, 2))),\n",
        "    ('tfidf', TfidfTransformer()),\n",
        "    ('clf', LogisticRegression(random_state=42, multi_class='multinomial', max_iter=500, n_jobs=-1)),\n",
        "])"
      ],
      "execution_count": 102,
      "outputs": []
    },
    {
      "cell_type": "code",
      "metadata": {
        "id": "RVkm2xmRLG94"
      },
      "source": [
        "param_grid_LR = {\n",
        "    'clf__solver': ['newton-cg', 'lbfgs'],\n",
        "    'clf__penalty': ['l2', 'none']\n",
        "}"
      ],
      "execution_count": 115,
      "outputs": []
    },
    {
      "cell_type": "code",
      "metadata": {
        "id": "DQ6QFTbNlOPB"
      },
      "source": [
        "grid_LR = GridSearchCV(param_grid=param_grid_LR, estimator=model_LR, \n",
        "                        scoring='accuracy', cv=5, verbose=1)"
      ],
      "execution_count": 116,
      "outputs": []
    },
    {
      "cell_type": "code",
      "metadata": {
        "id": "VENM5GkYk_NE"
      },
      "source": [
        "grid_LR.fit(X_tweets, y_classes)"
      ],
      "execution_count": null,
      "outputs": []
    },
    {
      "cell_type": "code",
      "metadata": {
        "id": "70JZ0tehOHkv"
      },
      "source": [
        "print(grid_LR.best_params_)"
      ],
      "execution_count": null,
      "outputs": []
    },
    {
      "cell_type": "code",
      "metadata": {
        "id": "cpAJxQsa29kw"
      },
      "source": [
        "model = LogisticRegression(random_state=42, multi_class='multinomial', max_iter=100, n_jobs=-1, solver= 'newton-cg')"
      ],
      "execution_count": 105,
      "outputs": []
    },
    {
      "cell_type": "code",
      "metadata": {
        "id": "qYNI97EA29lI"
      },
      "source": [
        "model_LR = Pipeline([\n",
        "    ('vect', CountVectorizer(ngram_range=(1, 2))),\n",
        "    ('tfidf', TfidfTransformer()),\n",
        "    ('clf', model),\n",
        "])"
      ],
      "execution_count": 106,
      "outputs": []
    },
    {
      "cell_type": "code",
      "metadata": {
        "id": "-VHQnIzf4HHY"
      },
      "source": [
        "predictions_LR = cross_val_predict(model_LR, X_tweets, y_classes, cv = 5)"
      ],
      "execution_count": 106,
      "outputs": []
    },
    {
      "cell_type": "code",
      "metadata": {
        "id": "KcJ_aY2L4HHe",
        "colab": {
          "base_uri": "https://localhost:8080/"
        },
        "outputId": "384d5af7-0521-415b-fec8-0aca035a6162"
      },
      "source": [
        "print(classification_report(y_classes, predictions_LR))"
      ],
      "execution_count": 107,
      "outputs": [
        {
          "output_type": "stream",
          "text": [
            "              precision    recall  f1-score   support\n",
            "\n",
            "    Negativo       0.72      0.78      0.75     28000\n",
            "      Neutro       0.85      0.85      0.85     27991\n",
            "    Positivo       0.68      0.63      0.65     27939\n",
            "\n",
            "    accuracy                           0.75     83930\n",
            "   macro avg       0.75      0.75      0.75     83930\n",
            "weighted avg       0.75      0.75      0.75     83930\n",
            "\n"
          ],
          "name": "stdout"
        }
      ]
    },
    {
      "cell_type": "code",
      "metadata": {
        "id": "vESsQSYP4HHf",
        "outputId": "960d87a6-0d33-4278-950a-fedcfec2eff3",
        "colab": {
          "base_uri": "https://localhost:8080/"
        }
      },
      "source": [
        "for doc, prediction, y in zip(X_test[0:20], predictions_LR[0:20], y_test[0:20]):\n",
        "    print('%r => %s [%s]' % (doc, prediction, y))"
      ],
      "execution_count": 109,
      "outputs": [
        {
          "output_type": "stream",
          "text": [
            "'nao mex mulh bolsonar ! sao bix l defen sempr hah ' => Positivo [Positivo]\n",
            "'últ ele presid jur ia vot \" menos pi \" jog vot ei ano situ bem pi vend hor volt direit segund turn pod ser nome ganh ' => Neutro [Negativo]\n",
            "'jap execut seil membr seit conden ataqu gás sarin ' => Positivo [Neutro]\n",
            "'tav lend pass pass convers elei bolsonar dei cont tá escrit ali dev ser convers norm pesso empat superi bláblábl pens pont cheg escut ' => Neutro [Negativo]\n",
            "\"roqu ' caç furacã ' repet cen ano anteri enc furacã florenc \" => Positivo [Neutro]\n",
            "'aaaaaaaaa alckmin fiz oq fal ' => Neutro [Negativo]\n",
            "\"areth franklin ' grav doent ', diz amig famíl can \" => Negativo [Neutro]\n",
            "'oh cois and bik recicl lix vegetari lei the guardian intelig vot pt vot part corrupt vai além ser politic corret ideolog pens crít bik legal ' => Negativo [Positivo]\n",
            "'alt com corromp vai ter intervenç pra ser ant ele ' => Positivo [Negativo]\n",
            "'obrig ' => Positivo [Positivo]\n",
            "'sim desfrut mesm dur ano mín difer algum polít quer censur míd soc ! pass bem ! ob bom concord cois abraç ! ' => Neutro [Positivo]\n",
            "'govern brasil esper áre pré sal vend leilã ' => Neutro [Neutro]\n",
            "'trist porqu amoed prefer pra ganh ele ' => Neutro [Negativo]\n",
            "'obrig anj ' => Neutro [Positivo]\n",
            "'can areth franklin morr ano ' => Positivo [Neutro]\n",
            "'herm .... tá invert discurs fal bolsonar paul gued tiracol retruc mim fal filh lul ach depress coring tá faz kkkkk tam junt sempr herm quier ! ' => Neutro [Positivo]\n",
            "'obrig apoi ! nest ret final decis apoi tod mund ajud convers amig famili ? ' => Negativo [Positivo]\n",
            "'quer âmoed ganh ' => Neutro [Negativo]\n",
            "'plan govern ' => Neutro [Negativo]\n",
            "'bel enrol ' => Neutro [Positivo]\n"
          ],
          "name": "stdout"
        }
      ]
    },
    {
      "cell_type": "markdown",
      "metadata": {
        "id": "3E9RvBzoJpNv"
      },
      "source": [
        "## Exporting models"
      ]
    },
    {
      "cell_type": "code",
      "metadata": {
        "id": "UVpOeP1v7luq"
      },
      "source": [
        "import pickle"
      ],
      "execution_count": null,
      "outputs": []
    },
    {
      "cell_type": "code",
      "metadata": {
        "id": "P3ufMJai7KX4"
      },
      "source": [
        "#filename = 'LR_model.sav'\n",
        "pickle.dump(model_LR, open('LR_model_we', 'wb'))"
      ],
      "execution_count": null,
      "outputs": []
    },
    {
      "cell_type": "code",
      "metadata": {
        "id": "-bXYj-yg8Hyu"
      },
      "source": [
        "model_LR.predict(X_test)"
      ],
      "execution_count": null,
      "outputs": []
    },
    {
      "cell_type": "code",
      "metadata": {
        "id": "Az_tSLdZyBC8"
      },
      "source": [
        "predictions = loaded_model.predict(X_test)"
      ],
      "execution_count": null,
      "outputs": []
    },
    {
      "cell_type": "code",
      "metadata": {
        "id": "-5mIvaVrlFKk"
      },
      "source": [
        "print(classification_report(y_test, predictions))"
      ],
      "execution_count": null,
      "outputs": []
    }
  ]
}