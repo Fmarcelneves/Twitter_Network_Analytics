{
  "nbformat": 4,
  "nbformat_minor": 0,
  "metadata": {
    "colab": {
      "name": "Machine learning model construction_Felipe_M_Neves_political-theme.ipynb",
      "provenance": [],
      "collapsed_sections": [],
      "toc_visible": true,
      "include_colab_link": true
    },
    "kernelspec": {
      "name": "python3",
      "display_name": "Python 3"
    }
  },
  "cells": [
    {
      "cell_type": "markdown",
      "metadata": {
        "id": "view-in-github",
        "colab_type": "text"
      },
      "source": [
        "<a href=\"https://colab.research.google.com/github/Fmarcelneves/Twitter_Network_Analytics/blob/main/Machine_learning_model_construction_Felipe_M_Neves_political_theme.ipynb\" target=\"_parent\"><img src=\"https://colab.research.google.com/assets/colab-badge.svg\" alt=\"Open In Colab\"/></a>"
      ]
    },
    {
      "cell_type": "markdown",
      "metadata": {
        "_uuid": "39b49805abea346b301e8be2f6317f41f2040cb0",
        "id": "_ATEjsR7ojnq"
      },
      "source": [
        "<h1>Portuguese Tweets for Sentiment Analysis using nltk and sklearn</h1>"
      ]
    },
    {
      "cell_type": "code",
      "metadata": {
        "colab": {
          "base_uri": "https://localhost:8080/"
        },
        "id": "kjr3G2adsHl-",
        "outputId": "408e0714-2a7f-49b6-cea9-fb440e53fa0f"
      },
      "source": [
        "!pip install xgboost"
      ],
      "execution_count": null,
      "outputs": [
        {
          "output_type": "stream",
          "text": [
            "Requirement already satisfied: xgboost in /usr/local/lib/python3.6/dist-packages (0.90)\n",
            "Requirement already satisfied: numpy in /usr/local/lib/python3.6/dist-packages (from xgboost) (1.19.5)\n",
            "Requirement already satisfied: scipy in /usr/local/lib/python3.6/dist-packages (from xgboost) (1.4.1)\n"
          ],
          "name": "stdout"
        }
      ]
    },
    {
      "cell_type": "markdown",
      "metadata": {
        "_uuid": "b4f29bda96d086b23f57e2d4aa970c3c1e037578",
        "id": "nrMGO10Aojnq"
      },
      "source": [
        "<h2>Load libraries</h2>"
      ]
    },
    {
      "cell_type": "code",
      "metadata": {
        "trusted": true,
        "_uuid": "919b480a6075584c5f93cf511e90001ddcc7b649",
        "id": "VLxC5kVxojnq"
      },
      "source": [
        "import os\n",
        "import pandas as pd\n",
        "import numpy as np\n",
        "import random\n",
        "import re\n",
        "import nltk\n",
        "from nltk.tokenize import word_tokenize\n",
        "from nltk.tokenize import wordpunct_tokenize\n",
        "# from nltk.tokenize import sent_tokenize (Tokenization)\n",
        "from nltk.probability import FreqDist\n",
        "from nltk.metrics import ConfusionMatrix\n",
        "from wordcloud import WordCloud\n",
        "import matplotlib.pyplot as plt\n",
        "from sklearn.feature_extraction.text import CountVectorizer\n",
        "from sklearn.feature_extraction.text import TfidfTransformer\n",
        "from sklearn.naive_bayes import MultinomialNB\n",
        "from sklearn.linear_model import SGDClassifier\n",
        "from sklearn.linear_model import LogisticRegression\n",
        "from sklearn.svm import SVC\n",
        "from sklearn.ensemble import RandomForestClassifier\n",
        "from sklearn.ensemble import GradientBoostingClassifier\n",
        "from sklearn.pipeline import Pipeline\n",
        "from sklearn import metrics\n",
        "from sklearn.model_selection import GridSearchCV\n",
        "from sklearn.metrics import classification_report\n",
        "from sklearn.model_selection import cross_val_predict\n",
        "from sklearn.model_selection import train_test_split\n",
        "import  xgboost as xgb"
      ],
      "execution_count": null,
      "outputs": []
    },
    {
      "cell_type": "code",
      "metadata": {
        "colab": {
          "base_uri": "https://localhost:8080/"
        },
        "id": "9eMtkH6n6u6b",
        "outputId": "bcc64908-a3ed-4d45-9a6f-6a61a49a2054"
      },
      "source": [
        " nltk.download('stopwords')"
      ],
      "execution_count": null,
      "outputs": [
        {
          "output_type": "stream",
          "text": [
            "[nltk_data] Downloading package stopwords to /root/nltk_data...\n",
            "[nltk_data]   Package stopwords is already up-to-date!\n"
          ],
          "name": "stdout"
        },
        {
          "output_type": "execute_result",
          "data": {
            "text/plain": [
              "True"
            ]
          },
          "metadata": {
            "tags": []
          },
          "execution_count": 3
        }
      ]
    },
    {
      "cell_type": "markdown",
      "metadata": {
        "_uuid": "6340d1fa4e6c1eb7317bc41d0e455f38cecff5e7",
        "id": "Oh5yVZT2ojnr"
      },
      "source": [
        "<h2>Load training dataset</h2>"
      ]
    },
    {
      "cell_type": "markdown",
      "metadata": {
        "_uuid": "3796005c75ed73e961631cd6148ac209865498d7",
        "id": "VlaZL-WJojnr"
      },
      "source": [
        "<h4>Load and prepare X_train, y_train</h4>"
      ]
    },
    {
      "cell_type": "code",
      "metadata": {
        "trusted": true,
        "_uuid": "5d6cf76ed57e7c9f7046c776b981afae40bc16cc",
        "id": "Gq5BNsUOojnr"
      },
      "source": [
        "NeutralHash = pd.read_csv('TweetsNeutralHash.csv',encoding='utf-8')\n",
        "NeutralNews = pd.read_csv('TweetsNeutralNews.csv',encoding='utf-8')\n",
        "Political_Neg_Pos = pd.read_csv('TweetsWithTheme.csv',encoding='utf-8')\n",
        "Classes = pd.read_csv('Train3Classes.csv', encoding='utf-8', sep=';')"
      ],
      "execution_count": null,
      "outputs": []
    },
    {
      "cell_type": "code",
      "metadata": {
        "id": "FU0Lw4L1EfBs"
      },
      "source": [
        "NeutralHash  = NeutralHash[['tweet_text', 'sentiment']]\n",
        "NeutralHash.columns = ['texto', 'classificacao']"
      ],
      "execution_count": null,
      "outputs": []
    },
    {
      "cell_type": "code",
      "metadata": {
        "colab": {
          "base_uri": "https://localhost:8080/"
        },
        "id": "IjZfD9KNFBs0",
        "outputId": "bfadd762-aefd-426b-a6c7-a48e1bc4c137"
      },
      "source": [
        "NeutralHash.shape"
      ],
      "execution_count": null,
      "outputs": [
        {
          "output_type": "execute_result",
          "data": {
            "text/plain": [
              "(15727, 2)"
            ]
          },
          "metadata": {
            "tags": []
          },
          "execution_count": 6
        }
      ]
    },
    {
      "cell_type": "code",
      "metadata": {
        "id": "J9jEXZkLJFkc"
      },
      "source": [
        "NeutralHash = NeutralHash.drop_duplicates().reset_index(drop=True)"
      ],
      "execution_count": null,
      "outputs": []
    },
    {
      "cell_type": "code",
      "metadata": {
        "colab": {
          "base_uri": "https://localhost:8080/"
        },
        "id": "1gNt_G2lJOPc",
        "outputId": "755ae802-6b37-447e-cff5-6f7e61ede418"
      },
      "source": [
        "NeutralHash.shape"
      ],
      "execution_count": null,
      "outputs": [
        {
          "output_type": "execute_result",
          "data": {
            "text/plain": [
              "(15515, 2)"
            ]
          },
          "metadata": {
            "tags": []
          },
          "execution_count": 8
        }
      ]
    },
    {
      "cell_type": "code",
      "metadata": {
        "id": "Hug5u6-XEuWO"
      },
      "source": [
        "NeutralNews  = NeutralNews[['tweet_text', 'sentiment']]\n",
        "NeutralNews.columns = ['texto', 'classificacao']"
      ],
      "execution_count": null,
      "outputs": []
    },
    {
      "cell_type": "code",
      "metadata": {
        "colab": {
          "base_uri": "https://localhost:8080/"
        },
        "id": "kIV4NnaHFGuE",
        "outputId": "a5f9c1c5-ac2e-4573-de0f-2770f31eb75d"
      },
      "source": [
        "NeutralNews.shape"
      ],
      "execution_count": null,
      "outputs": [
        {
          "output_type": "execute_result",
          "data": {
            "text/plain": [
              "(37556, 2)"
            ]
          },
          "metadata": {
            "tags": []
          },
          "execution_count": 10
        }
      ]
    },
    {
      "cell_type": "code",
      "metadata": {
        "id": "7TYMrbycJfX5"
      },
      "source": [
        "NeutralNews = NeutralNews.drop_duplicates().reset_index(drop=True)"
      ],
      "execution_count": null,
      "outputs": []
    },
    {
      "cell_type": "code",
      "metadata": {
        "colab": {
          "base_uri": "https://localhost:8080/"
        },
        "id": "LlxcOlmfJkbN",
        "outputId": "fa8974ec-3709-4f82-ab6b-aa5b8046b47b"
      },
      "source": [
        "NeutralNews.shape"
      ],
      "execution_count": null,
      "outputs": [
        {
          "output_type": "execute_result",
          "data": {
            "text/plain": [
              "(37509, 2)"
            ]
          },
          "metadata": {
            "tags": []
          },
          "execution_count": 12
        }
      ]
    },
    {
      "cell_type": "code",
      "metadata": {
        "id": "vHTeO78UxI3w"
      },
      "source": [
        "Political_Neg_Pos  = Political_Neg_Pos[['tweet_text', 'sentiment']]\n",
        "Political_Neg_Pos.columns = ['texto', 'classificacao']"
      ],
      "execution_count": null,
      "outputs": []
    },
    {
      "cell_type": "code",
      "metadata": {
        "colab": {
          "base_uri": "https://localhost:8080/"
        },
        "id": "iGqnSZ-lJx5O",
        "outputId": "a946a155-78c0-479f-e373-d78416231dc6"
      },
      "source": [
        "Political_Neg_Pos.shape"
      ],
      "execution_count": null,
      "outputs": [
        {
          "output_type": "execute_result",
          "data": {
            "text/plain": [
              "(61591, 2)"
            ]
          },
          "metadata": {
            "tags": []
          },
          "execution_count": 14
        }
      ]
    },
    {
      "cell_type": "code",
      "metadata": {
        "id": "XZoFHfaDJpRG"
      },
      "source": [
        "Political_Neg_Pos = Political_Neg_Pos.drop_duplicates().reset_index(drop=True)"
      ],
      "execution_count": null,
      "outputs": []
    },
    {
      "cell_type": "code",
      "metadata": {
        "colab": {
          "base_uri": "https://localhost:8080/"
        },
        "id": "_SO-ueIiFOE7",
        "outputId": "e864e8cc-2e11-4c5e-f464-287ac38e015e"
      },
      "source": [
        "Political_Neg_Pos.shape"
      ],
      "execution_count": null,
      "outputs": [
        {
          "output_type": "execute_result",
          "data": {
            "text/plain": [
              "(61283, 2)"
            ]
          },
          "metadata": {
            "tags": []
          },
          "execution_count": 16
        }
      ]
    },
    {
      "cell_type": "code",
      "metadata": {
        "id": "UP8ROwB5Font"
      },
      "source": [
        "NeutralHash = NeutralHash.sample(8000) #14000 #8000"
      ],
      "execution_count": null,
      "outputs": []
    },
    {
      "cell_type": "code",
      "metadata": {
        "colab": {
          "base_uri": "https://localhost:8080/"
        },
        "id": "dVhPGkbpWzkB",
        "outputId": "897f2ab7-168b-4d4b-9cda-c91e0559df1e"
      },
      "source": [
        "NeutralHash.shape"
      ],
      "execution_count": null,
      "outputs": [
        {
          "output_type": "execute_result",
          "data": {
            "text/plain": [
              "(8000, 2)"
            ]
          },
          "metadata": {
            "tags": []
          },
          "execution_count": 18
        }
      ]
    },
    {
      "cell_type": "code",
      "metadata": {
        "id": "e3ewkebhGNVV"
      },
      "source": [
        "NeutralNews = NeutralNews.sample(20000) #14000 #20000"
      ],
      "execution_count": null,
      "outputs": []
    },
    {
      "cell_type": "code",
      "metadata": {
        "colab": {
          "base_uri": "https://localhost:8080/"
        },
        "id": "61-uuGesXVjq",
        "outputId": "ef4b0822-e0d9-45a7-9bf7-40110027a36d"
      },
      "source": [
        "NeutralNews.shape"
      ],
      "execution_count": null,
      "outputs": [
        {
          "output_type": "execute_result",
          "data": {
            "text/plain": [
              "(20000, 2)"
            ]
          },
          "metadata": {
            "tags": []
          },
          "execution_count": 20
        }
      ]
    },
    {
      "cell_type": "code",
      "metadata": {
        "colab": {
          "base_uri": "https://localhost:8080/"
        },
        "id": "Ka26Jwf0lIrv",
        "outputId": "fed4eae8-ac15-48e4-89a2-4bfbca7073d4"
      },
      "source": [
        "Political_Neg_Pos.loc[Political_Neg_Pos['classificacao'] == 'Positivo'].shape"
      ],
      "execution_count": null,
      "outputs": [
        {
          "output_type": "execute_result",
          "data": {
            "text/plain": [
              "(32566, 2)"
            ]
          },
          "metadata": {
            "tags": []
          },
          "execution_count": 21
        }
      ]
    },
    {
      "cell_type": "code",
      "metadata": {
        "colab": {
          "base_uri": "https://localhost:8080/"
        },
        "id": "fPMoRx4-lUbN",
        "outputId": "0e38ff2f-2d2d-4c6d-afc3-446e1acd00ee"
      },
      "source": [
        "Political_Neg_Pos.loc[Political_Neg_Pos['classificacao'] == 'Negativo'].shape"
      ],
      "execution_count": null,
      "outputs": [
        {
          "output_type": "execute_result",
          "data": {
            "text/plain": [
              "(28717, 2)"
            ]
          },
          "metadata": {
            "tags": []
          },
          "execution_count": 22
        }
      ]
    },
    {
      "cell_type": "code",
      "metadata": {
        "id": "va8yRZWdTxRm"
      },
      "source": [
        "Political_Pos = Political_Neg_Pos.loc[Political_Neg_Pos['classificacao'] == 'Positivo'].sample(20000) #18000 #20000 #14000"
      ],
      "execution_count": null,
      "outputs": []
    },
    {
      "cell_type": "code",
      "metadata": {
        "colab": {
          "base_uri": "https://localhost:8080/"
        },
        "id": "qjYPPBb-XqKY",
        "outputId": "3172983d-6ef2-4747-d6fe-fd50d9f05f0a"
      },
      "source": [
        "Political_Pos.shape"
      ],
      "execution_count": null,
      "outputs": [
        {
          "output_type": "execute_result",
          "data": {
            "text/plain": [
              "(20000, 2)"
            ]
          },
          "metadata": {
            "tags": []
          },
          "execution_count": 24
        }
      ]
    },
    {
      "cell_type": "code",
      "metadata": {
        "id": "AA476jZ74vb-"
      },
      "source": [
        "Classes_Pos  = Classes[['tweet_text', 'sentiment']]\n",
        "Classes_Pos.columns = ['texto', 'classificacao']"
      ],
      "execution_count": null,
      "outputs": []
    },
    {
      "cell_type": "code",
      "metadata": {
        "colab": {
          "base_uri": "https://localhost:8080/"
        },
        "id": "HxaVKn_5AQzt",
        "outputId": "af631f47-087a-4ead-de1c-d48f0041c5f4"
      },
      "source": [
        "Classes_Pos['classificacao'] = Classes_Pos['classificacao'].map({0: 'Negativo', 1: 'Positivo', 2: 'Neutro'})"
      ],
      "execution_count": null,
      "outputs": [
        {
          "output_type": "stream",
          "text": [
            "/usr/local/lib/python3.6/dist-packages/ipykernel_launcher.py:1: SettingWithCopyWarning: \n",
            "A value is trying to be set on a copy of a slice from a DataFrame.\n",
            "Try using .loc[row_indexer,col_indexer] = value instead\n",
            "\n",
            "See the caveats in the documentation: https://pandas.pydata.org/pandas-docs/stable/user_guide/indexing.html#returning-a-view-versus-a-copy\n",
            "  \"\"\"Entry point for launching an IPython kernel.\n"
          ],
          "name": "stderr"
        }
      ]
    },
    {
      "cell_type": "code",
      "metadata": {
        "id": "ZDht-xymIyOF"
      },
      "source": [
        "Classes_Pos = Classes_Pos.loc[Classes_Pos['classificacao'] == 'Positivo'].sample(8000) #10000 #14000 #8000"
      ],
      "execution_count": null,
      "outputs": []
    },
    {
      "cell_type": "code",
      "metadata": {
        "colab": {
          "base_uri": "https://localhost:8080/"
        },
        "id": "LnRd8nmwJD14",
        "outputId": "2cffad75-fc9b-4bf1-92be-abfae1eb71ca"
      },
      "source": [
        "Classes_Pos.shape"
      ],
      "execution_count": null,
      "outputs": [
        {
          "output_type": "execute_result",
          "data": {
            "text/plain": [
              "(8000, 2)"
            ]
          },
          "metadata": {
            "tags": []
          },
          "execution_count": 28
        }
      ]
    },
    {
      "cell_type": "code",
      "metadata": {
        "id": "zp0GdYQgGRTc"
      },
      "source": [
        "Political_Neg = Political_Neg_Pos.loc[Political_Neg_Pos['classificacao'] == 'Negativo'].sample(28000)"
      ],
      "execution_count": null,
      "outputs": []
    },
    {
      "cell_type": "code",
      "metadata": {
        "colab": {
          "base_uri": "https://localhost:8080/"
        },
        "id": "EOp1X9VHXtvg",
        "outputId": "2b1a6ed6-091a-4217-f9d4-f4566a160bcd"
      },
      "source": [
        "Political_Neg.shape"
      ],
      "execution_count": null,
      "outputs": [
        {
          "output_type": "execute_result",
          "data": {
            "text/plain": [
              "(28000, 2)"
            ]
          },
          "metadata": {
            "tags": []
          },
          "execution_count": 30
        }
      ]
    },
    {
      "cell_type": "code",
      "metadata": {
        "colab": {
          "base_uri": "https://localhost:8080/",
          "height": 419
        },
        "id": "oXfhSUO6I-DC",
        "outputId": "5534b872-bab6-42a3-dd44-3125a6a297a0"
      },
      "source": [
        "dataset = pd.concat([NeutralHash, NeutralNews, Political_Pos, Classes_Pos, Political_Neg]).drop_duplicates().reset_index(drop=True)\n",
        "dataset"
      ],
      "execution_count": null,
      "outputs": [
        {
          "output_type": "execute_result",
          "data": {
            "text/html": [
              "<div>\n",
              "<style scoped>\n",
              "    .dataframe tbody tr th:only-of-type {\n",
              "        vertical-align: middle;\n",
              "    }\n",
              "\n",
              "    .dataframe tbody tr th {\n",
              "        vertical-align: top;\n",
              "    }\n",
              "\n",
              "    .dataframe thead th {\n",
              "        text-align: right;\n",
              "    }\n",
              "</style>\n",
              "<table border=\"1\" class=\"dataframe\">\n",
              "  <thead>\n",
              "    <tr style=\"text-align: right;\">\n",
              "      <th></th>\n",
              "      <th>texto</th>\n",
              "      <th>classificacao</th>\n",
              "    </tr>\n",
              "  </thead>\n",
              "  <tbody>\n",
              "    <tr>\n",
              "      <th>0</th>\n",
              "      <td>#FATO EU MUITO MENDIGUEI, MAS CREIO QUE HOJE A...</td>\n",
              "      <td>Neutro</td>\n",
              "    </tr>\n",
              "    <tr>\n",
              "      <th>1</th>\n",
              "      <td>Não tá fácil pra ninguém, não quer dizer que n...</td>\n",
              "      <td>Neutro</td>\n",
              "    </tr>\n",
              "    <tr>\n",
              "      <th>2</th>\n",
              "      <td>Vocês também fazem twittes mentais quando estã...</td>\n",
              "      <td>Neutro</td>\n",
              "    </tr>\n",
              "    <tr>\n",
              "      <th>3</th>\n",
              "      <td>#BBdebate Ninguém está notando isso, mas desde...</td>\n",
              "      <td>Neutro</td>\n",
              "    </tr>\n",
              "    <tr>\n",
              "      <th>4</th>\n",
              "      <td>Jogando em Rio Pardo, a AMF de Marau venceu o ...</td>\n",
              "      <td>Neutro</td>\n",
              "    </tr>\n",
              "    <tr>\n",
              "      <th>...</th>\n",
              "      <td>...</td>\n",
              "      <td>...</td>\n",
              "    </tr>\n",
              "    <tr>\n",
              "      <th>83667</th>\n",
              "      <td>@AleYoussef @Haddad_Fernando voto útil no Ciro...</td>\n",
              "      <td>Negativo</td>\n",
              "    </tr>\n",
              "    <tr>\n",
              "      <th>83668</th>\n",
              "      <td>Novamente!! :( :( https://t.co/pF6sjoJIre</td>\n",
              "      <td>Negativo</td>\n",
              "    </tr>\n",
              "    <tr>\n",
              "      <th>83669</th>\n",
              "      <td>não quero que o bozo vença, nunca estive tão p...</td>\n",
              "      <td>Negativo</td>\n",
              "    </tr>\n",
              "    <tr>\n",
              "      <th>83670</th>\n",
              "      <td>Se o petista #LulaHadad vencer a corrida eleit...</td>\n",
              "      <td>Negativo</td>\n",
              "    </tr>\n",
              "    <tr>\n",
              "      <th>83671</th>\n",
              "      <td>@bwforeourspring eu fazia letras antes e era l...</td>\n",
              "      <td>Negativo</td>\n",
              "    </tr>\n",
              "  </tbody>\n",
              "</table>\n",
              "<p>83672 rows × 2 columns</p>\n",
              "</div>"
            ],
            "text/plain": [
              "                                                   texto classificacao\n",
              "0      #FATO EU MUITO MENDIGUEI, MAS CREIO QUE HOJE A...        Neutro\n",
              "1      Não tá fácil pra ninguém, não quer dizer que n...        Neutro\n",
              "2      Vocês também fazem twittes mentais quando estã...        Neutro\n",
              "3      #BBdebate Ninguém está notando isso, mas desde...        Neutro\n",
              "4      Jogando em Rio Pardo, a AMF de Marau venceu o ...        Neutro\n",
              "...                                                  ...           ...\n",
              "83667  @AleYoussef @Haddad_Fernando voto útil no Ciro...      Negativo\n",
              "83668          Novamente!! :( :( https://t.co/pF6sjoJIre      Negativo\n",
              "83669  não quero que o bozo vença, nunca estive tão p...      Negativo\n",
              "83670  Se o petista #LulaHadad vencer a corrida eleit...      Negativo\n",
              "83671  @bwforeourspring eu fazia letras antes e era l...      Negativo\n",
              "\n",
              "[83672 rows x 2 columns]"
            ]
          },
          "metadata": {
            "tags": []
          },
          "execution_count": 31
        }
      ]
    },
    {
      "cell_type": "code",
      "metadata": {
        "colab": {
          "base_uri": "https://localhost:8080/"
        },
        "id": "2abip6xKlfm6",
        "outputId": "e0479bb1-1234-448e-f683-aa4f6b5b91f0"
      },
      "source": [
        "dataset.shape"
      ],
      "execution_count": null,
      "outputs": [
        {
          "output_type": "execute_result",
          "data": {
            "text/plain": [
              "(83672, 2)"
            ]
          },
          "metadata": {
            "tags": []
          },
          "execution_count": 32
        }
      ]
    },
    {
      "cell_type": "code",
      "metadata": {
        "id": "99aGu-b4V6cR"
      },
      "source": [
        "#dataset = pd.concat([NeutralHash, NeutralNews, Political_Pos, Political_Neg]).drop_duplicates().reset_index(drop=True)\n",
        "#dataset"
      ],
      "execution_count": null,
      "outputs": []
    },
    {
      "cell_type": "code",
      "metadata": {
        "id": "YTJGBA3RaUxD"
      },
      "source": [
        "#dataset = pd.concat([NeutralNews, Political_Pos, Political_Neg]).drop_duplicates().reset_index(drop=True)\n",
        "#dataset"
      ],
      "execution_count": null,
      "outputs": []
    },
    {
      "cell_type": "markdown",
      "metadata": {
        "_uuid": "099ce684b4fe8f313bb2c6fc51bee367fb79c9fe",
        "id": "kpOHnqZmojnr"
      },
      "source": [
        "<h4>Exploratory Analysis</h4>"
      ]
    },
    {
      "cell_type": "code",
      "metadata": {
        "trusted": true,
        "_uuid": "515a9096a3a52d337223b5c0599bbf3fe890f457",
        "colab": {
          "base_uri": "https://localhost:8080/",
          "height": 204
        },
        "id": "08yO3uJfojnr",
        "outputId": "bba72fb3-4971-44b8-d2ab-757f05246f39"
      },
      "source": [
        "dataset.sample(5)"
      ],
      "execution_count": null,
      "outputs": [
        {
          "output_type": "execute_result",
          "data": {
            "text/html": [
              "<div>\n",
              "<style scoped>\n",
              "    .dataframe tbody tr th:only-of-type {\n",
              "        vertical-align: middle;\n",
              "    }\n",
              "\n",
              "    .dataframe tbody tr th {\n",
              "        vertical-align: top;\n",
              "    }\n",
              "\n",
              "    .dataframe thead th {\n",
              "        text-align: right;\n",
              "    }\n",
              "</style>\n",
              "<table border=\"1\" class=\"dataframe\">\n",
              "  <thead>\n",
              "    <tr style=\"text-align: right;\">\n",
              "      <th></th>\n",
              "      <th>texto</th>\n",
              "      <th>classificacao</th>\n",
              "    </tr>\n",
              "  </thead>\n",
              "  <tbody>\n",
              "    <tr>\n",
              "      <th>21205</th>\n",
              "      <td>Com incerteza eleitoral, risco-país do Brasil ...</td>\n",
              "      <td>Neutro</td>\n",
              "    </tr>\n",
              "    <tr>\n",
              "      <th>73961</th>\n",
              "      <td>@hackradt Setores da sociedade brasileira com ...</td>\n",
              "      <td>Negativo</td>\n",
              "    </tr>\n",
              "    <tr>\n",
              "      <th>62978</th>\n",
              "      <td>O que vai ser de Roni sem a sua \"ciganita\"? :(...</td>\n",
              "      <td>Negativo</td>\n",
              "    </tr>\n",
              "    <tr>\n",
              "      <th>16725</th>\n",
              "      <td>Dólar opera em queda, negociado abaixo dos R$ ...</td>\n",
              "      <td>Neutro</td>\n",
              "    </tr>\n",
              "    <tr>\n",
              "      <th>35536</th>\n",
              "      <td>\"Nós nunca subvertemos dados, candidato\" (Bonn...</td>\n",
              "      <td>Positivo</td>\n",
              "    </tr>\n",
              "  </tbody>\n",
              "</table>\n",
              "</div>"
            ],
            "text/plain": [
              "                                                   texto classificacao\n",
              "21205  Com incerteza eleitoral, risco-país do Brasil ...        Neutro\n",
              "73961  @hackradt Setores da sociedade brasileira com ...      Negativo\n",
              "62978  O que vai ser de Roni sem a sua \"ciganita\"? :(...      Negativo\n",
              "16725  Dólar opera em queda, negociado abaixo dos R$ ...        Neutro\n",
              "35536  \"Nós nunca subvertemos dados, candidato\" (Bonn...      Positivo"
            ]
          },
          "metadata": {
            "tags": []
          },
          "execution_count": 35
        }
      ]
    },
    {
      "cell_type": "code",
      "metadata": {
        "colab": {
          "base_uri": "https://localhost:8080/"
        },
        "id": "zSmFYy1yTuUH",
        "outputId": "63fcd081-cda0-49da-f1d7-aedcaceed9df"
      },
      "source": [
        "series = dataset['classificacao'].value_counts()\n",
        "series"
      ],
      "execution_count": null,
      "outputs": [
        {
          "output_type": "execute_result",
          "data": {
            "text/plain": [
              "Negativo    28000\n",
              "Neutro      27993\n",
              "Positivo    27679\n",
              "Name: classificacao, dtype: int64"
            ]
          },
          "metadata": {
            "tags": []
          },
          "execution_count": 36
        }
      ]
    },
    {
      "cell_type": "code",
      "metadata": {
        "id": "fa-v1dJ07uVp"
      },
      "source": [
        "%%capture\n",
        "!pip install plotly --upgrade\n",
        "from plotly import __version__\n",
        "print (__version__)\n",
        "import plotly.express as px\n",
        "from plotly.subplots import make_subplots\n",
        "import plotly.graph_objs as go\n",
        "import plotly as py\n",
        "#import plotly.figure_factory as ff\n",
        "from plotly import tools\n",
        "#import cufflinks as cf\n",
        "from plotly.offline import iplot, init_notebook_mode\n",
        "# Display all cell outputs\n",
        "from IPython.core.interactiveshell import InteractiveShell\n",
        "import plotly.io as pio\n",
        "pio.templates.default = \"plotly_white\""
      ],
      "execution_count": null,
      "outputs": []
    },
    {
      "cell_type": "code",
      "metadata": {
        "id": "oLkUd6G-8LFo"
      },
      "source": [
        "pd.options.plotting.backend = \"plotly\"\n"
      ],
      "execution_count": null,
      "outputs": []
    },
    {
      "cell_type": "code",
      "metadata": {
        "trusted": true,
        "_uuid": "754cdcf1f1b7e2d5abfc5a97f5c53891842be1e1",
        "colab": {
          "base_uri": "https://localhost:8080/",
          "height": 542
        },
        "id": "1GHwg04Tojnr",
        "outputId": "79de8939-34b9-4df4-ef90-23400a1f00b7"
      },
      "source": [
        "series.plot(kind='bar', title='Número de tweets classificados para cada sentimento considerado', \n",
        "labels={\"value\": \"Frequências\", \"index\": \"Sentimentos\"}, color = ['Negativo', 'Neutro', 'Positivo'], \n",
        "color_discrete_sequence =['#EF553B', '#00CC96', '#636EFA'])"
      ],
      "execution_count": null,
      "outputs": [
        {
          "output_type": "display_data",
          "data": {
            "text/html": [
              "<html>\n",
              "<head><meta charset=\"utf-8\" /></head>\n",
              "<body>\n",
              "    <div>            <script src=\"https://cdnjs.cloudflare.com/ajax/libs/mathjax/2.7.5/MathJax.js?config=TeX-AMS-MML_SVG\"></script><script type=\"text/javascript\">if (window.MathJax) {MathJax.Hub.Config({SVG: {font: \"STIX-Web\"}});}</script>                <script type=\"text/javascript\">window.PlotlyConfig = {MathJaxConfig: 'local'};</script>\n",
              "        <script src=\"https://cdn.plot.ly/plotly-latest.min.js\"></script>                <div id=\"78867dd9-b658-4da3-9772-ac1ff8b4b49b\" class=\"plotly-graph-div\" style=\"height:525px; width:100%;\"></div>            <script type=\"text/javascript\">                                    window.PLOTLYENV=window.PLOTLYENV || {};                                    if (document.getElementById(\"78867dd9-b658-4da3-9772-ac1ff8b4b49b\")) {                    Plotly.newPlot(                        \"78867dd9-b658-4da3-9772-ac1ff8b4b49b\",                        [{\"alignmentgroup\": \"True\", \"hovertemplate\": \"color=Negativo<br>Sentimentos=%{x}<br>Frequ\\u00eancias=%{y}<extra></extra>\", \"legendgroup\": \"Negativo\", \"marker\": {\"color\": \"#EF553B\"}, \"name\": \"Negativo\", \"offsetgroup\": \"Negativo\", \"orientation\": \"v\", \"showlegend\": true, \"textposition\": \"auto\", \"type\": \"bar\", \"x\": [\"Negativo\"], \"xaxis\": \"x\", \"y\": [28000], \"yaxis\": \"y\"}, {\"alignmentgroup\": \"True\", \"hovertemplate\": \"color=Neutro<br>Sentimentos=%{x}<br>Frequ\\u00eancias=%{y}<extra></extra>\", \"legendgroup\": \"Neutro\", \"marker\": {\"color\": \"#00CC96\"}, \"name\": \"Neutro\", \"offsetgroup\": \"Neutro\", \"orientation\": \"v\", \"showlegend\": true, \"textposition\": \"auto\", \"type\": \"bar\", \"x\": [\"Neutro\"], \"xaxis\": \"x\", \"y\": [27993], \"yaxis\": \"y\"}, {\"alignmentgroup\": \"True\", \"hovertemplate\": \"color=Positivo<br>Sentimentos=%{x}<br>Frequ\\u00eancias=%{y}<extra></extra>\", \"legendgroup\": \"Positivo\", \"marker\": {\"color\": \"#636EFA\"}, \"name\": \"Positivo\", \"offsetgroup\": \"Positivo\", \"orientation\": \"v\", \"showlegend\": true, \"textposition\": \"auto\", \"type\": \"bar\", \"x\": [\"Positivo\"], \"xaxis\": \"x\", \"y\": [27679], \"yaxis\": \"y\"}],                        {\"barmode\": \"relative\", \"legend\": {\"title\": {\"text\": \"color\"}, \"tracegroupgap\": 0}, \"template\": {\"data\": {\"bar\": [{\"error_x\": {\"color\": \"#2a3f5f\"}, \"error_y\": {\"color\": \"#2a3f5f\"}, \"marker\": {\"line\": {\"color\": \"white\", \"width\": 0.5}}, \"type\": \"bar\"}], \"barpolar\": [{\"marker\": {\"line\": {\"color\": \"white\", \"width\": 0.5}}, \"type\": \"barpolar\"}], \"carpet\": [{\"aaxis\": {\"endlinecolor\": \"#2a3f5f\", \"gridcolor\": \"#C8D4E3\", \"linecolor\": \"#C8D4E3\", \"minorgridcolor\": \"#C8D4E3\", \"startlinecolor\": \"#2a3f5f\"}, \"baxis\": {\"endlinecolor\": \"#2a3f5f\", \"gridcolor\": \"#C8D4E3\", \"linecolor\": \"#C8D4E3\", \"minorgridcolor\": \"#C8D4E3\", \"startlinecolor\": \"#2a3f5f\"}, \"type\": \"carpet\"}], \"choropleth\": [{\"colorbar\": {\"outlinewidth\": 0, \"ticks\": \"\"}, \"type\": \"choropleth\"}], \"contour\": [{\"colorbar\": {\"outlinewidth\": 0, \"ticks\": \"\"}, \"colorscale\": [[0.0, \"#0d0887\"], [0.1111111111111111, \"#46039f\"], [0.2222222222222222, \"#7201a8\"], [0.3333333333333333, \"#9c179e\"], [0.4444444444444444, \"#bd3786\"], [0.5555555555555556, \"#d8576b\"], [0.6666666666666666, \"#ed7953\"], [0.7777777777777778, \"#fb9f3a\"], [0.8888888888888888, \"#fdca26\"], [1.0, \"#f0f921\"]], \"type\": \"contour\"}], \"contourcarpet\": [{\"colorbar\": {\"outlinewidth\": 0, \"ticks\": \"\"}, \"type\": \"contourcarpet\"}], \"heatmap\": [{\"colorbar\": {\"outlinewidth\": 0, \"ticks\": \"\"}, \"colorscale\": [[0.0, \"#0d0887\"], [0.1111111111111111, \"#46039f\"], [0.2222222222222222, \"#7201a8\"], [0.3333333333333333, \"#9c179e\"], [0.4444444444444444, \"#bd3786\"], [0.5555555555555556, \"#d8576b\"], [0.6666666666666666, \"#ed7953\"], [0.7777777777777778, \"#fb9f3a\"], [0.8888888888888888, \"#fdca26\"], [1.0, \"#f0f921\"]], \"type\": \"heatmap\"}], \"heatmapgl\": [{\"colorbar\": {\"outlinewidth\": 0, \"ticks\": \"\"}, \"colorscale\": [[0.0, \"#0d0887\"], [0.1111111111111111, \"#46039f\"], [0.2222222222222222, \"#7201a8\"], [0.3333333333333333, \"#9c179e\"], [0.4444444444444444, \"#bd3786\"], [0.5555555555555556, \"#d8576b\"], [0.6666666666666666, \"#ed7953\"], [0.7777777777777778, \"#fb9f3a\"], [0.8888888888888888, \"#fdca26\"], [1.0, \"#f0f921\"]], \"type\": \"heatmapgl\"}], \"histogram\": [{\"marker\": {\"colorbar\": {\"outlinewidth\": 0, \"ticks\": \"\"}}, \"type\": \"histogram\"}], \"histogram2d\": [{\"colorbar\": {\"outlinewidth\": 0, \"ticks\": \"\"}, \"colorscale\": [[0.0, \"#0d0887\"], [0.1111111111111111, \"#46039f\"], [0.2222222222222222, \"#7201a8\"], [0.3333333333333333, \"#9c179e\"], [0.4444444444444444, \"#bd3786\"], [0.5555555555555556, \"#d8576b\"], [0.6666666666666666, \"#ed7953\"], [0.7777777777777778, \"#fb9f3a\"], [0.8888888888888888, \"#fdca26\"], [1.0, \"#f0f921\"]], \"type\": \"histogram2d\"}], \"histogram2dcontour\": [{\"colorbar\": {\"outlinewidth\": 0, \"ticks\": \"\"}, \"colorscale\": [[0.0, \"#0d0887\"], [0.1111111111111111, \"#46039f\"], [0.2222222222222222, \"#7201a8\"], [0.3333333333333333, \"#9c179e\"], [0.4444444444444444, \"#bd3786\"], [0.5555555555555556, \"#d8576b\"], [0.6666666666666666, \"#ed7953\"], [0.7777777777777778, \"#fb9f3a\"], [0.8888888888888888, \"#fdca26\"], [1.0, \"#f0f921\"]], \"type\": \"histogram2dcontour\"}], \"mesh3d\": [{\"colorbar\": {\"outlinewidth\": 0, \"ticks\": \"\"}, \"type\": \"mesh3d\"}], \"parcoords\": [{\"line\": {\"colorbar\": {\"outlinewidth\": 0, \"ticks\": \"\"}}, \"type\": \"parcoords\"}], \"pie\": [{\"automargin\": true, \"type\": \"pie\"}], \"scatter\": [{\"marker\": {\"colorbar\": {\"outlinewidth\": 0, \"ticks\": \"\"}}, \"type\": \"scatter\"}], \"scatter3d\": [{\"line\": {\"colorbar\": {\"outlinewidth\": 0, \"ticks\": \"\"}}, \"marker\": {\"colorbar\": {\"outlinewidth\": 0, \"ticks\": \"\"}}, \"type\": \"scatter3d\"}], \"scattercarpet\": [{\"marker\": {\"colorbar\": {\"outlinewidth\": 0, \"ticks\": \"\"}}, \"type\": \"scattercarpet\"}], \"scattergeo\": [{\"marker\": {\"colorbar\": {\"outlinewidth\": 0, \"ticks\": \"\"}}, \"type\": \"scattergeo\"}], \"scattergl\": [{\"marker\": {\"colorbar\": {\"outlinewidth\": 0, \"ticks\": \"\"}}, \"type\": \"scattergl\"}], \"scattermapbox\": [{\"marker\": {\"colorbar\": {\"outlinewidth\": 0, \"ticks\": \"\"}}, \"type\": \"scattermapbox\"}], \"scatterpolar\": [{\"marker\": {\"colorbar\": {\"outlinewidth\": 0, \"ticks\": \"\"}}, \"type\": \"scatterpolar\"}], \"scatterpolargl\": [{\"marker\": {\"colorbar\": {\"outlinewidth\": 0, \"ticks\": \"\"}}, \"type\": \"scatterpolargl\"}], \"scatterternary\": [{\"marker\": {\"colorbar\": {\"outlinewidth\": 0, \"ticks\": \"\"}}, \"type\": \"scatterternary\"}], \"surface\": [{\"colorbar\": {\"outlinewidth\": 0, \"ticks\": \"\"}, \"colorscale\": [[0.0, \"#0d0887\"], [0.1111111111111111, \"#46039f\"], [0.2222222222222222, \"#7201a8\"], [0.3333333333333333, \"#9c179e\"], [0.4444444444444444, \"#bd3786\"], [0.5555555555555556, \"#d8576b\"], [0.6666666666666666, \"#ed7953\"], [0.7777777777777778, \"#fb9f3a\"], [0.8888888888888888, \"#fdca26\"], [1.0, \"#f0f921\"]], \"type\": \"surface\"}], \"table\": [{\"cells\": {\"fill\": {\"color\": \"#EBF0F8\"}, \"line\": {\"color\": \"white\"}}, \"header\": {\"fill\": {\"color\": \"#C8D4E3\"}, \"line\": {\"color\": \"white\"}}, \"type\": \"table\"}]}, \"layout\": {\"annotationdefaults\": {\"arrowcolor\": \"#2a3f5f\", \"arrowhead\": 0, \"arrowwidth\": 1}, \"autotypenumbers\": \"strict\", \"coloraxis\": {\"colorbar\": {\"outlinewidth\": 0, \"ticks\": \"\"}}, \"colorscale\": {\"diverging\": [[0, \"#8e0152\"], [0.1, \"#c51b7d\"], [0.2, \"#de77ae\"], [0.3, \"#f1b6da\"], [0.4, \"#fde0ef\"], [0.5, \"#f7f7f7\"], [0.6, \"#e6f5d0\"], [0.7, \"#b8e186\"], [0.8, \"#7fbc41\"], [0.9, \"#4d9221\"], [1, \"#276419\"]], \"sequential\": [[0.0, \"#0d0887\"], [0.1111111111111111, \"#46039f\"], [0.2222222222222222, \"#7201a8\"], [0.3333333333333333, \"#9c179e\"], [0.4444444444444444, \"#bd3786\"], [0.5555555555555556, \"#d8576b\"], [0.6666666666666666, \"#ed7953\"], [0.7777777777777778, \"#fb9f3a\"], [0.8888888888888888, \"#fdca26\"], [1.0, \"#f0f921\"]], \"sequentialminus\": [[0.0, \"#0d0887\"], [0.1111111111111111, \"#46039f\"], [0.2222222222222222, \"#7201a8\"], [0.3333333333333333, \"#9c179e\"], [0.4444444444444444, \"#bd3786\"], [0.5555555555555556, \"#d8576b\"], [0.6666666666666666, \"#ed7953\"], [0.7777777777777778, \"#fb9f3a\"], [0.8888888888888888, \"#fdca26\"], [1.0, \"#f0f921\"]]}, \"colorway\": [\"#636efa\", \"#EF553B\", \"#00cc96\", \"#ab63fa\", \"#FFA15A\", \"#19d3f3\", \"#FF6692\", \"#B6E880\", \"#FF97FF\", \"#FECB52\"], \"font\": {\"color\": \"#2a3f5f\"}, \"geo\": {\"bgcolor\": \"white\", \"lakecolor\": \"white\", \"landcolor\": \"white\", \"showlakes\": true, \"showland\": true, \"subunitcolor\": \"#C8D4E3\"}, \"hoverlabel\": {\"align\": \"left\"}, \"hovermode\": \"closest\", \"mapbox\": {\"style\": \"light\"}, \"paper_bgcolor\": \"white\", \"plot_bgcolor\": \"white\", \"polar\": {\"angularaxis\": {\"gridcolor\": \"#EBF0F8\", \"linecolor\": \"#EBF0F8\", \"ticks\": \"\"}, \"bgcolor\": \"white\", \"radialaxis\": {\"gridcolor\": \"#EBF0F8\", \"linecolor\": \"#EBF0F8\", \"ticks\": \"\"}}, \"scene\": {\"xaxis\": {\"backgroundcolor\": \"white\", \"gridcolor\": \"#DFE8F3\", \"gridwidth\": 2, \"linecolor\": \"#EBF0F8\", \"showbackground\": true, \"ticks\": \"\", \"zerolinecolor\": \"#EBF0F8\"}, \"yaxis\": {\"backgroundcolor\": \"white\", \"gridcolor\": \"#DFE8F3\", \"gridwidth\": 2, \"linecolor\": \"#EBF0F8\", \"showbackground\": true, \"ticks\": \"\", \"zerolinecolor\": \"#EBF0F8\"}, \"zaxis\": {\"backgroundcolor\": \"white\", \"gridcolor\": \"#DFE8F3\", \"gridwidth\": 2, \"linecolor\": \"#EBF0F8\", \"showbackground\": true, \"ticks\": \"\", \"zerolinecolor\": \"#EBF0F8\"}}, \"shapedefaults\": {\"line\": {\"color\": \"#2a3f5f\"}}, \"ternary\": {\"aaxis\": {\"gridcolor\": \"#DFE8F3\", \"linecolor\": \"#A2B1C6\", \"ticks\": \"\"}, \"baxis\": {\"gridcolor\": \"#DFE8F3\", \"linecolor\": \"#A2B1C6\", \"ticks\": \"\"}, \"bgcolor\": \"white\", \"caxis\": {\"gridcolor\": \"#DFE8F3\", \"linecolor\": \"#A2B1C6\", \"ticks\": \"\"}}, \"title\": {\"x\": 0.05}, \"xaxis\": {\"automargin\": true, \"gridcolor\": \"#EBF0F8\", \"linecolor\": \"#EBF0F8\", \"ticks\": \"\", \"title\": {\"standoff\": 15}, \"zerolinecolor\": \"#EBF0F8\", \"zerolinewidth\": 2}, \"yaxis\": {\"automargin\": true, \"gridcolor\": \"#EBF0F8\", \"linecolor\": \"#EBF0F8\", \"ticks\": \"\", \"title\": {\"standoff\": 15}, \"zerolinecolor\": \"#EBF0F8\", \"zerolinewidth\": 2}}}, \"title\": {\"text\": \"N\\u00famero de tweets classificados para cada sentimento considerado\"}, \"xaxis\": {\"anchor\": \"y\", \"domain\": [0.0, 1.0], \"title\": {\"text\": \"Sentimentos\"}}, \"yaxis\": {\"anchor\": \"x\", \"domain\": [0.0, 1.0], \"title\": {\"text\": \"Frequ\\u00eancias\"}}},                        {\"responsive\": true}                    ).then(function(){\n",
              "                            \n",
              "var gd = document.getElementById('78867dd9-b658-4da3-9772-ac1ff8b4b49b');\n",
              "var x = new MutationObserver(function (mutations, observer) {{\n",
              "        var display = window.getComputedStyle(gd).display;\n",
              "        if (!display || display === 'none') {{\n",
              "            console.log([gd, 'removed!']);\n",
              "            Plotly.purge(gd);\n",
              "            observer.disconnect();\n",
              "        }}\n",
              "}});\n",
              "\n",
              "// Listen for the removal of the full notebook cells\n",
              "var notebookContainer = gd.closest('#notebook-container');\n",
              "if (notebookContainer) {{\n",
              "    x.observe(notebookContainer, {childList: true});\n",
              "}}\n",
              "\n",
              "// Listen for the clearing of the current output cell\n",
              "var outputEl = gd.closest('.output');\n",
              "if (outputEl) {{\n",
              "    x.observe(outputEl, {childList: true});\n",
              "}}\n",
              "\n",
              "                        })                };                            </script>        </div>\n",
              "</body>\n",
              "</html>"
            ]
          },
          "metadata": {
            "tags": []
          }
        }
      ]
    },
    {
      "cell_type": "markdown",
      "metadata": {
        "_uuid": "cbd7bc340b754fd41719e7e472c120036df3c181",
        "id": "vV2dDvZlojns"
      },
      "source": [
        "<h2>Text Preprocessing</h2>"
      ]
    },
    {
      "cell_type": "markdown",
      "metadata": {
        "_uuid": "e0fa7ffe4702a970770210c0d5e84d99a2a5b67d",
        "id": "aOFuMZ7vojns"
      },
      "source": [
        "<h4>Planning</h4>\n",
        "<ul>\n",
        "  <li>Noise Removal</li>\n",
        "    <ul>\n",
        "      <li>Remove urls from text (http(s), www)</li>\n",
        "      <li>Remove a regex pattern (hashtags, notations)</li>\n",
        "      <li>Prepare text, replace emoticons \":)) :) :D :(\" to positive_emoticon or negative_emoticon or neutral_emoticon tags</li>\n",
        "    </ul>\n",
        "  <li>Tokenize text with nltk</li>\n",
        "  <li>Object Standardization</li>\n",
        "  <li>Remove stopwords (noise removal and dimensionality reduction)</li>\n",
        "  <li>Lexicon Normalization</li>\n",
        "    <ul>\n",
        "      <li>Lemmatization (not implemented...)</li>\n",
        "      <li>Stemming (dimensionality reduction)</li>\n",
        "    </ul>\n",
        "</ul> "
      ]
    },
    {
      "cell_type": "markdown",
      "metadata": {
        "_uuid": "64a6bcec4c251bcdb97dbb5e3c7f57776dfd68f0",
        "id": "N_bstK-kojns"
      },
      "source": [
        "<h4>Examples of emoticons</h4>"
      ]
    },
    {
      "cell_type": "markdown",
      "metadata": {
        "_uuid": "5f6986c23fc2eaaa528220adf21d2a42b7c08ef5",
        "id": "vIDBhxHtojns"
      },
      "source": [
        "<h4>Noise Removal</h4>"
      ]
    },
    {
      "cell_type": "markdown",
      "metadata": {
        "_uuid": "7930c6a98074a8666f0fd4d896f7c79e38615049",
        "id": "E8WRBTOpojns"
      },
      "source": [
        "Remove urls from text (http(s), www)"
      ]
    },
    {
      "cell_type": "code",
      "metadata": {
        "trusted": true,
        "_uuid": "e5d26054f5f80d24cd741780a750876d1dc35234",
        "id": "UFsBRn3Gojns"
      },
      "source": [
        "def _remove_url(data):\n",
        "    ls = []\n",
        "    words = ''\n",
        "    regexp1 = re.compile('http[s]?://(?:[a-zA-Z]|[0-9]|[$-_@.&+]|[!*\\(\\),]|(?:%[0-9a-fA-F][0-9a-fA-F]))+')\n",
        "    regexp2 = re.compile('www?.(?:[a-zA-Z]|[0-9]|[$-_@.&+]|[!*\\(\\),]|(?:%[0-9a-fA-F][0-9a-fA-F]))+')\n",
        "    \n",
        "    for line in data:\n",
        "        urls = regexp1.findall(line)\n",
        "\n",
        "        for u in urls:\n",
        "            line = line.replace(u, ' ')\n",
        "\n",
        "        urls = regexp2.findall(line)\n",
        "\n",
        "        for u in urls:\n",
        "            line = line.replace(u, ' ')\n",
        "            \n",
        "        ls.append(line)\n",
        "    return ls"
      ],
      "execution_count": null,
      "outputs": []
    },
    {
      "cell_type": "code",
      "metadata": {
        "trusted": true,
        "_uuid": "4b4cb2e93c9eef7e403b2dc11edd49db08e862d5",
        "id": "epM1R1yyojns"
      },
      "source": [
        "dataset['texto'] = _remove_url(dataset['texto'])"
      ],
      "execution_count": null,
      "outputs": []
    },
    {
      "cell_type": "markdown",
      "metadata": {
        "_uuid": "5e07dc326bac08bf835ddeb3227de048d4b9601b",
        "id": "BwdZuRmqojns"
      },
      "source": [
        "Remove a regex pattern (hashtags, notations)"
      ]
    },
    {
      "cell_type": "code",
      "metadata": {
        "trusted": true,
        "_uuid": "03f2d222c1a3195ed3cc27e9d68568f04681f9ef",
        "id": "4WVUVlErojns"
      },
      "source": [
        "def _remove_regex(data, regex_pattern):\n",
        "    ls = []\n",
        "    words = ''\n",
        "    \n",
        "    for line in data:\n",
        "        matches = re.finditer(regex_pattern, line)\n",
        "        \n",
        "        for m in matches: \n",
        "            line = re.sub(m.group().strip(), '', line)\n",
        "\n",
        "        ls.append(line)\n",
        "\n",
        "    return ls"
      ],
      "execution_count": null,
      "outputs": []
    },
    {
      "cell_type": "code",
      "metadata": {
        "trusted": true,
        "_uuid": "acecf0294d1de79dda5f206a58fd50bb48275df4",
        "id": "gvggNDzaojns"
      },
      "source": [
        "# hashtags\n",
        "regex_pattern = '#[\\w]*'\n",
        "dataset['texto'] = _remove_regex(dataset['texto'], regex_pattern)"
      ],
      "execution_count": null,
      "outputs": []
    },
    {
      "cell_type": "code",
      "metadata": {
        "trusted": true,
        "_uuid": "3497146e06fa9d24c47dd29d8cf5f772f67a4c92",
        "id": "2zaRMW7Lojns"
      },
      "source": [
        "# notations\n",
        "regex_pattern = '@[\\w]*'\n",
        "dataset['texto'] = _remove_regex(dataset['texto'], regex_pattern)"
      ],
      "execution_count": null,
      "outputs": []
    },
    {
      "cell_type": "code",
      "metadata": {
        "id": "h1377cvrjaVZ"
      },
      "source": [
        "# rt\n",
        "regex_pattern = 'RT[\\w]*'\n",
        "dataset['texto'] = _remove_regex(dataset['texto'], regex_pattern)"
      ],
      "execution_count": null,
      "outputs": []
    },
    {
      "cell_type": "code",
      "metadata": {
        "id": "_t77t1E0g_n6"
      },
      "source": [
        " emoji_pattern = re.compile(\"[\"\n",
        "                           u\"\\U0001F600-\\U0001F64F\"  # emoticons\n",
        "                           u\"\\U0001F300-\\U0001F5FF\"  # symbols & pictographs\n",
        "                           u\"\\U0001F680-\\U0001F6FF\"  # transport & map symbols\n",
        "                           u\"\\U0001F1E0-\\U0001F1FF\"  # flags (iOS)\n",
        "                           u\"\\U00002702-\\U000027B0\"\n",
        "                           u\"\\U000024C2-\\U0001F251\"\n",
        "                           \"]+\", flags=re.UNICODE)"
      ],
      "execution_count": null,
      "outputs": []
    },
    {
      "cell_type": "code",
      "metadata": {
        "id": "g-UMyj7fhJ-V"
      },
      "source": [
        "# emoji pattern \n",
        "regex_pattern = emoji_pattern \n",
        "dataset['texto'] = _remove_regex(dataset['texto'], regex_pattern)"
      ],
      "execution_count": null,
      "outputs": []
    },
    {
      "cell_type": "code",
      "metadata": {
        "trusted": true,
        "_uuid": "2309bf72c0aad14c571a623bd483b2f4bba2e8c9",
        "id": "03ztf7ueojns",
        "colab": {
          "base_uri": "https://localhost:8080/"
        },
        "outputId": "7f04d063-ec7d-4936-cb45-76c7368358d7"
      },
      "source": [
        "# check data\n",
        "for i in range(0, 5):\n",
        "    print(dataset['texto'][i])"
      ],
      "execution_count": null,
      "outputs": [
        {
          "output_type": "stream",
          "text": [
            " EU MUITO MENDIGUEI, MAS CREIO QUE HOJE APRENDI A LIÇÃO EM NOME DO SENHOR JESUS, POIS QUEM FUGIU DE VOCÊ SEM DAR EXPLICAÇÃO ALGUMA, JAMAIS FOI DIGNA DE…  \n",
            "Não tá fácil pra ninguém, não quer dizer que não está divertido. \n",
            "Vocês também fazem twittes mentais quando estão sem celular? \n",
            " Ninguém está notando isso, mas desde que o Rever voltou ao time a produção caiu! Enquanto ele esteva fora por lesão o sistema defensivo do Flamengo esteve muito mais sólido. \n",
            "Jogando em Rio Pardo, a AMF de Marau venceu o Nadas Branco, de virada, por 05 a 04. Semana que vem o jogo será contra o Lagoa Futsal, em Marau. O jogo será domingo, dia 16, as 18h.         \n"
          ],
          "name": "stdout"
        }
      ]
    },
    {
      "cell_type": "markdown",
      "metadata": {
        "_uuid": "e782207b501150d076945e4bc96d2545f84e62c6",
        "id": "7XoT2rMfojns"
      },
      "source": [
        "Prepare text, replace emoticons \":)) :) :D :(\" to positive_emoticon or negative_emoticon or neutral_emoticon"
      ]
    },
    {
      "cell_type": "code",
      "metadata": {
        "trusted": true,
        "_uuid": "99d8c0fc7e981b49831f442f76382e8051d78ab8",
        "id": "xL2bGnwmojns"
      },
      "source": [
        "def _replace_emoticons(data, emoticon_list):\n",
        "    ls = []\n",
        "\n",
        "    for line in data:\n",
        "        for exp in emoticon_list:\n",
        "            line = line.replace(exp, emoticon_list[exp])\n",
        "\n",
        "        ls.append(line)\n",
        "\n",
        "    return ls"
      ],
      "execution_count": null,
      "outputs": []
    },
    {
      "cell_type": "code",
      "metadata": {
        "trusted": true,
        "_uuid": "685e6a7a9826385f33101ff5e777a827140e6650",
        "id": "OEJt5ujGojns"
      },
      "source": [
        "emoticon_list = {':))': 'emoticon_positivo', ':)': 'emoticon_positivo', ':D': 'emoticon_positivo', ':(': 'emoticon_negativo', ':((': 'emoticon_negativo', '8)': 'emoticon_neutro'}"
      ],
      "execution_count": null,
      "outputs": []
    },
    {
      "cell_type": "code",
      "metadata": {
        "trusted": true,
        "_uuid": "d6606859968ee012ea23cb5f3f02c1256377b8b6",
        "id": "TfwSCz8Pojns"
      },
      "source": [
        "dataset['texto']= _replace_emoticons(dataset['texto'], emoticon_list)"
      ],
      "execution_count": null,
      "outputs": []
    },
    {
      "cell_type": "code",
      "metadata": {
        "trusted": true,
        "_uuid": "2e7dbd3f837739cc8ac8ee86917f5f24cc67cd96",
        "id": "-iiHuMTkojns",
        "colab": {
          "base_uri": "https://localhost:8080/"
        },
        "outputId": "feb1e42d-cdd0-4670-d4f7-aa4c8c2ccb98"
      },
      "source": [
        "# check data\n",
        "for i in range(0, 5):\n",
        "    print(dataset['texto'][i])"
      ],
      "execution_count": null,
      "outputs": [
        {
          "output_type": "stream",
          "text": [
            " EU MUITO MENDIGUEI, MAS CREIO QUE HOJE APRENDI A LIÇÃO EM NOME DO SENHOR JESUS, POIS QUEM FUGIU DE VOCÊ SEM DAR EXPLICAÇÃO ALGUMA, JAMAIS FOI DIGNA DE…  \n",
            "Não tá fácil pra ninguém, não quer dizer que não está divertido. \n",
            "Vocês também fazem twittes mentais quando estão sem celular? \n",
            " Ninguém está notando isso, mas desde que o Rever voltou ao time a produção caiu! Enquanto ele esteva fora por lesão o sistema defensivo do Flamengo esteve muito mais sólido. \n",
            "Jogando em Rio Pardo, a AMF de Marau venceu o Nadas Branco, de virada, por 05 a 04. Semana que vem o jogo será contra o Lagoa Futsal, em Marau. O jogo será domingo, dia 16, as 18h.         \n"
          ],
          "name": "stdout"
        }
      ]
    },
    {
      "cell_type": "markdown",
      "metadata": {
        "_uuid": "b967c8949c0640ec9f4a6090366ab970a30947f3",
        "id": "Jjn0q4SOojns"
      },
      "source": [
        "<h5 style=\"color:red;\">Note: We can remove or replace with tags some noisy words or special characters like ✨💖🎈🎉🎊❤️, but we need to evaluate if they are important to express some sentiment</h5>"
      ]
    },
    {
      "cell_type": "code",
      "metadata": {
        "id": "rR_aEBemyt7Y",
        "colab": {
          "base_uri": "https://localhost:8080/",
          "height": 419
        },
        "outputId": "03840c03-2c35-4aa4-b4ca-034135abeac3"
      },
      "source": [
        "dataset"
      ],
      "execution_count": null,
      "outputs": [
        {
          "output_type": "execute_result",
          "data": {
            "text/html": [
              "<div>\n",
              "<style scoped>\n",
              "    .dataframe tbody tr th:only-of-type {\n",
              "        vertical-align: middle;\n",
              "    }\n",
              "\n",
              "    .dataframe tbody tr th {\n",
              "        vertical-align: top;\n",
              "    }\n",
              "\n",
              "    .dataframe thead th {\n",
              "        text-align: right;\n",
              "    }\n",
              "</style>\n",
              "<table border=\"1\" class=\"dataframe\">\n",
              "  <thead>\n",
              "    <tr style=\"text-align: right;\">\n",
              "      <th></th>\n",
              "      <th>texto</th>\n",
              "      <th>classificacao</th>\n",
              "    </tr>\n",
              "  </thead>\n",
              "  <tbody>\n",
              "    <tr>\n",
              "      <th>0</th>\n",
              "      <td>EU MUITO MENDIGUEI, MAS CREIO QUE HOJE APREND...</td>\n",
              "      <td>Neutro</td>\n",
              "    </tr>\n",
              "    <tr>\n",
              "      <th>1</th>\n",
              "      <td>Não tá fácil pra ninguém, não quer dizer que n...</td>\n",
              "      <td>Neutro</td>\n",
              "    </tr>\n",
              "    <tr>\n",
              "      <th>2</th>\n",
              "      <td>Vocês também fazem twittes mentais quando estã...</td>\n",
              "      <td>Neutro</td>\n",
              "    </tr>\n",
              "    <tr>\n",
              "      <th>3</th>\n",
              "      <td>Ninguém está notando isso, mas desde que o Re...</td>\n",
              "      <td>Neutro</td>\n",
              "    </tr>\n",
              "    <tr>\n",
              "      <th>4</th>\n",
              "      <td>Jogando em Rio Pardo, a AMF de Marau venceu o ...</td>\n",
              "      <td>Neutro</td>\n",
              "    </tr>\n",
              "    <tr>\n",
              "      <th>...</th>\n",
              "      <td>...</td>\n",
              "      <td>...</td>\n",
              "    </tr>\n",
              "    <tr>\n",
              "      <th>83667</th>\n",
              "      <td>voto útil no Ciro está muito viável por cont...</td>\n",
              "      <td>Negativo</td>\n",
              "    </tr>\n",
              "    <tr>\n",
              "      <th>83668</th>\n",
              "      <td>Novamente!! emoticon_negativo emoticon_negativo</td>\n",
              "      <td>Negativo</td>\n",
              "    </tr>\n",
              "    <tr>\n",
              "      <th>83669</th>\n",
              "      <td>não quero que o bozo vença, nunca estive tão p...</td>\n",
              "      <td>Negativo</td>\n",
              "    </tr>\n",
              "    <tr>\n",
              "      <th>83670</th>\n",
              "      <td>Se o petista  vencer a corrida eleitoral terem...</td>\n",
              "      <td>Negativo</td>\n",
              "    </tr>\n",
              "    <tr>\n",
              "      <th>83671</th>\n",
              "      <td>eu fazia letras antes e era letras pt e ingle...</td>\n",
              "      <td>Negativo</td>\n",
              "    </tr>\n",
              "  </tbody>\n",
              "</table>\n",
              "<p>83672 rows × 2 columns</p>\n",
              "</div>"
            ],
            "text/plain": [
              "                                                   texto classificacao\n",
              "0       EU MUITO MENDIGUEI, MAS CREIO QUE HOJE APREND...        Neutro\n",
              "1      Não tá fácil pra ninguém, não quer dizer que n...        Neutro\n",
              "2      Vocês também fazem twittes mentais quando estã...        Neutro\n",
              "3       Ninguém está notando isso, mas desde que o Re...        Neutro\n",
              "4      Jogando em Rio Pardo, a AMF de Marau venceu o ...        Neutro\n",
              "...                                                  ...           ...\n",
              "83667    voto útil no Ciro está muito viável por cont...      Negativo\n",
              "83668  Novamente!! emoticon_negativo emoticon_negativo        Negativo\n",
              "83669  não quero que o bozo vença, nunca estive tão p...      Negativo\n",
              "83670  Se o petista  vencer a corrida eleitoral terem...      Negativo\n",
              "83671   eu fazia letras antes e era letras pt e ingle...      Negativo\n",
              "\n",
              "[83672 rows x 2 columns]"
            ]
          },
          "metadata": {
            "tags": []
          },
          "execution_count": 53
        }
      ]
    },
    {
      "cell_type": "code",
      "metadata": {
        "id": "-8tgUxhe0MXe"
      },
      "source": [
        "nan_value = float(\"NaN\")\n",
        "dataset.replace(\"\", nan_value, inplace=True)"
      ],
      "execution_count": null,
      "outputs": []
    },
    {
      "cell_type": "markdown",
      "metadata": {
        "_uuid": "4284b6e6bdbe2878aeefb50651b9b219b3acffd1",
        "id": "plBne9Xjojnt"
      },
      "source": [
        "<h4>Tokenize text with nltk</h4>"
      ]
    },
    {
      "cell_type": "code",
      "metadata": {
        "trusted": true,
        "_uuid": "2d77a5e4f41cdbf15c1dd0d5e0d93a72bd41c29e",
        "id": "6_9vdlenojnt"
      },
      "source": [
        "def _tokenize_text(data):\n",
        "    ls = []\n",
        "\n",
        "    for line in data:\n",
        "        tokens = wordpunct_tokenize(line)\n",
        "        ls.append(tokens)\n",
        "\n",
        "    return ls"
      ],
      "execution_count": null,
      "outputs": []
    },
    {
      "cell_type": "code",
      "metadata": {
        "trusted": true,
        "_uuid": "095fa1e33c81a1bbc728db503ac7832071e99422",
        "id": "yDebMnaBojnt"
      },
      "source": [
        "dataset_texto_tokens = _tokenize_text(dataset['texto'])"
      ],
      "execution_count": null,
      "outputs": []
    },
    {
      "cell_type": "code",
      "metadata": {
        "trusted": true,
        "_uuid": "7f03a8c02502d8e7da6fc9ad7767aca9dbe95a9a",
        "id": "X7_qrAYjojnt",
        "colab": {
          "base_uri": "https://localhost:8080/"
        },
        "outputId": "760e4368-b12a-42a7-f61b-43837650e322"
      },
      "source": [
        "# check data\n",
        "for i in range(0, 5):\n",
        "    print(dataset_texto_tokens[i])"
      ],
      "execution_count": null,
      "outputs": [
        {
          "output_type": "stream",
          "text": [
            "['EU', 'MUITO', 'MENDIGUEI', ',', 'MAS', 'CREIO', 'QUE', 'HOJE', 'APRENDI', 'A', 'LIÇÃO', 'EM', 'NOME', 'DO', 'SENHOR', 'JESUS', ',', 'POIS', 'QUEM', 'FUGIU', 'DE', 'VOCÊ', 'SEM', 'DAR', 'EXPLICAÇÃO', 'ALGUMA', ',', 'JAMAIS', 'FOI', 'DIGNA', 'DE', '…']\n",
            "['Não', 'tá', 'fácil', 'pra', 'ninguém', ',', 'não', 'quer', 'dizer', 'que', 'não', 'está', 'divertido', '.']\n",
            "['Vocês', 'também', 'fazem', 'twittes', 'mentais', 'quando', 'estão', 'sem', 'celular', '?']\n",
            "['Ninguém', 'está', 'notando', 'isso', ',', 'mas', 'desde', 'que', 'o', 'Rever', 'voltou', 'ao', 'time', 'a', 'produção', 'caiu', '!', 'Enquanto', 'ele', 'esteva', 'fora', 'por', 'lesão', 'o', 'sistema', 'defensivo', 'do', 'Flamengo', 'esteve', 'muito', 'mais', 'sólido', '.']\n",
            "['Jogando', 'em', 'Rio', 'Pardo', ',', 'a', 'AMF', 'de', 'Marau', 'venceu', 'o', 'Nadas', 'Branco', ',', 'de', 'virada', ',', 'por', '05', 'a', '04', '.', 'Semana', 'que', 'vem', 'o', 'jogo', 'será', 'contra', 'o', 'Lagoa', 'Futsal', ',', 'em', 'Marau', '.', 'O', 'jogo', 'será', 'domingo', ',', 'dia', '16', ',', 'as', '18h', '.']\n"
          ],
          "name": "stdout"
        }
      ]
    },
    {
      "cell_type": "code",
      "metadata": {
        "id": "HP6B6LDKUsVe"
      },
      "source": [
        "#dataset_texto_tokens = list(filter(None, dataset_texto_tokens))"
      ],
      "execution_count": null,
      "outputs": []
    },
    {
      "cell_type": "code",
      "metadata": {
        "id": "QXRjSU-b8v8K",
        "colab": {
          "base_uri": "https://localhost:8080/"
        },
        "outputId": "3e85a566-3efc-4b79-ee65-b4e7d1a5a8fa"
      },
      "source": [
        "# check data\n",
        "for i in range(0, 5):\n",
        "    print(dataset_texto_tokens[i])"
      ],
      "execution_count": null,
      "outputs": [
        {
          "output_type": "stream",
          "text": [
            "['EU', 'MUITO', 'MENDIGUEI', ',', 'MAS', 'CREIO', 'QUE', 'HOJE', 'APRENDI', 'A', 'LIÇÃO', 'EM', 'NOME', 'DO', 'SENHOR', 'JESUS', ',', 'POIS', 'QUEM', 'FUGIU', 'DE', 'VOCÊ', 'SEM', 'DAR', 'EXPLICAÇÃO', 'ALGUMA', ',', 'JAMAIS', 'FOI', 'DIGNA', 'DE', '…']\n",
            "['Não', 'tá', 'fácil', 'pra', 'ninguém', ',', 'não', 'quer', 'dizer', 'que', 'não', 'está', 'divertido', '.']\n",
            "['Vocês', 'também', 'fazem', 'twittes', 'mentais', 'quando', 'estão', 'sem', 'celular', '?']\n",
            "['Ninguém', 'está', 'notando', 'isso', ',', 'mas', 'desde', 'que', 'o', 'Rever', 'voltou', 'ao', 'time', 'a', 'produção', 'caiu', '!', 'Enquanto', 'ele', 'esteva', 'fora', 'por', 'lesão', 'o', 'sistema', 'defensivo', 'do', 'Flamengo', 'esteve', 'muito', 'mais', 'sólido', '.']\n",
            "['Jogando', 'em', 'Rio', 'Pardo', ',', 'a', 'AMF', 'de', 'Marau', 'venceu', 'o', 'Nadas', 'Branco', ',', 'de', 'virada', ',', 'por', '05', 'a', '04', '.', 'Semana', 'que', 'vem', 'o', 'jogo', 'será', 'contra', 'o', 'Lagoa', 'Futsal', ',', 'em', 'Marau', '.', 'O', 'jogo', 'será', 'domingo', ',', 'dia', '16', ',', 'as', '18h', '.']\n"
          ],
          "name": "stdout"
        }
      ]
    },
    {
      "cell_type": "markdown",
      "metadata": {
        "_uuid": "01759032a73a4e34ae6d07a0888aa30837fdad29",
        "id": "n4oRiT_gojnt"
      },
      "source": [
        "<h4>Object Standardization</h4>"
      ]
    },
    {
      "cell_type": "code",
      "metadata": {
        "trusted": true,
        "_uuid": "ad31d2a779d4c121e6eb61429775241d91a7b7ef",
        "id": "ZbQPsvsFojnt"
      },
      "source": [
        "def _apply_standardization(tokens, std_list):\n",
        "    ls = []\n",
        "\n",
        "    for tk_line in tokens:\n",
        "        new_tokens = []\n",
        "        \n",
        "        for word in tk_line:\n",
        "            if word.lower() in std_list:\n",
        "                word = std_list[word.lower()]\n",
        "                \n",
        "            new_tokens.append(word) \n",
        "            \n",
        "        ls.append(new_tokens)\n",
        "\n",
        "    return ls"
      ],
      "execution_count": null,
      "outputs": []
    },
    {
      "cell_type": "code",
      "metadata": {
        "trusted": true,
        "_uuid": "bbb9fd394e34e02d691335dd99d1c9496facaff0",
        "id": "SnqQpeZgojnt"
      },
      "source": [
        "# create your own list\n",
        "std_list = {'eh': 'é', 'vc': 'você', 'vcs': 'vocês','tb': 'também', 'tbm': 'também', 'obg': 'obrigado', 'gnt': 'gente', 'q': 'que', 'n': 'não', 'cmg': 'comigo', 'p': 'para', 'ta': 'está', 'to': 'estou', 'vdd': 'verdade'}"
      ],
      "execution_count": null,
      "outputs": []
    },
    {
      "cell_type": "code",
      "metadata": {
        "trusted": true,
        "_uuid": "26add53a456dfd06a7fdfa6aed5739d53ac2c5f6",
        "id": "bZLnIHF-ojnt"
      },
      "source": [
        "dataset_texto_tokens = _apply_standardization(dataset_texto_tokens, std_list)"
      ],
      "execution_count": null,
      "outputs": []
    },
    {
      "cell_type": "code",
      "metadata": {
        "trusted": true,
        "_uuid": "8c17dd517c02f34abeb8f9808695da38bed22ae0",
        "id": "OPAMqHHYojnt",
        "colab": {
          "base_uri": "https://localhost:8080/"
        },
        "outputId": "37df83d0-ae5b-4da4-a489-87ea6fea2343"
      },
      "source": [
        "# check data\n",
        "print(dataset_texto_tokens[4], dataset_texto_tokens[1008])"
      ],
      "execution_count": null,
      "outputs": [
        {
          "output_type": "stream",
          "text": [
            "['Jogando', 'em', 'Rio', 'Pardo', ',', 'a', 'AMF', 'de', 'Marau', 'venceu', 'o', 'Nadas', 'Branco', ',', 'de', 'virada', ',', 'por', '05', 'a', '04', '.', 'Semana', 'que', 'vem', 'o', 'jogo', 'será', 'contra', 'o', 'Lagoa', 'Futsal', ',', 'em', 'Marau', '.', 'O', 'jogo', 'será', 'domingo', ',', 'dia', '16', ',', 'as', '18h', '.'] ['Supervisor', 'de', 'Vendas', 'Salário', ':', 'A', 'combinar', '+', 'Benefícios', 'Local', ':', 'Osasco', 'Mais', 'informações', 'sobre', 'a', 'vaga', ':', 'Quer', 'mais', 'vagas', '?', 'Acesse', ':']\n"
          ],
          "name": "stdout"
        }
      ]
    },
    {
      "cell_type": "markdown",
      "metadata": {
        "_uuid": "7cade7774b181e67a77f56ccff60b68b30a9e05e",
        "id": "NRoaN4Nfojnt"
      },
      "source": [
        "<h4>Remove stopwords (noise removal and dimensionality reduction)</h4>"
      ]
    },
    {
      "cell_type": "markdown",
      "metadata": {
        "_uuid": "191fcf8d3066ef422390224111c93b4a309d2907",
        "id": "JoM2vAV0ojnt"
      },
      "source": [
        "Remove stopwords"
      ]
    },
    {
      "cell_type": "code",
      "metadata": {
        "trusted": true,
        "_uuid": "93209116226f6edf24a07b0972dfa0801ee84333",
        "id": "bmem-OYBojnt"
      },
      "source": [
        "def _remove_stopwords(tokens, stopword_list):\n",
        "    ls = []\n",
        "\n",
        "    for tk_line in tokens:\n",
        "        new_tokens = []\n",
        "        \n",
        "        for word in tk_line:\n",
        "            if word.lower() not in stopword_list:\n",
        "                new_tokens.append(word) \n",
        "            \n",
        "        ls.append(new_tokens)\n",
        "        \n",
        "    return ls"
      ],
      "execution_count": null,
      "outputs": []
    },
    {
      "cell_type": "code",
      "metadata": {
        "trusted": true,
        "_uuid": "d42c58078128e5de8a83c2bb158c8e484ecd8201",
        "id": "5Nvgu3xIojnt"
      },
      "source": [
        "stopword_list = []"
      ],
      "execution_count": null,
      "outputs": []
    },
    {
      "cell_type": "code",
      "metadata": {
        "trusted": true,
        "_uuid": "868d2bb4061ce7034a82d0e502237f435fbcb7fc",
        "id": "Om9k3WLgojnt"
      },
      "source": [
        "# get nltk portuguese stopwords\n",
        "nltk_stopwords = nltk.corpus.stopwords.words('portuguese')"
      ],
      "execution_count": null,
      "outputs": []
    },
    {
      "cell_type": "code",
      "metadata": {
        "trusted": true,
        "_uuid": "454f789d7db906bb6afcc151c0f53a84f2523f46",
        "id": "5CfstDhnojnt"
      },
      "source": [
        "# You can also add stopwords manually instead of loading from the database. Generally, we add stopwords that belong to this context.\n",
        "stopword_list.append('é')\n",
        "stopword_list.append('vou')\n",
        "stopword_list.append('que')\n",
        "stopword_list.append('tão')\n",
        "stopword_list.append('...')\n",
        "stopword_list.append('«')\n",
        "stopword_list.append('➔')\n",
        "stopword_list.append('|')\n",
        "stopword_list.append('//')\n",
        "stopword_list.append('/')\n",
        "stopword_list.append('||') \n",
        "stopword_list.append(':')\n",
        "stopword_list.append('-')\n",
        "stopword_list.append(';')\n",
        "stopword_list.append('»')\n",
        "stopword_list.append('…')\n",
        "stopword_list.append(')')\n",
        "stopword_list.append('(')\n",
        "stopword_list.append('uai') \n",
        "stopword_list.append(']')\n",
        "stopword_list.append('[')\n",
        "stopword_list.append('((')\n",
        "stopword_list.append('))')\n",
        "stopword_list.append('emoticon_positivo') \n",
        "stopword_list.append('emoticon_negativo')\n",
        "stopword_list.append('emoticon_neutro')\n",
        "# 'expression from the mineiros (MG/Brazil)'"
      ],
      "execution_count": null,
      "outputs": []
    },
    {
      "cell_type": "markdown",
      "metadata": {
        "_uuid": "5c85d05f946199f85151af31bf1c2009bf093d5c",
        "id": "nCHFkbWUojnt"
      },
      "source": [
        "<h5 style=\"color:red;\">Note: Numbers, some punctuations (.,;:) and special characters such as (_- = &%) are not relevant to express some sentiment, they can be considered noisy words. You can treat them here.</h5>\n",
        "<h5 style=\"color:red;\">noisy_words = ['.', '?', '!', ':', ',', ';', '(', ')', '-']</h5>\n",
        "<h5 style=\"color:red;\">Note: ? and ! can be important to express sentiment.</h5>"
      ]
    },
    {
      "cell_type": "code",
      "metadata": {
        "trusted": true,
        "_uuid": "1e4a2258684531e15ed3d48d84bdc710cba5a133",
        "id": "4BjLpq2nojnt"
      },
      "source": [
        "# join all stopwords\n",
        "stopword_list.extend(nltk_stopwords)\n",
        "#stopword_list.extend(custom_stopwords)"
      ],
      "execution_count": null,
      "outputs": []
    },
    {
      "cell_type": "code",
      "metadata": {
        "trusted": true,
        "_uuid": "7a34c75cbec835334fdf530d1a857039c24392e4",
        "id": "rEVFI8_lojnt"
      },
      "source": [
        "# remove duplicate stopwords (unique list)\n",
        "stopword_list = list(set(stopword_list))"
      ],
      "execution_count": null,
      "outputs": []
    },
    {
      "cell_type": "code",
      "metadata": {
        "trusted": true,
        "_uuid": "25748a09312e1241038aae27f4ce0d962fc30c26",
        "id": "JnjZ0mniojnt"
      },
      "source": [
        "dataset_texto_tokens = _remove_stopwords(dataset_texto_tokens, stopword_list)"
      ],
      "execution_count": null,
      "outputs": []
    },
    {
      "cell_type": "code",
      "metadata": {
        "trusted": true,
        "_uuid": "5254a491c2acc0a70c4f8705ddb31ee7e245624e",
        "id": "Rfxl59rIojnt",
        "colab": {
          "base_uri": "https://localhost:8080/"
        },
        "outputId": "8f3abf86-5240-43da-fbdb-e927f9d790d7"
      },
      "source": [
        "# check data\n",
        "for i in range(0, 5):\n",
        "    print(dataset_texto_tokens[i])"
      ],
      "execution_count": null,
      "outputs": [
        {
          "output_type": "stream",
          "text": [
            "['MENDIGUEI', ',', 'CREIO', 'HOJE', 'APRENDI', 'LIÇÃO', 'NOME', 'SENHOR', 'JESUS', ',', 'POIS', 'FUGIU', 'DAR', 'EXPLICAÇÃO', 'ALGUMA', ',', 'JAMAIS', 'DIGNA']\n",
            "['tá', 'fácil', 'pra', 'ninguém', ',', 'quer', 'dizer', 'divertido', '.']\n",
            "['fazem', 'twittes', 'mentais', 'celular', '?']\n",
            "['Ninguém', 'notando', ',', 'desde', 'Rever', 'voltou', 'time', 'produção', 'caiu', '!', 'Enquanto', 'esteva', 'lesão', 'sistema', 'defensivo', 'Flamengo', 'sólido', '.']\n",
            "['Jogando', 'Rio', 'Pardo', ',', 'AMF', 'Marau', 'venceu', 'Nadas', 'Branco', ',', 'virada', ',', '05', '04', '.', 'Semana', 'vem', 'jogo', 'contra', 'Lagoa', 'Futsal', ',', 'Marau', '.', 'jogo', 'domingo', ',', 'dia', '16', ',', '18h', '.']\n"
          ],
          "name": "stdout"
        }
      ]
    },
    {
      "cell_type": "markdown",
      "metadata": {
        "_uuid": "5917183f41e842477fb49520beb8568a368f7046",
        "id": "oiUb8A67ojnt"
      },
      "source": [
        "<h4>Lexicon Normalization</h4>"
      ]
    },
    {
      "cell_type": "markdown",
      "metadata": {
        "_uuid": "3f3f8826d74fb5fd28d6ff1f76ffb1101e96cc43",
        "id": "Q2mQWghXojnt"
      },
      "source": [
        "Lemmatization (not implemented...)"
      ]
    },
    {
      "cell_type": "markdown",
      "metadata": {
        "_uuid": "b69051f6e85ce27a64fa49a968019d8a7957f377",
        "id": "9xYG8tvXojnt"
      },
      "source": [
        "Stemming (dimensionality reduction)"
      ]
    },
    {
      "cell_type": "code",
      "metadata": {
        "trusted": true,
        "_uuid": "75df6b7d0b3af4219321089b6161e6dc74dc1dbf",
        "id": "ksuuqUD7ojnt"
      },
      "source": [
        "def _apply_stemmer(tokens):\n",
        "    ls = []\n",
        "    stemmer = nltk.stem.RSLPStemmer()\n",
        "\n",
        "    for tk_line in tokens:\n",
        "        new_tokens = []\n",
        "        \n",
        "        for word in tk_line:\n",
        "            word = str(stemmer.stem(word))\n",
        "            new_tokens.append(word) \n",
        "            \n",
        "        ls.append(new_tokens)\n",
        "        \n",
        "    return ls"
      ],
      "execution_count": null,
      "outputs": []
    },
    {
      "cell_type": "code",
      "metadata": {
        "id": "spQc5w3iNCed",
        "colab": {
          "base_uri": "https://localhost:8080/"
        },
        "outputId": "1f15d76f-1df4-4d19-f26c-1a64c1a9065a"
      },
      "source": [
        "nltk.download('rslp')"
      ],
      "execution_count": null,
      "outputs": [
        {
          "output_type": "stream",
          "text": [
            "[nltk_data] Downloading package rslp to /root/nltk_data...\n",
            "[nltk_data]   Unzipping stemmers/rslp.zip.\n"
          ],
          "name": "stdout"
        },
        {
          "output_type": "execute_result",
          "data": {
            "text/plain": [
              "True"
            ]
          },
          "metadata": {
            "tags": []
          },
          "execution_count": 73
        }
      ]
    },
    {
      "cell_type": "code",
      "metadata": {
        "trusted": true,
        "_uuid": "7c3907b1ff4e1495ce16d0d6e5190277dd8faad5",
        "id": "qzs5zFWkojnu"
      },
      "source": [
        "dataset_texto_stemm = _apply_stemmer(dataset_texto_tokens)"
      ],
      "execution_count": null,
      "outputs": []
    },
    {
      "cell_type": "code",
      "metadata": {
        "trusted": true,
        "_uuid": "45cdcc98a8462e4ec5132b192a762affc4399904",
        "id": "FAIwa48hojnu",
        "colab": {
          "base_uri": "https://localhost:8080/"
        },
        "outputId": "8bd8ae68-a3d9-4f9c-8c3f-448cfd9f7227"
      },
      "source": [
        "# check data\n",
        "for i in range(0, 5):\n",
        "    print(dataset_texto_tokens[i])"
      ],
      "execution_count": null,
      "outputs": [
        {
          "output_type": "stream",
          "text": [
            "['MENDIGUEI', ',', 'CREIO', 'HOJE', 'APRENDI', 'LIÇÃO', 'NOME', 'SENHOR', 'JESUS', ',', 'POIS', 'FUGIU', 'DAR', 'EXPLICAÇÃO', 'ALGUMA', ',', 'JAMAIS', 'DIGNA']\n",
            "['tá', 'fácil', 'pra', 'ninguém', ',', 'quer', 'dizer', 'divertido', '.']\n",
            "['fazem', 'twittes', 'mentais', 'celular', '?']\n",
            "['Ninguém', 'notando', ',', 'desde', 'Rever', 'voltou', 'time', 'produção', 'caiu', '!', 'Enquanto', 'esteva', 'lesão', 'sistema', 'defensivo', 'Flamengo', 'sólido', '.']\n",
            "['Jogando', 'Rio', 'Pardo', ',', 'AMF', 'Marau', 'venceu', 'Nadas', 'Branco', ',', 'virada', ',', '05', '04', '.', 'Semana', 'vem', 'jogo', 'contra', 'Lagoa', 'Futsal', ',', 'Marau', '.', 'jogo', 'domingo', ',', 'dia', '16', ',', '18h', '.']\n"
          ],
          "name": "stdout"
        }
      ]
    },
    {
      "cell_type": "markdown",
      "metadata": {
        "_uuid": "689723a6b68a74cfa2fa19f274e842011473d770",
        "id": "--FUBz4oojnu"
      },
      "source": [
        "<h4>Dataset preparation</h4>\n",
        "Untokenize text (transform tokenized text into string list)"
      ]
    },
    {
      "cell_type": "code",
      "metadata": {
        "trusted": true,
        "_uuid": "bfe4d9dca0e03d751fa5b086003e07bc7ff945da",
        "id": "UZVLaerxojnu"
      },
      "source": [
        "def _untokenize_text(tokens):\n",
        "    ls = []\n",
        "\n",
        "    for tk_line in tokens:\n",
        "        new_line = ''\n",
        "        \n",
        "        for word in tk_line:\n",
        "            new_line += word + ' '\n",
        "            \n",
        "        ls.append(new_line)\n",
        "        \n",
        "    return ls"
      ],
      "execution_count": null,
      "outputs": []
    },
    {
      "cell_type": "code",
      "metadata": {
        "trusted": true,
        "_uuid": "126cdaadb79c0c3141803e68615c093ec21872ea",
        "id": "katwR_thojnu"
      },
      "source": [
        "dataset_texto_tokens = _untokenize_text(dataset_texto_tokens)"
      ],
      "execution_count": null,
      "outputs": []
    },
    {
      "cell_type": "code",
      "metadata": {
        "id": "dBk9oC4y4c9u"
      },
      "source": [
        "dataset_texto_stemm = _untokenize_text(dataset_texto_stemm)"
      ],
      "execution_count": null,
      "outputs": []
    },
    {
      "cell_type": "code",
      "metadata": {
        "trusted": true,
        "_uuid": "81b7797ea3848e78316c871fd0a630dcf69d82b0",
        "id": "c7v_vLZ9ojnu",
        "colab": {
          "base_uri": "https://localhost:8080/"
        },
        "outputId": "7e9ce033-65f7-43d6-f82b-6dcfa6a0cc45"
      },
      "source": [
        "# check data\n",
        "for i in range(0, 5):\n",
        "    print(dataset_texto_stemm[i])"
      ],
      "execution_count": null,
      "outputs": [
        {
          "output_type": "stream",
          "text": [
            "mendig , crei hoj aprend liç nom senh jesu , poi fug dar explic algum , jamal dign \n",
            "tá fácil pra ninguém , qu diz divert . \n",
            "faz twitt ment celul ? \n",
            "ninguém not , desd rev volt tim produç caiu ! enquant estev les sistem defens flameng sól . \n",
            "jog rio pard , amf marau venc nad branc , vir , 05 04 . seman vem jog contr lago futs , marau . jog doming , dia 16 , 18h . \n"
          ],
          "name": "stdout"
        }
      ]
    },
    {
      "cell_type": "markdown",
      "metadata": {
        "_uuid": "02a043145724f1ce5b626329816c59268c605683",
        "id": "s962uC7Bojny"
      },
      "source": [
        "<h2>Implementing a Model</h2>\n"
      ]
    },
    {
      "cell_type": "code",
      "metadata": {
        "id": "z1mxqVNbcdul",
        "colab": {
          "base_uri": "https://localhost:8080/"
        },
        "outputId": "f9d6d459-b7ce-448e-f227-b5848c77333a"
      },
      "source": [
        "tweets = np.array(dataset_texto_stemm,  dtype=object)\n",
        "tweets"
      ],
      "execution_count": null,
      "outputs": [
        {
          "output_type": "execute_result",
          "data": {
            "text/plain": [
              "array(['mendig , crei hoj aprend liç nom senh jesu , poi fug dar explic algum , jamal dign ',\n",
              "       'tá fácil pra ninguém , qu diz divert . ',\n",
              "       'faz twitt ment celul ? ', ...,\n",
              "       'quer boz venç , nunc preocup brasil tô agor , tô preocup comig outr pesso ! real tô med dess ele ',\n",
              "       'petist venc corr eleitor brasil presid presidi pi espéci , moral agum govern quadrilh petist prov ser exim roub destru escrupul ',\n",
              "       'faz letr ant letr pt ingl ador curs quer lecion '], dtype=object)"
            ]
          },
          "metadata": {
            "tags": []
          },
          "execution_count": 80
        }
      ]
    },
    {
      "cell_type": "code",
      "metadata": {
        "id": "eDcYyIYtcdj-",
        "colab": {
          "base_uri": "https://localhost:8080/"
        },
        "outputId": "6e0f10bd-a1f4-43b4-8972-9992121867a6"
      },
      "source": [
        "classes = dataset[\"classificacao\"].values\n",
        "classes"
      ],
      "execution_count": null,
      "outputs": [
        {
          "output_type": "execute_result",
          "data": {
            "text/plain": [
              "array(['Neutro', 'Neutro', 'Neutro', ..., 'Negativo', 'Negativo',\n",
              "       'Negativo'], dtype=object)"
            ]
          },
          "metadata": {
            "tags": []
          },
          "execution_count": 81
        }
      ]
    },
    {
      "cell_type": "code",
      "metadata": {
        "id": "GsCjxSeTZaru"
      },
      "source": [
        "from sklearn.decomposition import PCA, TruncatedSVD\n",
        "from sklearn.neural_network import MLPClassifier"
      ],
      "execution_count": null,
      "outputs": []
    },
    {
      "cell_type": "markdown",
      "metadata": {
        "id": "GlRIt9nucpeJ"
      },
      "source": [
        "### Random Forest"
      ]
    },
    {
      "cell_type": "code",
      "metadata": {
        "trusted": true,
        "_uuid": "f5cbab0b4815ebb7305e6ac1140426cbbd4cf2df",
        "_kg_hide-output": true,
        "id": "t3SHbCDKojny"
      },
      "source": [
        "model_RF = Pipeline([\n",
        "    ('vect', CountVectorizer(max_features=200)),\n",
        "    ('tfidf', TfidfTransformer()),\n",
        "    ('pca', TruncatedSVD(n_components=150)),\n",
        "    ('clf', RandomForestClassifier(random_state=42, n_jobs=-1))\n",
        "])"
      ],
      "execution_count": null,
      "outputs": []
    },
    {
      "cell_type": "code",
      "metadata": {
        "id": "edaODe98t7NL"
      },
      "source": [
        "model_xgb = Pipeline([\r\n",
        "    ('vect', CountVectorizer()),\r\n",
        "    #('tfidf', TfidfTransformer()),\r\n",
        "    #('pca', TruncatedSVD(n_components=200)),\r\n",
        "    ('clf', xgb.XGBClassifier(n_estimators=1000, n_jobs=-1, nthread=-1))\r\n",
        "])"
      ],
      "execution_count": null,
      "outputs": []
    },
    {
      "cell_type": "markdown",
      "metadata": {
        "id": "St3uonoel6yb"
      },
      "source": [
        "### Random Forest Model with cross-validation"
      ]
    },
    {
      "cell_type": "code",
      "metadata": {
        "id": "YHrVQGxd7aFH"
      },
      "source": [
        "#predictions_RF = cross_val_predict(model_RF, tweets, classes, cv = 10)"
      ],
      "execution_count": null,
      "outputs": []
    },
    {
      "cell_type": "code",
      "metadata": {
        "id": "1D2YFY9IAgTW"
      },
      "source": [
        "#print(classification_report(classes, predictions_RF))"
      ],
      "execution_count": null,
      "outputs": []
    },
    {
      "cell_type": "code",
      "metadata": {
        "id": "7Yu5g3VJDlW_"
      },
      "source": [
        "#for doc, predictions_RF, y in zip(tweets[0:10], predictions_RF[0:10], classes[0:10]):\n",
        "#    print('%r => %s [%s]' % (doc, predictions_RF, y))"
      ],
      "execution_count": null,
      "outputs": []
    },
    {
      "cell_type": "markdown",
      "metadata": {
        "id": "r01tldFguZJh"
      },
      "source": [
        "### Random forest model with Hold-out"
      ]
    },
    {
      "cell_type": "code",
      "metadata": {
        "id": "cCcXiocamDEp"
      },
      "source": [
        "X_train, X_test, y_train, y_test = train_test_split(tweets, classes, test_size=0.33, random_state=42)"
      ],
      "execution_count": null,
      "outputs": []
    },
    {
      "cell_type": "code",
      "metadata": {
        "colab": {
          "base_uri": "https://localhost:8080/"
        },
        "id": "jUwr66SCtw_K",
        "outputId": "c4420fb4-07cb-49cd-bf66-454be7870e5c"
      },
      "source": [
        "model_xgb.fit(X_train, y_train)"
      ],
      "execution_count": null,
      "outputs": [
        {
          "output_type": "execute_result",
          "data": {
            "text/plain": [
              "Pipeline(memory=None,\n",
              "         steps=[('vect',\n",
              "                 CountVectorizer(analyzer='word', binary=False,\n",
              "                                 decode_error='strict',\n",
              "                                 dtype=<class 'numpy.int64'>, encoding='utf-8',\n",
              "                                 input='content', lowercase=True, max_df=1.0,\n",
              "                                 max_features=None, min_df=1,\n",
              "                                 ngram_range=(1, 1), preprocessor=None,\n",
              "                                 stop_words=None, strip_accents=None,\n",
              "                                 token_pattern='(?u)\\\\b\\\\w\\\\w+\\\\b',\n",
              "                                 tokenizer=None, vocabulary=Non...\n",
              "                 XGBClassifier(base_score=0.5, booster='gbtree',\n",
              "                               colsample_bylevel=1, colsample_bynode=1,\n",
              "                               colsample_bytree=1, gamma=0, learning_rate=0.1,\n",
              "                               max_delta_step=0, max_depth=3,\n",
              "                               min_child_weight=1, missing=None,\n",
              "                               n_estimators=1000, n_jobs=-1, nthread=-1,\n",
              "                               objective='multi:softprob', random_state=0,\n",
              "                               reg_alpha=0, reg_lambda=1, scale_pos_weight=1,\n",
              "                               seed=None, silent=None, subsample=1,\n",
              "                               verbosity=1))],\n",
              "         verbose=False)"
            ]
          },
          "metadata": {
            "tags": []
          },
          "execution_count": 89
        }
      ]
    },
    {
      "cell_type": "code",
      "metadata": {
        "id": "3MBOxgOA1Yen"
      },
      "source": [
        "predictions_xgb = model_xgb.predict(X_test)"
      ],
      "execution_count": null,
      "outputs": []
    },
    {
      "cell_type": "code",
      "metadata": {
        "colab": {
          "base_uri": "https://localhost:8080/"
        },
        "id": "J1O5AtFO1gAl",
        "outputId": "616aacc0-5a9f-4a8f-9ba0-ad41db1dde7a"
      },
      "source": [
        "print(classification_report(y_test, predictions_xgb))"
      ],
      "execution_count": null,
      "outputs": [
        {
          "output_type": "stream",
          "text": [
            "              precision    recall  f1-score   support\n",
            "\n",
            "    Negativo       0.75      0.69      0.72      9262\n",
            "      Neutro       0.74      0.88      0.81      9122\n",
            "    Positivo       0.66      0.59      0.63      9228\n",
            "\n",
            "    accuracy                           0.72     27612\n",
            "   macro avg       0.72      0.72      0.72     27612\n",
            "weighted avg       0.72      0.72      0.72     27612\n",
            "\n"
          ],
          "name": "stdout"
        }
      ]
    },
    {
      "cell_type": "code",
      "metadata": {
        "id": "1-djohcfx9HJ"
      },
      "source": [
        "model_RF.fit(X_train, y_train)\n",
        "predictions_RF = model_RF.predict(X_test)"
      ],
      "execution_count": null,
      "outputs": []
    },
    {
      "cell_type": "code",
      "metadata": {
        "id": "7mMZPAtGx86r",
        "colab": {
          "base_uri": "https://localhost:8080/"
        },
        "outputId": "5251ce17-4613-42c5-8d78-5d4af2b8efc8"
      },
      "source": [
        "print(classification_report(y_test, predictions_RF))"
      ],
      "execution_count": null,
      "outputs": [
        {
          "output_type": "stream",
          "text": [
            "              precision    recall  f1-score   support\n",
            "\n",
            "    Negativo       0.65      0.68      0.67      9262\n",
            "      Neutro       0.73      0.81      0.76      9122\n",
            "    Positivo       0.58      0.48      0.52      9228\n",
            "\n",
            "    accuracy                           0.66     27612\n",
            "   macro avg       0.65      0.66      0.65     27612\n",
            "weighted avg       0.65      0.66      0.65     27612\n",
            "\n"
          ],
          "name": "stdout"
        }
      ]
    },
    {
      "cell_type": "code",
      "metadata": {
        "id": "pVRa3g3ay3Ve",
        "colab": {
          "base_uri": "https://localhost:8080/"
        },
        "outputId": "46e1473e-4f6e-462a-97dc-576bd4753b12"
      },
      "source": [
        "for doc, prediction, y in zip(X_test[0:20], predictions_RF[0:20], y_test[0:20]):\n",
        "    print('%r => %s [%s]' % (doc, prediction, y))"
      ],
      "execution_count": null,
      "outputs": [
        {
          "output_type": "stream",
          "text": [
            "'quer trabalh nov ele ' => Negativo [Negativo]\n",
            "'lei auxíli ' => Neutro [Neutro]\n",
            "'tô trist amanhã famíl vai cheg urn faz 17 ' => Negativo [Negativo]\n",
            "'quer fic marin hoj ' => Negativo [Negativo]\n",
            "'ach vil pouc ameaç apresent companiom legal jodi whittak cativ , divert empolg , tud pra ser ótim protagon . be welcom , new doc ! ' => Negativo [Positivo]\n",
            "\"areth franklin ' grav doent ', diz amig famíl can \" => Neutro [Neutro]\n",
            "'vaa presid !!! brilh ' => Neutro [Positivo]\n",
            "'assist program eleitor igual . ce maravilh , paul alckmin . ai paul vam lá cearens vem cá vem tud m paul ' => Neutro [Positivo]\n",
            "'foc constru ' => Neutro [Neutro]\n",
            "'datafalh golp haddad & lt 3 ¹³ 4 % 9 agor 13 % . vox popul cut haddad apoi lul 22 %. send reconhec . vai cresc pesquis golp ! ' => Negativo [Positivo]\n",
            "'cap preserv campanh , bolsonar silenc vic . vej ' => Neutro [Neutro]\n",
            "'mei trist , poi ach am chef vot bozonir hoj ô mulh , pra quê ? democrac ' => Negativo [Negativo]\n",
            "'vej muit gent sab baix víde daqu twitt , ent deix aqu link sit uso → func tant pra celul quant pra comput inser link tweet baix víde ' => Negativo [Positivo]\n",
            "'haddad afast pouc marc pt , diz camil sant ' => Neutro [Neutro]\n",
            "'senh cheg presid fé cheg , fraud ), minist educ precis lev conteúd escol ! ' => Neutro [Positivo]\n",
            "'seras experian relanç plataform negoci dív ' => Neutro [Neutro]\n",
            "'tim mud plan dá acess ilimit instagr , facebook twitt ' => Neutro [Neutro]\n",
            "'dól interromp set alt cai pux exteri , seg acim r $ 4 ' => Neutro [Neutro]\n",
            "'es , renat casagrand comun eleit . jesu !! ' => Neutro [Negativo]\n",
            "'boa noit tod part dorm chuv caind telh ' => Neutro [Positivo]\n"
          ],
          "name": "stdout"
        }
      ]
    },
    {
      "cell_type": "markdown",
      "metadata": {
        "id": "JBObayzBcsHO"
      },
      "source": [
        "### Neural Network - Multilayer Perceptron"
      ]
    },
    {
      "cell_type": "markdown",
      "metadata": {
        "id": "VMmjAod5c_qG"
      },
      "source": [
        "<img src=\"https://st2.ning.com/topology/rest/1.0/file/get/1140047167?profile=original\" width=\"500\"/>"
      ]
    },
    {
      "cell_type": "code",
      "metadata": {
        "id": "8NbFCKnbcvbH"
      },
      "source": [
        "model_NN = Pipeline([\n",
        "    ('vect', CountVectorizer(ngram_range=(1, 2))),\n",
        "    ('tfidf', TfidfTransformer()),\n",
        "    ('pca', TruncatedSVD(n_components=200)), # 100000 linhas por 150 colunas (features)\n",
        "    ('clf', MLPClassifier(hidden_layer_sizes=(100,50), #2 camadas escondidas sendo a primeira com 100 neurônios e a segunda com 50 neurônios \n",
        "                          random_state=42, \n",
        "                          activation='relu', #Teste outras funções de ativação. Ex. tanh, entre outras (relu).\n",
        "                          max_iter=1000,\n",
        "                          early_stopping=True))\n",
        "])"
      ],
      "execution_count": null,
      "outputs": []
    },
    {
      "cell_type": "code",
      "metadata": {
        "id": "quTIk4RxsmvI"
      },
      "source": [
        "#predictions_NN = cross_val_predict(model_NN, tweets, classes)"
      ],
      "execution_count": null,
      "outputs": []
    },
    {
      "cell_type": "code",
      "metadata": {
        "id": "YTQom7AXf500"
      },
      "source": [
        "#print(classification_report(classes, predictions_NN))"
      ],
      "execution_count": null,
      "outputs": []
    },
    {
      "cell_type": "code",
      "metadata": {
        "id": "l3QRaZEKbVyn"
      },
      "source": [
        "#for doc, prediction, y in zip(tweets[0:30], resultados[0:30], classes[0:30]):\n",
        "#    print('%r => %s [%s]' % (doc, prediction, y))"
      ],
      "execution_count": null,
      "outputs": []
    },
    {
      "cell_type": "code",
      "metadata": {
        "id": "tPYNcTztAJH8"
      },
      "source": [
        "#param_grid = { \n",
        "#    'vect__ngram_range': [(1, 1), (1, 2)],\n",
        "#    'tfidf__use_idf': (True, False),\n",
        "#    'clf__n_estimators': [100, 200, 300, 400, 500],\n",
        "#    'clf__max_features': ['auto', 'sqrt', 'log2'],\n",
        "#    'clf__max_depth' : [None, 4,5,6,7,8],\n",
        "#    'clf__criterion' :['gini', 'entropy']\n",
        "#}"
      ],
      "execution_count": null,
      "outputs": []
    },
    {
      "cell_type": "markdown",
      "metadata": {
        "id": "q2NI9ErszQ0M"
      },
      "source": [
        "### Neural network model with Hold-out"
      ]
    },
    {
      "cell_type": "code",
      "metadata": {
        "id": "QW_YYQqhzQ0M"
      },
      "source": [
        "X_train, X_test, y_train, y_test = train_test_split(tweets, classes, test_size=0.33, random_state=42)"
      ],
      "execution_count": null,
      "outputs": []
    },
    {
      "cell_type": "code",
      "metadata": {
        "id": "BD2poD35bx6H",
        "colab": {
          "base_uri": "https://localhost:8080/"
        },
        "outputId": "e446af4b-7b5b-4a03-e9ee-96228ff47801"
      },
      "source": [
        "X_train.shape"
      ],
      "execution_count": null,
      "outputs": [
        {
          "output_type": "execute_result",
          "data": {
            "text/plain": [
              "(56060,)"
            ]
          },
          "metadata": {
            "tags": []
          },
          "execution_count": 101
        }
      ]
    },
    {
      "cell_type": "code",
      "metadata": {
        "id": "QpkimiWXb273",
        "colab": {
          "base_uri": "https://localhost:8080/"
        },
        "outputId": "ed1f7411-5db9-41d6-91ac-e3921e764e75"
      },
      "source": [
        "X_test.shape"
      ],
      "execution_count": null,
      "outputs": [
        {
          "output_type": "execute_result",
          "data": {
            "text/plain": [
              "(27612,)"
            ]
          },
          "metadata": {
            "tags": []
          },
          "execution_count": 102
        }
      ]
    },
    {
      "cell_type": "code",
      "metadata": {
        "id": "jL6mmimJzQ0M"
      },
      "source": [
        "model_NN.fit(X_train, y_train)\n",
        "predictions_NN = model_NN.predict(X_test)"
      ],
      "execution_count": null,
      "outputs": []
    },
    {
      "cell_type": "code",
      "metadata": {
        "id": "gLR4lQjPzQ0M",
        "colab": {
          "base_uri": "https://localhost:8080/"
        },
        "outputId": "9273ec37-0087-4b12-d8ee-9e3025e5eca4"
      },
      "source": [
        "print(classification_report(y_test, predictions_NN))"
      ],
      "execution_count": null,
      "outputs": [
        {
          "output_type": "stream",
          "text": [
            "              precision    recall  f1-score   support\n",
            "\n",
            "    Negativo       0.68      0.77      0.72      9262\n",
            "      Neutro       0.86      0.81      0.83      9122\n",
            "    Positivo       0.63      0.59      0.61      9228\n",
            "\n",
            "    accuracy                           0.72     27612\n",
            "   macro avg       0.73      0.72      0.72     27612\n",
            "weighted avg       0.73      0.72      0.72     27612\n",
            "\n"
          ],
          "name": "stdout"
        }
      ]
    },
    {
      "cell_type": "code",
      "metadata": {
        "id": "8O2bEN2-zQ0N",
        "colab": {
          "base_uri": "https://localhost:8080/"
        },
        "outputId": "3ae92056-67c3-488a-cb50-77b0a48629fb"
      },
      "source": [
        "for doc, prediction, y in zip(X_test[0:20], predictions_NN[0:20], y_test[0:20]):\n",
        "    print('%r => %s [%s]' % (doc, prediction, y))"
      ],
      "execution_count": null,
      "outputs": [
        {
          "output_type": "stream",
          "text": [
            "'quer trabalh nov ele ' => Negativo [Negativo]\n",
            "'lei auxíli ' => Neutro [Neutro]\n",
            "'tô trist amanhã famíl vai cheg urn faz 17 ' => Negativo [Negativo]\n",
            "'quer fic marin hoj ' => Negativo [Negativo]\n",
            "'ach vil pouc ameaç apresent companiom legal jodi whittak cativ , divert empolg , tud pra ser ótim protagon . be welcom , new doc ! ' => Positivo [Positivo]\n",
            "\"areth franklin ' grav doent ', diz amig famíl can \" => Neutro [Neutro]\n",
            "'vaa presid !!! brilh ' => Positivo [Positivo]\n",
            "'assist program eleitor igual . ce maravilh , paul alckmin . ai paul vam lá cearens vem cá vem tud m paul ' => Positivo [Positivo]\n",
            "'foc constru ' => Positivo [Neutro]\n",
            "'datafalh golp haddad & lt 3 ¹³ 4 % 9 agor 13 % . vox popul cut haddad apoi lul 22 %. send reconhec . vai cresc pesquis golp ! ' => Positivo [Positivo]\n",
            "'cap preserv campanh , bolsonar silenc vic . vej ' => Neutro [Neutro]\n",
            "'mei trist , poi ach am chef vot bozonir hoj ô mulh , pra quê ? democrac ' => Negativo [Negativo]\n",
            "'vej muit gent sab baix víde daqu twitt , ent deix aqu link sit uso → func tant pra celul quant pra comput inser link tweet baix víde ' => Positivo [Positivo]\n",
            "'haddad afast pouc marc pt , diz camil sant ' => Neutro [Neutro]\n",
            "'senh cheg presid fé cheg , fraud ), minist educ precis lev conteúd escol ! ' => Positivo [Positivo]\n",
            "'seras experian relanç plataform negoci dív ' => Neutro [Neutro]\n",
            "'tim mud plan dá acess ilimit instagr , facebook twitt ' => Neutro [Neutro]\n",
            "'dól interromp set alt cai pux exteri , seg acim r $ 4 ' => Neutro [Neutro]\n",
            "'es , renat casagrand comun eleit . jesu !! ' => Positivo [Negativo]\n",
            "'boa noit tod part dorm chuv caind telh ' => Positivo [Positivo]\n"
          ],
          "name": "stdout"
        }
      ]
    },
    {
      "cell_type": "markdown",
      "metadata": {
        "id": "RiZyLJP05gKy"
      },
      "source": [
        "### Implementing a Linear Classifier (Logistic Regression) with Hold-Out"
      ]
    },
    {
      "cell_type": "code",
      "metadata": {
        "id": "RVkm2xmRLG94"
      },
      "source": [
        "#parameters = {\n",
        "#    'vect__ngram_range': [(1, 1), (1, 2)],\n",
        "#    'tfidf__use_idf': (True, False),\n",
        "#    'clf__solver': ('newton-cg', 'lbfgs', 'liblinear', 'sag', 'saga'),\n",
        "#    'clf__penalty': ('l1', 'l2', 'elasticnet', 'none'),\n",
        "#}"
      ],
      "execution_count": null,
      "outputs": []
    },
    {
      "cell_type": "code",
      "metadata": {
        "id": "XVc42VR9MoAN"
      },
      "source": [
        "#gs_model_LR = GridSearchCV(model_LR, parameters, cv = 5, iid = False, n_jobs = -1)\n",
        "#gs_model_LR.fit(X_train, y_train)"
      ],
      "execution_count": null,
      "outputs": []
    },
    {
      "cell_type": "code",
      "metadata": {
        "id": "70JZ0tehOHkv"
      },
      "source": [
        "#print(gs_model_LR.best_params_)"
      ],
      "execution_count": null,
      "outputs": []
    },
    {
      "cell_type": "code",
      "metadata": {
        "id": "b8A0vi2j5grx"
      },
      "source": [
        "model_LR = Pipeline([\n",
        "    ('vect', CountVectorizer(ngram_range=(1, 2))),\n",
        "    ('tfidf', TfidfTransformer()),\n",
        "    ('clf', LogisticRegression(random_state=42, multi_class='multinomial', max_iter=500, n_jobs=-1)),\n",
        "])"
      ],
      "execution_count": null,
      "outputs": []
    },
    {
      "cell_type": "code",
      "metadata": {
        "id": "pTBOCjUt5oto"
      },
      "source": [
        "X_train, X_test, y_train, y_test = train_test_split(tweets, classes, test_size=0.35, random_state=42)"
      ],
      "execution_count": null,
      "outputs": []
    },
    {
      "cell_type": "code",
      "metadata": {
        "id": "3754i2cX5otp"
      },
      "source": [
        "model_LR.fit(X_train, y_train)\n",
        "predictions_LR = model_LR.predict(X_test)"
      ],
      "execution_count": null,
      "outputs": []
    },
    {
      "cell_type": "code",
      "metadata": {
        "id": "l2RAzJ0B5oto",
        "colab": {
          "base_uri": "https://localhost:8080/"
        },
        "outputId": "f64fa160-eee0-4729-852a-02179ccf608e"
      },
      "source": [
        "X_train.shape, X_test.shape"
      ],
      "execution_count": null,
      "outputs": [
        {
          "output_type": "execute_result",
          "data": {
            "text/plain": [
              "((54386,), (29286,))"
            ]
          },
          "metadata": {
            "tags": []
          },
          "execution_count": 135
        }
      ]
    },
    {
      "cell_type": "code",
      "metadata": {
        "id": "vQskX4Bw5otp",
        "colab": {
          "base_uri": "https://localhost:8080/"
        },
        "outputId": "71c39406-8e39-4520-bf82-5c8d614e61af"
      },
      "source": [
        "print(classification_report(y_test, predictions_LR))"
      ],
      "execution_count": null,
      "outputs": [
        {
          "output_type": "stream",
          "text": [
            "              precision    recall  f1-score   support\n",
            "\n",
            "    Negativo       0.73      0.77      0.75      9807\n",
            "      Neutro       0.86      0.86      0.86      9666\n",
            "    Positivo       0.70      0.65      0.67      9813\n",
            "\n",
            "    accuracy                           0.76     29286\n",
            "   macro avg       0.76      0.76      0.76     29286\n",
            "weighted avg       0.76      0.76      0.76     29286\n",
            "\n"
          ],
          "name": "stdout"
        }
      ]
    },
    {
      "cell_type": "code",
      "metadata": {
        "id": "eD39M6V6FL8m",
        "colab": {
          "base_uri": "https://localhost:8080/"
        },
        "outputId": "33c74513-cbf4-48cf-f5d0-29fac7e1d88b"
      },
      "source": [
        "for doc, prediction, y in zip(X_test[0:20], predictions_LR[0:20], y_test[0:20]):\n",
        "    print('%r => %s [%s]' % (doc, prediction, y))"
      ],
      "execution_count": null,
      "outputs": [
        {
          "output_type": "stream",
          "text": [
            "'quer trabalh nov ele ' => Negativo [Negativo]\n",
            "'lei auxíli ' => Neutro [Neutro]\n",
            "'tô trist amanhã famíl vai cheg urn faz 17 ' => Negativo [Negativo]\n",
            "'quer fic marin hoj ' => Negativo [Negativo]\n",
            "'ach vil pouc ameaç apresent companiom legal jodi whittak cativ , divert empolg , tud pra ser ótim protagon . be welcom , new doc ! ' => Positivo [Positivo]\n",
            "\"areth franklin ' grav doent ', diz amig famíl can \" => Neutro [Neutro]\n",
            "'vaa presid !!! brilh ' => Neutro [Positivo]\n",
            "'assist program eleitor igual . ce maravilh , paul alckmin . ai paul vam lá cearens vem cá vem tud m paul ' => Positivo [Positivo]\n",
            "'foc constru ' => Neutro [Neutro]\n",
            "'datafalh golp haddad & lt 3 ¹³ 4 % 9 agor 13 % . vox popul cut haddad apoi lul 22 %. send reconhec . vai cresc pesquis golp ! ' => Positivo [Positivo]\n",
            "'cap preserv campanh , bolsonar silenc vic . vej ' => Neutro [Neutro]\n",
            "'mei trist , poi ach am chef vot bozonir hoj ô mulh , pra quê ? democrac ' => Negativo [Negativo]\n",
            "'vej muit gent sab baix víde daqu twitt , ent deix aqu link sit uso → func tant pra celul quant pra comput inser link tweet baix víde ' => Positivo [Positivo]\n",
            "'haddad afast pouc marc pt , diz camil sant ' => Neutro [Neutro]\n",
            "'senh cheg presid fé cheg , fraud ), minist educ precis lev conteúd escol ! ' => Neutro [Positivo]\n",
            "'seras experian relanç plataform negoci dív ' => Neutro [Neutro]\n",
            "'tim mud plan dá acess ilimit instagr , facebook twitt ' => Neutro [Neutro]\n",
            "'dól interromp set alt cai pux exteri , seg acim r $ 4 ' => Neutro [Neutro]\n",
            "'es , renat casagrand comun eleit . jesu !! ' => Neutro [Negativo]\n",
            "'boa noit tod part dorm chuv caind telh ' => Positivo [Positivo]\n"
          ],
          "name": "stdout"
        }
      ]
    },
    {
      "cell_type": "markdown",
      "metadata": {
        "id": "0aGph-97-MIy"
      },
      "source": [
        "### SVM model with Hold out"
      ]
    },
    {
      "cell_type": "code",
      "metadata": {
        "id": "G2ittJj-Cw9h"
      },
      "source": [
        "model_SVC = Pipeline([\n",
        "    ('vect', CountVectorizer(ngram_range=(1, 2))),\n",
        "    ('tfidf', TfidfTransformer()),\n",
        "    ('clf', LogisticRegression(random_state=42, multi_class='multinomial', max_iter=500, n_jobs=-1)),\n",
        "])"
      ],
      "execution_count": null,
      "outputs": []
    },
    {
      "cell_type": "code",
      "metadata": {
        "id": "lMNU8kYu-NXK"
      },
      "source": [
        "model_SVC = Pipeline([\n",
        "    ('vect', CountVectorizer(ngram_range=(1, 2))),\n",
        "    ('tfidf', TfidfTransformer()),\n",
        "    ('clf', SVC(random_state=42)),\n",
        "])"
      ],
      "execution_count": null,
      "outputs": []
    },
    {
      "cell_type": "code",
      "metadata": {
        "id": "IXdmCjNh-kDF"
      },
      "source": [
        "X_train, X_test, y_train, y_test = train_test_split(tweets, classes, test_size=0.35, random_state=42)"
      ],
      "execution_count": null,
      "outputs": []
    },
    {
      "cell_type": "code",
      "metadata": {
        "id": "OzunIIXg-khT",
        "colab": {
          "base_uri": "https://localhost:8080/"
        },
        "outputId": "5e71cc2a-ed33-407e-9ba6-3880373a0294"
      },
      "source": [
        "X_train.shape"
      ],
      "execution_count": null,
      "outputs": [
        {
          "output_type": "execute_result",
          "data": {
            "text/plain": [
              "(54386,)"
            ]
          },
          "metadata": {
            "tags": []
          },
          "execution_count": 119
        }
      ]
    },
    {
      "cell_type": "code",
      "metadata": {
        "id": "dh3-Otoz-nDq",
        "colab": {
          "base_uri": "https://localhost:8080/"
        },
        "outputId": "9ac35ded-6f38-485e-a469-d50eee980b90"
      },
      "source": [
        "X_test.shape"
      ],
      "execution_count": null,
      "outputs": [
        {
          "output_type": "execute_result",
          "data": {
            "text/plain": [
              "(29286,)"
            ]
          },
          "metadata": {
            "tags": []
          },
          "execution_count": 120
        }
      ]
    },
    {
      "cell_type": "code",
      "metadata": {
        "id": "8G9AA-zg-sLL"
      },
      "source": [
        "#model_SVC.fit(X_train, y_train)\n",
        "#predictions_SVC = model_SVC.predict(predictions_SVC)"
      ],
      "execution_count": null,
      "outputs": []
    },
    {
      "cell_type": "code",
      "metadata": {
        "id": "CCHl7o3h-yw_"
      },
      "source": [
        "#print(classification_report(y_test, predictions_LR))"
      ],
      "execution_count": null,
      "outputs": []
    },
    {
      "cell_type": "code",
      "metadata": {
        "id": "DLnvwx_A-3CK"
      },
      "source": [
        "#for doc, prediction, y in zip(X_test[0:20], predictions_SVC[0:20], y_test[0:20]):\n",
        "#    print('%r => %s [%s]' % (doc, prediction, y))"
      ],
      "execution_count": null,
      "outputs": []
    },
    {
      "cell_type": "markdown",
      "metadata": {
        "id": "3E9RvBzoJpNv"
      },
      "source": [
        "### Importing models"
      ]
    },
    {
      "cell_type": "code",
      "metadata": {
        "id": "UVpOeP1v7luq"
      },
      "source": [
        "import pickle"
      ],
      "execution_count": null,
      "outputs": []
    },
    {
      "cell_type": "code",
      "metadata": {
        "id": "HsYBa7ah729P"
      },
      "source": [
        "#filename = 'RF_sa_model.sav'\n",
        "pickle.dump(model_RF, open('RF_model_we', 'wb'))"
      ],
      "execution_count": null,
      "outputs": []
    },
    {
      "cell_type": "code",
      "metadata": {
        "id": "0YIR6fd2gCXg"
      },
      "source": [
        "#filename = 'RF_sa_model.sav'\n",
        "pickle.dump(model_NN, open('NN_model_we', 'wb'))"
      ],
      "execution_count": null,
      "outputs": []
    },
    {
      "cell_type": "code",
      "metadata": {
        "id": "P3ufMJai7KX4"
      },
      "source": [
        "#filename = 'LR_sa_model.sav'\n",
        "pickle.dump(model_LR, open('LR_model_we', 'wb'))"
      ],
      "execution_count": null,
      "outputs": []
    },
    {
      "cell_type": "code",
      "metadata": {
        "id": "AKA_SsHNopJB"
      },
      "source": [
        "loaded_model = pickle.load(open('RF_model_we', 'rb'))"
      ],
      "execution_count": null,
      "outputs": []
    },
    {
      "cell_type": "code",
      "metadata": {
        "id": "_KkMTXjhbR_M"
      },
      "source": [
        "loaded_model = pickle.load(open('NN_model_we', 'rb'))"
      ],
      "execution_count": null,
      "outputs": []
    },
    {
      "cell_type": "code",
      "metadata": {
        "id": "4SyP86_F7Nt4"
      },
      "source": [
        "loaded_model = pickle.load(open('LR_model_we', 'rb'))"
      ],
      "execution_count": null,
      "outputs": []
    },
    {
      "cell_type": "code",
      "metadata": {
        "colab": {
          "base_uri": "https://localhost:8080/"
        },
        "id": "-bXYj-yg8Hyu",
        "outputId": "f57c7429-371b-425f-8ad7-c8987deb09fc"
      },
      "source": [
        "model_LR.predict(X_test)"
      ],
      "execution_count": null,
      "outputs": [
        {
          "output_type": "execute_result",
          "data": {
            "text/plain": [
              "array(['Negativo', 'Neutro', 'Negativo', ..., 'Negativo', 'Negativo',\n",
              "       'Positivo'], dtype=object)"
            ]
          },
          "metadata": {
            "tags": []
          },
          "execution_count": 131
        }
      ]
    },
    {
      "cell_type": "code",
      "metadata": {
        "id": "Az_tSLdZyBC8"
      },
      "source": [
        "predictions = loaded_model.predict(X_test)"
      ],
      "execution_count": null,
      "outputs": []
    },
    {
      "cell_type": "code",
      "metadata": {
        "id": "-5mIvaVrlFKk",
        "colab": {
          "base_uri": "https://localhost:8080/"
        },
        "outputId": "6f990fb1-a03c-4d82-aa60-6ab379e210f1"
      },
      "source": [
        "print(classification_report(y_test, predictions))"
      ],
      "execution_count": null,
      "outputs": [
        {
          "output_type": "stream",
          "text": [
            "              precision    recall  f1-score   support\n",
            "\n",
            "    Negativo       0.73      0.77      0.75      9807\n",
            "      Neutro       0.86      0.86      0.86      9666\n",
            "    Positivo       0.70      0.65      0.67      9813\n",
            "\n",
            "    accuracy                           0.76     29286\n",
            "   macro avg       0.76      0.76      0.76     29286\n",
            "weighted avg       0.76      0.76      0.76     29286\n",
            "\n"
          ],
          "name": "stdout"
        }
      ]
    }
  ]
}