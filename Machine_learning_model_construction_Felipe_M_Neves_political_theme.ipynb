{
  "nbformat": 4,
  "nbformat_minor": 0,
  "metadata": {
    "colab": {
      "name": "Machine learning model construction_Felipe_M_Neves_political-theme.ipynb",
      "provenance": [],
      "collapsed_sections": [],
      "toc_visible": true,
      "include_colab_link": true
    },
    "kernelspec": {
      "name": "python3",
      "display_name": "Python 3"
    }
  },
  "cells": [
    {
      "cell_type": "markdown",
      "metadata": {
        "id": "view-in-github",
        "colab_type": "text"
      },
      "source": [
        "<a href=\"https://colab.research.google.com/github/fmarcelneves/Twitter-Network-Analytics/blob/main/Machine_learning_model_construction_Felipe_M_Neves_political_theme.ipynb\" target=\"_parent\"><img src=\"https://colab.research.google.com/assets/colab-badge.svg\" alt=\"Open In Colab\"/></a>"
      ]
    },
    {
      "cell_type": "markdown",
      "metadata": {
        "_uuid": "39b49805abea346b301e8be2f6317f41f2040cb0",
        "id": "_ATEjsR7ojnq"
      },
      "source": [
        "<h1>Portuguese Tweets for Sentiment Analysis using nltk and sklearn</h1>"
      ]
    },
    {
      "cell_type": "markdown",
      "metadata": {
        "id": "t3FAjsEbkMW9"
      },
      "source": [
        "## Install package"
      ]
    },
    {
      "cell_type": "code",
      "metadata": {
        "colab": {
          "base_uri": "https://localhost:8080/"
        },
        "id": "kjr3G2adsHl-",
        "outputId": "2952b35e-8c54-424e-c8f3-612c489178e8"
      },
      "source": [
        "!pip install xgboost"
      ],
      "execution_count": 1,
      "outputs": [
        {
          "output_type": "stream",
          "text": [
            "Requirement already satisfied: xgboost in /usr/local/lib/python3.7/dist-packages (0.90)\n",
            "Requirement already satisfied: scipy in /usr/local/lib/python3.7/dist-packages (from xgboost) (1.4.1)\n",
            "Requirement already satisfied: numpy in /usr/local/lib/python3.7/dist-packages (from xgboost) (1.19.5)\n"
          ],
          "name": "stdout"
        }
      ]
    },
    {
      "cell_type": "markdown",
      "metadata": {
        "_uuid": "b4f29bda96d086b23f57e2d4aa970c3c1e037578",
        "id": "nrMGO10Aojnq"
      },
      "source": [
        "## Load packages"
      ]
    },
    {
      "cell_type": "code",
      "metadata": {
        "trusted": true,
        "_uuid": "919b480a6075584c5f93cf511e90001ddcc7b649",
        "id": "VLxC5kVxojnq"
      },
      "source": [
        "import os\n",
        "import pandas as pd\n",
        "import numpy as np\n",
        "import random\n",
        "import re\n",
        "import nltk\n",
        "from nltk.tokenize import word_tokenize\n",
        "from nltk.tokenize import wordpunct_tokenize\n",
        "# from nltk.tokenize import sent_tokenize (Tokenization)\n",
        "from nltk.probability import FreqDist\n",
        "from nltk.metrics import ConfusionMatrix\n",
        "from wordcloud import WordCloud\n",
        "import matplotlib.pyplot as plt\n",
        "from sklearn.feature_extraction.text import CountVectorizer\n",
        "from sklearn.feature_extraction.text import TfidfTransformer\n",
        "from sklearn.naive_bayes import MultinomialNB\n",
        "from sklearn.linear_model import SGDClassifier\n",
        "from sklearn.linear_model import LogisticRegression\n",
        "from sklearn.svm import SVC\n",
        "from sklearn.ensemble import RandomForestClassifier\n",
        "from sklearn.ensemble import GradientBoostingClassifier\n",
        "from sklearn.pipeline import Pipeline\n",
        "from sklearn import metrics\n",
        "from sklearn.model_selection import GridSearchCV\n",
        "from sklearn.metrics import classification_report\n",
        "from sklearn.model_selection import cross_val_predict\n",
        "from sklearn.model_selection import train_test_split\n",
        "import  xgboost as xgb"
      ],
      "execution_count": 2,
      "outputs": []
    },
    {
      "cell_type": "code",
      "metadata": {
        "colab": {
          "base_uri": "https://localhost:8080/"
        },
        "id": "9eMtkH6n6u6b",
        "outputId": "49cf7482-0da6-4b90-c019-8cfe1591998b"
      },
      "source": [
        " nltk.download('stopwords')"
      ],
      "execution_count": 3,
      "outputs": [
        {
          "output_type": "stream",
          "text": [
            "[nltk_data] Downloading package stopwords to /root/nltk_data...\n",
            "[nltk_data]   Unzipping corpora/stopwords.zip.\n"
          ],
          "name": "stdout"
        },
        {
          "output_type": "execute_result",
          "data": {
            "text/plain": [
              "True"
            ]
          },
          "metadata": {
            "tags": []
          },
          "execution_count": 3
        }
      ]
    },
    {
      "cell_type": "markdown",
      "metadata": {
        "_uuid": "6340d1fa4e6c1eb7317bc41d0e455f38cecff5e7",
        "id": "Oh5yVZT2ojnr"
      },
      "source": [
        "## Load and concatenate dataset"
      ]
    },
    {
      "cell_type": "markdown",
      "metadata": {
        "_uuid": "3796005c75ed73e961631cd6148ac209865498d7",
        "id": "VlaZL-WJojnr"
      },
      "source": [
        "<h4>Load and prepare</h4>"
      ]
    },
    {
      "cell_type": "code",
      "metadata": {
        "id": "LRLS8HzU0dL9"
      },
      "source": [
        "TweetsNeutralHash = 'https://raw.githubusercontent.com/fmarcelneves/Twitter-Network-Analytics/main/TweetsNeutralHash.csv'\n",
        "TweetsNeutralNews = 'https://raw.githubusercontent.com/fmarcelneves/Twitter-Network-Analytics/main/TweetsNeutralNews.csv'\n",
        "TweetsWithTheme = 'https://raw.githubusercontent.com/fmarcelneves/Twitter-Network-Analytics/main/TweetsWithTheme.csv'\n",
        "Train3Classes = 'https://raw.githubusercontent.com/fmarcelneves/Twitter-Network-Analytics/main/Train3Classes.csv'"
      ],
      "execution_count": 4,
      "outputs": []
    },
    {
      "cell_type": "code",
      "metadata": {
        "trusted": true,
        "_uuid": "5d6cf76ed57e7c9f7046c776b981afae40bc16cc",
        "id": "Gq5BNsUOojnr"
      },
      "source": [
        "NeutralHash = pd.read_csv(TweetsNeutralHash, encoding='utf-8')\n",
        "NeutralNews = pd.read_csv(TweetsNeutralNews, encoding='utf-8')\n",
        "Political_Neg_Pos = pd.read_csv(TweetsWithTheme, encoding='utf-8')\n",
        "Classes = pd.read_csv(Train3Classes, encoding='utf-8', sep=';')"
      ],
      "execution_count": 5,
      "outputs": []
    },
    {
      "cell_type": "code",
      "metadata": {
        "id": "FU0Lw4L1EfBs"
      },
      "source": [
        "NeutralHash  = NeutralHash[['tweet_text', 'sentiment']]\n",
        "NeutralHash.columns = ['texto', 'classificacao']"
      ],
      "execution_count": 6,
      "outputs": []
    },
    {
      "cell_type": "code",
      "metadata": {
        "colab": {
          "base_uri": "https://localhost:8080/"
        },
        "id": "IjZfD9KNFBs0",
        "outputId": "4b834ea9-4a74-40b3-f70f-2e49cde42d65"
      },
      "source": [
        "NeutralHash.shape"
      ],
      "execution_count": 7,
      "outputs": [
        {
          "output_type": "execute_result",
          "data": {
            "text/plain": [
              "(15727, 2)"
            ]
          },
          "metadata": {
            "tags": []
          },
          "execution_count": 7
        }
      ]
    },
    {
      "cell_type": "code",
      "metadata": {
        "id": "J9jEXZkLJFkc"
      },
      "source": [
        "NeutralHash = NeutralHash.drop_duplicates().reset_index(drop=True)"
      ],
      "execution_count": 8,
      "outputs": []
    },
    {
      "cell_type": "code",
      "metadata": {
        "colab": {
          "base_uri": "https://localhost:8080/"
        },
        "id": "1gNt_G2lJOPc",
        "outputId": "a768309d-38aa-409c-84ba-a5bbec0f6633"
      },
      "source": [
        "NeutralHash.shape"
      ],
      "execution_count": 9,
      "outputs": [
        {
          "output_type": "execute_result",
          "data": {
            "text/plain": [
              "(15515, 2)"
            ]
          },
          "metadata": {
            "tags": []
          },
          "execution_count": 9
        }
      ]
    },
    {
      "cell_type": "code",
      "metadata": {
        "id": "Hug5u6-XEuWO"
      },
      "source": [
        "NeutralNews  = NeutralNews[['tweet_text', 'sentiment']]\n",
        "NeutralNews.columns = ['texto', 'classificacao']"
      ],
      "execution_count": 10,
      "outputs": []
    },
    {
      "cell_type": "code",
      "metadata": {
        "colab": {
          "base_uri": "https://localhost:8080/"
        },
        "id": "kIV4NnaHFGuE",
        "outputId": "b3645db6-9bcc-428a-e989-b756a6c429ca"
      },
      "source": [
        "NeutralNews.shape"
      ],
      "execution_count": 11,
      "outputs": [
        {
          "output_type": "execute_result",
          "data": {
            "text/plain": [
              "(37556, 2)"
            ]
          },
          "metadata": {
            "tags": []
          },
          "execution_count": 11
        }
      ]
    },
    {
      "cell_type": "code",
      "metadata": {
        "id": "7TYMrbycJfX5"
      },
      "source": [
        "NeutralNews = NeutralNews.drop_duplicates().reset_index(drop=True)"
      ],
      "execution_count": 12,
      "outputs": []
    },
    {
      "cell_type": "code",
      "metadata": {
        "colab": {
          "base_uri": "https://localhost:8080/"
        },
        "id": "LlxcOlmfJkbN",
        "outputId": "9b616a46-55c4-4023-f2fb-feff2aed6851"
      },
      "source": [
        "NeutralNews.shape"
      ],
      "execution_count": 13,
      "outputs": [
        {
          "output_type": "execute_result",
          "data": {
            "text/plain": [
              "(37509, 2)"
            ]
          },
          "metadata": {
            "tags": []
          },
          "execution_count": 13
        }
      ]
    },
    {
      "cell_type": "code",
      "metadata": {
        "id": "vHTeO78UxI3w"
      },
      "source": [
        "Political_Neg_Pos  = Political_Neg_Pos[['tweet_text', 'sentiment']]\n",
        "Political_Neg_Pos.columns = ['texto', 'classificacao']"
      ],
      "execution_count": 14,
      "outputs": []
    },
    {
      "cell_type": "code",
      "metadata": {
        "colab": {
          "base_uri": "https://localhost:8080/"
        },
        "id": "iGqnSZ-lJx5O",
        "outputId": "7611e5ed-28ba-47c4-ca36-6e30c3c0eef4"
      },
      "source": [
        "Political_Neg_Pos.shape"
      ],
      "execution_count": 15,
      "outputs": [
        {
          "output_type": "execute_result",
          "data": {
            "text/plain": [
              "(61591, 2)"
            ]
          },
          "metadata": {
            "tags": []
          },
          "execution_count": 15
        }
      ]
    },
    {
      "cell_type": "code",
      "metadata": {
        "id": "XZoFHfaDJpRG"
      },
      "source": [
        "Political_Neg_Pos = Political_Neg_Pos.drop_duplicates().reset_index(drop=True)"
      ],
      "execution_count": 16,
      "outputs": []
    },
    {
      "cell_type": "code",
      "metadata": {
        "colab": {
          "base_uri": "https://localhost:8080/"
        },
        "id": "_SO-ueIiFOE7",
        "outputId": "d71ffd9c-041e-47e3-f933-85dd588553da"
      },
      "source": [
        "Political_Neg_Pos.shape"
      ],
      "execution_count": 17,
      "outputs": [
        {
          "output_type": "execute_result",
          "data": {
            "text/plain": [
              "(61283, 2)"
            ]
          },
          "metadata": {
            "tags": []
          },
          "execution_count": 17
        }
      ]
    },
    {
      "cell_type": "code",
      "metadata": {
        "id": "UP8ROwB5Font"
      },
      "source": [
        "NeutralHash = NeutralHash.sample(8000) #14000 #8000"
      ],
      "execution_count": 18,
      "outputs": []
    },
    {
      "cell_type": "code",
      "metadata": {
        "colab": {
          "base_uri": "https://localhost:8080/"
        },
        "id": "dVhPGkbpWzkB",
        "outputId": "19499ece-fc95-4e05-e326-7e62ca369c70"
      },
      "source": [
        "NeutralHash.shape"
      ],
      "execution_count": 19,
      "outputs": [
        {
          "output_type": "execute_result",
          "data": {
            "text/plain": [
              "(8000, 2)"
            ]
          },
          "metadata": {
            "tags": []
          },
          "execution_count": 19
        }
      ]
    },
    {
      "cell_type": "code",
      "metadata": {
        "id": "e3ewkebhGNVV"
      },
      "source": [
        "NeutralNews = NeutralNews.sample(20000) #14000 #20000"
      ],
      "execution_count": 20,
      "outputs": []
    },
    {
      "cell_type": "code",
      "metadata": {
        "colab": {
          "base_uri": "https://localhost:8080/"
        },
        "id": "61-uuGesXVjq",
        "outputId": "8fcc9a51-e5e1-4ea3-909d-8f53209296e4"
      },
      "source": [
        "NeutralNews.shape"
      ],
      "execution_count": 21,
      "outputs": [
        {
          "output_type": "execute_result",
          "data": {
            "text/plain": [
              "(20000, 2)"
            ]
          },
          "metadata": {
            "tags": []
          },
          "execution_count": 21
        }
      ]
    },
    {
      "cell_type": "code",
      "metadata": {
        "colab": {
          "base_uri": "https://localhost:8080/"
        },
        "id": "Ka26Jwf0lIrv",
        "outputId": "0cb8d797-277a-4226-ebd0-4d84ea67549d"
      },
      "source": [
        "Political_Neg_Pos.loc[Political_Neg_Pos['classificacao'] == 'Positivo'].shape"
      ],
      "execution_count": 22,
      "outputs": [
        {
          "output_type": "execute_result",
          "data": {
            "text/plain": [
              "(32566, 2)"
            ]
          },
          "metadata": {
            "tags": []
          },
          "execution_count": 22
        }
      ]
    },
    {
      "cell_type": "code",
      "metadata": {
        "colab": {
          "base_uri": "https://localhost:8080/"
        },
        "id": "fPMoRx4-lUbN",
        "outputId": "5b36b25e-0f58-4001-ac44-bb8d5a22ecdc"
      },
      "source": [
        "Political_Neg_Pos.loc[Political_Neg_Pos['classificacao'] == 'Negativo'].shape"
      ],
      "execution_count": 23,
      "outputs": [
        {
          "output_type": "execute_result",
          "data": {
            "text/plain": [
              "(28717, 2)"
            ]
          },
          "metadata": {
            "tags": []
          },
          "execution_count": 23
        }
      ]
    },
    {
      "cell_type": "code",
      "metadata": {
        "id": "va8yRZWdTxRm"
      },
      "source": [
        "Political_Pos = Political_Neg_Pos.loc[Political_Neg_Pos['classificacao'] == 'Positivo'].sample(20000) #18000 #20000 #14000"
      ],
      "execution_count": 24,
      "outputs": []
    },
    {
      "cell_type": "code",
      "metadata": {
        "colab": {
          "base_uri": "https://localhost:8080/"
        },
        "id": "qjYPPBb-XqKY",
        "outputId": "e8ddb9ba-bafc-4891-bb45-f9de103c8451"
      },
      "source": [
        "Political_Pos.shape"
      ],
      "execution_count": 25,
      "outputs": [
        {
          "output_type": "execute_result",
          "data": {
            "text/plain": [
              "(20000, 2)"
            ]
          },
          "metadata": {
            "tags": []
          },
          "execution_count": 25
        }
      ]
    },
    {
      "cell_type": "code",
      "metadata": {
        "id": "AA476jZ74vb-"
      },
      "source": [
        "Classes_Pos  = Classes[['tweet_text', 'sentiment']]\n",
        "Classes_Pos.columns = ['texto', 'classificacao']"
      ],
      "execution_count": 26,
      "outputs": []
    },
    {
      "cell_type": "code",
      "metadata": {
        "colab": {
          "base_uri": "https://localhost:8080/"
        },
        "id": "HxaVKn_5AQzt",
        "outputId": "166aab47-a2d0-49e0-feaa-9f40e3e34a54"
      },
      "source": [
        "Classes_Pos['classificacao'] = Classes_Pos['classificacao'].map({0: 'Negativo', 1: 'Positivo', 2: 'Neutro'})"
      ],
      "execution_count": 27,
      "outputs": [
        {
          "output_type": "stream",
          "text": [
            "/usr/local/lib/python3.7/dist-packages/ipykernel_launcher.py:1: SettingWithCopyWarning: \n",
            "A value is trying to be set on a copy of a slice from a DataFrame.\n",
            "Try using .loc[row_indexer,col_indexer] = value instead\n",
            "\n",
            "See the caveats in the documentation: https://pandas.pydata.org/pandas-docs/stable/user_guide/indexing.html#returning-a-view-versus-a-copy\n",
            "  \"\"\"Entry point for launching an IPython kernel.\n"
          ],
          "name": "stderr"
        }
      ]
    },
    {
      "cell_type": "code",
      "metadata": {
        "id": "ZDht-xymIyOF"
      },
      "source": [
        "Classes_Pos = Classes_Pos.loc[Classes_Pos['classificacao'] == 'Positivo'].sample(8000) #10000 #14000 #8000"
      ],
      "execution_count": 28,
      "outputs": []
    },
    {
      "cell_type": "code",
      "metadata": {
        "colab": {
          "base_uri": "https://localhost:8080/"
        },
        "id": "LnRd8nmwJD14",
        "outputId": "c539bdab-60dd-4556-f053-1914390e9b64"
      },
      "source": [
        "Classes_Pos.shape"
      ],
      "execution_count": 29,
      "outputs": [
        {
          "output_type": "execute_result",
          "data": {
            "text/plain": [
              "(8000, 2)"
            ]
          },
          "metadata": {
            "tags": []
          },
          "execution_count": 29
        }
      ]
    },
    {
      "cell_type": "code",
      "metadata": {
        "id": "zp0GdYQgGRTc"
      },
      "source": [
        "Political_Neg = Political_Neg_Pos.loc[Political_Neg_Pos['classificacao'] == 'Negativo'].sample(28000)"
      ],
      "execution_count": 30,
      "outputs": []
    },
    {
      "cell_type": "code",
      "metadata": {
        "colab": {
          "base_uri": "https://localhost:8080/"
        },
        "id": "EOp1X9VHXtvg",
        "outputId": "d182810d-0825-478d-b641-2a43e441bac3"
      },
      "source": [
        "Political_Neg.shape"
      ],
      "execution_count": 31,
      "outputs": [
        {
          "output_type": "execute_result",
          "data": {
            "text/plain": [
              "(28000, 2)"
            ]
          },
          "metadata": {
            "tags": []
          },
          "execution_count": 31
        }
      ]
    },
    {
      "cell_type": "code",
      "metadata": {
        "colab": {
          "base_uri": "https://localhost:8080/",
          "height": 0
        },
        "id": "oXfhSUO6I-DC",
        "outputId": "f56c56f1-e624-4c66-ca38-d78a3a7c141b"
      },
      "source": [
        "dataset = pd.concat([NeutralHash, NeutralNews, Political_Pos, Classes_Pos, Political_Neg]).drop_duplicates().reset_index(drop=True)\n",
        "dataset"
      ],
      "execution_count": 32,
      "outputs": [
        {
          "output_type": "execute_result",
          "data": {
            "text/html": [
              "<div>\n",
              "<style scoped>\n",
              "    .dataframe tbody tr th:only-of-type {\n",
              "        vertical-align: middle;\n",
              "    }\n",
              "\n",
              "    .dataframe tbody tr th {\n",
              "        vertical-align: top;\n",
              "    }\n",
              "\n",
              "    .dataframe thead th {\n",
              "        text-align: right;\n",
              "    }\n",
              "</style>\n",
              "<table border=\"1\" class=\"dataframe\">\n",
              "  <thead>\n",
              "    <tr style=\"text-align: right;\">\n",
              "      <th></th>\n",
              "      <th>texto</th>\n",
              "      <th>classificacao</th>\n",
              "    </tr>\n",
              "  </thead>\n",
              "  <tbody>\n",
              "    <tr>\n",
              "      <th>0</th>\n",
              "      <td>N adianta, tudo oq vc faz um dia volta pra vc ...</td>\n",
              "      <td>Neutro</td>\n",
              "    </tr>\n",
              "    <tr>\n",
              "      <th>1</th>\n",
              "      <td>A disputa pelos talentos na era digital #educa...</td>\n",
              "      <td>Neutro</td>\n",
              "    </tr>\n",
              "    <tr>\n",
              "      <th>2</th>\n",
              "      <td>Contribuinte que está no 3º lote do IR 2018 re...</td>\n",
              "      <td>Neutro</td>\n",
              "    </tr>\n",
              "    <tr>\n",
              "      <th>3</th>\n",
              "      <td>4 Dicas para otimizar o sistema organizacional...</td>\n",
              "      <td>Neutro</td>\n",
              "    </tr>\n",
              "    <tr>\n",
              "      <th>4</th>\n",
              "      <td>#trabalho Port. 22/2018: Reajusta o Valor-piso...</td>\n",
              "      <td>Neutro</td>\n",
              "    </tr>\n",
              "    <tr>\n",
              "      <th>...</th>\n",
              "      <td>...</td>\n",
              "      <td>...</td>\n",
              "    </tr>\n",
              "    <tr>\n",
              "      <th>83680</th>\n",
              "      <td>@Chuchuziin_ pse veiiii eu quero o ciro :((</td>\n",
              "      <td>Negativo</td>\n",
              "    </tr>\n",
              "    <tr>\n",
              "      <th>83681</th>\n",
              "      <td>@LisetePSOL Que vergonha, uma senhora de idade...</td>\n",
              "      <td>Negativo</td>\n",
              "    </tr>\n",
              "    <tr>\n",
              "      <th>83682</th>\n",
              "      <td>@cirogomes Alguém sabe se o Ciro tem alguma pr...</td>\n",
              "      <td>Negativo</td>\n",
              "    </tr>\n",
              "    <tr>\n",
              "      <th>83683</th>\n",
              "      <td>A/C @TSEjusbr @MPF_PGR @MPF_eleitoral @policia...</td>\n",
              "      <td>Negativo</td>\n",
              "    </tr>\n",
              "    <tr>\n",
              "      <th>83684</th>\n",
              "      <td>@gilesfernandes amiga, eu entendo o voto no ci...</td>\n",
              "      <td>Negativo</td>\n",
              "    </tr>\n",
              "  </tbody>\n",
              "</table>\n",
              "<p>83685 rows × 2 columns</p>\n",
              "</div>"
            ],
            "text/plain": [
              "                                                   texto classificacao\n",
              "0      N adianta, tudo oq vc faz um dia volta pra vc ...        Neutro\n",
              "1      A disputa pelos talentos na era digital #educa...        Neutro\n",
              "2      Contribuinte que está no 3º lote do IR 2018 re...        Neutro\n",
              "3      4 Dicas para otimizar o sistema organizacional...        Neutro\n",
              "4      #trabalho Port. 22/2018: Reajusta o Valor-piso...        Neutro\n",
              "...                                                  ...           ...\n",
              "83680        @Chuchuziin_ pse veiiii eu quero o ciro :((      Negativo\n",
              "83681  @LisetePSOL Que vergonha, uma senhora de idade...      Negativo\n",
              "83682  @cirogomes Alguém sabe se o Ciro tem alguma pr...      Negativo\n",
              "83683  A/C @TSEjusbr @MPF_PGR @MPF_eleitoral @policia...      Negativo\n",
              "83684  @gilesfernandes amiga, eu entendo o voto no ci...      Negativo\n",
              "\n",
              "[83685 rows x 2 columns]"
            ]
          },
          "metadata": {
            "tags": []
          },
          "execution_count": 32
        }
      ]
    },
    {
      "cell_type": "code",
      "metadata": {
        "colab": {
          "base_uri": "https://localhost:8080/"
        },
        "id": "2abip6xKlfm6",
        "outputId": "db31f72b-66ea-4bda-f03f-c2a210cf4b1b"
      },
      "source": [
        "dataset.shape"
      ],
      "execution_count": 33,
      "outputs": [
        {
          "output_type": "execute_result",
          "data": {
            "text/plain": [
              "(83685, 2)"
            ]
          },
          "metadata": {
            "tags": []
          },
          "execution_count": 33
        }
      ]
    },
    {
      "cell_type": "code",
      "metadata": {
        "id": "99aGu-b4V6cR"
      },
      "source": [
        "#dataset = pd.concat([NeutralHash, NeutralNews, Political_Pos, Political_Neg]).drop_duplicates().reset_index(drop=True)\n",
        "#dataset"
      ],
      "execution_count": 34,
      "outputs": []
    },
    {
      "cell_type": "code",
      "metadata": {
        "id": "YTJGBA3RaUxD"
      },
      "source": [
        "#dataset = pd.concat([NeutralNews, Political_Pos, Political_Neg]).drop_duplicates().reset_index(drop=True)\n",
        "#dataset"
      ],
      "execution_count": 35,
      "outputs": []
    },
    {
      "cell_type": "markdown",
      "metadata": {
        "_uuid": "099ce684b4fe8f313bb2c6fc51bee367fb79c9fe",
        "id": "kpOHnqZmojnr"
      },
      "source": [
        "## Exploratory Analysis"
      ]
    },
    {
      "cell_type": "code",
      "metadata": {
        "trusted": true,
        "_uuid": "515a9096a3a52d337223b5c0599bbf3fe890f457",
        "colab": {
          "base_uri": "https://localhost:8080/",
          "height": 0
        },
        "id": "08yO3uJfojnr",
        "outputId": "2a8f66dd-857c-4e94-d6a8-4d621fe8d674"
      },
      "source": [
        "dataset.sample(5)"
      ],
      "execution_count": 36,
      "outputs": [
        {
          "output_type": "execute_result",
          "data": {
            "text/html": [
              "<div>\n",
              "<style scoped>\n",
              "    .dataframe tbody tr th:only-of-type {\n",
              "        vertical-align: middle;\n",
              "    }\n",
              "\n",
              "    .dataframe tbody tr th {\n",
              "        vertical-align: top;\n",
              "    }\n",
              "\n",
              "    .dataframe thead th {\n",
              "        text-align: right;\n",
              "    }\n",
              "</style>\n",
              "<table border=\"1\" class=\"dataframe\">\n",
              "  <thead>\n",
              "    <tr style=\"text-align: right;\">\n",
              "      <th></th>\n",
              "      <th>texto</th>\n",
              "      <th>classificacao</th>\n",
              "    </tr>\n",
              "  </thead>\n",
              "  <tbody>\n",
              "    <tr>\n",
              "      <th>55599</th>\n",
              "      <td>@SamuelWDyck @AMenteDoDidi não duvido disso, s...</td>\n",
              "      <td>Positivo</td>\n",
              "    </tr>\n",
              "    <tr>\n",
              "      <th>20915</th>\n",
              "      <td>SP: Doria afirma que vai a todos os debates e ...</td>\n",
              "      <td>Neutro</td>\n",
              "    </tr>\n",
              "    <tr>\n",
              "      <th>31623</th>\n",
              "      <td>@perriezandoo @guilhermebubble @paulakpta @out...</td>\n",
              "      <td>Positivo</td>\n",
              "    </tr>\n",
              "    <tr>\n",
              "      <th>73340</th>\n",
              "      <td>Como assim casa dos seus pais, seus pais não e...</td>\n",
              "      <td>Negativo</td>\n",
              "    </tr>\n",
              "    <tr>\n",
              "      <th>8480</th>\n",
              "      <td>Aliados avaliam que carta de FH não ajudou Alc...</td>\n",
              "      <td>Neutro</td>\n",
              "    </tr>\n",
              "  </tbody>\n",
              "</table>\n",
              "</div>"
            ],
            "text/plain": [
              "                                                   texto classificacao\n",
              "55599  @SamuelWDyck @AMenteDoDidi não duvido disso, s...      Positivo\n",
              "20915  SP: Doria afirma que vai a todos os debates e ...        Neutro\n",
              "31623  @perriezandoo @guilhermebubble @paulakpta @out...      Positivo\n",
              "73340  Como assim casa dos seus pais, seus pais não e...      Negativo\n",
              "8480   Aliados avaliam que carta de FH não ajudou Alc...        Neutro"
            ]
          },
          "metadata": {
            "tags": []
          },
          "execution_count": 36
        }
      ]
    },
    {
      "cell_type": "code",
      "metadata": {
        "colab": {
          "base_uri": "https://localhost:8080/"
        },
        "id": "zSmFYy1yTuUH",
        "outputId": "23123ecc-21ba-4cb5-c0f8-4e4c023e7d6b"
      },
      "source": [
        "series = dataset['classificacao'].value_counts()\n",
        "series"
      ],
      "execution_count": 37,
      "outputs": [
        {
          "output_type": "execute_result",
          "data": {
            "text/plain": [
              "Negativo    28000\n",
              "Neutro      27989\n",
              "Positivo    27696\n",
              "Name: classificacao, dtype: int64"
            ]
          },
          "metadata": {
            "tags": []
          },
          "execution_count": 37
        }
      ]
    },
    {
      "cell_type": "code",
      "metadata": {
        "id": "fa-v1dJ07uVp"
      },
      "source": [
        "%%capture\n",
        "!pip install plotly --upgrade\n",
        "from plotly import __version__\n",
        "print (__version__)\n",
        "import plotly.express as px\n",
        "from plotly.subplots import make_subplots\n",
        "import plotly.graph_objs as go\n",
        "import plotly as py\n",
        "#import plotly.figure_factory as ff\n",
        "from plotly import tools\n",
        "#import cufflinks as cf\n",
        "from plotly.offline import iplot, init_notebook_mode\n",
        "# Display all cell outputs\n",
        "from IPython.core.interactiveshell import InteractiveShell\n",
        "import plotly.io as pio\n",
        "pio.templates.default = \"plotly_white\""
      ],
      "execution_count": 38,
      "outputs": []
    },
    {
      "cell_type": "code",
      "metadata": {
        "id": "oLkUd6G-8LFo"
      },
      "source": [
        "pd.options.plotting.backend = \"plotly\"\n"
      ],
      "execution_count": 39,
      "outputs": []
    },
    {
      "cell_type": "code",
      "metadata": {
        "trusted": true,
        "_uuid": "754cdcf1f1b7e2d5abfc5a97f5c53891842be1e1",
        "colab": {
          "base_uri": "https://localhost:8080/",
          "height": 0
        },
        "id": "1GHwg04Tojnr",
        "outputId": "20ae6cdc-105f-462d-c3f4-993e0c94580f"
      },
      "source": [
        "series.plot(kind='bar', title='Número de tweets classificados para cada sentimento considerado', \n",
        "labels={\"value\": \"Frequências\", \"index\": \"Sentimentos\"}, color = ['Negativo', 'Neutro', 'Positivo'], \n",
        "color_discrete_sequence =['#EF553B', '#00CC96', '#636EFA'])"
      ],
      "execution_count": 40,
      "outputs": [
        {
          "output_type": "display_data",
          "data": {
            "text/html": [
              "<html>\n",
              "<head><meta charset=\"utf-8\" /></head>\n",
              "<body>\n",
              "    <div>            <script src=\"https://cdnjs.cloudflare.com/ajax/libs/mathjax/2.7.5/MathJax.js?config=TeX-AMS-MML_SVG\"></script><script type=\"text/javascript\">if (window.MathJax) {MathJax.Hub.Config({SVG: {font: \"STIX-Web\"}});}</script>                <script type=\"text/javascript\">window.PlotlyConfig = {MathJaxConfig: 'local'};</script>\n",
              "        <script src=\"https://cdn.plot.ly/plotly-latest.min.js\"></script>                <div id=\"69f64b7e-8f61-4e33-b937-e16f1a515e26\" class=\"plotly-graph-div\" style=\"height:525px; width:100%;\"></div>            <script type=\"text/javascript\">                                    window.PLOTLYENV=window.PLOTLYENV || {};                                    if (document.getElementById(\"69f64b7e-8f61-4e33-b937-e16f1a515e26\")) {                    Plotly.newPlot(                        \"69f64b7e-8f61-4e33-b937-e16f1a515e26\",                        [{\"alignmentgroup\": \"True\", \"hovertemplate\": \"color=Negativo<br>Sentimentos=%{x}<br>Frequ\\u00eancias=%{y}<extra></extra>\", \"legendgroup\": \"Negativo\", \"marker\": {\"color\": \"#EF553B\"}, \"name\": \"Negativo\", \"offsetgroup\": \"Negativo\", \"orientation\": \"v\", \"showlegend\": true, \"textposition\": \"auto\", \"type\": \"bar\", \"x\": [\"Negativo\"], \"xaxis\": \"x\", \"y\": [28000], \"yaxis\": \"y\"}, {\"alignmentgroup\": \"True\", \"hovertemplate\": \"color=Neutro<br>Sentimentos=%{x}<br>Frequ\\u00eancias=%{y}<extra></extra>\", \"legendgroup\": \"Neutro\", \"marker\": {\"color\": \"#00CC96\"}, \"name\": \"Neutro\", \"offsetgroup\": \"Neutro\", \"orientation\": \"v\", \"showlegend\": true, \"textposition\": \"auto\", \"type\": \"bar\", \"x\": [\"Neutro\"], \"xaxis\": \"x\", \"y\": [27989], \"yaxis\": \"y\"}, {\"alignmentgroup\": \"True\", \"hovertemplate\": \"color=Positivo<br>Sentimentos=%{x}<br>Frequ\\u00eancias=%{y}<extra></extra>\", \"legendgroup\": \"Positivo\", \"marker\": {\"color\": \"#636EFA\"}, \"name\": \"Positivo\", \"offsetgroup\": \"Positivo\", \"orientation\": \"v\", \"showlegend\": true, \"textposition\": \"auto\", \"type\": \"bar\", \"x\": [\"Positivo\"], \"xaxis\": \"x\", \"y\": [27696], \"yaxis\": \"y\"}],                        {\"barmode\": \"relative\", \"legend\": {\"title\": {\"text\": \"color\"}, \"tracegroupgap\": 0}, \"template\": {\"data\": {\"bar\": [{\"error_x\": {\"color\": \"#2a3f5f\"}, \"error_y\": {\"color\": \"#2a3f5f\"}, \"marker\": {\"line\": {\"color\": \"white\", \"width\": 0.5}}, \"type\": \"bar\"}], \"barpolar\": [{\"marker\": {\"line\": {\"color\": \"white\", \"width\": 0.5}}, \"type\": \"barpolar\"}], \"carpet\": [{\"aaxis\": {\"endlinecolor\": \"#2a3f5f\", \"gridcolor\": \"#C8D4E3\", \"linecolor\": \"#C8D4E3\", \"minorgridcolor\": \"#C8D4E3\", \"startlinecolor\": \"#2a3f5f\"}, \"baxis\": {\"endlinecolor\": \"#2a3f5f\", \"gridcolor\": \"#C8D4E3\", \"linecolor\": \"#C8D4E3\", \"minorgridcolor\": \"#C8D4E3\", \"startlinecolor\": \"#2a3f5f\"}, \"type\": \"carpet\"}], \"choropleth\": [{\"colorbar\": {\"outlinewidth\": 0, \"ticks\": \"\"}, \"type\": \"choropleth\"}], \"contour\": [{\"colorbar\": {\"outlinewidth\": 0, \"ticks\": \"\"}, \"colorscale\": [[0.0, \"#0d0887\"], [0.1111111111111111, \"#46039f\"], [0.2222222222222222, \"#7201a8\"], [0.3333333333333333, \"#9c179e\"], [0.4444444444444444, \"#bd3786\"], [0.5555555555555556, \"#d8576b\"], [0.6666666666666666, \"#ed7953\"], [0.7777777777777778, \"#fb9f3a\"], [0.8888888888888888, \"#fdca26\"], [1.0, \"#f0f921\"]], \"type\": \"contour\"}], \"contourcarpet\": [{\"colorbar\": {\"outlinewidth\": 0, \"ticks\": \"\"}, \"type\": \"contourcarpet\"}], \"heatmap\": [{\"colorbar\": {\"outlinewidth\": 0, \"ticks\": \"\"}, \"colorscale\": [[0.0, \"#0d0887\"], [0.1111111111111111, \"#46039f\"], [0.2222222222222222, \"#7201a8\"], [0.3333333333333333, \"#9c179e\"], [0.4444444444444444, \"#bd3786\"], [0.5555555555555556, \"#d8576b\"], [0.6666666666666666, \"#ed7953\"], [0.7777777777777778, \"#fb9f3a\"], [0.8888888888888888, \"#fdca26\"], [1.0, \"#f0f921\"]], \"type\": \"heatmap\"}], \"heatmapgl\": [{\"colorbar\": {\"outlinewidth\": 0, \"ticks\": \"\"}, \"colorscale\": [[0.0, \"#0d0887\"], [0.1111111111111111, \"#46039f\"], [0.2222222222222222, \"#7201a8\"], [0.3333333333333333, \"#9c179e\"], [0.4444444444444444, \"#bd3786\"], [0.5555555555555556, \"#d8576b\"], [0.6666666666666666, \"#ed7953\"], [0.7777777777777778, \"#fb9f3a\"], [0.8888888888888888, \"#fdca26\"], [1.0, \"#f0f921\"]], \"type\": \"heatmapgl\"}], \"histogram\": [{\"marker\": {\"colorbar\": {\"outlinewidth\": 0, \"ticks\": \"\"}}, \"type\": \"histogram\"}], \"histogram2d\": [{\"colorbar\": {\"outlinewidth\": 0, \"ticks\": \"\"}, \"colorscale\": [[0.0, \"#0d0887\"], [0.1111111111111111, \"#46039f\"], [0.2222222222222222, \"#7201a8\"], [0.3333333333333333, \"#9c179e\"], [0.4444444444444444, \"#bd3786\"], [0.5555555555555556, \"#d8576b\"], [0.6666666666666666, \"#ed7953\"], [0.7777777777777778, \"#fb9f3a\"], [0.8888888888888888, \"#fdca26\"], [1.0, \"#f0f921\"]], \"type\": \"histogram2d\"}], \"histogram2dcontour\": [{\"colorbar\": {\"outlinewidth\": 0, \"ticks\": \"\"}, \"colorscale\": [[0.0, \"#0d0887\"], [0.1111111111111111, \"#46039f\"], [0.2222222222222222, \"#7201a8\"], [0.3333333333333333, \"#9c179e\"], [0.4444444444444444, \"#bd3786\"], [0.5555555555555556, \"#d8576b\"], [0.6666666666666666, \"#ed7953\"], [0.7777777777777778, \"#fb9f3a\"], [0.8888888888888888, \"#fdca26\"], [1.0, \"#f0f921\"]], \"type\": \"histogram2dcontour\"}], \"mesh3d\": [{\"colorbar\": {\"outlinewidth\": 0, \"ticks\": \"\"}, \"type\": \"mesh3d\"}], \"parcoords\": [{\"line\": {\"colorbar\": {\"outlinewidth\": 0, \"ticks\": \"\"}}, \"type\": \"parcoords\"}], \"pie\": [{\"automargin\": true, \"type\": \"pie\"}], \"scatter\": [{\"marker\": {\"colorbar\": {\"outlinewidth\": 0, \"ticks\": \"\"}}, \"type\": \"scatter\"}], \"scatter3d\": [{\"line\": {\"colorbar\": {\"outlinewidth\": 0, \"ticks\": \"\"}}, \"marker\": {\"colorbar\": {\"outlinewidth\": 0, \"ticks\": \"\"}}, \"type\": \"scatter3d\"}], \"scattercarpet\": [{\"marker\": {\"colorbar\": {\"outlinewidth\": 0, \"ticks\": \"\"}}, \"type\": \"scattercarpet\"}], \"scattergeo\": [{\"marker\": {\"colorbar\": {\"outlinewidth\": 0, \"ticks\": \"\"}}, \"type\": \"scattergeo\"}], \"scattergl\": [{\"marker\": {\"colorbar\": {\"outlinewidth\": 0, \"ticks\": \"\"}}, \"type\": \"scattergl\"}], \"scattermapbox\": [{\"marker\": {\"colorbar\": {\"outlinewidth\": 0, \"ticks\": \"\"}}, \"type\": \"scattermapbox\"}], \"scatterpolar\": [{\"marker\": {\"colorbar\": {\"outlinewidth\": 0, \"ticks\": \"\"}}, \"type\": \"scatterpolar\"}], \"scatterpolargl\": [{\"marker\": {\"colorbar\": {\"outlinewidth\": 0, \"ticks\": \"\"}}, \"type\": \"scatterpolargl\"}], \"scatterternary\": [{\"marker\": {\"colorbar\": {\"outlinewidth\": 0, \"ticks\": \"\"}}, \"type\": \"scatterternary\"}], \"surface\": [{\"colorbar\": {\"outlinewidth\": 0, \"ticks\": \"\"}, \"colorscale\": [[0.0, \"#0d0887\"], [0.1111111111111111, \"#46039f\"], [0.2222222222222222, \"#7201a8\"], [0.3333333333333333, \"#9c179e\"], [0.4444444444444444, \"#bd3786\"], [0.5555555555555556, \"#d8576b\"], [0.6666666666666666, \"#ed7953\"], [0.7777777777777778, \"#fb9f3a\"], [0.8888888888888888, \"#fdca26\"], [1.0, \"#f0f921\"]], \"type\": \"surface\"}], \"table\": [{\"cells\": {\"fill\": {\"color\": \"#EBF0F8\"}, \"line\": {\"color\": \"white\"}}, \"header\": {\"fill\": {\"color\": \"#C8D4E3\"}, \"line\": {\"color\": \"white\"}}, \"type\": \"table\"}]}, \"layout\": {\"annotationdefaults\": {\"arrowcolor\": \"#2a3f5f\", \"arrowhead\": 0, \"arrowwidth\": 1}, \"autotypenumbers\": \"strict\", \"coloraxis\": {\"colorbar\": {\"outlinewidth\": 0, \"ticks\": \"\"}}, \"colorscale\": {\"diverging\": [[0, \"#8e0152\"], [0.1, \"#c51b7d\"], [0.2, \"#de77ae\"], [0.3, \"#f1b6da\"], [0.4, \"#fde0ef\"], [0.5, \"#f7f7f7\"], [0.6, \"#e6f5d0\"], [0.7, \"#b8e186\"], [0.8, \"#7fbc41\"], [0.9, \"#4d9221\"], [1, \"#276419\"]], \"sequential\": [[0.0, \"#0d0887\"], [0.1111111111111111, \"#46039f\"], [0.2222222222222222, \"#7201a8\"], [0.3333333333333333, \"#9c179e\"], [0.4444444444444444, \"#bd3786\"], [0.5555555555555556, \"#d8576b\"], [0.6666666666666666, \"#ed7953\"], [0.7777777777777778, \"#fb9f3a\"], [0.8888888888888888, \"#fdca26\"], [1.0, \"#f0f921\"]], \"sequentialminus\": [[0.0, \"#0d0887\"], [0.1111111111111111, \"#46039f\"], [0.2222222222222222, \"#7201a8\"], [0.3333333333333333, \"#9c179e\"], [0.4444444444444444, \"#bd3786\"], [0.5555555555555556, \"#d8576b\"], [0.6666666666666666, \"#ed7953\"], [0.7777777777777778, \"#fb9f3a\"], [0.8888888888888888, \"#fdca26\"], [1.0, \"#f0f921\"]]}, \"colorway\": [\"#636efa\", \"#EF553B\", \"#00cc96\", \"#ab63fa\", \"#FFA15A\", \"#19d3f3\", \"#FF6692\", \"#B6E880\", \"#FF97FF\", \"#FECB52\"], \"font\": {\"color\": \"#2a3f5f\"}, \"geo\": {\"bgcolor\": \"white\", \"lakecolor\": \"white\", \"landcolor\": \"white\", \"showlakes\": true, \"showland\": true, \"subunitcolor\": \"#C8D4E3\"}, \"hoverlabel\": {\"align\": \"left\"}, \"hovermode\": \"closest\", \"mapbox\": {\"style\": \"light\"}, \"paper_bgcolor\": \"white\", \"plot_bgcolor\": \"white\", \"polar\": {\"angularaxis\": {\"gridcolor\": \"#EBF0F8\", \"linecolor\": \"#EBF0F8\", \"ticks\": \"\"}, \"bgcolor\": \"white\", \"radialaxis\": {\"gridcolor\": \"#EBF0F8\", \"linecolor\": \"#EBF0F8\", \"ticks\": \"\"}}, \"scene\": {\"xaxis\": {\"backgroundcolor\": \"white\", \"gridcolor\": \"#DFE8F3\", \"gridwidth\": 2, \"linecolor\": \"#EBF0F8\", \"showbackground\": true, \"ticks\": \"\", \"zerolinecolor\": \"#EBF0F8\"}, \"yaxis\": {\"backgroundcolor\": \"white\", \"gridcolor\": \"#DFE8F3\", \"gridwidth\": 2, \"linecolor\": \"#EBF0F8\", \"showbackground\": true, \"ticks\": \"\", \"zerolinecolor\": \"#EBF0F8\"}, \"zaxis\": {\"backgroundcolor\": \"white\", \"gridcolor\": \"#DFE8F3\", \"gridwidth\": 2, \"linecolor\": \"#EBF0F8\", \"showbackground\": true, \"ticks\": \"\", \"zerolinecolor\": \"#EBF0F8\"}}, \"shapedefaults\": {\"line\": {\"color\": \"#2a3f5f\"}}, \"ternary\": {\"aaxis\": {\"gridcolor\": \"#DFE8F3\", \"linecolor\": \"#A2B1C6\", \"ticks\": \"\"}, \"baxis\": {\"gridcolor\": \"#DFE8F3\", \"linecolor\": \"#A2B1C6\", \"ticks\": \"\"}, \"bgcolor\": \"white\", \"caxis\": {\"gridcolor\": \"#DFE8F3\", \"linecolor\": \"#A2B1C6\", \"ticks\": \"\"}}, \"title\": {\"x\": 0.05}, \"xaxis\": {\"automargin\": true, \"gridcolor\": \"#EBF0F8\", \"linecolor\": \"#EBF0F8\", \"ticks\": \"\", \"title\": {\"standoff\": 15}, \"zerolinecolor\": \"#EBF0F8\", \"zerolinewidth\": 2}, \"yaxis\": {\"automargin\": true, \"gridcolor\": \"#EBF0F8\", \"linecolor\": \"#EBF0F8\", \"ticks\": \"\", \"title\": {\"standoff\": 15}, \"zerolinecolor\": \"#EBF0F8\", \"zerolinewidth\": 2}}}, \"title\": {\"text\": \"N\\u00famero de tweets classificados para cada sentimento considerado\"}, \"xaxis\": {\"anchor\": \"y\", \"domain\": [0.0, 1.0], \"title\": {\"text\": \"Sentimentos\"}}, \"yaxis\": {\"anchor\": \"x\", \"domain\": [0.0, 1.0], \"title\": {\"text\": \"Frequ\\u00eancias\"}}},                        {\"responsive\": true}                    ).then(function(){\n",
              "                            \n",
              "var gd = document.getElementById('69f64b7e-8f61-4e33-b937-e16f1a515e26');\n",
              "var x = new MutationObserver(function (mutations, observer) {{\n",
              "        var display = window.getComputedStyle(gd).display;\n",
              "        if (!display || display === 'none') {{\n",
              "            console.log([gd, 'removed!']);\n",
              "            Plotly.purge(gd);\n",
              "            observer.disconnect();\n",
              "        }}\n",
              "}});\n",
              "\n",
              "// Listen for the removal of the full notebook cells\n",
              "var notebookContainer = gd.closest('#notebook-container');\n",
              "if (notebookContainer) {{\n",
              "    x.observe(notebookContainer, {childList: true});\n",
              "}}\n",
              "\n",
              "// Listen for the clearing of the current output cell\n",
              "var outputEl = gd.closest('.output');\n",
              "if (outputEl) {{\n",
              "    x.observe(outputEl, {childList: true});\n",
              "}}\n",
              "\n",
              "                        })                };                            </script>        </div>\n",
              "</body>\n",
              "</html>"
            ]
          },
          "metadata": {
            "tags": []
          }
        }
      ]
    },
    {
      "cell_type": "markdown",
      "metadata": {
        "_uuid": "cbd7bc340b754fd41719e7e472c120036df3c181",
        "id": "vV2dDvZlojns"
      },
      "source": [
        "## Text Preprocessing"
      ]
    },
    {
      "cell_type": "markdown",
      "metadata": {
        "_uuid": "e0fa7ffe4702a970770210c0d5e84d99a2a5b67d",
        "id": "aOFuMZ7vojns"
      },
      "source": [
        "  Noise Removal\n",
        "    <ul>\n",
        "      <li>Remove urls from text (http(s), www)</li>\n",
        "      <li>Remove a regex pattern (hashtags, notations)</li>\n",
        "      <li>Prepare text, replace emoticons \":)) :) :D :(\" to positive_emoticon or negative_emoticon or neutral_emoticon tags</li>\n",
        "  <li>Tokenize text with nltk</li>\n",
        "  <li>Object Standardization</li>\n",
        "  <li>Remove stopwords (noise removal and dimensionality reduction)</li>\n",
        "  <li>Lexicon Normalization</li>\n",
        "    <ul>\n",
        "      <li>Lemmatization (not implemented...)</li>\n",
        "      <li>Stemming (dimensionality reduction)</li>\n",
        "    </ul>\n",
        "</ul> "
      ]
    },
    {
      "cell_type": "markdown",
      "metadata": {
        "_uuid": "64a6bcec4c251bcdb97dbb5e3c7f57776dfd68f0",
        "id": "N_bstK-kojns"
      },
      "source": [
        "<h4>Examples of emoticons</h4>"
      ]
    },
    {
      "cell_type": "markdown",
      "metadata": {
        "_uuid": "5f6986c23fc2eaaa528220adf21d2a42b7c08ef5",
        "id": "vIDBhxHtojns"
      },
      "source": [
        "<h4>Noise Removal</h4>"
      ]
    },
    {
      "cell_type": "markdown",
      "metadata": {
        "_uuid": "7930c6a98074a8666f0fd4d896f7c79e38615049",
        "id": "E8WRBTOpojns"
      },
      "source": [
        "Remove urls from text (http(s), www)"
      ]
    },
    {
      "cell_type": "code",
      "metadata": {
        "trusted": true,
        "_uuid": "e5d26054f5f80d24cd741780a750876d1dc35234",
        "id": "UFsBRn3Gojns"
      },
      "source": [
        "def _remove_url(data):\n",
        "    ls = []\n",
        "    words = ''\n",
        "    regexp1 = re.compile('http[s]?://(?:[a-zA-Z]|[0-9]|[$-_@.&+]|[!*\\(\\),]|(?:%[0-9a-fA-F][0-9a-fA-F]))+')\n",
        "    regexp2 = re.compile('www?.(?:[a-zA-Z]|[0-9]|[$-_@.&+]|[!*\\(\\),]|(?:%[0-9a-fA-F][0-9a-fA-F]))+')\n",
        "    \n",
        "    for line in data:\n",
        "        urls = regexp1.findall(line)\n",
        "\n",
        "        for u in urls:\n",
        "            line = line.replace(u, ' ')\n",
        "\n",
        "        urls = regexp2.findall(line)\n",
        "\n",
        "        for u in urls:\n",
        "            line = line.replace(u, ' ')\n",
        "            \n",
        "        ls.append(line)\n",
        "    return ls"
      ],
      "execution_count": 41,
      "outputs": []
    },
    {
      "cell_type": "code",
      "metadata": {
        "trusted": true,
        "_uuid": "4b4cb2e93c9eef7e403b2dc11edd49db08e862d5",
        "id": "epM1R1yyojns"
      },
      "source": [
        "dataset['texto'] = _remove_url(dataset['texto'])"
      ],
      "execution_count": 42,
      "outputs": []
    },
    {
      "cell_type": "markdown",
      "metadata": {
        "_uuid": "5e07dc326bac08bf835ddeb3227de048d4b9601b",
        "id": "BwdZuRmqojns"
      },
      "source": [
        "Remove a regex pattern (hashtags, notations)"
      ]
    },
    {
      "cell_type": "code",
      "metadata": {
        "trusted": true,
        "_uuid": "03f2d222c1a3195ed3cc27e9d68568f04681f9ef",
        "id": "4WVUVlErojns"
      },
      "source": [
        "def _remove_regex(data, regex_pattern):\n",
        "    ls = []\n",
        "    words = ''\n",
        "    \n",
        "    for line in data:\n",
        "        matches = re.finditer(regex_pattern, line)\n",
        "        \n",
        "        for m in matches: \n",
        "            line = re.sub(m.group().strip(), '', line)\n",
        "\n",
        "        ls.append(line)\n",
        "\n",
        "    return ls"
      ],
      "execution_count": 43,
      "outputs": []
    },
    {
      "cell_type": "code",
      "metadata": {
        "trusted": true,
        "_uuid": "acecf0294d1de79dda5f206a58fd50bb48275df4",
        "id": "gvggNDzaojns"
      },
      "source": [
        "# hashtags\n",
        "regex_pattern = '#[\\w]*'\n",
        "dataset['texto'] = _remove_regex(dataset['texto'], regex_pattern)"
      ],
      "execution_count": 44,
      "outputs": []
    },
    {
      "cell_type": "code",
      "metadata": {
        "trusted": true,
        "_uuid": "3497146e06fa9d24c47dd29d8cf5f772f67a4c92",
        "id": "2zaRMW7Lojns"
      },
      "source": [
        "# notations\n",
        "regex_pattern = '@[\\w]*'\n",
        "dataset['texto'] = _remove_regex(dataset['texto'], regex_pattern)"
      ],
      "execution_count": 45,
      "outputs": []
    },
    {
      "cell_type": "code",
      "metadata": {
        "id": "h1377cvrjaVZ"
      },
      "source": [
        "# rt\n",
        "regex_pattern = 'RT[\\w]*'\n",
        "dataset['texto'] = _remove_regex(dataset['texto'], regex_pattern)"
      ],
      "execution_count": 46,
      "outputs": []
    },
    {
      "cell_type": "code",
      "metadata": {
        "id": "_t77t1E0g_n6"
      },
      "source": [
        " emoji_pattern = re.compile(\"[\"\n",
        "                           u\"\\U0001F600-\\U0001F64F\"  # emoticons\n",
        "                           u\"\\U0001F300-\\U0001F5FF\"  # symbols & pictographs\n",
        "                           u\"\\U0001F680-\\U0001F6FF\"  # transport & map symbols\n",
        "                           u\"\\U0001F1E0-\\U0001F1FF\"  # flags (iOS)\n",
        "                           u\"\\U00002702-\\U000027B0\"\n",
        "                           u\"\\U000024C2-\\U0001F251\"\n",
        "                           \"]+\", flags=re.UNICODE)"
      ],
      "execution_count": 47,
      "outputs": []
    },
    {
      "cell_type": "code",
      "metadata": {
        "id": "g-UMyj7fhJ-V"
      },
      "source": [
        "# emoji pattern \n",
        "regex_pattern = emoji_pattern \n",
        "dataset['texto'] = _remove_regex(dataset['texto'], regex_pattern)"
      ],
      "execution_count": 48,
      "outputs": []
    },
    {
      "cell_type": "code",
      "metadata": {
        "trusted": true,
        "_uuid": "2309bf72c0aad14c571a623bd483b2f4bba2e8c9",
        "id": "03ztf7ueojns",
        "colab": {
          "base_uri": "https://localhost:8080/"
        },
        "outputId": "a9ab3767-c6f5-40bc-8f4b-20cfb707c627"
      },
      "source": [
        "# check data\n",
        "for i in range(0, 5):\n",
        "    print(dataset['texto'][i])"
      ],
      "execution_count": 49,
      "outputs": [
        {
          "output_type": "stream",
          "text": [
            "N adianta, tudo oq vc faz um dia volta pra vc \n",
            "A disputa pelos talentos na era digital   . .       \n",
            "Contribuinte que está no 3º lote do IR 2018 recebe hoje restituição -   \n",
            "4 Dicas para otimizar o sistema organizacional de uma empresa   \n",
            " Port. 22/2018: Reajusta o Valor-piso da Hora de Trabalho de Economia - VHTE pelo IPCA (IBGE).... \n"
          ],
          "name": "stdout"
        }
      ]
    },
    {
      "cell_type": "markdown",
      "metadata": {
        "_uuid": "e782207b501150d076945e4bc96d2545f84e62c6",
        "id": "7XoT2rMfojns"
      },
      "source": [
        "Prepare text, replace emoticons \":)) :) :D :(\" to positive_emoticon or negative_emoticon or neutral_emoticon"
      ]
    },
    {
      "cell_type": "code",
      "metadata": {
        "trusted": true,
        "_uuid": "99d8c0fc7e981b49831f442f76382e8051d78ab8",
        "id": "xL2bGnwmojns"
      },
      "source": [
        "def _replace_emoticons(data, emoticon_list):\n",
        "    ls = []\n",
        "\n",
        "    for line in data:\n",
        "        for exp in emoticon_list:\n",
        "            line = line.replace(exp, emoticon_list[exp])\n",
        "\n",
        "        ls.append(line)\n",
        "\n",
        "    return ls"
      ],
      "execution_count": 50,
      "outputs": []
    },
    {
      "cell_type": "code",
      "metadata": {
        "trusted": true,
        "_uuid": "685e6a7a9826385f33101ff5e777a827140e6650",
        "id": "OEJt5ujGojns"
      },
      "source": [
        "emoticon_list = {':))': 'emoticon_positivo', ':)': 'emoticon_positivo', ':D': 'emoticon_positivo', ':(': 'emoticon_negativo', ':((': 'emoticon_negativo', '8)': 'emoticon_neutro'}"
      ],
      "execution_count": 51,
      "outputs": []
    },
    {
      "cell_type": "code",
      "metadata": {
        "trusted": true,
        "_uuid": "d6606859968ee012ea23cb5f3f02c1256377b8b6",
        "id": "TfwSCz8Pojns"
      },
      "source": [
        "dataset['texto']= _replace_emoticons(dataset['texto'], emoticon_list)"
      ],
      "execution_count": 52,
      "outputs": []
    },
    {
      "cell_type": "code",
      "metadata": {
        "trusted": true,
        "_uuid": "2e7dbd3f837739cc8ac8ee86917f5f24cc67cd96",
        "id": "-iiHuMTkojns",
        "colab": {
          "base_uri": "https://localhost:8080/"
        },
        "outputId": "272ffc0d-1fe9-49fc-da8f-1de5ce6028f2"
      },
      "source": [
        "# check data\n",
        "for i in range(0, 5):\n",
        "    print(dataset['texto'][i])"
      ],
      "execution_count": 53,
      "outputs": [
        {
          "output_type": "stream",
          "text": [
            "N adianta, tudo oq vc faz um dia volta pra vc \n",
            "A disputa pelos talentos na era digital   . .       \n",
            "Contribuinte que está no 3º lote do IR 2018 recebe hoje restituição -   \n",
            "4 Dicas para otimizar o sistema organizacional de uma empresa   \n",
            " Port. 22/2018: Reajusta o Valor-piso da Hora de Trabalho de Economia - VHTE pelo IPCA (IBGE).... \n"
          ],
          "name": "stdout"
        }
      ]
    },
    {
      "cell_type": "markdown",
      "metadata": {
        "_uuid": "b967c8949c0640ec9f4a6090366ab970a30947f3",
        "id": "Jjn0q4SOojns"
      },
      "source": [
        "<h5 style=\"color:red;\">Note: We can remove or replace with tags some noisy words or special characters like ✨💖🎈🎉🎊❤️, but we need to evaluate if they are important to express some sentiment</h5>"
      ]
    },
    {
      "cell_type": "code",
      "metadata": {
        "id": "rR_aEBemyt7Y",
        "colab": {
          "base_uri": "https://localhost:8080/",
          "height": 402
        },
        "outputId": "dffa05ed-4738-4954-a3e9-8d92893a52da"
      },
      "source": [
        "dataset"
      ],
      "execution_count": 54,
      "outputs": [
        {
          "output_type": "execute_result",
          "data": {
            "text/html": [
              "<div>\n",
              "<style scoped>\n",
              "    .dataframe tbody tr th:only-of-type {\n",
              "        vertical-align: middle;\n",
              "    }\n",
              "\n",
              "    .dataframe tbody tr th {\n",
              "        vertical-align: top;\n",
              "    }\n",
              "\n",
              "    .dataframe thead th {\n",
              "        text-align: right;\n",
              "    }\n",
              "</style>\n",
              "<table border=\"1\" class=\"dataframe\">\n",
              "  <thead>\n",
              "    <tr style=\"text-align: right;\">\n",
              "      <th></th>\n",
              "      <th>texto</th>\n",
              "      <th>classificacao</th>\n",
              "    </tr>\n",
              "  </thead>\n",
              "  <tbody>\n",
              "    <tr>\n",
              "      <th>0</th>\n",
              "      <td>N adianta, tudo oq vc faz um dia volta pra vc</td>\n",
              "      <td>Neutro</td>\n",
              "    </tr>\n",
              "    <tr>\n",
              "      <th>1</th>\n",
              "      <td>A disputa pelos talentos na era digital   . . ...</td>\n",
              "      <td>Neutro</td>\n",
              "    </tr>\n",
              "    <tr>\n",
              "      <th>2</th>\n",
              "      <td>Contribuinte que está no 3º lote do IR 2018 re...</td>\n",
              "      <td>Neutro</td>\n",
              "    </tr>\n",
              "    <tr>\n",
              "      <th>3</th>\n",
              "      <td>4 Dicas para otimizar o sistema organizacional...</td>\n",
              "      <td>Neutro</td>\n",
              "    </tr>\n",
              "    <tr>\n",
              "      <th>4</th>\n",
              "      <td>Port. 22/2018: Reajusta o Valor-piso da Hora ...</td>\n",
              "      <td>Neutro</td>\n",
              "    </tr>\n",
              "    <tr>\n",
              "      <th>...</th>\n",
              "      <td>...</td>\n",
              "      <td>...</td>\n",
              "    </tr>\n",
              "    <tr>\n",
              "      <th>83680</th>\n",
              "      <td>pse veiiii eu quero o ciro emoticon_negativo(</td>\n",
              "      <td>Negativo</td>\n",
              "    </tr>\n",
              "    <tr>\n",
              "      <th>83681</th>\n",
              "      <td>Que vergonha, uma senhora de idade envolvida ...</td>\n",
              "      <td>Negativo</td>\n",
              "    </tr>\n",
              "    <tr>\n",
              "      <th>83682</th>\n",
              "      <td>Alguém sabe se o Ciro tem alguma proposta par...</td>\n",
              "      <td>Negativo</td>\n",
              "    </tr>\n",
              "    <tr>\n",
              "      <th>83683</th>\n",
              "      <td>A/C     A máxima: \"Fechar o STF...\", só se apl...</td>\n",
              "      <td>Negativo</td>\n",
              "    </tr>\n",
              "    <tr>\n",
              "      <th>83684</th>\n",
              "      <td>amiga, eu entendo o voto no ciro, mas não ach...</td>\n",
              "      <td>Negativo</td>\n",
              "    </tr>\n",
              "  </tbody>\n",
              "</table>\n",
              "<p>83685 rows × 2 columns</p>\n",
              "</div>"
            ],
            "text/plain": [
              "                                                   texto classificacao\n",
              "0         N adianta, tudo oq vc faz um dia volta pra vc         Neutro\n",
              "1      A disputa pelos talentos na era digital   . . ...        Neutro\n",
              "2      Contribuinte que está no 3º lote do IR 2018 re...        Neutro\n",
              "3      4 Dicas para otimizar o sistema organizacional...        Neutro\n",
              "4       Port. 22/2018: Reajusta o Valor-piso da Hora ...        Neutro\n",
              "...                                                  ...           ...\n",
              "83680      pse veiiii eu quero o ciro emoticon_negativo(      Negativo\n",
              "83681   Que vergonha, uma senhora de idade envolvida ...      Negativo\n",
              "83682   Alguém sabe se o Ciro tem alguma proposta par...      Negativo\n",
              "83683  A/C     A máxima: \"Fechar o STF...\", só se apl...      Negativo\n",
              "83684   amiga, eu entendo o voto no ciro, mas não ach...      Negativo\n",
              "\n",
              "[83685 rows x 2 columns]"
            ]
          },
          "metadata": {
            "tags": []
          },
          "execution_count": 54
        }
      ]
    },
    {
      "cell_type": "code",
      "metadata": {
        "id": "-8tgUxhe0MXe"
      },
      "source": [
        "nan_value = float(\"NaN\")\n",
        "dataset.replace(\"\", nan_value, inplace=True)"
      ],
      "execution_count": 55,
      "outputs": []
    },
    {
      "cell_type": "markdown",
      "metadata": {
        "_uuid": "4284b6e6bdbe2878aeefb50651b9b219b3acffd1",
        "id": "plBne9Xjojnt"
      },
      "source": [
        "<h4>Tokenize text with nltk</h4>"
      ]
    },
    {
      "cell_type": "code",
      "metadata": {
        "trusted": true,
        "_uuid": "2d77a5e4f41cdbf15c1dd0d5e0d93a72bd41c29e",
        "id": "6_9vdlenojnt"
      },
      "source": [
        "def _tokenize_text(data):\n",
        "    ls = []\n",
        "\n",
        "    for line in data:\n",
        "        tokens = wordpunct_tokenize(line)\n",
        "        ls.append(tokens)\n",
        "\n",
        "    return ls"
      ],
      "execution_count": 56,
      "outputs": []
    },
    {
      "cell_type": "code",
      "metadata": {
        "trusted": true,
        "_uuid": "095fa1e33c81a1bbc728db503ac7832071e99422",
        "id": "yDebMnaBojnt"
      },
      "source": [
        "dataset_texto_tokens = _tokenize_text(dataset['texto'])"
      ],
      "execution_count": 57,
      "outputs": []
    },
    {
      "cell_type": "code",
      "metadata": {
        "trusted": true,
        "_uuid": "7f03a8c02502d8e7da6fc9ad7767aca9dbe95a9a",
        "id": "X7_qrAYjojnt",
        "colab": {
          "base_uri": "https://localhost:8080/"
        },
        "outputId": "0ff1eba8-e104-463f-e206-7cf55a043c9e"
      },
      "source": [
        "# check data\n",
        "for i in range(0, 5):\n",
        "    print(dataset_texto_tokens[i])"
      ],
      "execution_count": 58,
      "outputs": [
        {
          "output_type": "stream",
          "text": [
            "['N', 'adianta', ',', 'tudo', 'oq', 'vc', 'faz', 'um', 'dia', 'volta', 'pra', 'vc']\n",
            "['A', 'disputa', 'pelos', 'talentos', 'na', 'era', 'digital', '.', '.']\n",
            "['Contribuinte', 'que', 'está', 'no', '3º', 'lote', 'do', 'IR', '2018', 'recebe', 'hoje', 'restituição', '-']\n",
            "['4', 'Dicas', 'para', 'otimizar', 'o', 'sistema', 'organizacional', 'de', 'uma', 'empresa']\n",
            "['Port', '.', '22', '/', '2018', ':', 'Reajusta', 'o', 'Valor', '-', 'piso', 'da', 'Hora', 'de', 'Trabalho', 'de', 'Economia', '-', 'VHTE', 'pelo', 'IPCA', '(', 'IBGE', ')....']\n"
          ],
          "name": "stdout"
        }
      ]
    },
    {
      "cell_type": "code",
      "metadata": {
        "id": "HP6B6LDKUsVe"
      },
      "source": [
        "#dataset_texto_tokens = list(filter(None, dataset_texto_tokens))"
      ],
      "execution_count": 59,
      "outputs": []
    },
    {
      "cell_type": "code",
      "metadata": {
        "id": "QXRjSU-b8v8K",
        "colab": {
          "base_uri": "https://localhost:8080/"
        },
        "outputId": "ff5b9d56-259c-40ee-f720-d2e2b966c38b"
      },
      "source": [
        "# check data\n",
        "for i in range(0, 5):\n",
        "    print(dataset_texto_tokens[i])"
      ],
      "execution_count": 60,
      "outputs": [
        {
          "output_type": "stream",
          "text": [
            "['N', 'adianta', ',', 'tudo', 'oq', 'vc', 'faz', 'um', 'dia', 'volta', 'pra', 'vc']\n",
            "['A', 'disputa', 'pelos', 'talentos', 'na', 'era', 'digital', '.', '.']\n",
            "['Contribuinte', 'que', 'está', 'no', '3º', 'lote', 'do', 'IR', '2018', 'recebe', 'hoje', 'restituição', '-']\n",
            "['4', 'Dicas', 'para', 'otimizar', 'o', 'sistema', 'organizacional', 'de', 'uma', 'empresa']\n",
            "['Port', '.', '22', '/', '2018', ':', 'Reajusta', 'o', 'Valor', '-', 'piso', 'da', 'Hora', 'de', 'Trabalho', 'de', 'Economia', '-', 'VHTE', 'pelo', 'IPCA', '(', 'IBGE', ')....']\n"
          ],
          "name": "stdout"
        }
      ]
    },
    {
      "cell_type": "markdown",
      "metadata": {
        "_uuid": "01759032a73a4e34ae6d07a0888aa30837fdad29",
        "id": "n4oRiT_gojnt"
      },
      "source": [
        "<h4>Object Standardization</h4>"
      ]
    },
    {
      "cell_type": "code",
      "metadata": {
        "trusted": true,
        "_uuid": "ad31d2a779d4c121e6eb61429775241d91a7b7ef",
        "id": "ZbQPsvsFojnt"
      },
      "source": [
        "def _apply_standardization(tokens, std_list):\n",
        "    ls = []\n",
        "\n",
        "    for tk_line in tokens:\n",
        "        new_tokens = []\n",
        "        \n",
        "        for word in tk_line:\n",
        "            if word.lower() in std_list:\n",
        "                word = std_list[word.lower()]\n",
        "                \n",
        "            new_tokens.append(word) \n",
        "            \n",
        "        ls.append(new_tokens)\n",
        "\n",
        "    return ls"
      ],
      "execution_count": 61,
      "outputs": []
    },
    {
      "cell_type": "code",
      "metadata": {
        "trusted": true,
        "_uuid": "bbb9fd394e34e02d691335dd99d1c9496facaff0",
        "id": "SnqQpeZgojnt"
      },
      "source": [
        "# create your own list\n",
        "std_list = {'eh': 'é', 'vc': 'você', 'vcs': 'vocês','tb': 'também', 'tbm': 'também', 'obg': 'obrigado', 'gnt': 'gente', 'q': 'que', 'n': 'não', 'cmg': 'comigo', 'p': 'para', 'ta': 'está', 'to': 'estou', 'vdd': 'verdade'}"
      ],
      "execution_count": 62,
      "outputs": []
    },
    {
      "cell_type": "code",
      "metadata": {
        "trusted": true,
        "_uuid": "26add53a456dfd06a7fdfa6aed5739d53ac2c5f6",
        "id": "bZLnIHF-ojnt"
      },
      "source": [
        "dataset_texto_tokens = _apply_standardization(dataset_texto_tokens, std_list)"
      ],
      "execution_count": 63,
      "outputs": []
    },
    {
      "cell_type": "code",
      "metadata": {
        "trusted": true,
        "_uuid": "8c17dd517c02f34abeb8f9808695da38bed22ae0",
        "id": "OPAMqHHYojnt",
        "colab": {
          "base_uri": "https://localhost:8080/"
        },
        "outputId": "54bc698e-b8a4-461e-c43e-142068fbb8bd"
      },
      "source": [
        "# check data\n",
        "print(dataset_texto_tokens[4], dataset_texto_tokens[1008])"
      ],
      "execution_count": 64,
      "outputs": [
        {
          "output_type": "stream",
          "text": [
            "['Port', '.', '22', '/', '2018', ':', 'Reajusta', 'o', 'Valor', '-', 'piso', 'da', 'Hora', 'de', 'Trabalho', 'de', 'Economia', '-', 'VHTE', 'pelo', 'IPCA', '(', 'IBGE', ')....'] ['Veja', 'o', 'que', 'é', 'ou', 'nas', 'falas', 'dos', 'candidatos', 'ao', 'governo', 'de', 'SP']\n"
          ],
          "name": "stdout"
        }
      ]
    },
    {
      "cell_type": "markdown",
      "metadata": {
        "_uuid": "7cade7774b181e67a77f56ccff60b68b30a9e05e",
        "id": "NRoaN4Nfojnt"
      },
      "source": [
        "<h4>Remove stopwords (noise removal and dimensionality reduction)</h4>"
      ]
    },
    {
      "cell_type": "markdown",
      "metadata": {
        "_uuid": "191fcf8d3066ef422390224111c93b4a309d2907",
        "id": "JoM2vAV0ojnt"
      },
      "source": [
        "Remove stopwords"
      ]
    },
    {
      "cell_type": "code",
      "metadata": {
        "trusted": true,
        "_uuid": "93209116226f6edf24a07b0972dfa0801ee84333",
        "id": "bmem-OYBojnt"
      },
      "source": [
        "def _remove_stopwords(tokens, stopword_list):\n",
        "    ls = []\n",
        "\n",
        "    for tk_line in tokens:\n",
        "        new_tokens = []\n",
        "        \n",
        "        for word in tk_line:\n",
        "            if word.lower() not in stopword_list:\n",
        "                new_tokens.append(word) \n",
        "            \n",
        "        ls.append(new_tokens)\n",
        "        \n",
        "    return ls"
      ],
      "execution_count": 65,
      "outputs": []
    },
    {
      "cell_type": "code",
      "metadata": {
        "trusted": true,
        "_uuid": "d42c58078128e5de8a83c2bb158c8e484ecd8201",
        "id": "5Nvgu3xIojnt"
      },
      "source": [
        "stopword_list = []"
      ],
      "execution_count": 66,
      "outputs": []
    },
    {
      "cell_type": "code",
      "metadata": {
        "trusted": true,
        "_uuid": "868d2bb4061ce7034a82d0e502237f435fbcb7fc",
        "id": "Om9k3WLgojnt"
      },
      "source": [
        "# get nltk portuguese stopwords\n",
        "nltk_stopwords = nltk.corpus.stopwords.words('portuguese')"
      ],
      "execution_count": 67,
      "outputs": []
    },
    {
      "cell_type": "code",
      "metadata": {
        "trusted": true,
        "_uuid": "454f789d7db906bb6afcc151c0f53a84f2523f46",
        "id": "5CfstDhnojnt"
      },
      "source": [
        "# You can also add stopwords manually instead of loading from the database. Generally, we add stopwords that belong to this context.\n",
        "stopword_list.append('é')\n",
        "stopword_list.append('vou')\n",
        "stopword_list.append('que')\n",
        "stopword_list.append('tão')\n",
        "stopword_list.append('...')\n",
        "stopword_list.append('«')\n",
        "stopword_list.append('➔')\n",
        "stopword_list.append('|')\n",
        "stopword_list.append('//')\n",
        "stopword_list.append('/')\n",
        "stopword_list.append('||') \n",
        "stopword_list.append(':')\n",
        "stopword_list.append('-')\n",
        "stopword_list.append(';')\n",
        "stopword_list.append('»')\n",
        "stopword_list.append('…')\n",
        "stopword_list.append(')')\n",
        "stopword_list.append('(')\n",
        "stopword_list.append('uai') \n",
        "stopword_list.append(']')\n",
        "stopword_list.append('[')\n",
        "stopword_list.append('((')\n",
        "stopword_list.append('))')\n",
        "stopword_list.append('emoticon_positivo') \n",
        "stopword_list.append('emoticon_negativo')\n",
        "stopword_list.append('emoticon_neutro')\n",
        "# 'expression from the mineiros (MG/Brazil)'"
      ],
      "execution_count": 68,
      "outputs": []
    },
    {
      "cell_type": "markdown",
      "metadata": {
        "_uuid": "5c85d05f946199f85151af31bf1c2009bf093d5c",
        "id": "nCHFkbWUojnt"
      },
      "source": [
        "<h5 style=\"color:red;\">Note: Numbers, some punctuations (.,;:) and special characters such as (_- = &%) are not relevant to express some sentiment, they can be considered noisy words. You can treat them here.</h5>\n",
        "<h5 style=\"color:red;\">noisy_words = ['.', '?', '!', ':', ',', ';', '(', ')', '-']</h5>\n",
        "<h5 style=\"color:red;\">Note: ? and ! can be important to express sentiment.</h5>"
      ]
    },
    {
      "cell_type": "code",
      "metadata": {
        "trusted": true,
        "_uuid": "1e4a2258684531e15ed3d48d84bdc710cba5a133",
        "id": "4BjLpq2nojnt"
      },
      "source": [
        "# join all stopwords\n",
        "stopword_list.extend(nltk_stopwords)\n",
        "#stopword_list.extend(custom_stopwords)"
      ],
      "execution_count": 69,
      "outputs": []
    },
    {
      "cell_type": "code",
      "metadata": {
        "trusted": true,
        "_uuid": "7a34c75cbec835334fdf530d1a857039c24392e4",
        "id": "rEVFI8_lojnt"
      },
      "source": [
        "# remove duplicate stopwords (unique list)\n",
        "stopword_list = list(set(stopword_list))"
      ],
      "execution_count": 70,
      "outputs": []
    },
    {
      "cell_type": "code",
      "metadata": {
        "trusted": true,
        "_uuid": "25748a09312e1241038aae27f4ce0d962fc30c26",
        "id": "JnjZ0mniojnt"
      },
      "source": [
        "dataset_texto_tokens = _remove_stopwords(dataset_texto_tokens, stopword_list)"
      ],
      "execution_count": 71,
      "outputs": []
    },
    {
      "cell_type": "code",
      "metadata": {
        "trusted": true,
        "_uuid": "5254a491c2acc0a70c4f8705ddb31ee7e245624e",
        "id": "Rfxl59rIojnt",
        "colab": {
          "base_uri": "https://localhost:8080/"
        },
        "outputId": "24c82477-3659-4327-fba4-2439cfd7c77d"
      },
      "source": [
        "# check data\n",
        "for i in range(0, 5):\n",
        "    print(dataset_texto_tokens[i])"
      ],
      "execution_count": 72,
      "outputs": [
        {
          "output_type": "stream",
          "text": [
            "['adianta', ',', 'tudo', 'oq', 'faz', 'dia', 'volta', 'pra']\n",
            "['disputa', 'talentos', 'digital', '.', '.']\n",
            "['Contribuinte', '3º', 'lote', 'IR', '2018', 'recebe', 'hoje', 'restituição']\n",
            "['4', 'Dicas', 'otimizar', 'sistema', 'organizacional', 'empresa']\n",
            "['Port', '.', '22', '2018', 'Reajusta', 'Valor', 'piso', 'Hora', 'Trabalho', 'Economia', 'VHTE', 'IPCA', 'IBGE', ')....']\n"
          ],
          "name": "stdout"
        }
      ]
    },
    {
      "cell_type": "markdown",
      "metadata": {
        "_uuid": "5917183f41e842477fb49520beb8568a368f7046",
        "id": "oiUb8A67ojnt"
      },
      "source": [
        "<h4>Lexicon Normalization</h4>"
      ]
    },
    {
      "cell_type": "markdown",
      "metadata": {
        "_uuid": "3f3f8826d74fb5fd28d6ff1f76ffb1101e96cc43",
        "id": "Q2mQWghXojnt"
      },
      "source": [
        "Lemmatization (not implemented...)"
      ]
    },
    {
      "cell_type": "markdown",
      "metadata": {
        "_uuid": "b69051f6e85ce27a64fa49a968019d8a7957f377",
        "id": "9xYG8tvXojnt"
      },
      "source": [
        "Stemming (dimensionality reduction)"
      ]
    },
    {
      "cell_type": "code",
      "metadata": {
        "trusted": true,
        "_uuid": "75df6b7d0b3af4219321089b6161e6dc74dc1dbf",
        "id": "ksuuqUD7ojnt"
      },
      "source": [
        "def _apply_stemmer(tokens):\n",
        "    ls = []\n",
        "    stemmer = nltk.stem.RSLPStemmer()\n",
        "\n",
        "    for tk_line in tokens:\n",
        "        new_tokens = []\n",
        "        \n",
        "        for word in tk_line:\n",
        "            word = str(stemmer.stem(word))\n",
        "            new_tokens.append(word) \n",
        "            \n",
        "        ls.append(new_tokens)\n",
        "        \n",
        "    return ls"
      ],
      "execution_count": 73,
      "outputs": []
    },
    {
      "cell_type": "code",
      "metadata": {
        "id": "spQc5w3iNCed",
        "colab": {
          "base_uri": "https://localhost:8080/"
        },
        "outputId": "bd34fb72-1ce6-4bd8-9014-3e327d038f0e"
      },
      "source": [
        "nltk.download('rslp')"
      ],
      "execution_count": 74,
      "outputs": [
        {
          "output_type": "stream",
          "text": [
            "[nltk_data] Downloading package rslp to /root/nltk_data...\n",
            "[nltk_data]   Unzipping stemmers/rslp.zip.\n"
          ],
          "name": "stdout"
        },
        {
          "output_type": "execute_result",
          "data": {
            "text/plain": [
              "True"
            ]
          },
          "metadata": {
            "tags": []
          },
          "execution_count": 74
        }
      ]
    },
    {
      "cell_type": "code",
      "metadata": {
        "trusted": true,
        "_uuid": "7c3907b1ff4e1495ce16d0d6e5190277dd8faad5",
        "id": "qzs5zFWkojnu"
      },
      "source": [
        "dataset_texto_stemm = _apply_stemmer(dataset_texto_tokens)"
      ],
      "execution_count": 75,
      "outputs": []
    },
    {
      "cell_type": "code",
      "metadata": {
        "trusted": true,
        "_uuid": "45cdcc98a8462e4ec5132b192a762affc4399904",
        "id": "FAIwa48hojnu",
        "colab": {
          "base_uri": "https://localhost:8080/"
        },
        "outputId": "2b20304e-4127-44a5-b19d-f61bc1c3dc06"
      },
      "source": [
        "# check data\n",
        "for i in range(0, 5):\n",
        "    print(dataset_texto_tokens[i])"
      ],
      "execution_count": 76,
      "outputs": [
        {
          "output_type": "stream",
          "text": [
            "['adianta', ',', 'tudo', 'oq', 'faz', 'dia', 'volta', 'pra']\n",
            "['disputa', 'talentos', 'digital', '.', '.']\n",
            "['Contribuinte', '3º', 'lote', 'IR', '2018', 'recebe', 'hoje', 'restituição']\n",
            "['4', 'Dicas', 'otimizar', 'sistema', 'organizacional', 'empresa']\n",
            "['Port', '.', '22', '2018', 'Reajusta', 'Valor', 'piso', 'Hora', 'Trabalho', 'Economia', 'VHTE', 'IPCA', 'IBGE', ')....']\n"
          ],
          "name": "stdout"
        }
      ]
    },
    {
      "cell_type": "markdown",
      "metadata": {
        "_uuid": "689723a6b68a74cfa2fa19f274e842011473d770",
        "id": "--FUBz4oojnu"
      },
      "source": [
        "<h4>Dataset preparation</h4>\n",
        "Untokenize text (transform tokenized text into string list)"
      ]
    },
    {
      "cell_type": "code",
      "metadata": {
        "trusted": true,
        "_uuid": "bfe4d9dca0e03d751fa5b086003e07bc7ff945da",
        "id": "UZVLaerxojnu"
      },
      "source": [
        "def _untokenize_text(tokens):\n",
        "    ls = []\n",
        "\n",
        "    for tk_line in tokens:\n",
        "        new_line = ''\n",
        "        \n",
        "        for word in tk_line:\n",
        "            new_line += word + ' '\n",
        "            \n",
        "        ls.append(new_line)\n",
        "        \n",
        "    return ls"
      ],
      "execution_count": 77,
      "outputs": []
    },
    {
      "cell_type": "code",
      "metadata": {
        "trusted": true,
        "_uuid": "126cdaadb79c0c3141803e68615c093ec21872ea",
        "id": "katwR_thojnu"
      },
      "source": [
        "dataset_texto_tokens = _untokenize_text(dataset_texto_tokens)"
      ],
      "execution_count": 78,
      "outputs": []
    },
    {
      "cell_type": "code",
      "metadata": {
        "id": "dBk9oC4y4c9u"
      },
      "source": [
        "dataset_texto_stemm = _untokenize_text(dataset_texto_stemm)"
      ],
      "execution_count": 79,
      "outputs": []
    },
    {
      "cell_type": "code",
      "metadata": {
        "trusted": true,
        "_uuid": "81b7797ea3848e78316c871fd0a630dcf69d82b0",
        "id": "c7v_vLZ9ojnu",
        "colab": {
          "base_uri": "https://localhost:8080/"
        },
        "outputId": "faf8dc56-d585-45d6-8a78-3ab0934b308d"
      },
      "source": [
        "# check data\n",
        "for i in range(0, 5):\n",
        "    print(dataset_texto_stemm[i])"
      ],
      "execution_count": 80,
      "outputs": [
        {
          "output_type": "stream",
          "text": [
            "adiant , tud oq faz dia volt pra \n",
            "disput talent digit . . \n",
            "contribuint 3º lot ir 2018 receb hoj restitu \n",
            "4 dic otimiz sistem organizac empr \n",
            "port . 22 2018 reajust val pis hor trabalh econom vht ipc ibg ).... \n"
          ],
          "name": "stdout"
        }
      ]
    },
    {
      "cell_type": "markdown",
      "metadata": {
        "_uuid": "02a043145724f1ce5b626329816c59268c605683",
        "id": "s962uC7Bojny"
      },
      "source": [
        "## Implementing a Model\n"
      ]
    },
    {
      "cell_type": "code",
      "metadata": {
        "id": "z1mxqVNbcdul",
        "colab": {
          "base_uri": "https://localhost:8080/"
        },
        "outputId": "c1911ac1-6a9f-48f2-ce1e-e5121dbaf928"
      },
      "source": [
        "X_tweets = np.array(dataset_texto_stemm,  dtype=object)\n",
        "X_tweets"
      ],
      "execution_count": 81,
      "outputs": [
        {
          "output_type": "execute_result",
          "data": {
            "text/plain": [
              "array(['adiant , tud oq faz dia volt pra ', 'disput talent digit . . ',\n",
              "       'contribuint 3º lot ir 2018 receb hoj restitu ', ...,\n",
              "       'alguém sab cir algum propost ajud animal rua ? prote gost sab . li ouv nad sobr ',\n",
              "       'c máx \" fech stf ...\", aplic direit val tod petist continu robert requ list aument . tô trist . ',\n",
              "       'amig , ent vot cir , ach chanc real '], dtype=object)"
            ]
          },
          "metadata": {
            "tags": []
          },
          "execution_count": 81
        }
      ]
    },
    {
      "cell_type": "code",
      "metadata": {
        "id": "eDcYyIYtcdj-",
        "colab": {
          "base_uri": "https://localhost:8080/"
        },
        "outputId": "3bcbbada-044e-4f0e-c9f0-358e21204b48"
      },
      "source": [
        "y_classes = dataset[\"classificacao\"].values\n",
        "y_classes"
      ],
      "execution_count": 82,
      "outputs": [
        {
          "output_type": "execute_result",
          "data": {
            "text/plain": [
              "array(['Neutro', 'Neutro', 'Neutro', ..., 'Negativo', 'Negativo',\n",
              "       'Negativo'], dtype=object)"
            ]
          },
          "metadata": {
            "tags": []
          },
          "execution_count": 82
        }
      ]
    },
    {
      "cell_type": "code",
      "metadata": {
        "id": "GsCjxSeTZaru"
      },
      "source": [
        "from sklearn.decomposition import PCA, TruncatedSVD\n",
        "from sklearn.neural_network import MLPClassifier"
      ],
      "execution_count": 83,
      "outputs": []
    },
    {
      "cell_type": "markdown",
      "metadata": {
        "id": "4mcRWJi7-8Ma"
      },
      "source": [
        "Split data"
      ]
    },
    {
      "cell_type": "code",
      "metadata": {
        "id": "fHrZZw5U-9nw"
      },
      "source": [
        "X_train, X_test, y_train, y_test = train_test_split(X_tweets, y_classes, test_size=0.33, random_state=42)"
      ],
      "execution_count": 91,
      "outputs": []
    },
    {
      "cell_type": "markdown",
      "metadata": {
        "id": "GlRIt9nucpeJ"
      },
      "source": [
        "## Random Forest"
      ]
    },
    {
      "cell_type": "code",
      "metadata": {
        "id": "clbBnwmU31ut"
      },
      "source": [
        "model = RandomForestClassifier(random_state=42, n_jobs=-1)"
      ],
      "execution_count": 84,
      "outputs": []
    },
    {
      "cell_type": "code",
      "metadata": {
        "id": "fEo0sAEO4SqU"
      },
      "source": [
        "model_RF = Pipeline([\n",
        "    ('vect', CountVectorizer(ngram_range=(1, 2))),\n",
        "    ('tfidf', TfidfTransformer()),\n",
        "    ('clf', model),\n",
        "])"
      ],
      "execution_count": 93,
      "outputs": []
    },
    {
      "cell_type": "markdown",
      "metadata": {
        "id": "ww8UbiEH3-F3"
      },
      "source": [
        "### Random forest model with Hold-out"
      ]
    },
    {
      "cell_type": "code",
      "metadata": {
        "colab": {
          "base_uri": "https://localhost:8080/"
        },
        "id": "e1HE9RF63-F4",
        "outputId": "9a3ffe97-cd95-4643-e704-a92564399e64"
      },
      "source": [
        "model_RF.fit(X_train, y_train)"
      ],
      "execution_count": 94,
      "outputs": [
        {
          "output_type": "execute_result",
          "data": {
            "text/plain": [
              "Pipeline(memory=None,\n",
              "         steps=[('vect',\n",
              "                 CountVectorizer(analyzer='word', binary=False,\n",
              "                                 decode_error='strict',\n",
              "                                 dtype=<class 'numpy.int64'>, encoding='utf-8',\n",
              "                                 input='content', lowercase=True, max_df=1.0,\n",
              "                                 max_features=None, min_df=1,\n",
              "                                 ngram_range=(1, 2), preprocessor=None,\n",
              "                                 stop_words=None, strip_accents=None,\n",
              "                                 token_pattern='(?u)\\\\b\\\\w\\\\w+\\\\b',\n",
              "                                 tokenizer=None, vocabulary=Non...\n",
              "                 RandomForestClassifier(bootstrap=True, ccp_alpha=0.0,\n",
              "                                        class_weight=None, criterion='gini',\n",
              "                                        max_depth=None, max_features='auto',\n",
              "                                        max_leaf_nodes=None, max_samples=None,\n",
              "                                        min_impurity_decrease=0.0,\n",
              "                                        min_impurity_split=None,\n",
              "                                        min_samples_leaf=1, min_samples_split=2,\n",
              "                                        min_weight_fraction_leaf=0.0,\n",
              "                                        n_estimators=100, n_jobs=-1,\n",
              "                                        oob_score=False, random_state=42,\n",
              "                                        verbose=0, warm_start=False))],\n",
              "         verbose=False)"
            ]
          },
          "metadata": {
            "tags": []
          },
          "execution_count": 94
        }
      ]
    },
    {
      "cell_type": "code",
      "metadata": {
        "id": "1YDUSIvR3-F5"
      },
      "source": [
        "predictions_RF = model_RF.predict(X_test)"
      ],
      "execution_count": 95,
      "outputs": []
    },
    {
      "cell_type": "code",
      "metadata": {
        "colab": {
          "base_uri": "https://localhost:8080/"
        },
        "id": "VATLvTFU3-F5",
        "outputId": "67ec1032-1a0d-4b9b-fb25-cc555f49d749"
      },
      "source": [
        "print(classification_report(y_test, predictions_RF))"
      ],
      "execution_count": 96,
      "outputs": [
        {
          "output_type": "stream",
          "text": [
            "              precision    recall  f1-score   support\n",
            "\n",
            "    Negativo       0.69      0.77      0.73      9256\n",
            "      Neutro       0.86      0.81      0.83      9117\n",
            "    Positivo       0.65      0.61      0.63      9244\n",
            "\n",
            "    accuracy                           0.73     27617\n",
            "   macro avg       0.73      0.73      0.73     27617\n",
            "weighted avg       0.73      0.73      0.73     27617\n",
            "\n"
          ],
          "name": "stdout"
        }
      ]
    },
    {
      "cell_type": "code",
      "metadata": {
        "id": "UxpexbWp3-F5"
      },
      "source": [
        "#for doc, prediction, y in zip(X_test[0:20], predictions_RF[0:20], y_test[0:20]):\n",
        "#    print('%r => %s [%s]' % (doc, prediction, y))"
      ],
      "execution_count": 97,
      "outputs": []
    },
    {
      "cell_type": "markdown",
      "metadata": {
        "id": "2dJ_n0Af0aQ1"
      },
      "source": [
        "### Random Forest model with gridsearch and cross-validation"
      ]
    },
    {
      "cell_type": "code",
      "metadata": {
        "id": "nKVwSn7m0YBQ"
      },
      "source": [
        "RF_param_grid = {\n",
        "    'clf__criterion': ['gini', 'entropy'],\n",
        "    'clf__n_estimators': [100, 200, 500],\n",
        "    'clf__max_depth': [None, 1, 3],\n",
        "    'clf__min_samples_split': [5, 10],\n",
        "    'clf__min_samples_leaf': [1, 3, 4, 5]\n",
        "}"
      ],
      "execution_count": null,
      "outputs": []
    },
    {
      "cell_type": "code",
      "metadata": {
        "id": "tfY098T2OVYn"
      },
      "source": [
        "from sklearn.model_selection import RandomizedSearchCV"
      ],
      "execution_count": null,
      "outputs": []
    },
    {
      "cell_type": "code",
      "metadata": {
        "id": "J9A4j3ZF0jf8"
      },
      "source": [
        "grid_rf = GridSearchCV(param_grid=RF_param_grid, estimator=model_RF, \n",
        "                        scoring='f1_weighted', cv=3, verbose=2, n_jobs=-1)"
      ],
      "execution_count": null,
      "outputs": []
    },
    {
      "cell_type": "code",
      "metadata": {
        "id": "nKZQKt_9ObLK"
      },
      "source": [
        "grid_rf = RandomizedSearchCV(estimator=model_RF, param_distributions=RF_param_grid,  \n",
        "                        scoring='f1_weighted', cv=3, verbose=2, n_jobs=-1)"
      ],
      "execution_count": null,
      "outputs": []
    },
    {
      "cell_type": "code",
      "metadata": {
        "id": "C-Nx45uD49Pm",
        "colab": {
          "base_uri": "https://localhost:8080/"
        },
        "outputId": "935ea484-0a09-4632-f38b-d33470c20443"
      },
      "source": [
        "#grid_rf.fit(X_tweets, y_classes)"
      ],
      "execution_count": null,
      "outputs": [
        {
          "output_type": "stream",
          "text": [
            "Fitting 3 folds for each of 10 candidates, totalling 30 fits\n"
          ],
          "name": "stdout"
        },
        {
          "output_type": "stream",
          "text": [
            "[Parallel(n_jobs=-1)]: Using backend LokyBackend with 2 concurrent workers.\n",
            "[Parallel(n_jobs=-1)]: Done  30 out of  30 | elapsed:  9.4min finished\n"
          ],
          "name": "stderr"
        },
        {
          "output_type": "execute_result",
          "data": {
            "text/plain": [
              "RandomizedSearchCV(cv=3, error_score=nan,\n",
              "                   estimator=Pipeline(memory=None,\n",
              "                                      steps=[('vect',\n",
              "                                              CountVectorizer(analyzer='word',\n",
              "                                                              binary=False,\n",
              "                                                              decode_error='strict',\n",
              "                                                              dtype=<class 'numpy.int64'>,\n",
              "                                                              encoding='utf-8',\n",
              "                                                              input='content',\n",
              "                                                              lowercase=True,\n",
              "                                                              max_df=1.0,\n",
              "                                                              max_features=None,\n",
              "                                                              min_df=1,\n",
              "                                                              ngram_range=(1,\n",
              "                                                                           2),\n",
              "                                                              preprocessor=None,\n",
              "                                                              stop_words=None,\n",
              "                                                              strip_accents=None,\n",
              "                                                              token_pattern...\n",
              "                                                                     warm_start=False))],\n",
              "                                      verbose=False),\n",
              "                   iid='deprecated', n_iter=10, n_jobs=-1,\n",
              "                   param_distributions={'clf__criterion': ['gini', 'entropy'],\n",
              "                                        'clf__max_depth': [None, 1, 3],\n",
              "                                        'clf__min_samples_leaf': [1, 3, 4, 5],\n",
              "                                        'clf__min_samples_split': [5, 10],\n",
              "                                        'clf__n_estimators': [100, 200, 500]},\n",
              "                   pre_dispatch='2*n_jobs', random_state=None, refit=True,\n",
              "                   return_train_score=False, scoring='f1_weighted', verbose=2)"
            ]
          },
          "metadata": {
            "tags": []
          },
          "execution_count": 90
        }
      ]
    },
    {
      "cell_type": "code",
      "metadata": {
        "id": "jpaY01Es6PcU",
        "colab": {
          "base_uri": "https://localhost:8080/"
        },
        "outputId": "99bba6b2-6c2b-4217-da13-b9f7dd58bcb6"
      },
      "source": [
        "#print(\"Best parameters found: \", grid_rf.best_params_)"
      ],
      "execution_count": null,
      "outputs": [
        {
          "output_type": "stream",
          "text": [
            "Best parameters found:  {'clf__n_estimators': 500, 'clf__min_samples_split': 10, 'clf__min_samples_leaf': 5, 'clf__max_depth': None, 'clf__criterion': 'gini'}\n"
          ],
          "name": "stdout"
        }
      ]
    },
    {
      "cell_type": "code",
      "metadata": {
        "id": "r6FtBbnlYhg8"
      },
      "source": [
        "model = RandomForestClassifier(n_estimators= 500, min_samples_split= 10, random_state=42, min_samples_leaf= 5, criterion = 'gini', n_jobs=-1)"
      ],
      "execution_count": null,
      "outputs": []
    },
    {
      "cell_type": "code",
      "metadata": {
        "id": "9P8-Q-sSYnz6"
      },
      "source": [
        "model_RF = Pipeline([\n",
        "    ('vect', CountVectorizer(ngram_range=(1, 2))),\n",
        "    ('tfidf', TfidfTransformer()),\n",
        "    ('clf', model),\n",
        "])"
      ],
      "execution_count": null,
      "outputs": []
    },
    {
      "cell_type": "code",
      "metadata": {
        "id": "-DxVCylBIrP0"
      },
      "source": [
        "predictions_RF = cross_val_predict(model_RF, X_tweets, y_classes, cv = 5)"
      ],
      "execution_count": null,
      "outputs": []
    },
    {
      "cell_type": "code",
      "metadata": {
        "colab": {
          "base_uri": "https://localhost:8080/"
        },
        "id": "T7HBvAgrIrP0",
        "outputId": "2e9f49c1-85ba-431c-880a-061fbb23df2e"
      },
      "source": [
        "print(classification_report(y_classes, predictions_RF))"
      ],
      "execution_count": null,
      "outputs": [
        {
          "output_type": "stream",
          "text": [
            "              precision    recall  f1-score   support\n",
            "\n",
            "    Negativo       0.67      0.77      0.72     28000\n",
            "      Neutro       0.77      0.85      0.81     27993\n",
            "    Positivo       0.64      0.48      0.55     27674\n",
            "\n",
            "    accuracy                           0.70     83667\n",
            "   macro avg       0.70      0.70      0.69     83667\n",
            "weighted avg       0.70      0.70      0.69     83667\n",
            "\n"
          ],
          "name": "stdout"
        }
      ]
    },
    {
      "cell_type": "code",
      "metadata": {
        "id": "oS5rV21BIrP1"
      },
      "source": [
        "#for doc, predictions_RF, y in zip(tweets[0:10], predictions_RF[0:10], classes[0:10]):\n",
        "#    print('%r => %s [%s]' % (doc, predictions_RF, y))"
      ],
      "execution_count": null,
      "outputs": []
    },
    {
      "cell_type": "markdown",
      "metadata": {
        "id": "FQfgDPc5rlBM"
      },
      "source": [
        "## XGBoost "
      ]
    },
    {
      "cell_type": "code",
      "metadata": {
        "id": "NKb0Zs5prpqN"
      },
      "source": [
        "model_XGB = Pipeline([\n",
        "    ('vect', CountVectorizer(ngram_range=(1, 2))),\n",
        "    ('tfidf', TfidfTransformer()),\n",
        "    ('clf', xgb.XGBClassifier(n_estimators=1000, n_jobs=-1, nthread=-1))\n",
        "])"
      ],
      "execution_count": 98,
      "outputs": []
    },
    {
      "cell_type": "markdown",
      "metadata": {
        "id": "0KojRYt_CZ-K"
      },
      "source": [
        "##XGBoost with Hold-out"
      ]
    },
    {
      "cell_type": "code",
      "metadata": {
        "id": "P6kdOl3r4My7",
        "outputId": "84899406-ca95-4c06-e2c0-fffb1fa9ca40",
        "colab": {
          "base_uri": "https://localhost:8080/"
        }
      },
      "source": [
        "model_XGB.fit(X_train, y_train)"
      ],
      "execution_count": 99,
      "outputs": [
        {
          "output_type": "execute_result",
          "data": {
            "text/plain": [
              "Pipeline(memory=None,\n",
              "         steps=[('vect',\n",
              "                 CountVectorizer(analyzer='word', binary=False,\n",
              "                                 decode_error='strict',\n",
              "                                 dtype=<class 'numpy.int64'>, encoding='utf-8',\n",
              "                                 input='content', lowercase=True, max_df=1.0,\n",
              "                                 max_features=None, min_df=1,\n",
              "                                 ngram_range=(1, 1), preprocessor=None,\n",
              "                                 stop_words=None, strip_accents=None,\n",
              "                                 token_pattern='(?u)\\\\b\\\\w\\\\w+\\\\b',\n",
              "                                 tokenizer=None, vocabulary=Non...\n",
              "                 XGBClassifier(base_score=0.5, booster='gbtree',\n",
              "                               colsample_bylevel=1, colsample_bynode=1,\n",
              "                               colsample_bytree=1, gamma=0, learning_rate=0.1,\n",
              "                               max_delta_step=0, max_depth=3,\n",
              "                               min_child_weight=1, missing=None,\n",
              "                               n_estimators=1000, n_jobs=-1, nthread=-1,\n",
              "                               objective='multi:softprob', random_state=0,\n",
              "                               reg_alpha=0, reg_lambda=1, scale_pos_weight=1,\n",
              "                               seed=None, silent=None, subsample=1,\n",
              "                               verbosity=1))],\n",
              "         verbose=False)"
            ]
          },
          "metadata": {
            "tags": []
          },
          "execution_count": 99
        }
      ]
    },
    {
      "cell_type": "code",
      "metadata": {
        "id": "55kOJioBS4Mp"
      },
      "source": [
        "predictions_XGB = model_XGB.predict(X_test)"
      ],
      "execution_count": 100,
      "outputs": []
    },
    {
      "cell_type": "code",
      "metadata": {
        "id": "a148fwPs4RAd",
        "outputId": "d0051b2a-a770-4598-b1ae-bfde0e24242a",
        "colab": {
          "base_uri": "https://localhost:8080/"
        }
      },
      "source": [
        "print(classification_report(y_test, predictions_XGB))"
      ],
      "execution_count": 101,
      "outputs": [
        {
          "output_type": "stream",
          "text": [
            "              precision    recall  f1-score   support\n",
            "\n",
            "    Negativo       0.75      0.68      0.72      9256\n",
            "      Neutro       0.75      0.88      0.81      9117\n",
            "    Positivo       0.65      0.60      0.63      9244\n",
            "\n",
            "    accuracy                           0.72     27617\n",
            "   macro avg       0.72      0.72      0.72     27617\n",
            "weighted avg       0.72      0.72      0.72     27617\n",
            "\n"
          ],
          "name": "stdout"
        }
      ]
    },
    {
      "cell_type": "markdown",
      "metadata": {
        "id": "JBObayzBcsHO"
      },
      "source": [
        "## Neural Network - Multilayer Perceptron"
      ]
    },
    {
      "cell_type": "markdown",
      "metadata": {
        "id": "VMmjAod5c_qG"
      },
      "source": [
        "<img src=\"https://st2.ning.com/topology/rest/1.0/file/get/1140047167?profile=original\" width=\"500\"/>"
      ]
    },
    {
      "cell_type": "code",
      "metadata": {
        "id": "LOkRstBz_eSp"
      },
      "source": [
        "model_NN = Pipeline([\n",
        "    ('vect', CountVectorizer(ngram_range=(1, 2))),\n",
        "    ('tfidf', TfidfTransformer()),\n",
        "    ('pca', TruncatedSVD(n_components=200)), # 100000 linhas por 150 colunas (features)\n",
        "    ('clf', MLPClassifier(hidden_layer_sizes=(100,50), #2 camadas escondidas sendo a primeira com 100 neurônios e a segunda com 50 neurônios \n",
        "                          random_state=42, \n",
        "                          activation='relu', #Testar outras funções de ativação. Ex. tanh, entre outras (relu).\n",
        "                          max_iter=1000,\n",
        "                          early_stopping=True))\n",
        "])"
      ],
      "execution_count": 102,
      "outputs": []
    },
    {
      "cell_type": "markdown",
      "metadata": {
        "id": "qPMaMMru-0BR"
      },
      "source": [
        "### Neural network model with Hold-out"
      ]
    },
    {
      "cell_type": "code",
      "metadata": {
        "id": "ejUHo6f8-0BT"
      },
      "source": [
        "model_NN.fit(X_train, y_train)\n",
        "predictions_NN = model_NN.predict(X_test)"
      ],
      "execution_count": 103,
      "outputs": []
    },
    {
      "cell_type": "code",
      "metadata": {
        "id": "Gugv_VxF-0BT",
        "outputId": "1e80d2be-3247-4b38-f2c3-a284b75ac84d",
        "colab": {
          "base_uri": "https://localhost:8080/"
        }
      },
      "source": [
        "print(classification_report(y_test, predictions_NN))"
      ],
      "execution_count": 104,
      "outputs": [
        {
          "output_type": "stream",
          "text": [
            "              precision    recall  f1-score   support\n",
            "\n",
            "    Negativo       0.70      0.74      0.72      9256\n",
            "      Neutro       0.85      0.82      0.84      9117\n",
            "    Positivo       0.63      0.62      0.63      9244\n",
            "\n",
            "    accuracy                           0.73     27617\n",
            "   macro avg       0.73      0.73      0.73     27617\n",
            "weighted avg       0.73      0.73      0.73     27617\n",
            "\n"
          ],
          "name": "stdout"
        }
      ]
    },
    {
      "cell_type": "code",
      "metadata": {
        "id": "k6PppGx5-0BT",
        "outputId": "6f5502c3-42dd-43be-a15e-67d167292513",
        "colab": {
          "base_uri": "https://localhost:8080/"
        }
      },
      "source": [
        "for doc, prediction, y in zip(X_test[0:20], predictions_NN[0:20], y_test[0:20]):\n",
        "    print('%r => %s [%s]' % (doc, prediction, y))"
      ],
      "execution_count": 105,
      "outputs": [
        {
          "output_type": "stream",
          "text": [
            "'saib nazist ode jud jerusalém caracterís esquerdopat . além diss esquerd ador corrupt , pedófil , estupr marg . enquadr ness tim ? pesquis amig lulal merd mesm cois :-) ' => Positivo [Positivo]\n",
            "'príncip harry complet 34 ano receb homen intern ' => Neutro [Neutro]\n",
            "'blizzard problem overwatch , diz licenç jog tav jog ate ont boa , tod bug compr jog mó feliz mei deix entr ' => Positivo [Negativo]\n",
            "'oi mig ' => Positivo [Positivo]\n",
            "'imagin iri ter gent centr quer ir pro lad bolsonar . ' => Negativo [Positivo]\n",
            "'ali marin tem alv dobr bolsonar daciol debat . ' => Neutro [Neutro]\n",
            "'aha !!! import pro irm irm vai sent bem famíl lá ^^ ' => Positivo [Positivo]\n",
            "'big broth ingl políci vê 11 mil hor víde ach suspeit envenen ex espiã . ' => Neutro [Neutro]\n",
            "'agor sim united par cicl posi watford som prim derrot nest ediç premi leag ' => Positivo [Positivo]\n",
            "'post elogi manu aqu . ler post , vai entend toler ser zer pra tip açã . ele terr . candidat pres . atitud infeliz . :-( ' => Negativo [Negativo]\n",
            "'confirm public amanhã , 22 ago , diári ofic uni ! ' => Neutro [Neutro]\n",
            "'sim , fal ! :-) inter niss , bast artig livr escrit sobr assunt . faç pesquis internet sobr revoluç 1974 portug lug mulh . pod começ pagin part comun portugu , clar , + ' => Positivo [Positivo]\n",
            "'sent trabalh rend ? vej artig 8 dic melhor produt ! ' => Neutro [Neutro]\n",
            "'pod trabalh bermud ? op .. :-) manau , brazil ' => Neutro [Positivo]\n",
            "'& gt sobreviv , sindicat inclu contribu negoci ' => Neutro [Neutro]\n",
            "'sad sad mort , ameaç intimid discurs bolsonar inflam radic via ' => Neutro [Negativo]\n",
            "'& gt aliment gás co faz defl baix rend ser dobr ric ' => Neutro [Neutro]\n",
            "'festiv mir receb apanh colômb nov peç antun filh ' => Neutro [Neutro]\n",
            "'abert inscr curs dist \" prov process administr disciplin \". particip ! curs gratuit direit certific conclus ! ' => Neutro [Neutro]\n",
            "'simmmm vai ser batalh titã extrem esquerd extrem direit , cois horr ver chor porqu real consider vot tir títul marin deboch diss ' => Negativo [Negativo]\n"
          ],
          "name": "stdout"
        }
      ]
    },
    {
      "cell_type": "markdown",
      "metadata": {
        "id": "mfyhzij7CtGH"
      },
      "source": [
        "## SVM model"
      ]
    },
    {
      "cell_type": "code",
      "metadata": {
        "id": "eDIAK5XdIbEM"
      },
      "source": [
        "model_SVC = Pipeline([\n",
        "    ('vect', CountVectorizer(ngram_range=(1, 2))),\n",
        "    ('tfidf', TfidfTransformer()),\n",
        "    ('clf', SVC(random_state=42)),\n",
        "])"
      ],
      "execution_count": 140,
      "outputs": []
    },
    {
      "cell_type": "markdown",
      "metadata": {
        "id": "eO1WLFoPIbEL"
      },
      "source": [
        "## SVM model with Hold out"
      ]
    },
    {
      "cell_type": "code",
      "metadata": {
        "id": "KseA2cv6IbEQ"
      },
      "source": [
        "model_SVC.fit(X_train, y_train)\n",
        "predictions_SVC = model_SVC.predict(X_test)"
      ],
      "execution_count": null,
      "outputs": []
    },
    {
      "cell_type": "code",
      "metadata": {
        "id": "L_-mBK1IIbER",
        "outputId": "4dd701db-bc5d-4674-cfcd-9583c32ac56c",
        "colab": {
          "base_uri": "https://localhost:8080/"
        }
      },
      "source": [
        "print(classification_report(y_test, predictions_SVC))"
      ],
      "execution_count": 139,
      "outputs": [
        {
          "output_type": "stream",
          "text": [
            "/usr/local/lib/python3.7/dist-packages/sklearn/metrics/_classification.py:1272: UndefinedMetricWarning:\n",
            "\n",
            "Precision and F-score are ill-defined and being set to 0.0 in labels with no predicted samples. Use `zero_division` parameter to control this behavior.\n",
            "\n"
          ],
          "name": "stderr"
        },
        {
          "output_type": "stream",
          "text": [
            "              precision    recall  f1-score   support\n",
            "\n",
            "    Negativo       0.00      0.00      0.00      9813\n",
            "      Neutro       0.33      1.00      0.50      9664\n",
            "    Positivo       0.00      0.00      0.00      9813\n",
            "\n",
            "    accuracy                           0.33     29290\n",
            "   macro avg       0.11      0.33      0.17     29290\n",
            "weighted avg       0.11      0.33      0.16     29290\n",
            "\n"
          ],
          "name": "stdout"
        }
      ]
    },
    {
      "cell_type": "code",
      "metadata": {
        "id": "7cF4P59RIbER",
        "outputId": "8e40d028-dc4f-4418-ad7a-0c37d217a208",
        "colab": {
          "base_uri": "https://localhost:8080/"
        }
      },
      "source": [
        "for doc, prediction, y in zip(X_test[0:20], predictions_SVC[0:20], y_test[0:20]):\n",
        "    print('%r => %s [%s]' % (doc, prediction, y))"
      ],
      "execution_count": 110,
      "outputs": [
        {
          "output_type": "stream",
          "text": [
            "'saib nazist ode jud jerusalém caracterís esquerdopat . além diss esquerd ador corrupt , pedófil , estupr marg . enquadr ness tim ? pesquis amig lulal merd mesm cois :-) ' => Positivo [Positivo]\n",
            "'príncip harry complet 34 ano receb homen intern ' => Neutro [Neutro]\n",
            "'blizzard problem overwatch , diz licenç jog tav jog ate ont boa , tod bug compr jog mó feliz mei deix entr ' => Positivo [Negativo]\n",
            "'oi mig ' => Positivo [Positivo]\n",
            "'imagin iri ter gent centr quer ir pro lad bolsonar . ' => Negativo [Positivo]\n",
            "'ali marin tem alv dobr bolsonar daciol debat . ' => Negativo [Neutro]\n",
            "'aha !!! import pro irm irm vai sent bem famíl lá ^^ ' => Positivo [Positivo]\n",
            "'big broth ingl políci vê 11 mil hor víde ach suspeit envenen ex espiã . ' => Neutro [Neutro]\n",
            "'agor sim united par cicl posi watford som prim derrot nest ediç premi leag ' => Positivo [Positivo]\n",
            "'post elogi manu aqu . ler post , vai entend toler ser zer pra tip açã . ele terr . candidat pres . atitud infeliz . :-( ' => Negativo [Negativo]\n",
            "'confirm public amanhã , 22 ago , diári ofic uni ! ' => Neutro [Neutro]\n",
            "'sim , fal ! :-) inter niss , bast artig livr escrit sobr assunt . faç pesquis internet sobr revoluç 1974 portug lug mulh . pod começ pagin part comun portugu , clar , + ' => Positivo [Positivo]\n",
            "'sent trabalh rend ? vej artig 8 dic melhor produt ! ' => Neutro [Neutro]\n",
            "'pod trabalh bermud ? op .. :-) manau , brazil ' => Neutro [Positivo]\n",
            "'& gt sobreviv , sindicat inclu contribu negoci ' => Neutro [Neutro]\n",
            "'sad sad mort , ameaç intimid discurs bolsonar inflam radic via ' => Neutro [Negativo]\n",
            "'& gt aliment gás co faz defl baix rend ser dobr ric ' => Neutro [Neutro]\n",
            "'festiv mir receb apanh colômb nov peç antun filh ' => Neutro [Neutro]\n",
            "'abert inscr curs dist \" prov process administr disciplin \". particip ! curs gratuit direit certific conclus ! ' => Neutro [Neutro]\n",
            "'simmmm vai ser batalh titã extrem esquerd extrem direit , cois horr ver chor porqu real consider vot tir títul marin deboch diss ' => Negativo [Negativo]\n"
          ],
          "name": "stdout"
        }
      ]
    },
    {
      "cell_type": "markdown",
      "metadata": {
        "id": "QyjkdeeEC156"
      },
      "source": [
        "## Logistic Regression"
      ]
    },
    {
      "cell_type": "code",
      "metadata": {
        "id": "iw8hQgSDjFkM"
      },
      "source": [
        "model_LR = Pipeline([\n",
        "    ('vect', CountVectorizer(ngram_range=(1, 2))),\n",
        "    ('tfidf', TfidfTransformer()),\n",
        "    ('clf', LogisticRegression(random_state=42, multi_class='multinomial', max_iter=500, n_jobs=-1)),\n",
        "])"
      ],
      "execution_count": 122,
      "outputs": []
    },
    {
      "cell_type": "markdown",
      "metadata": {
        "id": "eN8QyOFqu0lk"
      },
      "source": [
        "## Logistic Regression with Hold Out"
      ]
    },
    {
      "cell_type": "code",
      "metadata": {
        "id": "HN_ksiNAu4yr"
      },
      "source": [
        "model_LR.fit(X_train, y_train)\n",
        "predictions_LR = model_LR.predict(X_test)"
      ],
      "execution_count": 123,
      "outputs": []
    },
    {
      "cell_type": "code",
      "metadata": {
        "id": "i2ksyMhwu4ys",
        "outputId": "56bb99ad-d1b2-4bf8-b800-d2eb0bc4efb8",
        "colab": {
          "base_uri": "https://localhost:8080/"
        }
      },
      "source": [
        "X_train.shape, X_test.shape"
      ],
      "execution_count": 119,
      "outputs": [
        {
          "output_type": "execute_result",
          "data": {
            "text/plain": [
              "((54395,), (29290,))"
            ]
          },
          "metadata": {
            "tags": []
          },
          "execution_count": 119
        }
      ]
    },
    {
      "cell_type": "code",
      "metadata": {
        "id": "-DCOH2fSu4yt",
        "outputId": "4fa70fd9-7666-47b3-d2e8-74a3c2778bb1",
        "colab": {
          "base_uri": "https://localhost:8080/"
        }
      },
      "source": [
        "print(classification_report(y_test, predictions_LR))"
      ],
      "execution_count": 124,
      "outputs": [
        {
          "output_type": "stream",
          "text": [
            "              precision    recall  f1-score   support\n",
            "\n",
            "    Negativo       0.73      0.77      0.75      9813\n",
            "      Neutro       0.85      0.86      0.86      9664\n",
            "    Positivo       0.69      0.65      0.67      9813\n",
            "\n",
            "    accuracy                           0.76     29290\n",
            "   macro avg       0.76      0.76      0.76     29290\n",
            "weighted avg       0.76      0.76      0.76     29290\n",
            "\n"
          ],
          "name": "stdout"
        }
      ]
    },
    {
      "cell_type": "code",
      "metadata": {
        "id": "KuPaWwAzu4yt",
        "outputId": "ddb6afea-cc09-4231-c9a4-80894bf89f1d",
        "colab": {
          "base_uri": "https://localhost:8080/"
        }
      },
      "source": [
        "for doc, prediction, y in zip(X_test[0:20], predictions_LR[0:20], y_test[0:20]):\n",
        "    print('%r => %s [%s]' % (doc, prediction, y))"
      ],
      "execution_count": 125,
      "outputs": [
        {
          "output_type": "stream",
          "text": [
            "'saib nazist ode jud jerusalém caracterís esquerdopat . além diss esquerd ador corrupt , pedófil , estupr marg . enquadr ness tim ? pesquis amig lulal merd mesm cois :-) ' => Positivo [Positivo]\n",
            "'príncip harry complet 34 ano receb homen intern ' => Neutro [Neutro]\n",
            "'blizzard problem overwatch , diz licenç jog tav jog ate ont boa , tod bug compr jog mó feliz mei deix entr ' => Positivo [Negativo]\n",
            "'oi mig ' => Positivo [Positivo]\n",
            "'imagin iri ter gent centr quer ir pro lad bolsonar . ' => Negativo [Positivo]\n",
            "'ali marin tem alv dobr bolsonar daciol debat . ' => Negativo [Neutro]\n",
            "'aha !!! import pro irm irm vai sent bem famíl lá ^^ ' => Positivo [Positivo]\n",
            "'big broth ingl políci vê 11 mil hor víde ach suspeit envenen ex espiã . ' => Neutro [Neutro]\n",
            "'agor sim united par cicl posi watford som prim derrot nest ediç premi leag ' => Positivo [Positivo]\n",
            "'post elogi manu aqu . ler post , vai entend toler ser zer pra tip açã . ele terr . candidat pres . atitud infeliz . :-( ' => Negativo [Negativo]\n",
            "'confirm public amanhã , 22 ago , diári ofic uni ! ' => Neutro [Neutro]\n",
            "'sim , fal ! :-) inter niss , bast artig livr escrit sobr assunt . faç pesquis internet sobr revoluç 1974 portug lug mulh . pod começ pagin part comun portugu , clar , + ' => Positivo [Positivo]\n",
            "'sent trabalh rend ? vej artig 8 dic melhor produt ! ' => Neutro [Neutro]\n",
            "'pod trabalh bermud ? op .. :-) manau , brazil ' => Neutro [Positivo]\n",
            "'& gt sobreviv , sindicat inclu contribu negoci ' => Neutro [Neutro]\n",
            "'sad sad mort , ameaç intimid discurs bolsonar inflam radic via ' => Neutro [Negativo]\n",
            "'& gt aliment gás co faz defl baix rend ser dobr ric ' => Neutro [Neutro]\n",
            "'festiv mir receb apanh colômb nov peç antun filh ' => Neutro [Neutro]\n",
            "'abert inscr curs dist \" prov process administr disciplin \". particip ! curs gratuit direit certific conclus ! ' => Neutro [Neutro]\n",
            "'simmmm vai ser batalh titã extrem esquerd extrem direit , cois horr ver chor porqu real consider vot tir títul marin deboch diss ' => Negativo [Negativo]\n"
          ],
          "name": "stdout"
        }
      ]
    },
    {
      "cell_type": "code",
      "metadata": {
        "id": "cScI0W3G5phK"
      },
      "source": [
        ""
      ],
      "execution_count": null,
      "outputs": []
    },
    {
      "cell_type": "markdown",
      "metadata": {
        "id": "RiZyLJP05gKy"
      },
      "source": [
        "## Logistic Regression with cross-validation and gridsearch \n",
        "Doing CV and gridsearch on the model with the best performance with the default settings "
      ]
    },
    {
      "cell_type": "code",
      "metadata": {
        "id": "b8A0vi2j5grx"
      },
      "source": [
        "model_LR = Pipeline([\n",
        "    ('vect', CountVectorizer(ngram_range=(1, 2))),\n",
        "    ('tfidf', TfidfTransformer()),\n",
        "    ('clf', LogisticRegression(random_state=42, multi_class='multinomial', max_iter=500, n_jobs=-1)),\n",
        "])"
      ],
      "execution_count": 126,
      "outputs": []
    },
    {
      "cell_type": "code",
      "metadata": {
        "id": "RVkm2xmRLG94"
      },
      "source": [
        "param_grid_LR = {\n",
        "    'clf__solver': ['newton-cg', 'lbfgs', 'liblinear', 'sag', 'saga'],\n",
        "    'clf__penalty': ['l1', 'l2', 'elasticnet', 'none']\n",
        "}"
      ],
      "execution_count": 127,
      "outputs": []
    },
    {
      "cell_type": "code",
      "metadata": {
        "id": "DQ6QFTbNlOPB"
      },
      "source": [
        "grid_LR = GridSearchCV(param_grid=param_grid_LR, estimator=model_LR, \n",
        "                        scoring='f1_weighted', cv=5, verbose=1, n_jobs=-1)"
      ],
      "execution_count": 128,
      "outputs": []
    },
    {
      "cell_type": "code",
      "metadata": {
        "id": "VENM5GkYk_NE"
      },
      "source": [
        "#grid_LR.fit(X_tweets, y_classes)"
      ],
      "execution_count": null,
      "outputs": []
    },
    {
      "cell_type": "code",
      "metadata": {
        "id": "70JZ0tehOHkv"
      },
      "source": [
        "#print(grid_LR.best_params_)"
      ],
      "execution_count": null,
      "outputs": []
    },
    {
      "cell_type": "code",
      "metadata": {
        "id": "cpAJxQsa29kw"
      },
      "source": [
        "model = LogisticRegression(random_state=42, multi_class='multinomial', max_iter=100, n_jobs=-1, solver= 'newton-cg')"
      ],
      "execution_count": 129,
      "outputs": []
    },
    {
      "cell_type": "code",
      "metadata": {
        "id": "qYNI97EA29lI"
      },
      "source": [
        "model_LR = Pipeline([\n",
        "    ('vect', CountVectorizer(ngram_range=(1, 2))),\n",
        "    ('tfidf', TfidfTransformer()),\n",
        "    ('clf', model),\n",
        "])"
      ],
      "execution_count": 130,
      "outputs": []
    },
    {
      "cell_type": "code",
      "metadata": {
        "id": "-VHQnIzf4HHY"
      },
      "source": [
        "predictions_LR = cross_val_predict(model_LR, X_tweets, y_classes, cv = 5)"
      ],
      "execution_count": 131,
      "outputs": []
    },
    {
      "cell_type": "code",
      "metadata": {
        "id": "KcJ_aY2L4HHe",
        "outputId": "37f62470-ff08-40b4-e779-d135cd7fef8d",
        "colab": {
          "base_uri": "https://localhost:8080/"
        }
      },
      "source": [
        "print(classification_report(y_classes, predictions_LR))"
      ],
      "execution_count": 132,
      "outputs": [
        {
          "output_type": "stream",
          "text": [
            "              precision    recall  f1-score   support\n",
            "\n",
            "    Negativo       0.72      0.78      0.75     28000\n",
            "      Neutro       0.85      0.85      0.85     27989\n",
            "    Positivo       0.67      0.63      0.65     27696\n",
            "\n",
            "    accuracy                           0.75     83685\n",
            "   macro avg       0.75      0.75      0.75     83685\n",
            "weighted avg       0.75      0.75      0.75     83685\n",
            "\n"
          ],
          "name": "stdout"
        }
      ]
    },
    {
      "cell_type": "code",
      "metadata": {
        "id": "vESsQSYP4HHf"
      },
      "source": [
        "#for doc, predictions_RF, y in zip(tweets[0:10], predictions_RF[0:10], classes[0:10]):\n",
        "#    print('%r => %s [%s]' % (doc, predictions_RF, y))"
      ],
      "execution_count": null,
      "outputs": []
    },
    {
      "cell_type": "markdown",
      "metadata": {
        "id": "3E9RvBzoJpNv"
      },
      "source": [
        "## Exporting models"
      ]
    },
    {
      "cell_type": "code",
      "metadata": {
        "id": "UVpOeP1v7luq"
      },
      "source": [
        "import pickle"
      ],
      "execution_count": null,
      "outputs": []
    },
    {
      "cell_type": "code",
      "metadata": {
        "id": "P3ufMJai7KX4"
      },
      "source": [
        "#filename = 'LR_model.sav'\n",
        "pickle.dump(model_LR, open('LR_model_we', 'wb'))"
      ],
      "execution_count": null,
      "outputs": []
    },
    {
      "cell_type": "code",
      "metadata": {
        "id": "-bXYj-yg8Hyu"
      },
      "source": [
        "model_LR.predict(X_test)"
      ],
      "execution_count": null,
      "outputs": []
    },
    {
      "cell_type": "code",
      "metadata": {
        "id": "Az_tSLdZyBC8"
      },
      "source": [
        "predictions = loaded_model.predict(X_test)"
      ],
      "execution_count": null,
      "outputs": []
    },
    {
      "cell_type": "code",
      "metadata": {
        "id": "-5mIvaVrlFKk"
      },
      "source": [
        "print(classification_report(y_test, predictions))"
      ],
      "execution_count": null,
      "outputs": []
    }
  ]
}