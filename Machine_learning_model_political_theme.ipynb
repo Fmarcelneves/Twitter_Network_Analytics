{
  "nbformat": 4,
  "nbformat_minor": 0,
  "metadata": {
    "colab": {
      "name": "Machine_learning_model political_theme.ipynb",
      "provenance": [],
      "collapsed_sections": [],
      "toc_visible": true,
      "include_colab_link": true
    },
    "kernelspec": {
      "name": "python3",
      "display_name": "Python 3"
    }
  },
  "cells": [
    {
      "cell_type": "markdown",
      "metadata": {
        "id": "view-in-github",
        "colab_type": "text"
      },
      "source": [
        "<a href=\"https://colab.research.google.com/github/fmarcelneves/Twitter-Network-Analytics/blob/main/Machine_learning_model_political_theme.ipynb\" target=\"_parent\"><img src=\"https://colab.research.google.com/assets/colab-badge.svg\" alt=\"Open In Colab\"/></a>"
      ]
    },
    {
      "cell_type": "markdown",
      "metadata": {
        "_uuid": "39b49805abea346b301e8be2f6317f41f2040cb0",
        "id": "_ATEjsR7ojnq"
      },
      "source": [
        "<h1>Portuguese Tweets for Sentiment Analysis</h1>"
      ]
    },
    {
      "cell_type": "markdown",
      "metadata": {
        "id": "t3FAjsEbkMW9"
      },
      "source": [
        "## Install package"
      ]
    },
    {
      "cell_type": "code",
      "metadata": {
        "colab": {
          "base_uri": "https://localhost:8080/"
        },
        "id": "kjr3G2adsHl-",
        "outputId": "14edf078-b0ca-481b-caae-853d54021c9b"
      },
      "source": [
        "!pip install xgboost"
      ],
      "execution_count": null,
      "outputs": [
        {
          "output_type": "stream",
          "text": [
            "Requirement already satisfied: xgboost in /usr/local/lib/python3.7/dist-packages (0.90)\n",
            "Requirement already satisfied: scipy in /usr/local/lib/python3.7/dist-packages (from xgboost) (1.4.1)\n",
            "Requirement already satisfied: numpy in /usr/local/lib/python3.7/dist-packages (from xgboost) (1.19.5)\n"
          ],
          "name": "stdout"
        }
      ]
    },
    {
      "cell_type": "markdown",
      "metadata": {
        "_uuid": "b4f29bda96d086b23f57e2d4aa970c3c1e037578",
        "id": "nrMGO10Aojnq"
      },
      "source": [
        "## Load packages"
      ]
    },
    {
      "cell_type": "code",
      "metadata": {
        "trusted": true,
        "_uuid": "919b480a6075584c5f93cf511e90001ddcc7b649",
        "id": "VLxC5kVxojnq"
      },
      "source": [
        "import os\n",
        "import pandas as pd\n",
        "import numpy as np\n",
        "import random\n",
        "import re\n",
        "import nltk\n",
        "from nltk.tokenize import word_tokenize\n",
        "from nltk.tokenize import wordpunct_tokenize\n",
        "# from nltk.tokenize import sent_tokenize (Tokenization)\n",
        "from nltk.probability import FreqDist\n",
        "from nltk.metrics import ConfusionMatrix\n",
        "from wordcloud import WordCloud\n",
        "import matplotlib.pyplot as plt\n",
        "from sklearn.feature_extraction.text import CountVectorizer\n",
        "from sklearn.feature_extraction.text import TfidfTransformer\n",
        "from sklearn.naive_bayes import MultinomialNB\n",
        "from sklearn.linear_model import SGDClassifier\n",
        "from sklearn.linear_model import LogisticRegression\n",
        "from sklearn.svm import SVC\n",
        "from sklearn.ensemble import RandomForestClassifier\n",
        "from sklearn.ensemble import GradientBoostingClassifier\n",
        "from sklearn.pipeline import Pipeline\n",
        "from sklearn import metrics\n",
        "from sklearn.model_selection import GridSearchCV\n",
        "from sklearn.metrics import classification_report\n",
        "from sklearn.model_selection import cross_val_predict\n",
        "from sklearn.model_selection import train_test_split\n",
        "import  xgboost as xgb"
      ],
      "execution_count": null,
      "outputs": []
    },
    {
      "cell_type": "code",
      "metadata": {
        "colab": {
          "base_uri": "https://localhost:8080/"
        },
        "id": "9eMtkH6n6u6b",
        "outputId": "b9939f13-e188-4e35-d9ec-8a590ec486fa"
      },
      "source": [
        " nltk.download('stopwords')"
      ],
      "execution_count": null,
      "outputs": [
        {
          "output_type": "stream",
          "text": [
            "[nltk_data] Downloading package stopwords to /root/nltk_data...\n",
            "[nltk_data]   Unzipping corpora/stopwords.zip.\n"
          ],
          "name": "stdout"
        },
        {
          "output_type": "execute_result",
          "data": {
            "text/plain": [
              "True"
            ]
          },
          "metadata": {
            "tags": []
          },
          "execution_count": 3
        }
      ]
    },
    {
      "cell_type": "code",
      "metadata": {
        "id": "0OYkhb-ATOuE"
      },
      "source": [
        "%%capture\n",
        "!pip install plotly --upgrade\n",
        "from plotly import __version__\n",
        "print (__version__)\n",
        "import plotly.express as px\n",
        "import plotly as py\n",
        "#import plotly.figure_factory as ff\n",
        "#import cufflinks as cf\n",
        "from plotly.offline import iplot, init_notebook_mode\n",
        "# Display all cell outputs\n",
        "from IPython.core.interactiveshell import InteractiveShell\n",
        "import plotly.io as pio\n",
        "pio.templates.default = \"plotly_white\""
      ],
      "execution_count": null,
      "outputs": []
    },
    {
      "cell_type": "markdown",
      "metadata": {
        "_uuid": "6340d1fa4e6c1eb7317bc41d0e455f38cecff5e7",
        "id": "Oh5yVZT2ojnr"
      },
      "source": [
        "## Load and concatenate dataset"
      ]
    },
    {
      "cell_type": "markdown",
      "metadata": {
        "_uuid": "3796005c75ed73e961631cd6148ac209865498d7",
        "id": "VlaZL-WJojnr"
      },
      "source": [
        "<h4>Load and prepare</h4>"
      ]
    },
    {
      "cell_type": "code",
      "metadata": {
        "id": "LRLS8HzU0dL9"
      },
      "source": [
        "TweetsNeutralHash = 'https://raw.githubusercontent.com/fmarcelneves/Twitter-Network-Analytics/main/TweetsNeutralHash.csv'\n",
        "TweetsNeutralNews = 'https://raw.githubusercontent.com/fmarcelneves/Twitter-Network-Analytics/main/TweetsNeutralNews.csv'\n",
        "TweetsWithTheme = 'https://raw.githubusercontent.com/fmarcelneves/Twitter-Network-Analytics/main/TweetsWithTheme.csv'\n",
        "#Train3Classes = 'https://raw.githubusercontent.com/fmarcelneves/Twitter-Network-Analytics/main/Train3Classes.csv'\n",
        "NoThemeTweets = 'https://raw.githubusercontent.com/fmarcelneves/Twitter-Network-Analytics/main/NoThemeTweets.csv'"
      ],
      "execution_count": null,
      "outputs": []
    },
    {
      "cell_type": "code",
      "metadata": {
        "trusted": true,
        "_uuid": "5d6cf76ed57e7c9f7046c776b981afae40bc16cc",
        "id": "Gq5BNsUOojnr"
      },
      "source": [
        "NeutralHash = pd.read_csv(TweetsNeutralHash, encoding='utf-8')\n",
        "NeutralNews = pd.read_csv(TweetsNeutralNews, encoding='utf-8')\n",
        "Political_Neg_Pos = pd.read_csv(TweetsWithTheme, encoding='utf-8')\n",
        "#Classes = pd.read_csv(Train3Classes, encoding='utf-8', sep=';')\n",
        "NoThemeTweets_Pos = pd.read_csv(NoThemeTweets, encoding='latin-1', sep=';')"
      ],
      "execution_count": null,
      "outputs": []
    },
    {
      "cell_type": "markdown",
      "metadata": {
        "id": "8sOz2GDDHcZY"
      },
      "source": [
        "Neutral"
      ]
    },
    {
      "cell_type": "code",
      "metadata": {
        "id": "FU0Lw4L1EfBs"
      },
      "source": [
        "NeutralHash  = NeutralHash[['tweet_text', 'sentiment']]\n",
        "NeutralHash.columns = ['texto', 'classificacao']"
      ],
      "execution_count": null,
      "outputs": []
    },
    {
      "cell_type": "code",
      "metadata": {
        "id": "sG3VXQunDSMc",
        "colab": {
          "base_uri": "https://localhost:8080/"
        },
        "outputId": "c9340df0-5c20-41be-d8bd-302d9ac1c915"
      },
      "source": [
        "NeutralHash.head()"
      ],
      "execution_count": null,
      "outputs": [
        {
          "output_type": "execute_result",
          "data": {
            "text/html": [
              "<div>\n",
              "<style scoped>\n",
              "    .dataframe tbody tr th:only-of-type {\n",
              "        vertical-align: middle;\n",
              "    }\n",
              "\n",
              "    .dataframe tbody tr th {\n",
              "        vertical-align: top;\n",
              "    }\n",
              "\n",
              "    .dataframe thead th {\n",
              "        text-align: right;\n",
              "    }\n",
              "</style>\n",
              "<table border=\"1\" class=\"dataframe\">\n",
              "  <thead>\n",
              "    <tr style=\"text-align: right;\">\n",
              "      <th></th>\n",
              "      <th>texto</th>\n",
              "      <th>classificacao</th>\n",
              "    </tr>\n",
              "  </thead>\n",
              "  <tbody>\n",
              "    <tr>\n",
              "      <th>0</th>\n",
              "      <td>@dilsonramoslima #Fato Acho que o Roger é um b...</td>\n",
              "      <td>Neutro</td>\n",
              "    </tr>\n",
              "    <tr>\n",
              "      <th>1</th>\n",
              "      <td>#NOVIDADE! @LATAM_BRA acaba de anunciar novo v...</td>\n",
              "      <td>Neutro</td>\n",
              "    </tr>\n",
              "    <tr>\n",
              "      <th>2</th>\n",
              "      <td>Quando tem #novidade😆 tem @novafm103 na área! ...</td>\n",
              "      <td>Neutro</td>\n",
              "    </tr>\n",
              "    <tr>\n",
              "      <th>3</th>\n",
              "      <td>@RiodeNojeira #Novidade Taí o sucesso dos filh...</td>\n",
              "      <td>Neutro</td>\n",
              "    </tr>\n",
              "    <tr>\n",
              "      <th>4</th>\n",
              "      <td>[Livro/Novidades] Segredos, uma história de Lu...</td>\n",
              "      <td>Neutro</td>\n",
              "    </tr>\n",
              "  </tbody>\n",
              "</table>\n",
              "</div>"
            ],
            "text/plain": [
              "                                               texto classificacao\n",
              "0  @dilsonramoslima #Fato Acho que o Roger é um b...        Neutro\n",
              "1  #NOVIDADE! @LATAM_BRA acaba de anunciar novo v...        Neutro\n",
              "2  Quando tem #novidade😆 tem @novafm103 na área! ...        Neutro\n",
              "3  @RiodeNojeira #Novidade Taí o sucesso dos filh...        Neutro\n",
              "4  [Livro/Novidades] Segredos, uma história de Lu...        Neutro"
            ]
          },
          "metadata": {
            "tags": []
          },
          "execution_count": 8
        }
      ]
    },
    {
      "cell_type": "code",
      "metadata": {
        "id": "J9jEXZkLJFkc"
      },
      "source": [
        "NeutralHash = NeutralHash.drop_duplicates().reset_index(drop=True)"
      ],
      "execution_count": null,
      "outputs": []
    },
    {
      "cell_type": "code",
      "metadata": {
        "colab": {
          "base_uri": "https://localhost:8080/"
        },
        "id": "IjZfD9KNFBs0",
        "outputId": "6d511cc2-d017-42a6-c814-a2658dcda414"
      },
      "source": [
        "NeutralHash.shape"
      ],
      "execution_count": null,
      "outputs": [
        {
          "output_type": "execute_result",
          "data": {
            "text/plain": [
              "(15515, 2)"
            ]
          },
          "metadata": {
            "tags": []
          },
          "execution_count": 10
        }
      ]
    },
    {
      "cell_type": "code",
      "metadata": {
        "id": "OLIicYRqIkQn"
      },
      "source": [
        "NeutralHash = NeutralHash.sample(8000) #14000 #8000"
      ],
      "execution_count": null,
      "outputs": []
    },
    {
      "cell_type": "code",
      "metadata": {
        "colab": {
          "base_uri": "https://localhost:8080/"
        },
        "id": "mIlnUbgIIkQx",
        "outputId": "654c1254-0b87-4612-cd73-475413ca549b"
      },
      "source": [
        "NeutralHash.shape"
      ],
      "execution_count": null,
      "outputs": [
        {
          "output_type": "execute_result",
          "data": {
            "text/plain": [
              "(8000, 2)"
            ]
          },
          "metadata": {
            "tags": []
          },
          "execution_count": 12
        }
      ]
    },
    {
      "cell_type": "code",
      "metadata": {
        "id": "Hug5u6-XEuWO"
      },
      "source": [
        "NeutralNews  = NeutralNews[['tweet_text', 'sentiment']]\n",
        "NeutralNews.columns = ['texto', 'classificacao']"
      ],
      "execution_count": null,
      "outputs": []
    },
    {
      "cell_type": "code",
      "metadata": {
        "id": "7TYMrbycJfX5"
      },
      "source": [
        "NeutralNews = NeutralNews.drop_duplicates().reset_index(drop=True)"
      ],
      "execution_count": null,
      "outputs": []
    },
    {
      "cell_type": "code",
      "metadata": {
        "id": "y0cCpKkrJSyE",
        "colab": {
          "base_uri": "https://localhost:8080/"
        },
        "outputId": "ed8aff6e-2ba7-4c52-afd0-4d2ee48c9788"
      },
      "source": [
        "NeutralNews.shape"
      ],
      "execution_count": null,
      "outputs": [
        {
          "output_type": "execute_result",
          "data": {
            "text/plain": [
              "(37509, 2)"
            ]
          },
          "metadata": {
            "tags": []
          },
          "execution_count": 15
        }
      ]
    },
    {
      "cell_type": "code",
      "metadata": {
        "id": "i7SauHeAIkQy"
      },
      "source": [
        "NeutralNews = NeutralNews.sample(20000) #14000 #20000"
      ],
      "execution_count": null,
      "outputs": []
    },
    {
      "cell_type": "code",
      "metadata": {
        "colab": {
          "base_uri": "https://localhost:8080/"
        },
        "id": "7s1g2BOdIkQy",
        "outputId": "2d38a381-8c4b-4ddb-c5f5-f6d678df7586"
      },
      "source": [
        "NeutralNews.shape"
      ],
      "execution_count": null,
      "outputs": [
        {
          "output_type": "execute_result",
          "data": {
            "text/plain": [
              "(20000, 2)"
            ]
          },
          "metadata": {
            "tags": []
          },
          "execution_count": 17
        }
      ]
    },
    {
      "cell_type": "code",
      "metadata": {
        "id": "GbVTe_KzLqsP"
      },
      "source": [
        "#NeutralHash+NeutralNews = Neutral"
      ],
      "execution_count": null,
      "outputs": []
    },
    {
      "cell_type": "markdown",
      "metadata": {
        "id": "yY2WjRNeJg1b"
      },
      "source": [
        "Positive "
      ]
    },
    {
      "cell_type": "code",
      "metadata": {
        "id": "vHTeO78UxI3w"
      },
      "source": [
        "Political_Neg_Pos  = Political_Neg_Pos[['tweet_text', 'sentiment']]\n",
        "Political_Neg_Pos.columns = ['texto', 'classificacao']"
      ],
      "execution_count": null,
      "outputs": []
    },
    {
      "cell_type": "code",
      "metadata": {
        "colab": {
          "base_uri": "https://localhost:8080/"
        },
        "id": "iGqnSZ-lJx5O",
        "outputId": "155757e1-bcae-41bc-9cf8-0a8270761657"
      },
      "source": [
        "Political_Neg_Pos.shape"
      ],
      "execution_count": null,
      "outputs": [
        {
          "output_type": "execute_result",
          "data": {
            "text/plain": [
              "(61591, 2)"
            ]
          },
          "metadata": {
            "tags": []
          },
          "execution_count": 20
        }
      ]
    },
    {
      "cell_type": "code",
      "metadata": {
        "id": "XZoFHfaDJpRG"
      },
      "source": [
        "Political_Neg_Pos = Political_Neg_Pos.drop_duplicates().reset_index(drop=True)"
      ],
      "execution_count": null,
      "outputs": []
    },
    {
      "cell_type": "code",
      "metadata": {
        "colab": {
          "base_uri": "https://localhost:8080/"
        },
        "id": "_SO-ueIiFOE7",
        "outputId": "bc0055fb-7eea-4f78-be0a-2bfe06ee3420"
      },
      "source": [
        "Political_Neg_Pos.shape"
      ],
      "execution_count": null,
      "outputs": [
        {
          "output_type": "execute_result",
          "data": {
            "text/plain": [
              "(61283, 2)"
            ]
          },
          "metadata": {
            "tags": []
          },
          "execution_count": 22
        }
      ]
    },
    {
      "cell_type": "code",
      "metadata": {
        "colab": {
          "base_uri": "https://localhost:8080/"
        },
        "id": "Ka26Jwf0lIrv",
        "outputId": "0804b87a-5a77-4023-dbbc-57cbbc5278b3"
      },
      "source": [
        "Political_Neg_Pos.loc[Political_Neg_Pos['classificacao'] == 'Positivo'].shape"
      ],
      "execution_count": null,
      "outputs": [
        {
          "output_type": "execute_result",
          "data": {
            "text/plain": [
              "(32566, 2)"
            ]
          },
          "metadata": {
            "tags": []
          },
          "execution_count": 23
        }
      ]
    },
    {
      "cell_type": "code",
      "metadata": {
        "id": "xWX_GpfaJmki"
      },
      "source": [
        "Political_Pos = Political_Neg_Pos.loc[Political_Neg_Pos['classificacao'] == 'Positivo'].sample(20000) #18000 #20000 #14000"
      ],
      "execution_count": null,
      "outputs": []
    },
    {
      "cell_type": "code",
      "metadata": {
        "id": "NJPmTJH3Jpdm",
        "colab": {
          "base_uri": "https://localhost:8080/"
        },
        "outputId": "7e69bdb7-332a-43ff-fc26-56f93c00caea"
      },
      "source": [
        "Political_Pos.shape"
      ],
      "execution_count": null,
      "outputs": [
        {
          "output_type": "execute_result",
          "data": {
            "text/plain": [
              "(20000, 2)"
            ]
          },
          "metadata": {
            "tags": []
          },
          "execution_count": 25
        }
      ]
    },
    {
      "cell_type": "code",
      "metadata": {
        "id": "09S8O9E1HulZ"
      },
      "source": [
        "NoThemeTweets_Pos.columns = ['texto', 'classificacao']"
      ],
      "execution_count": null,
      "outputs": []
    },
    {
      "cell_type": "code",
      "metadata": {
        "colab": {
          "base_uri": "https://localhost:8080/"
        },
        "id": "uU5yG2BuHulZ",
        "outputId": "c5f204c2-18e8-4b83-8246-c7744dbba10b"
      },
      "source": [
        "NoThemeTweets_Pos.head()"
      ],
      "execution_count": null,
      "outputs": [
        {
          "output_type": "execute_result",
          "data": {
            "text/html": [
              "<div>\n",
              "<style scoped>\n",
              "    .dataframe tbody tr th:only-of-type {\n",
              "        vertical-align: middle;\n",
              "    }\n",
              "\n",
              "    .dataframe tbody tr th {\n",
              "        vertical-align: top;\n",
              "    }\n",
              "\n",
              "    .dataframe thead th {\n",
              "        text-align: right;\n",
              "    }\n",
              "</style>\n",
              "<table border=\"1\" class=\"dataframe\">\n",
              "  <thead>\n",
              "    <tr style=\"text-align: right;\">\n",
              "      <th></th>\n",
              "      <th>texto</th>\n",
              "      <th>classificacao</th>\n",
              "    </tr>\n",
              "  </thead>\n",
              "  <tbody>\n",
              "    <tr>\n",
              "      <th>0</th>\n",
              "      <td>@Tixaa23 14 para eu ir :)</td>\n",
              "      <td>Positivo</td>\n",
              "    </tr>\n",
              "    <tr>\n",
              "      <th>1</th>\n",
              "      <td>@drexalvarez O meu like eu já dei na época :)</td>\n",
              "      <td>Positivo</td>\n",
              "    </tr>\n",
              "    <tr>\n",
              "      <th>2</th>\n",
              "      <td>Eu só queria conseguir comer alguma coisa pra ...</td>\n",
              "      <td>Positivo</td>\n",
              "    </tr>\n",
              "    <tr>\n",
              "      <th>3</th>\n",
              "      <td>:D que lindo dia !</td>\n",
              "      <td>Positivo</td>\n",
              "    </tr>\n",
              "    <tr>\n",
              "      <th>4</th>\n",
              "      <td>@Primo_Resmungao Pq da pr jeito!!é uma \"oferta...</td>\n",
              "      <td>Positivo</td>\n",
              "    </tr>\n",
              "  </tbody>\n",
              "</table>\n",
              "</div>"
            ],
            "text/plain": [
              "                                               texto classificacao\n",
              "0                          @Tixaa23 14 para eu ir :)      Positivo\n",
              "1      @drexalvarez O meu like eu já dei na época :)      Positivo\n",
              "2  Eu só queria conseguir comer alguma coisa pra ...      Positivo\n",
              "3                                 :D que lindo dia !      Positivo\n",
              "4  @Primo_Resmungao Pq da pr jeito!!é uma \"oferta...      Positivo"
            ]
          },
          "metadata": {
            "tags": []
          },
          "execution_count": 27
        }
      ]
    },
    {
      "cell_type": "code",
      "metadata": {
        "id": "BZ5Z_L8dEMoF"
      },
      "source": [
        "NoThemeTweets_Pos = NoThemeTweets_Pos.drop_duplicates().reset_index(drop=True)"
      ],
      "execution_count": null,
      "outputs": []
    },
    {
      "cell_type": "code",
      "metadata": {
        "id": "vfxO69Q0N6py",
        "colab": {
          "base_uri": "https://localhost:8080/"
        },
        "outputId": "8b58532d-1f68-4013-9570-d3801d9e94a2"
      },
      "source": [
        "NoThemeTweets_Pos.shape"
      ],
      "execution_count": null,
      "outputs": [
        {
          "output_type": "execute_result",
          "data": {
            "text/plain": [
              "(19983, 2)"
            ]
          },
          "metadata": {
            "tags": []
          },
          "execution_count": 29
        }
      ]
    },
    {
      "cell_type": "code",
      "metadata": {
        "id": "7tUW03EzDlpm"
      },
      "source": [
        "NoTheme_Pos = NoThemeTweets_Pos[NoThemeTweets_Pos['classificacao'] == 'Positivo'].sample(8000)"
      ],
      "execution_count": null,
      "outputs": []
    },
    {
      "cell_type": "code",
      "metadata": {
        "id": "wH_UDtPNL38I",
        "colab": {
          "base_uri": "https://localhost:8080/"
        },
        "outputId": "700e43d2-4399-4905-d48c-095a74059b95"
      },
      "source": [
        "NoTheme_Pos.shape"
      ],
      "execution_count": null,
      "outputs": [
        {
          "output_type": "execute_result",
          "data": {
            "text/plain": [
              "(8000, 2)"
            ]
          },
          "metadata": {
            "tags": []
          },
          "execution_count": 31
        }
      ]
    },
    {
      "cell_type": "code",
      "metadata": {
        "id": "tIe3HOo6H4du"
      },
      "source": [
        "#from IPython.display import HTML\n",
        "#HTML(Political_Pos.to_html())"
      ],
      "execution_count": null,
      "outputs": []
    },
    {
      "cell_type": "code",
      "metadata": {
        "id": "AA476jZ74vb-"
      },
      "source": [
        "#Classes_Pos  = Classes[['tweet_text', 'sentiment']]\n",
        "#Classes_Pos.columns = ['texto', 'classificacao']"
      ],
      "execution_count": null,
      "outputs": []
    },
    {
      "cell_type": "code",
      "metadata": {
        "id": "HxaVKn_5AQzt"
      },
      "source": [
        "#Classes_Pos['classificacao'] = Classes_Pos['classificacao'].map({0: 'Negativo', 1: 'Positivo', 2: 'Neutro'})"
      ],
      "execution_count": null,
      "outputs": []
    },
    {
      "cell_type": "code",
      "metadata": {
        "id": "ZDht-xymIyOF"
      },
      "source": [
        "#Classes_Pos = Classes_Pos.loc[Classes_Pos['classificacao'] == 'Positivo'].sample(8000) #10000 #14000 #8000"
      ],
      "execution_count": null,
      "outputs": []
    },
    {
      "cell_type": "code",
      "metadata": {
        "id": "LnRd8nmwJD14"
      },
      "source": [
        "#Classes_Pos.shape"
      ],
      "execution_count": null,
      "outputs": []
    },
    {
      "cell_type": "code",
      "metadata": {
        "id": "Ne_R2p-pMCk5"
      },
      "source": [
        "#Political_Pos+NoTheme_Pos = Positive"
      ],
      "execution_count": null,
      "outputs": []
    },
    {
      "cell_type": "markdown",
      "metadata": {
        "id": "uH7xMYl7KZri"
      },
      "source": [
        "Negative"
      ]
    },
    {
      "cell_type": "code",
      "metadata": {
        "id": "axUPkR4JKhJS"
      },
      "source": [
        "Political_Neg_Pos = Political_Neg_Pos.drop_duplicates().reset_index(drop=True)"
      ],
      "execution_count": null,
      "outputs": []
    },
    {
      "cell_type": "code",
      "metadata": {
        "id": "Kqd2MC1bJzbJ",
        "colab": {
          "base_uri": "https://localhost:8080/"
        },
        "outputId": "a5316416-74a2-45e6-f914-592a372c5d55"
      },
      "source": [
        "Political_Neg_Pos.loc[Political_Neg_Pos['classificacao'] == 'Negativo'].shape"
      ],
      "execution_count": null,
      "outputs": [
        {
          "output_type": "execute_result",
          "data": {
            "text/plain": [
              "(28717, 2)"
            ]
          },
          "metadata": {
            "tags": []
          },
          "execution_count": 39
        }
      ]
    },
    {
      "cell_type": "code",
      "metadata": {
        "id": "zp0GdYQgGRTc"
      },
      "source": [
        "Political_Neg = Political_Neg_Pos.loc[Political_Neg_Pos['classificacao'] == 'Negativo'].sample(28000)"
      ],
      "execution_count": null,
      "outputs": []
    },
    {
      "cell_type": "code",
      "metadata": {
        "colab": {
          "base_uri": "https://localhost:8080/"
        },
        "id": "EOp1X9VHXtvg",
        "outputId": "d553958f-a2c8-4a4e-94e8-eac03397e6ed"
      },
      "source": [
        "Political_Neg.shape"
      ],
      "execution_count": null,
      "outputs": [
        {
          "output_type": "execute_result",
          "data": {
            "text/plain": [
              "(28000, 2)"
            ]
          },
          "metadata": {
            "tags": []
          },
          "execution_count": 41
        }
      ]
    },
    {
      "cell_type": "code",
      "metadata": {
        "colab": {
          "base_uri": "https://localhost:8080/"
        },
        "id": "oXfhSUO6I-DC",
        "outputId": "916be966-de8b-4244-b1cd-6e13e050cbd7"
      },
      "source": [
        "dataset = pd.concat([NeutralHash, NeutralNews, Political_Pos, NoTheme_Pos, Political_Neg]).drop_duplicates().reset_index(drop=True)\n",
        "dataset"
      ],
      "execution_count": null,
      "outputs": [
        {
          "output_type": "execute_result",
          "data": {
            "text/html": [
              "<div>\n",
              "<style scoped>\n",
              "    .dataframe tbody tr th:only-of-type {\n",
              "        vertical-align: middle;\n",
              "    }\n",
              "\n",
              "    .dataframe tbody tr th {\n",
              "        vertical-align: top;\n",
              "    }\n",
              "\n",
              "    .dataframe thead th {\n",
              "        text-align: right;\n",
              "    }\n",
              "</style>\n",
              "<table border=\"1\" class=\"dataframe\">\n",
              "  <thead>\n",
              "    <tr style=\"text-align: right;\">\n",
              "      <th></th>\n",
              "      <th>texto</th>\n",
              "      <th>classificacao</th>\n",
              "    </tr>\n",
              "  </thead>\n",
              "  <tbody>\n",
              "    <tr>\n",
              "      <th>0</th>\n",
              "      <td>Esta é pra você amigo! No meio da dificuldade ...</td>\n",
              "      <td>Neutro</td>\n",
              "    </tr>\n",
              "    <tr>\n",
              "      <th>1</th>\n",
              "      <td>Conheça histórias de pessoas que encontraram o...</td>\n",
              "      <td>Neutro</td>\n",
              "    </tr>\n",
              "    <tr>\n",
              "      <th>2</th>\n",
              "      <td>De cabelo em pé com essa semana 🤪, doideira, m...</td>\n",
              "      <td>Neutro</td>\n",
              "    </tr>\n",
              "    <tr>\n",
              "      <th>3</th>\n",
              "      <td>@junioitatiaia Insônia, Amigo! Não desejo a ni...</td>\n",
              "      <td>Neutro</td>\n",
              "    </tr>\n",
              "    <tr>\n",
              "      <th>4</th>\n",
              "      <td>\"Deus é bom o tempo TODO. O tempo TODO Ele é b...</td>\n",
              "      <td>Neutro</td>\n",
              "    </tr>\n",
              "    <tr>\n",
              "      <th>...</th>\n",
              "      <td>...</td>\n",
              "      <td>...</td>\n",
              "    </tr>\n",
              "    <tr>\n",
              "      <th>83925</th>\n",
              "      <td>@udangerz Não faz issooooo! Facismo naaaaao! A...</td>\n",
              "      <td>Negativo</td>\n",
              "    </tr>\n",
              "    <tr>\n",
              "      <th>83926</th>\n",
              "      <td>esses votos no ciro mudaria tanta coisa :( htt...</td>\n",
              "      <td>Negativo</td>\n",
              "    </tr>\n",
              "    <tr>\n",
              "      <th>83927</th>\n",
              "      <td>Oi Marina, não sei nem como falar isso, mas......</td>\n",
              "      <td>Negativo</td>\n",
              "    </tr>\n",
              "    <tr>\n",
              "      <th>83928</th>\n",
              "      <td>@raulnascimentoo @conexaopolitica @jairbolsona...</td>\n",
              "      <td>Negativo</td>\n",
              "    </tr>\n",
              "    <tr>\n",
              "      <th>83929</th>\n",
              "      <td>@EscudoCarvalho Horrível né? :( da um abraço 🤗</td>\n",
              "      <td>Negativo</td>\n",
              "    </tr>\n",
              "  </tbody>\n",
              "</table>\n",
              "<p>83930 rows × 2 columns</p>\n",
              "</div>"
            ],
            "text/plain": [
              "                                                   texto classificacao\n",
              "0      Esta é pra você amigo! No meio da dificuldade ...        Neutro\n",
              "1      Conheça histórias de pessoas que encontraram o...        Neutro\n",
              "2      De cabelo em pé com essa semana 🤪, doideira, m...        Neutro\n",
              "3      @junioitatiaia Insônia, Amigo! Não desejo a ni...        Neutro\n",
              "4      \"Deus é bom o tempo TODO. O tempo TODO Ele é b...        Neutro\n",
              "...                                                  ...           ...\n",
              "83925  @udangerz Não faz issooooo! Facismo naaaaao! A...      Negativo\n",
              "83926  esses votos no ciro mudaria tanta coisa :( htt...      Negativo\n",
              "83927  Oi Marina, não sei nem como falar isso, mas......      Negativo\n",
              "83928  @raulnascimentoo @conexaopolitica @jairbolsona...      Negativo\n",
              "83929     @EscudoCarvalho Horrível né? :( da um abraço 🤗      Negativo\n",
              "\n",
              "[83930 rows x 2 columns]"
            ]
          },
          "metadata": {
            "tags": []
          },
          "execution_count": 42
        }
      ]
    },
    {
      "cell_type": "code",
      "metadata": {
        "colab": {
          "base_uri": "https://localhost:8080/"
        },
        "id": "2abip6xKlfm6",
        "outputId": "7ba79fec-8580-42fe-eb00-3e75435cdbcc"
      },
      "source": [
        "dataset.shape"
      ],
      "execution_count": null,
      "outputs": [
        {
          "output_type": "execute_result",
          "data": {
            "text/plain": [
              "(83930, 2)"
            ]
          },
          "metadata": {
            "tags": []
          },
          "execution_count": 43
        }
      ]
    },
    {
      "cell_type": "code",
      "metadata": {
        "id": "99aGu-b4V6cR"
      },
      "source": [
        "#dataset = pd.concat([NeutralHash, NeutralNews, Political_Pos, Political_Neg]).drop_duplicates().reset_index(drop=True)\n",
        "#dataset"
      ],
      "execution_count": null,
      "outputs": []
    },
    {
      "cell_type": "code",
      "metadata": {
        "id": "YTJGBA3RaUxD"
      },
      "source": [
        "#dataset = pd.concat([NeutralNews, Political_Pos, Political_Neg]).drop_duplicates().reset_index(drop=True)\n",
        "#dataset"
      ],
      "execution_count": null,
      "outputs": []
    },
    {
      "cell_type": "markdown",
      "metadata": {
        "_uuid": "099ce684b4fe8f313bb2c6fc51bee367fb79c9fe",
        "id": "kpOHnqZmojnr"
      },
      "source": [
        "## Exploratory Analysis"
      ]
    },
    {
      "cell_type": "code",
      "metadata": {
        "trusted": true,
        "_uuid": "515a9096a3a52d337223b5c0599bbf3fe890f457",
        "colab": {
          "base_uri": "https://localhost:8080/",
          "height": 195
        },
        "id": "08yO3uJfojnr",
        "outputId": "01f9381f-caf2-4b1d-f031-458927e995dc"
      },
      "source": [
        "dataset.sample(5)"
      ],
      "execution_count": null,
      "outputs": [
        {
          "output_type": "execute_result",
          "data": {
            "text/html": [
              "<div>\n",
              "<style scoped>\n",
              "    .dataframe tbody tr th:only-of-type {\n",
              "        vertical-align: middle;\n",
              "    }\n",
              "\n",
              "    .dataframe tbody tr th {\n",
              "        vertical-align: top;\n",
              "    }\n",
              "\n",
              "    .dataframe thead th {\n",
              "        text-align: right;\n",
              "    }\n",
              "</style>\n",
              "<table border=\"1\" class=\"dataframe\">\n",
              "  <thead>\n",
              "    <tr style=\"text-align: right;\">\n",
              "      <th></th>\n",
              "      <th>texto</th>\n",
              "      <th>classificacao</th>\n",
              "    </tr>\n",
              "  </thead>\n",
              "  <tbody>\n",
              "    <tr>\n",
              "      <th>6728</th>\n",
              "      <td>Engraçado é que #TODOS da #esquerda chamam a #...</td>\n",
              "      <td>Neutro</td>\n",
              "    </tr>\n",
              "    <tr>\n",
              "      <th>70810</th>\n",
              "      <td>@Crunchyroll_PT quando vocês vão começar a col...</td>\n",
              "      <td>Negativo</td>\n",
              "    </tr>\n",
              "    <tr>\n",
              "      <th>82426</th>\n",
              "      <td>@ejessicabarreto Em compensação os candidatos ...</td>\n",
              "      <td>Negativo</td>\n",
              "    </tr>\n",
              "    <tr>\n",
              "      <th>22947</th>\n",
              "      <td>Ataque com faca deixa 2 mortos e 1 ferido na F...</td>\n",
              "      <td>Neutro</td>\n",
              "    </tr>\n",
              "    <tr>\n",
              "      <th>71642</th>\n",
              "      <td>alckmin meu vovozinho não fica triste estou co...</td>\n",
              "      <td>Negativo</td>\n",
              "    </tr>\n",
              "  </tbody>\n",
              "</table>\n",
              "</div>"
            ],
            "text/plain": [
              "                                                   texto classificacao\n",
              "6728   Engraçado é que #TODOS da #esquerda chamam a #...        Neutro\n",
              "70810  @Crunchyroll_PT quando vocês vão começar a col...      Negativo\n",
              "82426  @ejessicabarreto Em compensação os candidatos ...      Negativo\n",
              "22947  Ataque com faca deixa 2 mortos e 1 ferido na F...        Neutro\n",
              "71642  alckmin meu vovozinho não fica triste estou co...      Negativo"
            ]
          },
          "metadata": {
            "tags": []
          },
          "execution_count": 46
        }
      ]
    },
    {
      "cell_type": "code",
      "metadata": {
        "colab": {
          "base_uri": "https://localhost:8080/"
        },
        "id": "zSmFYy1yTuUH",
        "outputId": "919c952e-7ae3-43da-e2d7-e36d00025254"
      },
      "source": [
        "series = dataset['classificacao'].value_counts()\n",
        "series"
      ],
      "execution_count": null,
      "outputs": [
        {
          "output_type": "execute_result",
          "data": {
            "text/plain": [
              "Negativo    28000\n",
              "Neutro      27994\n",
              "Positivo    27936\n",
              "Name: classificacao, dtype: int64"
            ]
          },
          "metadata": {
            "tags": []
          },
          "execution_count": 47
        }
      ]
    },
    {
      "cell_type": "code",
      "metadata": {
        "id": "oLkUd6G-8LFo"
      },
      "source": [
        "pd.options.plotting.backend = \"plotly\""
      ],
      "execution_count": null,
      "outputs": []
    },
    {
      "cell_type": "code",
      "metadata": {
        "trusted": true,
        "_uuid": "754cdcf1f1b7e2d5abfc5a97f5c53891842be1e1",
        "colab": {
          "base_uri": "https://localhost:8080/",
          "height": 542
        },
        "id": "1GHwg04Tojnr",
        "outputId": "c12281f6-59f2-437e-e7c8-38dc273e02ff"
      },
      "source": [
        "series.plot(kind='bar', title='Número de tweets classificados para cada sentimento considerado', \n",
        "labels={\"value\": \"Frequências\", \"index\": \"Sentimentos\"}, color = ['Negativo', 'Neutro', 'Positivo'], \n",
        "color_discrete_sequence =['#EF553B', '#00CC96', '#636EFA'])"
      ],
      "execution_count": null,
      "outputs": [
        {
          "output_type": "display_data",
          "data": {
            "text/html": [
              "<html>\n",
              "<head><meta charset=\"utf-8\" /></head>\n",
              "<body>\n",
              "    <div>            <script src=\"https://cdnjs.cloudflare.com/ajax/libs/mathjax/2.7.5/MathJax.js?config=TeX-AMS-MML_SVG\"></script><script type=\"text/javascript\">if (window.MathJax) {MathJax.Hub.Config({SVG: {font: \"STIX-Web\"}});}</script>                <script type=\"text/javascript\">window.PlotlyConfig = {MathJaxConfig: 'local'};</script>\n",
              "        <script src=\"https://cdn.plot.ly/plotly-latest.min.js\"></script>                <div id=\"2ad8ac52-6cbe-452a-8d30-2eedf1f319da\" class=\"plotly-graph-div\" style=\"height:525px; width:100%;\"></div>            <script type=\"text/javascript\">                                    window.PLOTLYENV=window.PLOTLYENV || {};                                    if (document.getElementById(\"2ad8ac52-6cbe-452a-8d30-2eedf1f319da\")) {                    Plotly.newPlot(                        \"2ad8ac52-6cbe-452a-8d30-2eedf1f319da\",                        [{\"alignmentgroup\": \"True\", \"hovertemplate\": \"color=Negativo<br>Sentimentos=%{x}<br>Frequ\\u00eancias=%{y}<extra></extra>\", \"legendgroup\": \"Negativo\", \"marker\": {\"color\": \"#EF553B\"}, \"name\": \"Negativo\", \"offsetgroup\": \"Negativo\", \"orientation\": \"v\", \"showlegend\": true, \"textposition\": \"auto\", \"type\": \"bar\", \"x\": [\"Negativo\"], \"xaxis\": \"x\", \"y\": [28000], \"yaxis\": \"y\"}, {\"alignmentgroup\": \"True\", \"hovertemplate\": \"color=Neutro<br>Sentimentos=%{x}<br>Frequ\\u00eancias=%{y}<extra></extra>\", \"legendgroup\": \"Neutro\", \"marker\": {\"color\": \"#00CC96\"}, \"name\": \"Neutro\", \"offsetgroup\": \"Neutro\", \"orientation\": \"v\", \"showlegend\": true, \"textposition\": \"auto\", \"type\": \"bar\", \"x\": [\"Neutro\"], \"xaxis\": \"x\", \"y\": [27994], \"yaxis\": \"y\"}, {\"alignmentgroup\": \"True\", \"hovertemplate\": \"color=Positivo<br>Sentimentos=%{x}<br>Frequ\\u00eancias=%{y}<extra></extra>\", \"legendgroup\": \"Positivo\", \"marker\": {\"color\": \"#636EFA\"}, \"name\": \"Positivo\", \"offsetgroup\": \"Positivo\", \"orientation\": \"v\", \"showlegend\": true, \"textposition\": \"auto\", \"type\": \"bar\", \"x\": [\"Positivo\"], \"xaxis\": \"x\", \"y\": [27936], \"yaxis\": \"y\"}],                        {\"barmode\": \"relative\", \"legend\": {\"title\": {\"text\": \"color\"}, \"tracegroupgap\": 0}, \"template\": {\"data\": {\"bar\": [{\"error_x\": {\"color\": \"#2a3f5f\"}, \"error_y\": {\"color\": \"#2a3f5f\"}, \"marker\": {\"line\": {\"color\": \"white\", \"width\": 0.5}}, \"type\": \"bar\"}], \"barpolar\": [{\"marker\": {\"line\": {\"color\": \"white\", \"width\": 0.5}}, \"type\": \"barpolar\"}], \"carpet\": [{\"aaxis\": {\"endlinecolor\": \"#2a3f5f\", \"gridcolor\": \"#C8D4E3\", \"linecolor\": \"#C8D4E3\", \"minorgridcolor\": \"#C8D4E3\", \"startlinecolor\": \"#2a3f5f\"}, \"baxis\": {\"endlinecolor\": \"#2a3f5f\", \"gridcolor\": \"#C8D4E3\", \"linecolor\": \"#C8D4E3\", \"minorgridcolor\": \"#C8D4E3\", \"startlinecolor\": \"#2a3f5f\"}, \"type\": \"carpet\"}], \"choropleth\": [{\"colorbar\": {\"outlinewidth\": 0, \"ticks\": \"\"}, \"type\": \"choropleth\"}], \"contour\": [{\"colorbar\": {\"outlinewidth\": 0, \"ticks\": \"\"}, \"colorscale\": [[0.0, \"#0d0887\"], [0.1111111111111111, \"#46039f\"], [0.2222222222222222, \"#7201a8\"], [0.3333333333333333, \"#9c179e\"], [0.4444444444444444, \"#bd3786\"], [0.5555555555555556, \"#d8576b\"], [0.6666666666666666, \"#ed7953\"], [0.7777777777777778, \"#fb9f3a\"], [0.8888888888888888, \"#fdca26\"], [1.0, \"#f0f921\"]], \"type\": \"contour\"}], \"contourcarpet\": [{\"colorbar\": {\"outlinewidth\": 0, \"ticks\": \"\"}, \"type\": \"contourcarpet\"}], \"heatmap\": [{\"colorbar\": {\"outlinewidth\": 0, \"ticks\": \"\"}, \"colorscale\": [[0.0, \"#0d0887\"], [0.1111111111111111, \"#46039f\"], [0.2222222222222222, \"#7201a8\"], [0.3333333333333333, \"#9c179e\"], [0.4444444444444444, \"#bd3786\"], [0.5555555555555556, \"#d8576b\"], [0.6666666666666666, \"#ed7953\"], [0.7777777777777778, \"#fb9f3a\"], [0.8888888888888888, \"#fdca26\"], [1.0, \"#f0f921\"]], \"type\": \"heatmap\"}], \"heatmapgl\": [{\"colorbar\": {\"outlinewidth\": 0, \"ticks\": \"\"}, \"colorscale\": [[0.0, \"#0d0887\"], [0.1111111111111111, \"#46039f\"], [0.2222222222222222, \"#7201a8\"], [0.3333333333333333, \"#9c179e\"], [0.4444444444444444, \"#bd3786\"], [0.5555555555555556, \"#d8576b\"], [0.6666666666666666, \"#ed7953\"], [0.7777777777777778, \"#fb9f3a\"], [0.8888888888888888, \"#fdca26\"], [1.0, \"#f0f921\"]], \"type\": \"heatmapgl\"}], \"histogram\": [{\"marker\": {\"colorbar\": {\"outlinewidth\": 0, \"ticks\": \"\"}}, \"type\": \"histogram\"}], \"histogram2d\": [{\"colorbar\": {\"outlinewidth\": 0, \"ticks\": \"\"}, \"colorscale\": [[0.0, \"#0d0887\"], [0.1111111111111111, \"#46039f\"], [0.2222222222222222, \"#7201a8\"], [0.3333333333333333, \"#9c179e\"], [0.4444444444444444, \"#bd3786\"], [0.5555555555555556, \"#d8576b\"], [0.6666666666666666, \"#ed7953\"], [0.7777777777777778, \"#fb9f3a\"], [0.8888888888888888, \"#fdca26\"], [1.0, \"#f0f921\"]], \"type\": \"histogram2d\"}], \"histogram2dcontour\": [{\"colorbar\": {\"outlinewidth\": 0, \"ticks\": \"\"}, \"colorscale\": [[0.0, \"#0d0887\"], [0.1111111111111111, \"#46039f\"], [0.2222222222222222, \"#7201a8\"], [0.3333333333333333, \"#9c179e\"], [0.4444444444444444, \"#bd3786\"], [0.5555555555555556, \"#d8576b\"], [0.6666666666666666, \"#ed7953\"], [0.7777777777777778, \"#fb9f3a\"], [0.8888888888888888, \"#fdca26\"], [1.0, \"#f0f921\"]], \"type\": \"histogram2dcontour\"}], \"mesh3d\": [{\"colorbar\": {\"outlinewidth\": 0, \"ticks\": \"\"}, \"type\": \"mesh3d\"}], \"parcoords\": [{\"line\": {\"colorbar\": {\"outlinewidth\": 0, \"ticks\": \"\"}}, \"type\": \"parcoords\"}], \"pie\": [{\"automargin\": true, \"type\": \"pie\"}], \"scatter\": [{\"marker\": {\"colorbar\": {\"outlinewidth\": 0, \"ticks\": \"\"}}, \"type\": \"scatter\"}], \"scatter3d\": [{\"line\": {\"colorbar\": {\"outlinewidth\": 0, \"ticks\": \"\"}}, \"marker\": {\"colorbar\": {\"outlinewidth\": 0, \"ticks\": \"\"}}, \"type\": \"scatter3d\"}], \"scattercarpet\": [{\"marker\": {\"colorbar\": {\"outlinewidth\": 0, \"ticks\": \"\"}}, \"type\": \"scattercarpet\"}], \"scattergeo\": [{\"marker\": {\"colorbar\": {\"outlinewidth\": 0, \"ticks\": \"\"}}, \"type\": \"scattergeo\"}], \"scattergl\": [{\"marker\": {\"colorbar\": {\"outlinewidth\": 0, \"ticks\": \"\"}}, \"type\": \"scattergl\"}], \"scattermapbox\": [{\"marker\": {\"colorbar\": {\"outlinewidth\": 0, \"ticks\": \"\"}}, \"type\": \"scattermapbox\"}], \"scatterpolar\": [{\"marker\": {\"colorbar\": {\"outlinewidth\": 0, \"ticks\": \"\"}}, \"type\": \"scatterpolar\"}], \"scatterpolargl\": [{\"marker\": {\"colorbar\": {\"outlinewidth\": 0, \"ticks\": \"\"}}, \"type\": \"scatterpolargl\"}], \"scatterternary\": [{\"marker\": {\"colorbar\": {\"outlinewidth\": 0, \"ticks\": \"\"}}, \"type\": \"scatterternary\"}], \"surface\": [{\"colorbar\": {\"outlinewidth\": 0, \"ticks\": \"\"}, \"colorscale\": [[0.0, \"#0d0887\"], [0.1111111111111111, \"#46039f\"], [0.2222222222222222, \"#7201a8\"], [0.3333333333333333, \"#9c179e\"], [0.4444444444444444, \"#bd3786\"], [0.5555555555555556, \"#d8576b\"], [0.6666666666666666, \"#ed7953\"], [0.7777777777777778, \"#fb9f3a\"], [0.8888888888888888, \"#fdca26\"], [1.0, \"#f0f921\"]], \"type\": \"surface\"}], \"table\": [{\"cells\": {\"fill\": {\"color\": \"#EBF0F8\"}, \"line\": {\"color\": \"white\"}}, \"header\": {\"fill\": {\"color\": \"#C8D4E3\"}, \"line\": {\"color\": \"white\"}}, \"type\": \"table\"}]}, \"layout\": {\"annotationdefaults\": {\"arrowcolor\": \"#2a3f5f\", \"arrowhead\": 0, \"arrowwidth\": 1}, \"autotypenumbers\": \"strict\", \"coloraxis\": {\"colorbar\": {\"outlinewidth\": 0, \"ticks\": \"\"}}, \"colorscale\": {\"diverging\": [[0, \"#8e0152\"], [0.1, \"#c51b7d\"], [0.2, \"#de77ae\"], [0.3, \"#f1b6da\"], [0.4, \"#fde0ef\"], [0.5, \"#f7f7f7\"], [0.6, \"#e6f5d0\"], [0.7, \"#b8e186\"], [0.8, \"#7fbc41\"], [0.9, \"#4d9221\"], [1, \"#276419\"]], \"sequential\": [[0.0, \"#0d0887\"], [0.1111111111111111, \"#46039f\"], [0.2222222222222222, \"#7201a8\"], [0.3333333333333333, \"#9c179e\"], [0.4444444444444444, \"#bd3786\"], [0.5555555555555556, \"#d8576b\"], [0.6666666666666666, \"#ed7953\"], [0.7777777777777778, \"#fb9f3a\"], [0.8888888888888888, \"#fdca26\"], [1.0, \"#f0f921\"]], \"sequentialminus\": [[0.0, \"#0d0887\"], [0.1111111111111111, \"#46039f\"], [0.2222222222222222, \"#7201a8\"], [0.3333333333333333, \"#9c179e\"], [0.4444444444444444, \"#bd3786\"], [0.5555555555555556, \"#d8576b\"], [0.6666666666666666, \"#ed7953\"], [0.7777777777777778, \"#fb9f3a\"], [0.8888888888888888, \"#fdca26\"], [1.0, \"#f0f921\"]]}, \"colorway\": [\"#636efa\", \"#EF553B\", \"#00cc96\", \"#ab63fa\", \"#FFA15A\", \"#19d3f3\", \"#FF6692\", \"#B6E880\", \"#FF97FF\", \"#FECB52\"], \"font\": {\"color\": \"#2a3f5f\"}, \"geo\": {\"bgcolor\": \"white\", \"lakecolor\": \"white\", \"landcolor\": \"white\", \"showlakes\": true, \"showland\": true, \"subunitcolor\": \"#C8D4E3\"}, \"hoverlabel\": {\"align\": \"left\"}, \"hovermode\": \"closest\", \"mapbox\": {\"style\": \"light\"}, \"paper_bgcolor\": \"white\", \"plot_bgcolor\": \"white\", \"polar\": {\"angularaxis\": {\"gridcolor\": \"#EBF0F8\", \"linecolor\": \"#EBF0F8\", \"ticks\": \"\"}, \"bgcolor\": \"white\", \"radialaxis\": {\"gridcolor\": \"#EBF0F8\", \"linecolor\": \"#EBF0F8\", \"ticks\": \"\"}}, \"scene\": {\"xaxis\": {\"backgroundcolor\": \"white\", \"gridcolor\": \"#DFE8F3\", \"gridwidth\": 2, \"linecolor\": \"#EBF0F8\", \"showbackground\": true, \"ticks\": \"\", \"zerolinecolor\": \"#EBF0F8\"}, \"yaxis\": {\"backgroundcolor\": \"white\", \"gridcolor\": \"#DFE8F3\", \"gridwidth\": 2, \"linecolor\": \"#EBF0F8\", \"showbackground\": true, \"ticks\": \"\", \"zerolinecolor\": \"#EBF0F8\"}, \"zaxis\": {\"backgroundcolor\": \"white\", \"gridcolor\": \"#DFE8F3\", \"gridwidth\": 2, \"linecolor\": \"#EBF0F8\", \"showbackground\": true, \"ticks\": \"\", \"zerolinecolor\": \"#EBF0F8\"}}, \"shapedefaults\": {\"line\": {\"color\": \"#2a3f5f\"}}, \"ternary\": {\"aaxis\": {\"gridcolor\": \"#DFE8F3\", \"linecolor\": \"#A2B1C6\", \"ticks\": \"\"}, \"baxis\": {\"gridcolor\": \"#DFE8F3\", \"linecolor\": \"#A2B1C6\", \"ticks\": \"\"}, \"bgcolor\": \"white\", \"caxis\": {\"gridcolor\": \"#DFE8F3\", \"linecolor\": \"#A2B1C6\", \"ticks\": \"\"}}, \"title\": {\"x\": 0.05}, \"xaxis\": {\"automargin\": true, \"gridcolor\": \"#EBF0F8\", \"linecolor\": \"#EBF0F8\", \"ticks\": \"\", \"title\": {\"standoff\": 15}, \"zerolinecolor\": \"#EBF0F8\", \"zerolinewidth\": 2}, \"yaxis\": {\"automargin\": true, \"gridcolor\": \"#EBF0F8\", \"linecolor\": \"#EBF0F8\", \"ticks\": \"\", \"title\": {\"standoff\": 15}, \"zerolinecolor\": \"#EBF0F8\", \"zerolinewidth\": 2}}}, \"title\": {\"text\": \"N\\u00famero de tweets classificados para cada sentimento considerado\"}, \"xaxis\": {\"anchor\": \"y\", \"domain\": [0.0, 1.0], \"title\": {\"text\": \"Sentimentos\"}}, \"yaxis\": {\"anchor\": \"x\", \"domain\": [0.0, 1.0], \"title\": {\"text\": \"Frequ\\u00eancias\"}}},                        {\"responsive\": true}                    ).then(function(){\n",
              "                            \n",
              "var gd = document.getElementById('2ad8ac52-6cbe-452a-8d30-2eedf1f319da');\n",
              "var x = new MutationObserver(function (mutations, observer) {{\n",
              "        var display = window.getComputedStyle(gd).display;\n",
              "        if (!display || display === 'none') {{\n",
              "            console.log([gd, 'removed!']);\n",
              "            Plotly.purge(gd);\n",
              "            observer.disconnect();\n",
              "        }}\n",
              "}});\n",
              "\n",
              "// Listen for the removal of the full notebook cells\n",
              "var notebookContainer = gd.closest('#notebook-container');\n",
              "if (notebookContainer) {{\n",
              "    x.observe(notebookContainer, {childList: true});\n",
              "}}\n",
              "\n",
              "// Listen for the clearing of the current output cell\n",
              "var outputEl = gd.closest('.output');\n",
              "if (outputEl) {{\n",
              "    x.observe(outputEl, {childList: true});\n",
              "}}\n",
              "\n",
              "                        })                };                            </script>        </div>\n",
              "</body>\n",
              "</html>"
            ]
          },
          "metadata": {
            "tags": []
          }
        }
      ]
    },
    {
      "cell_type": "markdown",
      "metadata": {
        "_uuid": "cbd7bc340b754fd41719e7e472c120036df3c181",
        "id": "vV2dDvZlojns"
      },
      "source": [
        "## Text Preprocessing"
      ]
    },
    {
      "cell_type": "markdown",
      "metadata": {
        "_uuid": "5f6986c23fc2eaaa528220adf21d2a42b7c08ef5",
        "id": "vIDBhxHtojns"
      },
      "source": [
        "<h4>Noise Removal</h4>"
      ]
    },
    {
      "cell_type": "markdown",
      "metadata": {
        "_uuid": "7930c6a98074a8666f0fd4d896f7c79e38615049",
        "id": "E8WRBTOpojns"
      },
      "source": [
        "Remove urls from text (http(s), www)"
      ]
    },
    {
      "cell_type": "code",
      "metadata": {
        "trusted": true,
        "_uuid": "e5d26054f5f80d24cd741780a750876d1dc35234",
        "id": "UFsBRn3Gojns"
      },
      "source": [
        "def _remove_url(data):\n",
        "    ls = []\n",
        "    words = ''\n",
        "    regexp1 = re.compile('http[s]?://(?:[a-zA-Z]|[0-9]|[$-_@.&+]|[!*\\(\\),]|(?:%[0-9a-fA-F][0-9a-fA-F]))+')\n",
        "    regexp2 = re.compile('www?.(?:[a-zA-Z]|[0-9]|[$-_@.&+]|[!*\\(\\),]|(?:%[0-9a-fA-F][0-9a-fA-F]))+')\n",
        "    \n",
        "    for line in data:\n",
        "        urls = regexp1.findall(line)\n",
        "\n",
        "        for u in urls:\n",
        "            line = line.replace(u, ' ')\n",
        "\n",
        "        urls = regexp2.findall(line)\n",
        "\n",
        "        for u in urls:\n",
        "            line = line.replace(u, ' ')\n",
        "            \n",
        "        ls.append(line)\n",
        "    return ls"
      ],
      "execution_count": null,
      "outputs": []
    },
    {
      "cell_type": "code",
      "metadata": {
        "trusted": true,
        "_uuid": "4b4cb2e93c9eef7e403b2dc11edd49db08e862d5",
        "id": "epM1R1yyojns"
      },
      "source": [
        "dataset['texto'] = _remove_url(dataset['texto'])"
      ],
      "execution_count": null,
      "outputs": []
    },
    {
      "cell_type": "markdown",
      "metadata": {
        "_uuid": "5e07dc326bac08bf835ddeb3227de048d4b9601b",
        "id": "BwdZuRmqojns"
      },
      "source": [
        "Remove regex patterns (hashtags, notations)"
      ]
    },
    {
      "cell_type": "code",
      "metadata": {
        "trusted": true,
        "_uuid": "03f2d222c1a3195ed3cc27e9d68568f04681f9ef",
        "id": "4WVUVlErojns"
      },
      "source": [
        "def _remove_regex(data, regex_pattern):\n",
        "    ls = []\n",
        "    words = ''\n",
        "    \n",
        "    for line in data:\n",
        "        matches = re.finditer(regex_pattern, line)\n",
        "        \n",
        "        for m in matches: \n",
        "            line = re.sub(m.group().strip(), '', line)\n",
        "\n",
        "        ls.append(line)\n",
        "\n",
        "    return ls"
      ],
      "execution_count": null,
      "outputs": []
    },
    {
      "cell_type": "code",
      "metadata": {
        "trusted": true,
        "_uuid": "acecf0294d1de79dda5f206a58fd50bb48275df4",
        "id": "gvggNDzaojns"
      },
      "source": [
        "# hashtags\n",
        "regex_pattern = '#[\\w]*'\n",
        "dataset['texto'] = _remove_regex(dataset['texto'], regex_pattern)"
      ],
      "execution_count": null,
      "outputs": []
    },
    {
      "cell_type": "code",
      "metadata": {
        "trusted": true,
        "_uuid": "3497146e06fa9d24c47dd29d8cf5f772f67a4c92",
        "id": "2zaRMW7Lojns"
      },
      "source": [
        "# notations\n",
        "regex_pattern = '@[\\w]*'\n",
        "dataset['texto'] = _remove_regex(dataset['texto'], regex_pattern)"
      ],
      "execution_count": null,
      "outputs": []
    },
    {
      "cell_type": "code",
      "metadata": {
        "id": "h1377cvrjaVZ"
      },
      "source": [
        "# rt\n",
        "regex_pattern = 'RT[\\w]*'\n",
        "dataset['texto'] = _remove_regex(dataset['texto'], regex_pattern)"
      ],
      "execution_count": null,
      "outputs": []
    },
    {
      "cell_type": "code",
      "metadata": {
        "id": "W8MlhsfwN0xj"
      },
      "source": [
        "#numbers \n",
        "regex_pattern = '/\\d/'\n",
        "dataset['texto'] = _remove_regex(dataset['texto'], regex_pattern)"
      ],
      "execution_count": null,
      "outputs": []
    },
    {
      "cell_type": "code",
      "metadata": {
        "id": "_t77t1E0g_n6"
      },
      "source": [
        " emoji_pattern = re.compile(\"[\"\n",
        "                           u\"\\U0001F600-\\U0001F64F\"  # emoticons\n",
        "                           u\"\\U0001F300-\\U0001F5FF\"  # symbols & pictographs\n",
        "                           u\"\\U0001F680-\\U0001F6FF\"  # transport & map symbols\n",
        "                           u\"\\U0001F1E0-\\U0001F1FF\"  # flags (iOS)\n",
        "                           u\"\\U00002702-\\U000027B0\"\n",
        "                           u\"\\U000024C2-\\U0001F251\"\n",
        "                           \"]+\", flags=re.UNICODE)"
      ],
      "execution_count": null,
      "outputs": []
    },
    {
      "cell_type": "code",
      "metadata": {
        "id": "g-UMyj7fhJ-V"
      },
      "source": [
        "# emoji pattern \n",
        "regex_pattern = emoji_pattern \n",
        "dataset['texto'] = _remove_regex(dataset['texto'], regex_pattern)"
      ],
      "execution_count": null,
      "outputs": []
    },
    {
      "cell_type": "code",
      "metadata": {
        "trusted": true,
        "_uuid": "2309bf72c0aad14c571a623bd483b2f4bba2e8c9",
        "id": "03ztf7ueojns",
        "colab": {
          "base_uri": "https://localhost:8080/"
        },
        "outputId": "bbd1a1f3-8f97-4a4e-dd66-c69fc4f0ed19"
      },
      "source": [
        "# check data\n",
        "for i in range(0, 5):\n",
        "    print(dataset['texto'][i])"
      ],
      "execution_count": null,
      "outputs": [
        {
          "output_type": "stream",
          "text": [
            "Esta é pra você amigo! No meio da dificuldade encontra-se a oportunidade. Albert Einstein Pare, respire e pense! • • • • •     …  \n",
            "Conheça histórias de pessoas que encontraram o grande amor nas ruas. Não perca o Repórter Record Investigação nesta segunda-feira (10), às 22h30, na tela da Record TV Belém!  •••       \n",
            "De cabelo em pé com essa semana 🤪, doideira, mas vamos pra cima 🤨  livedogemino     em Agência ALL G  \n",
            " Insônia, Amigo! Não desejo a ninguém....\n",
            "\"Deus é bom o tempo TODO. O tempo TODO Ele é bom!! \"  Escute a voz que fala dentro de ti, é Ele falando contigo. \n"
          ],
          "name": "stdout"
        }
      ]
    },
    {
      "cell_type": "markdown",
      "metadata": {
        "_uuid": "e782207b501150d076945e4bc96d2545f84e62c6",
        "id": "7XoT2rMfojns"
      },
      "source": [
        "replace emoticons \":)) :) :D :(\" to positive_emoticon or negative_emoticon or neutral_emoticon"
      ]
    },
    {
      "cell_type": "code",
      "metadata": {
        "trusted": true,
        "_uuid": "99d8c0fc7e981b49831f442f76382e8051d78ab8",
        "id": "xL2bGnwmojns"
      },
      "source": [
        "def _replace_emoticons(data, emoticon_list):\n",
        "    ls = []\n",
        "\n",
        "    for line in data:\n",
        "        for exp in emoticon_list:\n",
        "            line = line.replace(exp, emoticon_list[exp])\n",
        "\n",
        "        ls.append(line)\n",
        "\n",
        "    return ls"
      ],
      "execution_count": null,
      "outputs": []
    },
    {
      "cell_type": "code",
      "metadata": {
        "trusted": true,
        "_uuid": "685e6a7a9826385f33101ff5e777a827140e6650",
        "id": "OEJt5ujGojns"
      },
      "source": [
        "emoticon_list = {':))': 'emoticon_positivo', ':)': 'emoticon_positivo', ':D': 'emoticon_positivo', ':-)': 'emoticon_positivo',  ':(': 'emoticon_negativo', ':((': 'emoticon_negativo', ':-(' : 'emoticon_negativo', '8)': 'emoticon_neutro'}"
      ],
      "execution_count": null,
      "outputs": []
    },
    {
      "cell_type": "code",
      "metadata": {
        "trusted": true,
        "_uuid": "d6606859968ee012ea23cb5f3f02c1256377b8b6",
        "id": "TfwSCz8Pojns"
      },
      "source": [
        "dataset['texto']= _replace_emoticons(dataset['texto'], emoticon_list)"
      ],
      "execution_count": null,
      "outputs": []
    },
    {
      "cell_type": "code",
      "metadata": {
        "trusted": true,
        "_uuid": "2e7dbd3f837739cc8ac8ee86917f5f24cc67cd96",
        "id": "-iiHuMTkojns",
        "colab": {
          "base_uri": "https://localhost:8080/"
        },
        "outputId": "973d2909-336c-4579-8fa7-a8d04b95939d"
      },
      "source": [
        "# check data\n",
        "for i in range(0, 5):\n",
        "    print(dataset['texto'][i])"
      ],
      "execution_count": null,
      "outputs": [
        {
          "output_type": "stream",
          "text": [
            "Esta é pra você amigo! No meio da dificuldade encontra-se a oportunidade. Albert Einstein Pare, respire e pense! • • • • •     …  \n",
            "Conheça histórias de pessoas que encontraram o grande amor nas ruas. Não perca o Repórter Record Investigação nesta segunda-feira (10), às 22h30, na tela da Record TV Belém!  •••       \n",
            "De cabelo em pé com essa semana 🤪, doideira, mas vamos pra cima 🤨  livedogemino     em Agência ALL G  \n",
            " Insônia, Amigo! Não desejo a ninguém....\n",
            "\"Deus é bom o tempo TODO. O tempo TODO Ele é bom!! \"  Escute a voz que fala dentro de ti, é Ele falando contigo. \n"
          ],
          "name": "stdout"
        }
      ]
    },
    {
      "cell_type": "code",
      "metadata": {
        "id": "-8tgUxhe0MXe"
      },
      "source": [
        "nan_value = float(\"NaN\")\n",
        "dataset.replace(\"\", nan_value, inplace=True)"
      ],
      "execution_count": null,
      "outputs": []
    },
    {
      "cell_type": "markdown",
      "metadata": {
        "_uuid": "4284b6e6bdbe2878aeefb50651b9b219b3acffd1",
        "id": "plBne9Xjojnt"
      },
      "source": [
        "<h4>Tokenize text with nltk</h4>"
      ]
    },
    {
      "cell_type": "code",
      "metadata": {
        "trusted": true,
        "_uuid": "2d77a5e4f41cdbf15c1dd0d5e0d93a72bd41c29e",
        "id": "6_9vdlenojnt"
      },
      "source": [
        "def _tokenize_text(data):\n",
        "    ls = []\n",
        "\n",
        "    for line in data:\n",
        "        tokens = wordpunct_tokenize(line)\n",
        "        ls.append(tokens)\n",
        "\n",
        "    return ls"
      ],
      "execution_count": null,
      "outputs": []
    },
    {
      "cell_type": "code",
      "metadata": {
        "trusted": true,
        "_uuid": "095fa1e33c81a1bbc728db503ac7832071e99422",
        "id": "yDebMnaBojnt"
      },
      "source": [
        "dataset_texto_tokens = _tokenize_text(dataset['texto'])"
      ],
      "execution_count": null,
      "outputs": []
    },
    {
      "cell_type": "code",
      "metadata": {
        "trusted": true,
        "_uuid": "7f03a8c02502d8e7da6fc9ad7767aca9dbe95a9a",
        "id": "X7_qrAYjojnt",
        "colab": {
          "base_uri": "https://localhost:8080/"
        },
        "outputId": "11920932-df7f-4488-9d96-fa95d5529286"
      },
      "source": [
        "# check data\n",
        "for i in range(0, 5):\n",
        "    print(dataset_texto_tokens[i])"
      ],
      "execution_count": null,
      "outputs": [
        {
          "output_type": "stream",
          "text": [
            "['Esta', 'é', 'pra', 'você', 'amigo', '!', 'No', 'meio', 'da', 'dificuldade', 'encontra', '-', 'se', 'a', 'oportunidade', '.', 'Albert', 'Einstein', 'Pare', ',', 'respire', 'e', 'pense', '!', '•', '•', '•', '•', '•', '…']\n",
            "['Conheça', 'histórias', 'de', 'pessoas', 'que', 'encontraram', 'o', 'grande', 'amor', 'nas', 'ruas', '.', 'Não', 'perca', 'o', 'Repórter', 'Record', 'Investigação', 'nesta', 'segunda', '-', 'feira', '(', '10', '),', 'às', '22h30', ',', 'na', 'tela', 'da', 'Record', 'TV', 'Belém', '!', '•••']\n",
            "['De', 'cabelo', 'em', 'pé', 'com', 'essa', 'semana', '🤪,', 'doideira', ',', 'mas', 'vamos', 'pra', 'cima', '🤨', 'livedogemino', 'em', 'Agência', 'ALL', 'G']\n",
            "['Insônia', ',', 'Amigo', '!', 'Não', 'desejo', 'a', 'ninguém', '....']\n",
            "['\"', 'Deus', 'é', 'bom', 'o', 'tempo', 'TODO', '.', 'O', 'tempo', 'TODO', 'Ele', 'é', 'bom', '!!', '\"', 'Escute', 'a', 'voz', 'que', 'fala', 'dentro', 'de', 'ti', ',', 'é', 'Ele', 'falando', 'contigo', '.']\n"
          ],
          "name": "stdout"
        }
      ]
    },
    {
      "cell_type": "code",
      "metadata": {
        "id": "HP6B6LDKUsVe"
      },
      "source": [
        "#dataset_texto_tokens = list(filter(None, dataset_texto_tokens))"
      ],
      "execution_count": null,
      "outputs": []
    },
    {
      "cell_type": "code",
      "metadata": {
        "id": "QXRjSU-b8v8K",
        "colab": {
          "base_uri": "https://localhost:8080/"
        },
        "outputId": "a8bac413-e138-4f3b-a8bc-f67e1aadcefc"
      },
      "source": [
        "# check data\n",
        "for i in range(0, 5):\n",
        "    print(dataset_texto_tokens[i])"
      ],
      "execution_count": null,
      "outputs": [
        {
          "output_type": "stream",
          "text": [
            "['Esta', 'é', 'pra', 'você', 'amigo', '!', 'No', 'meio', 'da', 'dificuldade', 'encontra', '-', 'se', 'a', 'oportunidade', '.', 'Albert', 'Einstein', 'Pare', ',', 'respire', 'e', 'pense', '!', '•', '•', '•', '•', '•', '…']\n",
            "['Conheça', 'histórias', 'de', 'pessoas', 'que', 'encontraram', 'o', 'grande', 'amor', 'nas', 'ruas', '.', 'Não', 'perca', 'o', 'Repórter', 'Record', 'Investigação', 'nesta', 'segunda', '-', 'feira', '(', '10', '),', 'às', '22h30', ',', 'na', 'tela', 'da', 'Record', 'TV', 'Belém', '!', '•••']\n",
            "['De', 'cabelo', 'em', 'pé', 'com', 'essa', 'semana', '🤪,', 'doideira', ',', 'mas', 'vamos', 'pra', 'cima', '🤨', 'livedogemino', 'em', 'Agência', 'ALL', 'G']\n",
            "['Insônia', ',', 'Amigo', '!', 'Não', 'desejo', 'a', 'ninguém', '....']\n",
            "['\"', 'Deus', 'é', 'bom', 'o', 'tempo', 'TODO', '.', 'O', 'tempo', 'TODO', 'Ele', 'é', 'bom', '!!', '\"', 'Escute', 'a', 'voz', 'que', 'fala', 'dentro', 'de', 'ti', ',', 'é', 'Ele', 'falando', 'contigo', '.']\n"
          ],
          "name": "stdout"
        }
      ]
    },
    {
      "cell_type": "markdown",
      "metadata": {
        "_uuid": "01759032a73a4e34ae6d07a0888aa30837fdad29",
        "id": "n4oRiT_gojnt"
      },
      "source": [
        "<h4>Object Standardization</h4>"
      ]
    },
    {
      "cell_type": "code",
      "metadata": {
        "trusted": true,
        "_uuid": "ad31d2a779d4c121e6eb61429775241d91a7b7ef",
        "id": "ZbQPsvsFojnt"
      },
      "source": [
        "def _apply_standardization(tokens, std_list):\n",
        "    ls = []\n",
        "\n",
        "    for tk_line in tokens:\n",
        "        new_tokens = []\n",
        "        \n",
        "        for word in tk_line:\n",
        "            if word.lower() in std_list:\n",
        "                word = std_list[word.lower()]\n",
        "                \n",
        "            new_tokens.append(word) \n",
        "            \n",
        "        ls.append(new_tokens)\n",
        "\n",
        "    return ls"
      ],
      "execution_count": null,
      "outputs": []
    },
    {
      "cell_type": "code",
      "metadata": {
        "trusted": true,
        "_uuid": "bbb9fd394e34e02d691335dd99d1c9496facaff0",
        "id": "SnqQpeZgojnt"
      },
      "source": [
        "# create your own list\n",
        "std_list = {'eh': 'é', 'vc': 'você', 'vcs': 'vocês','tb': 'também', 'tbm': 'também', 'obg': 'obrigado', 'gnt': 'gente', 'q': 'que', 'n': 'não', 'cmg': 'comigo', 'p': 'para', 'ta': 'está', 'to': 'estou', 'vdd': 'verdade'}"
      ],
      "execution_count": null,
      "outputs": []
    },
    {
      "cell_type": "code",
      "metadata": {
        "trusted": true,
        "_uuid": "26add53a456dfd06a7fdfa6aed5739d53ac2c5f6",
        "id": "bZLnIHF-ojnt"
      },
      "source": [
        "dataset_texto_tokens = _apply_standardization(dataset_texto_tokens, std_list)"
      ],
      "execution_count": null,
      "outputs": []
    },
    {
      "cell_type": "code",
      "metadata": {
        "trusted": true,
        "_uuid": "8c17dd517c02f34abeb8f9808695da38bed22ae0",
        "id": "OPAMqHHYojnt",
        "colab": {
          "base_uri": "https://localhost:8080/"
        },
        "outputId": "8ca13bf5-e1b8-4055-8a26-ca8b707df8b6"
      },
      "source": [
        "# check data\n",
        "print(dataset_texto_tokens[4], dataset_texto_tokens[1008])"
      ],
      "execution_count": null,
      "outputs": [
        {
          "output_type": "stream",
          "text": [
            "['\"', 'Deus', 'é', 'bom', 'o', 'tempo', 'TODO', '.', 'O', 'tempo', 'TODO', 'Ele', 'é', 'bom', '!!', '\"', 'Escute', 'a', 'voz', 'que', 'fala', 'dentro', 'de', 'ti', ',', 'é', 'Ele', 'falando', 'contigo', '.'] ['Fique', 'por', 'dentro', 'das', 'vagas', 'de', 'emprego', 'que', 'o', 'PAT', 'separou', 'para', 'esta', 'sexta', '-', 'feira', '(', '31', ').', 'É', 'sua', 'oportunidade', '.', 'Boralá', '?']\n"
          ],
          "name": "stdout"
        }
      ]
    },
    {
      "cell_type": "markdown",
      "metadata": {
        "_uuid": "191fcf8d3066ef422390224111c93b4a309d2907",
        "id": "JoM2vAV0ojnt"
      },
      "source": [
        "Remove stopwords"
      ]
    },
    {
      "cell_type": "code",
      "metadata": {
        "trusted": true,
        "_uuid": "93209116226f6edf24a07b0972dfa0801ee84333",
        "id": "bmem-OYBojnt"
      },
      "source": [
        "def _remove_stopwords(tokens, stopword_list):\n",
        "    ls = []\n",
        "\n",
        "    for tk_line in tokens:\n",
        "        new_tokens = []\n",
        "        \n",
        "        for word in tk_line:\n",
        "            if word.lower() not in stopword_list:\n",
        "                new_tokens.append(word) \n",
        "            \n",
        "        ls.append(new_tokens)\n",
        "        \n",
        "    return ls"
      ],
      "execution_count": null,
      "outputs": []
    },
    {
      "cell_type": "code",
      "metadata": {
        "trusted": true,
        "_uuid": "d42c58078128e5de8a83c2bb158c8e484ecd8201",
        "id": "5Nvgu3xIojnt"
      },
      "source": [
        "stopword_list = []"
      ],
      "execution_count": null,
      "outputs": []
    },
    {
      "cell_type": "code",
      "metadata": {
        "trusted": true,
        "_uuid": "868d2bb4061ce7034a82d0e502237f435fbcb7fc",
        "id": "Om9k3WLgojnt"
      },
      "source": [
        "# get nltk portuguese stopwords\n",
        "nltk_stopwords = nltk.corpus.stopwords.words('portuguese')"
      ],
      "execution_count": null,
      "outputs": []
    },
    {
      "cell_type": "code",
      "metadata": {
        "trusted": true,
        "_uuid": "454f789d7db906bb6afcc151c0f53a84f2523f46",
        "id": "5CfstDhnojnt"
      },
      "source": [
        "# You can also add stopwords manually instead of loading from the database. Generally, we add stopwords that belong to this context.\n",
        "stopword_list.append('é')\n",
        "stopword_list.append('vou')\n",
        "stopword_list.append('que')\n",
        "stopword_list.append('tão')\n",
        "stopword_list.append('...')\n",
        "stopword_list.append('«')\n",
        "stopword_list.append('➔')\n",
        "stopword_list.append('|')\n",
        "stopword_list.append('!!')\n",
        "stopword_list.append('!!!')\n",
        "stopword_list.append('!!!!')\n",
        "stopword_list.append('//')\n",
        "stopword_list.append('/')\n",
        "stopword_list.append('||') \n",
        "stopword_list.append(':')\n",
        "stopword_list.append('-')\n",
        "stopword_list.append(';')\n",
        "stopword_list.append('»')\n",
        "stopword_list.append('…')\n",
        "stopword_list.append(')')\n",
        "stopword_list.append('(')\n",
        "stopword_list.append('uai') \n",
        "stopword_list.append(']')\n",
        "stopword_list.append('[')\n",
        "stopword_list.append('[]')\n",
        "stopword_list.append('((')\n",
        "stopword_list.append('))')\n",
        "stopword_list.append(')!')\n",
        "stopword_list.append(',')\n",
        "stopword_list.append(', ')\n",
        "stopword_list.append('.')\n",
        "stopword_list.append('..')\n",
        "stopword_list.append('...')\n",
        "stopword_list.append('....')\n",
        "stopword_list.append('•')\n",
        "stopword_list.append('$')\n",
        "stopword_list.append('%')\n",
        "stopword_list.append('()')\n",
        "stopword_list.append(').')\n",
        "stopword_list.append('\"')\n",
        "stopword_list.append('”')\n",
        "stopword_list.append('“')\n",
        "stopword_list.append(\"'\")\n",
        "stopword_list.append('=')\n",
        "stopword_list.append('&')\n",
        "stopword_list.append('\\u200d')\n",
        "stopword_list.append('“”')\n",
        "stopword_list.append('[]')\n",
        "stopword_list.append('^^')\n",
        "stopword_list.append('(((((')\n",
        "stopword_list.append('(((')\n",
        "stopword_list.append(')))')\n",
        "stopword_list.append(')))))')\n",
        "stopword_list.append('\")')\n",
        "stopword_list.append('(\"')\n",
        "stopword_list.append('emoticon_positivo') \n",
        "stopword_list.append('emoticon_negativo')\n",
        "stopword_list.append('emoticon_neutro')"
      ],
      "execution_count": null,
      "outputs": []
    },
    {
      "cell_type": "markdown",
      "metadata": {
        "_uuid": "5c85d05f946199f85151af31bf1c2009bf093d5c",
        "id": "nCHFkbWUojnt"
      },
      "source": [
        "<h5 style=\"color:red;\">A series of pontuaction characterters were removed \n",
        "<b>\n",
        "...? and ! can be important to express sentiment and were maintained.</h5>"
      ]
    },
    {
      "cell_type": "code",
      "metadata": {
        "trusted": true,
        "_uuid": "1e4a2258684531e15ed3d48d84bdc710cba5a133",
        "id": "4BjLpq2nojnt"
      },
      "source": [
        "# join all stopwords\n",
        "stopword_list.extend(nltk_stopwords)\n",
        "#stopword_list.extend(custom_stopwords'\\d+')"
      ],
      "execution_count": null,
      "outputs": []
    },
    {
      "cell_type": "code",
      "metadata": {
        "trusted": true,
        "_uuid": "7a34c75cbec835334fdf530d1a857039c24392e4",
        "id": "rEVFI8_lojnt"
      },
      "source": [
        "# remove duplicate stopwords (unique list)\n",
        "stopword_list = list(set(stopword_list))"
      ],
      "execution_count": null,
      "outputs": []
    },
    {
      "cell_type": "code",
      "metadata": {
        "trusted": true,
        "_uuid": "25748a09312e1241038aae27f4ce0d962fc30c26",
        "id": "JnjZ0mniojnt"
      },
      "source": [
        "dataset_texto_tokens = _remove_stopwords(dataset_texto_tokens, stopword_list)"
      ],
      "execution_count": null,
      "outputs": []
    },
    {
      "cell_type": "code",
      "metadata": {
        "trusted": true,
        "_uuid": "5254a491c2acc0a70c4f8705ddb31ee7e245624e",
        "id": "Rfxl59rIojnt",
        "colab": {
          "base_uri": "https://localhost:8080/"
        },
        "outputId": "1d2349fd-0112-4f5f-edde-57a1a272a886"
      },
      "source": [
        "# check data\n",
        "for i in range(0, 5):\n",
        "    print(dataset_texto_tokens[i])"
      ],
      "execution_count": null,
      "outputs": [
        {
          "output_type": "stream",
          "text": [
            "['pra', 'amigo', '!', 'meio', 'dificuldade', 'encontra', 'oportunidade', 'Albert', 'Einstein', 'Pare', 'respire', 'pense', '!']\n",
            "['Conheça', 'histórias', 'pessoas', 'encontraram', 'grande', 'amor', 'ruas', 'perca', 'Repórter', 'Record', 'Investigação', 'nesta', 'segunda', 'feira', '10', '),', '22h30', 'tela', 'Record', 'TV', 'Belém', '!', '•••']\n",
            "['cabelo', 'pé', 'semana', '🤪,', 'doideira', 'vamos', 'pra', 'cima', '🤨', 'livedogemino', 'Agência', 'ALL', 'G']\n",
            "['Insônia', 'Amigo', '!', 'desejo', 'ninguém']\n",
            "['Deus', 'bom', 'tempo', 'TODO', 'tempo', 'TODO', 'bom', 'Escute', 'voz', 'fala', 'dentro', 'ti', 'falando', 'contigo']\n"
          ],
          "name": "stdout"
        }
      ]
    },
    {
      "cell_type": "markdown",
      "metadata": {
        "_uuid": "b69051f6e85ce27a64fa49a968019d8a7957f377",
        "id": "9xYG8tvXojnt"
      },
      "source": [
        "Stemming (dimensionality reduction)"
      ]
    },
    {
      "cell_type": "code",
      "metadata": {
        "trusted": true,
        "_uuid": "75df6b7d0b3af4219321089b6161e6dc74dc1dbf",
        "id": "ksuuqUD7ojnt"
      },
      "source": [
        "def _apply_stemmer(tokens):\n",
        "    ls = []\n",
        "    stemmer = nltk.stem.RSLPStemmer()\n",
        "\n",
        "    for tk_line in tokens:\n",
        "        new_tokens = []\n",
        "        \n",
        "        for word in tk_line:\n",
        "            word = str(stemmer.stem(word))\n",
        "            new_tokens.append(word) \n",
        "            \n",
        "        ls.append(new_tokens)\n",
        "        \n",
        "    return ls"
      ],
      "execution_count": null,
      "outputs": []
    },
    {
      "cell_type": "code",
      "metadata": {
        "id": "spQc5w3iNCed",
        "colab": {
          "base_uri": "https://localhost:8080/"
        },
        "outputId": "e3ec1acb-6a70-4e1f-86b0-14328647ce32"
      },
      "source": [
        "nltk.download('rslp')"
      ],
      "execution_count": null,
      "outputs": [
        {
          "output_type": "stream",
          "text": [
            "[nltk_data] Downloading package rslp to /root/nltk_data...\n",
            "[nltk_data]   Unzipping stemmers/rslp.zip.\n"
          ],
          "name": "stdout"
        },
        {
          "output_type": "execute_result",
          "data": {
            "text/plain": [
              "True"
            ]
          },
          "metadata": {
            "tags": []
          },
          "execution_count": 83
        }
      ]
    },
    {
      "cell_type": "code",
      "metadata": {
        "trusted": true,
        "_uuid": "7c3907b1ff4e1495ce16d0d6e5190277dd8faad5",
        "id": "qzs5zFWkojnu"
      },
      "source": [
        "dataset_texto_stemm = _apply_stemmer(dataset_texto_tokens)"
      ],
      "execution_count": null,
      "outputs": []
    },
    {
      "cell_type": "code",
      "metadata": {
        "trusted": true,
        "_uuid": "45cdcc98a8462e4ec5132b192a762affc4399904",
        "id": "FAIwa48hojnu",
        "colab": {
          "base_uri": "https://localhost:8080/"
        },
        "outputId": "82560345-ea8b-461d-f94a-cf1dc75c5c4c"
      },
      "source": [
        "# check data\n",
        "for i in range(0, 5):\n",
        "    print(dataset_texto_tokens[i])"
      ],
      "execution_count": null,
      "outputs": [
        {
          "output_type": "stream",
          "text": [
            "['pra', 'amigo', '!', 'meio', 'dificuldade', 'encontra', 'oportunidade', 'Albert', 'Einstein', 'Pare', 'respire', 'pense', '!']\n",
            "['Conheça', 'histórias', 'pessoas', 'encontraram', 'grande', 'amor', 'ruas', 'perca', 'Repórter', 'Record', 'Investigação', 'nesta', 'segunda', 'feira', '10', '),', '22h30', 'tela', 'Record', 'TV', 'Belém', '!', '•••']\n",
            "['cabelo', 'pé', 'semana', '🤪,', 'doideira', 'vamos', 'pra', 'cima', '🤨', 'livedogemino', 'Agência', 'ALL', 'G']\n",
            "['Insônia', 'Amigo', '!', 'desejo', 'ninguém']\n",
            "['Deus', 'bom', 'tempo', 'TODO', 'tempo', 'TODO', 'bom', 'Escute', 'voz', 'fala', 'dentro', 'ti', 'falando', 'contigo']\n"
          ],
          "name": "stdout"
        }
      ]
    },
    {
      "cell_type": "markdown",
      "metadata": {
        "_uuid": "689723a6b68a74cfa2fa19f274e842011473d770",
        "id": "--FUBz4oojnu"
      },
      "source": [
        "<h4>Dataset preparation</h4>\n",
        "Untokenize text (transform tokenized text into string list)"
      ]
    },
    {
      "cell_type": "code",
      "metadata": {
        "trusted": true,
        "_uuid": "bfe4d9dca0e03d751fa5b086003e07bc7ff945da",
        "id": "UZVLaerxojnu"
      },
      "source": [
        "def _untokenize_text(tokens):\n",
        "    ls = []\n",
        "\n",
        "    for tk_line in tokens:\n",
        "        new_line = ''\n",
        "        \n",
        "        for word in tk_line:\n",
        "            new_line += word + ' '\n",
        "            \n",
        "        ls.append(new_line)\n",
        "        \n",
        "    return ls"
      ],
      "execution_count": null,
      "outputs": []
    },
    {
      "cell_type": "code",
      "metadata": {
        "trusted": true,
        "_uuid": "126cdaadb79c0c3141803e68615c093ec21872ea",
        "id": "katwR_thojnu"
      },
      "source": [
        "dataset_texto_tokens = _untokenize_text(dataset_texto_tokens)"
      ],
      "execution_count": null,
      "outputs": []
    },
    {
      "cell_type": "code",
      "metadata": {
        "id": "dBk9oC4y4c9u"
      },
      "source": [
        "dataset_texto_stemm = _untokenize_text(dataset_texto_stemm)"
      ],
      "execution_count": null,
      "outputs": []
    },
    {
      "cell_type": "code",
      "metadata": {
        "trusted": true,
        "_uuid": "81b7797ea3848e78316c871fd0a630dcf69d82b0",
        "id": "c7v_vLZ9ojnu",
        "colab": {
          "base_uri": "https://localhost:8080/"
        },
        "outputId": "fd732cf5-6caf-4919-fc86-ad9d0514d191"
      },
      "source": [
        "# check data\n",
        "for i in range(0, 5):\n",
        "    print(dataset_texto_stemm[i])"
      ],
      "execution_count": null,
      "outputs": [
        {
          "output_type": "stream",
          "text": [
            "pra amig ! mei dificuldad encontr oportun albert einstein par resp pens ! \n",
            "conheç histór pesso encontr grand am rua perc repórt record investig nest segund feir 10 ), 22h30 tel record tv belém ! ••• \n",
            "cabel pé seman 🤪, doid vam pra cim 🤨 livedogemin agênc all g \n",
            "insôn amig ! desej ninguém \n",
            "deu bom temp tod temp tod bom escut voz fal dentr ti fal contig \n"
          ],
          "name": "stdout"
        }
      ]
    },
    {
      "cell_type": "markdown",
      "metadata": {
        "_uuid": "02a043145724f1ce5b626329816c59268c605683",
        "id": "s962uC7Bojny"
      },
      "source": [
        "## Implementing a Model\n"
      ]
    },
    {
      "cell_type": "code",
      "metadata": {
        "id": "z1mxqVNbcdul",
        "colab": {
          "base_uri": "https://localhost:8080/"
        },
        "outputId": "c45b339b-3030-4300-b4a7-72bf895b506e"
      },
      "source": [
        "X_tweets = np.array(dataset_texto_stemm,  dtype=object)\n",
        "X_tweets"
      ],
      "execution_count": null,
      "outputs": [
        {
          "output_type": "execute_result",
          "data": {
            "text/plain": [
              "array(['pra amig ! mei dificuldad encontr oportun albert einstein par resp pens ! ',\n",
              "       'conheç histór pesso encontr grand am rua perc repórt record investig nest segund feir 10 ), 22h30 tel record tv belém ! ••• ',\n",
              "       'cabel pé seman 🤪, doid vam pra cim 🤨 livedogemin agênc all g ',\n",
              "       ...,\n",
              "       'oi marin sei fal voc inter menin ? ach atra s — spoil héter moment namor ',\n",
              "       'magn malt fic ', 'horr né ? abraç 🤗 '], dtype=object)"
            ]
          },
          "metadata": {
            "tags": []
          },
          "execution_count": 90
        }
      ]
    },
    {
      "cell_type": "code",
      "metadata": {
        "id": "eDcYyIYtcdj-",
        "colab": {
          "base_uri": "https://localhost:8080/"
        },
        "outputId": "8ad906f7-51a0-44ef-e82d-70e8c97b6539"
      },
      "source": [
        "y_classes = dataset[\"classificacao\"].values\n",
        "y_classes"
      ],
      "execution_count": null,
      "outputs": [
        {
          "output_type": "execute_result",
          "data": {
            "text/plain": [
              "array(['Neutro', 'Neutro', 'Neutro', ..., 'Negativo', 'Negativo',\n",
              "       'Negativo'], dtype=object)"
            ]
          },
          "metadata": {
            "tags": []
          },
          "execution_count": 91
        }
      ]
    },
    {
      "cell_type": "code",
      "metadata": {
        "id": "GsCjxSeTZaru"
      },
      "source": [
        "from sklearn.decomposition import PCA, TruncatedSVD\n",
        "from sklearn.neural_network import MLPClassifier"
      ],
      "execution_count": null,
      "outputs": []
    },
    {
      "cell_type": "markdown",
      "metadata": {
        "id": "4mcRWJi7-8Ma"
      },
      "source": [
        "Split data"
      ]
    },
    {
      "cell_type": "code",
      "metadata": {
        "id": "fHrZZw5U-9nw"
      },
      "source": [
        "X_train, X_test, y_train, y_test = train_test_split(X_tweets, y_classes, test_size=0.33, random_state=42)"
      ],
      "execution_count": null,
      "outputs": []
    },
    {
      "cell_type": "markdown",
      "metadata": {
        "id": "GlRIt9nucpeJ"
      },
      "source": [
        "## Random Forest"
      ]
    },
    {
      "cell_type": "code",
      "metadata": {
        "id": "clbBnwmU31ut"
      },
      "source": [
        "model = RandomForestClassifier(random_state=42, n_jobs=-1)"
      ],
      "execution_count": null,
      "outputs": []
    },
    {
      "cell_type": "code",
      "metadata": {
        "id": "fEo0sAEO4SqU"
      },
      "source": [
        "model_RF = Pipeline([\n",
        "    ('vect', CountVectorizer(ngram_range=(1, 2))),\n",
        "    ('tfidf', TfidfTransformer()),\n",
        "    ('clf', model),\n",
        "])"
      ],
      "execution_count": null,
      "outputs": []
    },
    {
      "cell_type": "markdown",
      "metadata": {
        "id": "ww8UbiEH3-F3"
      },
      "source": [
        "### Random forest model with Hold-out"
      ]
    },
    {
      "cell_type": "code",
      "metadata": {
        "colab": {
          "base_uri": "https://localhost:8080/"
        },
        "id": "e1HE9RF63-F4",
        "outputId": "9a3ffe97-cd95-4643-e704-a92564399e64"
      },
      "source": [
        "model_RF.fit(X_train, y_train)"
      ],
      "execution_count": null,
      "outputs": [
        {
          "output_type": "execute_result",
          "data": {
            "text/plain": [
              "Pipeline(memory=None,\n",
              "         steps=[('vect',\n",
              "                 CountVectorizer(analyzer='word', binary=False,\n",
              "                                 decode_error='strict',\n",
              "                                 dtype=<class 'numpy.int64'>, encoding='utf-8',\n",
              "                                 input='content', lowercase=True, max_df=1.0,\n",
              "                                 max_features=None, min_df=1,\n",
              "                                 ngram_range=(1, 2), preprocessor=None,\n",
              "                                 stop_words=None, strip_accents=None,\n",
              "                                 token_pattern='(?u)\\\\b\\\\w\\\\w+\\\\b',\n",
              "                                 tokenizer=None, vocabulary=Non...\n",
              "                 RandomForestClassifier(bootstrap=True, ccp_alpha=0.0,\n",
              "                                        class_weight=None, criterion='gini',\n",
              "                                        max_depth=None, max_features='auto',\n",
              "                                        max_leaf_nodes=None, max_samples=None,\n",
              "                                        min_impurity_decrease=0.0,\n",
              "                                        min_impurity_split=None,\n",
              "                                        min_samples_leaf=1, min_samples_split=2,\n",
              "                                        min_weight_fraction_leaf=0.0,\n",
              "                                        n_estimators=100, n_jobs=-1,\n",
              "                                        oob_score=False, random_state=42,\n",
              "                                        verbose=0, warm_start=False))],\n",
              "         verbose=False)"
            ]
          },
          "metadata": {
            "tags": []
          },
          "execution_count": 94
        }
      ]
    },
    {
      "cell_type": "code",
      "metadata": {
        "id": "1YDUSIvR3-F5"
      },
      "source": [
        "predictions_RF = model_RF.predict(X_test)"
      ],
      "execution_count": null,
      "outputs": []
    },
    {
      "cell_type": "code",
      "metadata": {
        "colab": {
          "base_uri": "https://localhost:8080/"
        },
        "id": "VATLvTFU3-F5",
        "outputId": "67ec1032-1a0d-4b9b-fb25-cc555f49d749"
      },
      "source": [
        "print(classification_report(y_test, predictions_RF))"
      ],
      "execution_count": null,
      "outputs": [
        {
          "output_type": "stream",
          "text": [
            "              precision    recall  f1-score   support\n",
            "\n",
            "    Negativo       0.69      0.77      0.73      9256\n",
            "      Neutro       0.86      0.81      0.83      9117\n",
            "    Positivo       0.65      0.61      0.63      9244\n",
            "\n",
            "    accuracy                           0.73     27617\n",
            "   macro avg       0.73      0.73      0.73     27617\n",
            "weighted avg       0.73      0.73      0.73     27617\n",
            "\n"
          ],
          "name": "stdout"
        }
      ]
    },
    {
      "cell_type": "code",
      "metadata": {
        "id": "UxpexbWp3-F5"
      },
      "source": [
        "#for doc, prediction, y in zip(X_test[0:20], predictions_RF[0:20], y_test[0:20]):\n",
        "#    print('%r => %s [%s]' % (doc, prediction, y))"
      ],
      "execution_count": null,
      "outputs": []
    },
    {
      "cell_type": "markdown",
      "metadata": {
        "id": "FQfgDPc5rlBM"
      },
      "source": [
        "## XGBoost "
      ]
    },
    {
      "cell_type": "code",
      "metadata": {
        "id": "NKb0Zs5prpqN"
      },
      "source": [
        "model_XGB = Pipeline([\n",
        "    ('vect', CountVectorizer(ngram_range=(1, 2))),\n",
        "    ('tfidf', TfidfTransformer()),\n",
        "    ('clf', xgb.XGBClassifier(n_estimators=1000, n_jobs=-1, nthread=-1))\n",
        "])"
      ],
      "execution_count": null,
      "outputs": []
    },
    {
      "cell_type": "markdown",
      "metadata": {
        "id": "0KojRYt_CZ-K"
      },
      "source": [
        "##XGBoost with Hold-out"
      ]
    },
    {
      "cell_type": "code",
      "metadata": {
        "id": "P6kdOl3r4My7",
        "colab": {
          "base_uri": "https://localhost:8080/"
        },
        "outputId": "c8982030-8434-43ae-824f-979e929de92c"
      },
      "source": [
        "model_XGB.fit(X_train, y_train)"
      ],
      "execution_count": null,
      "outputs": [
        {
          "output_type": "execute_result",
          "data": {
            "text/plain": [
              "Pipeline(memory=None,\n",
              "         steps=[('vect',\n",
              "                 CountVectorizer(analyzer='word', binary=False,\n",
              "                                 decode_error='strict',\n",
              "                                 dtype=<class 'numpy.int64'>, encoding='utf-8',\n",
              "                                 input='content', lowercase=True, max_df=1.0,\n",
              "                                 max_features=None, min_df=1,\n",
              "                                 ngram_range=(1, 2), preprocessor=None,\n",
              "                                 stop_words=None, strip_accents=None,\n",
              "                                 token_pattern='(?u)\\\\b\\\\w\\\\w+\\\\b',\n",
              "                                 tokenizer=None, vocabulary=Non...\n",
              "                 XGBClassifier(base_score=0.5, booster='gbtree',\n",
              "                               colsample_bylevel=1, colsample_bynode=1,\n",
              "                               colsample_bytree=1, gamma=0, learning_rate=0.1,\n",
              "                               max_delta_step=0, max_depth=3,\n",
              "                               min_child_weight=1, missing=None,\n",
              "                               n_estimators=1000, n_jobs=-1, nthread=-1,\n",
              "                               objective='multi:softprob', random_state=0,\n",
              "                               reg_alpha=0, reg_lambda=1, scale_pos_weight=1,\n",
              "                               seed=None, silent=None, subsample=1,\n",
              "                               verbosity=1))],\n",
              "         verbose=False)"
            ]
          },
          "metadata": {
            "tags": []
          },
          "execution_count": 135
        }
      ]
    },
    {
      "cell_type": "code",
      "metadata": {
        "id": "55kOJioBS4Mp"
      },
      "source": [
        "predictions_XGB = model_XGB.predict(X_test)"
      ],
      "execution_count": null,
      "outputs": []
    },
    {
      "cell_type": "code",
      "metadata": {
        "id": "a148fwPs4RAd",
        "colab": {
          "base_uri": "https://localhost:8080/"
        },
        "outputId": "6628031e-a212-4473-9ffd-e60af2c30a20"
      },
      "source": [
        "print(classification_report(y_test, predictions_XGB))"
      ],
      "execution_count": null,
      "outputs": [
        {
          "output_type": "stream",
          "text": [
            "              precision    recall  f1-score   support\n",
            "\n",
            "    Negativo       0.71      0.74      0.72      9227\n",
            "      Neutro       0.78      0.85      0.81      9124\n",
            "    Positivo       0.67      0.58      0.62      9344\n",
            "\n",
            "    accuracy                           0.72     27695\n",
            "   macro avg       0.72      0.72      0.72     27695\n",
            "weighted avg       0.72      0.72      0.72     27695\n",
            "\n"
          ],
          "name": "stdout"
        }
      ]
    },
    {
      "cell_type": "markdown",
      "metadata": {
        "id": "JBObayzBcsHO"
      },
      "source": [
        "## Neural Network - Multilayer Perceptron"
      ]
    },
    {
      "cell_type": "markdown",
      "metadata": {
        "id": "VMmjAod5c_qG"
      },
      "source": [
        "<img src=\"https://st2.ning.com/topology/rest/1.0/file/get/1140047167?profile=original\" width=\"500\"/>"
      ]
    },
    {
      "cell_type": "code",
      "metadata": {
        "id": "LOkRstBz_eSp"
      },
      "source": [
        "model_NN = Pipeline([\n",
        "    ('vect', CountVectorizer(ngram_range=(1, 2))),\n",
        "    ('tfidf', TfidfTransformer()),\n",
        "    ('pca', TruncatedSVD(n_components=500)), \n",
        "    ('clf', MLPClassifier(hidden_layer_sizes=(100,50), #2 camadas escondidas sendo a primeira com 100 neurônios e a segunda com 50 neurônios \n",
        "                          random_state=42, \n",
        "                          activation='relu', #Try othe functions. Ex. tanh, relu...\n",
        "                          max_iter=1000,\n",
        "                          early_stopping=True))\n",
        "])"
      ],
      "execution_count": null,
      "outputs": []
    },
    {
      "cell_type": "markdown",
      "metadata": {
        "id": "qPMaMMru-0BR"
      },
      "source": [
        "### Neural network model with Hold-out"
      ]
    },
    {
      "cell_type": "code",
      "metadata": {
        "id": "ejUHo6f8-0BT"
      },
      "source": [
        "model_NN.fit(X_train, y_train)\n",
        "predictions_NN = model_NN.predict(X_test)"
      ],
      "execution_count": null,
      "outputs": []
    },
    {
      "cell_type": "code",
      "metadata": {
        "id": "Gugv_VxF-0BT",
        "colab": {
          "base_uri": "https://localhost:8080/"
        },
        "outputId": "953db8cd-e331-4a8c-e7dd-7b165857be20"
      },
      "source": [
        "print(classification_report(y_test, predictions_NN))"
      ],
      "execution_count": null,
      "outputs": [
        {
          "output_type": "stream",
          "text": [
            "              precision    recall  f1-score   support\n",
            "\n",
            "    Negativo       0.72      0.75      0.73      9227\n",
            "      Neutro       0.85      0.83      0.84      9124\n",
            "    Positivo       0.65      0.65      0.65      9344\n",
            "\n",
            "    accuracy                           0.74     27695\n",
            "   macro avg       0.74      0.74      0.74     27695\n",
            "weighted avg       0.74      0.74      0.74     27695\n",
            "\n"
          ],
          "name": "stdout"
        }
      ]
    },
    {
      "cell_type": "code",
      "metadata": {
        "id": "k6PppGx5-0BT",
        "colab": {
          "base_uri": "https://localhost:8080/"
        },
        "outputId": "f89f554b-228d-4424-88f7-bc0191613bb5"
      },
      "source": [
        "for doc, prediction, y in zip(X_test[0:20], predictions_NN[0:20], y_test[0:20]):\n",
        "    print('%r => %s [%s]' % (doc, prediction, y))"
      ],
      "execution_count": null,
      "outputs": [
        {
          "output_type": "stream",
          "text": [
            "'nunc peg ranç tant gent famíl rápid ness ele ' => Negativo [Positivo]\n",
            "'supost pesquis ? tant quant sab veríd ach legal invert tud manch candidat link mesm coloc desm fal víde menin ' => Positivo [Positivo]\n",
            "'áudi dela reforç tes odebrecht deu dinh amig tem diz pf lei transcr ' => Neutro [Neutro]\n",
            "'escolh deput barr projet presid ? khkjkjkjk tá difícil polít ' => Positivo [Negativo]\n",
            "'conf seleç tapet dar vid complement ambi cas ' => Neutro [Neutro]\n",
            "'marin fal alg ? vi ' => Negativo [Negativo]\n",
            "'‘ fal beste sim moment raiv separ ’, diz ex mulh bolsonar ' => Positivo [Neutro]\n",
            "'vot vam vot ' => Positivo [Positivo]\n",
            "'candidat ? — vot tô tailând ' => Negativo [Negativo]\n",
            "'nezer pûç be ' => Positivo [Positivo]\n",
            "'exat entend ministr fazend vai ser paul gued ach lul entend econom ? kkk ' => Positivo [Positivo]\n",
            "'profes liset candidat psol govern sp defend discuss sobr gêner escol promet ajud municípi constru crech ' => Neutro [Neutro]\n",
            "'grand culp aind sequ eleit sequ extingu orgã inútil dé dinh sufici pro museunac ' => Positivo [Negativo]\n",
            "'huuum entend menos mal kkk dar procur algum legal lá ' => Positivo [Positivo]\n",
            "'dud castr ex biel acus agred model natali kailey garraf ' => Neutro [Neutro]\n",
            "'filh ler document mand vai ver mestr feit université versaill panthèon sorbonn ' => Positivo [Positivo]\n",
            "'\" vam fuzil \" vam mat fak ? sei fic dúv candidat presid garot vidr arm ' => Positivo [Negativo]\n",
            "'esperanç ness ele ' => Negativo [Negativo]\n",
            "'magin boa ele ' => Positivo [Positivo]\n",
            "'ent moç ja pens vot nel muuuuuit desequilibr bols aind neg fal elei aind pass pan pra got d agu flw aqu sul discurs nazist fort verdad ' => Positivo [Positivo]\n"
          ],
          "name": "stdout"
        }
      ]
    },
    {
      "cell_type": "markdown",
      "metadata": {
        "id": "mfyhzij7CtGH"
      },
      "source": [
        "## SVM model"
      ]
    },
    {
      "cell_type": "code",
      "metadata": {
        "id": "eDIAK5XdIbEM"
      },
      "source": [
        "model_SVC = Pipeline([\n",
        "    ('vect', CountVectorizer(ngram_range=(1, 2))),\n",
        "    ('tfidf', TfidfTransformer()),\n",
        "    ('clf', SVC(random_state=42)),\n",
        "])"
      ],
      "execution_count": null,
      "outputs": []
    },
    {
      "cell_type": "markdown",
      "metadata": {
        "id": "eO1WLFoPIbEL"
      },
      "source": [
        "## SVM model with Hold out"
      ]
    },
    {
      "cell_type": "code",
      "metadata": {
        "id": "KseA2cv6IbEQ"
      },
      "source": [
        "model_SVC.fit(X_train, y_train)\n",
        "predictions_SVC = model_SVC.predict(X_test)"
      ],
      "execution_count": null,
      "outputs": []
    },
    {
      "cell_type": "code",
      "metadata": {
        "id": "L_-mBK1IIbER",
        "colab": {
          "base_uri": "https://localhost:8080/"
        },
        "outputId": "4dd701db-bc5d-4674-cfcd-9583c32ac56c"
      },
      "source": [
        "print(classification_report(y_test, predictions_SVC))"
      ],
      "execution_count": null,
      "outputs": [
        {
          "output_type": "stream",
          "text": [
            "/usr/local/lib/python3.7/dist-packages/sklearn/metrics/_classification.py:1272: UndefinedMetricWarning:\n",
            "\n",
            "Precision and F-score are ill-defined and being set to 0.0 in labels with no predicted samples. Use `zero_division` parameter to control this behavior.\n",
            "\n"
          ],
          "name": "stderr"
        },
        {
          "output_type": "stream",
          "text": [
            "              precision    recall  f1-score   support\n",
            "\n",
            "    Negativo       0.00      0.00      0.00      9813\n",
            "      Neutro       0.33      1.00      0.50      9664\n",
            "    Positivo       0.00      0.00      0.00      9813\n",
            "\n",
            "    accuracy                           0.33     29290\n",
            "   macro avg       0.11      0.33      0.17     29290\n",
            "weighted avg       0.11      0.33      0.16     29290\n",
            "\n"
          ],
          "name": "stdout"
        }
      ]
    },
    {
      "cell_type": "code",
      "metadata": {
        "id": "7cF4P59RIbER",
        "colab": {
          "base_uri": "https://localhost:8080/"
        },
        "outputId": "8e40d028-dc4f-4418-ad7a-0c37d217a208"
      },
      "source": [
        "for doc, prediction, y in zip(X_test[0:20], predictions_SVC[0:20], y_test[0:20]):\n",
        "    print('%r => %s [%s]' % (doc, prediction, y))"
      ],
      "execution_count": null,
      "outputs": [
        {
          "output_type": "stream",
          "text": [
            "'saib nazist ode jud jerusalém caracterís esquerdopat . além diss esquerd ador corrupt , pedófil , estupr marg . enquadr ness tim ? pesquis amig lulal merd mesm cois :-) ' => Positivo [Positivo]\n",
            "'príncip harry complet 34 ano receb homen intern ' => Neutro [Neutro]\n",
            "'blizzard problem overwatch , diz licenç jog tav jog ate ont boa , tod bug compr jog mó feliz mei deix entr ' => Positivo [Negativo]\n",
            "'oi mig ' => Positivo [Positivo]\n",
            "'imagin iri ter gent centr quer ir pro lad bolsonar . ' => Negativo [Positivo]\n",
            "'ali marin tem alv dobr bolsonar daciol debat . ' => Negativo [Neutro]\n",
            "'aha !!! import pro irm irm vai sent bem famíl lá ^^ ' => Positivo [Positivo]\n",
            "'big broth ingl políci vê 11 mil hor víde ach suspeit envenen ex espiã . ' => Neutro [Neutro]\n",
            "'agor sim united par cicl posi watford som prim derrot nest ediç premi leag ' => Positivo [Positivo]\n",
            "'post elogi manu aqu . ler post , vai entend toler ser zer pra tip açã . ele terr . candidat pres . atitud infeliz . :-( ' => Negativo [Negativo]\n",
            "'confirm public amanhã , 22 ago , diári ofic uni ! ' => Neutro [Neutro]\n",
            "'sim , fal ! :-) inter niss , bast artig livr escrit sobr assunt . faç pesquis internet sobr revoluç 1974 portug lug mulh . pod começ pagin part comun portugu , clar , + ' => Positivo [Positivo]\n",
            "'sent trabalh rend ? vej artig 8 dic melhor produt ! ' => Neutro [Neutro]\n",
            "'pod trabalh bermud ? op .. :-) manau , brazil ' => Neutro [Positivo]\n",
            "'& gt sobreviv , sindicat inclu contribu negoci ' => Neutro [Neutro]\n",
            "'sad sad mort , ameaç intimid discurs bolsonar inflam radic via ' => Neutro [Negativo]\n",
            "'& gt aliment gás co faz defl baix rend ser dobr ric ' => Neutro [Neutro]\n",
            "'festiv mir receb apanh colômb nov peç antun filh ' => Neutro [Neutro]\n",
            "'abert inscr curs dist \" prov process administr disciplin \". particip ! curs gratuit direit certific conclus ! ' => Neutro [Neutro]\n",
            "'simmmm vai ser batalh titã extrem esquerd extrem direit , cois horr ver chor porqu real consider vot tir títul marin deboch diss ' => Negativo [Negativo]\n"
          ],
          "name": "stdout"
        }
      ]
    },
    {
      "cell_type": "markdown",
      "metadata": {
        "id": "QyjkdeeEC156"
      },
      "source": [
        "## Logistic Regression"
      ]
    },
    {
      "cell_type": "code",
      "metadata": {
        "id": "iw8hQgSDjFkM"
      },
      "source": [
        "model_LR = Pipeline([\n",
        "    ('vect', CountVectorizer(ngram_range=(1, 2))),\n",
        "    ('tfidf', TfidfTransformer()),\n",
        "    ('clf', LogisticRegression(random_state=42, multi_class='multinomial', max_iter=500, n_jobs=-1)),\n",
        "])"
      ],
      "execution_count": null,
      "outputs": []
    },
    {
      "cell_type": "markdown",
      "metadata": {
        "id": "eN8QyOFqu0lk"
      },
      "source": [
        "## Logistic Regression with Hold Out"
      ]
    },
    {
      "cell_type": "code",
      "metadata": {
        "id": "HN_ksiNAu4yr"
      },
      "source": [
        "model_LR.fit(X_train, y_train)\n",
        "predictions_LR = model_LR.predict(X_test)"
      ],
      "execution_count": null,
      "outputs": []
    },
    {
      "cell_type": "code",
      "metadata": {
        "id": "i2ksyMhwu4ys",
        "colab": {
          "base_uri": "https://localhost:8080/"
        },
        "outputId": "3934f101-f4de-44bf-9f57-f6fce3056fa9"
      },
      "source": [
        "X_train.shape, X_test.shape"
      ],
      "execution_count": null,
      "outputs": [
        {
          "output_type": "execute_result",
          "data": {
            "text/plain": [
              "((56232,), (27697,))"
            ]
          },
          "metadata": {
            "tags": []
          },
          "execution_count": 138
        }
      ]
    },
    {
      "cell_type": "code",
      "metadata": {
        "id": "-DCOH2fSu4yt",
        "colab": {
          "base_uri": "https://localhost:8080/"
        },
        "outputId": "83adeb5e-f063-4e45-abf8-368d2992d1a6"
      },
      "source": [
        "print(classification_report(y_test, predictions_LR))"
      ],
      "execution_count": null,
      "outputs": [
        {
          "output_type": "stream",
          "text": [
            "              precision    recall  f1-score   support\n",
            "\n",
            "    Negativo       0.73      0.78      0.75      9254\n",
            "      Neutro       0.86      0.86      0.86      9125\n",
            "    Positivo       0.70      0.66      0.68      9318\n",
            "\n",
            "    accuracy                           0.76     27697\n",
            "   macro avg       0.76      0.76      0.76     27697\n",
            "weighted avg       0.76      0.76      0.76     27697\n",
            "\n"
          ],
          "name": "stdout"
        }
      ]
    },
    {
      "cell_type": "code",
      "metadata": {
        "id": "KuPaWwAzu4yt",
        "colab": {
          "base_uri": "https://localhost:8080/"
        },
        "outputId": "3da05dbe-30c2-46a7-d366-7745ac2ec52b"
      },
      "source": [
        "for doc, prediction, y in zip(X_test[0:20], predictions_LR[0:20], y_test[0:20]):\n",
        "    print('%r => %s [%s]' % (doc, prediction, y))"
      ],
      "execution_count": null,
      "outputs": [
        {
          "output_type": "stream",
          "text": [
            "'incomod idolatr exempl pi tortur histór país mim incomod diz sobr além outr pequen cois ”. val difer bom vot ' => Positivo [Positivo]\n",
            "'explic motiv porqu project metr mondeg avanç apes milhã gast afinal macumb \"... segund géni presid municípi coimbr ' => Neutro [Positivo]\n",
            "'extr meirell gast r 21 milhã pont bolsonar r 39 mil ' => Neutro [Neutro]\n",
            "'cir man ' => Negativo [Negativo]\n",
            "'fiscal encontr 1 6 mil médic registr red hospital rio ' => Neutro [Neutro]\n",
            "'ju candidat c apo ódi coraçã ' => Negativo [Negativo]\n",
            "'franç evit declar apoi bolsonar haddad afin nenhum ' => Negativo [Neutro]\n",
            "'regrann from marin convers desenrol fio vid sempr vem sempr gost compartilh vid ! ' => Positivo [Positivo]\n",
            "'tá cad dia difícil segu pesso facebook princip express opin polít ' => Negativo [Negativo]\n",
            "'ótim ' => Positivo [Positivo]\n",
            "'i liked vide cs go ! astralil vs faz melhor jog dia ! ' => Positivo [Positivo]\n",
            "'charli sheen ped reduç pens filh ' => Neutro [Neutro]\n",
            "'acredit cir vai vir aqu cidad consegu ver ' => Negativo [Negativo]\n",
            "'diz aind sab qnd vai ser ate lá pens possi vai consegu sim med consegu verdad tod mund sempr pens possi ' => Negativo [Positivo]\n",
            "'tse vai decid sobr candidat ‘ celer ’, diz ros web ' => Neutro [Neutro]\n",
            "'def cir contr bols vot nel prim turn pq pens chanc ir pro segund faz vot estratég prova vot amoed ' => Negativo [Positivo]\n",
            "'aind trist cir pass segund turn ' => Negativo [Negativo]\n",
            "'cans polít aparec tl daí dar rt ' => Negativo [Negativo]\n",
            "'agr quer bolsonar ganh alguém mat frent pai ' => Negativo [Positivo]\n",
            "'vot bolsonar ser complet babac ' => Positivo [Positivo]\n"
          ],
          "name": "stdout"
        }
      ]
    },
    {
      "cell_type": "markdown",
      "metadata": {
        "id": "RiZyLJP05gKy"
      },
      "source": [
        "## Logistic Regression with cross-validation and gridsearch \n",
        "Doing CV and gridsearch on the model with the best performance "
      ]
    },
    {
      "cell_type": "code",
      "metadata": {
        "id": "b8A0vi2j5grx"
      },
      "source": [
        "model_LR = Pipeline([\n",
        "    ('vect', CountVectorizer(ngram_range=(1, 2))),\n",
        "    ('tfidf', TfidfTransformer()),\n",
        "    ('clf', LogisticRegression(random_state=42, multi_class='multinomial', max_iter=500, n_jobs=-1)),\n",
        "])"
      ],
      "execution_count": null,
      "outputs": []
    },
    {
      "cell_type": "code",
      "metadata": {
        "id": "RVkm2xmRLG94"
      },
      "source": [
        "param_grid_LR = {\n",
        "    'clf__solver': ['newton-cg', 'lbfgs'],\n",
        "    'clf__penalty': ['l2', 'none'],\n",
        "}"
      ],
      "execution_count": null,
      "outputs": []
    },
    {
      "cell_type": "code",
      "metadata": {
        "id": "DQ6QFTbNlOPB"
      },
      "source": [
        "grid_pipeline_LR = GridSearchCV(param_grid=param_grid_LR, estimator=model_LR, scoring='accuracy', cv=5)"
      ],
      "execution_count": null,
      "outputs": []
    },
    {
      "cell_type": "code",
      "metadata": {
        "id": "VENM5GkYk_NE"
      },
      "source": [
        "grid_pipeline_LR.fit(X_train, y_train)"
      ],
      "execution_count": null,
      "outputs": []
    },
    {
      "cell_type": "code",
      "metadata": {
        "id": "70JZ0tehOHkv",
        "colab": {
          "base_uri": "https://localhost:8080/"
        },
        "outputId": "c36ea1ad-766b-4ceb-c0bd-2dea7c92ae2e"
      },
      "source": [
        "print(grid_pipeline_LR.best_params_)"
      ],
      "execution_count": null,
      "outputs": [
        {
          "output_type": "stream",
          "text": [
            "{'clf__penalty': 'l2', 'clf__solver': 'lbfgs'}\n"
          ],
          "name": "stdout"
        }
      ]
    },
    {
      "cell_type": "code",
      "metadata": {
        "id": "0Ckvw91SHvBA"
      },
      "source": [
        "predictions_LR = grid_pipeline_LR.predict(X_test)"
      ],
      "execution_count": null,
      "outputs": []
    },
    {
      "cell_type": "code",
      "metadata": {
        "id": "KcJ_aY2L4HHe",
        "colab": {
          "base_uri": "https://localhost:8080/"
        },
        "outputId": "c1349c43-e9db-4068-9ae4-ed31a3017da1"
      },
      "source": [
        "print(classification_report(y_test, predictions_LR))"
      ],
      "execution_count": null,
      "outputs": [
        {
          "output_type": "stream",
          "text": [
            "              precision    recall  f1-score   support\n",
            "\n",
            "    Negativo       0.73      0.77      0.75      9256\n",
            "      Neutro       0.86      0.86      0.86      9128\n",
            "    Positivo       0.70      0.66      0.68      9313\n",
            "\n",
            "    accuracy                           0.76     27697\n",
            "   macro avg       0.76      0.76      0.76     27697\n",
            "weighted avg       0.76      0.76      0.76     27697\n",
            "\n"
          ],
          "name": "stdout"
        }
      ]
    },
    {
      "cell_type": "code",
      "metadata": {
        "id": "vESsQSYP4HHf",
        "colab": {
          "base_uri": "https://localhost:8080/"
        },
        "outputId": "2033a06b-d7c6-4e99-f01d-8d48f6035605"
      },
      "source": [
        "for doc, prediction, y in zip(X_test[0:20], predictions_LR[0:20], y_test[0:20]):\n",
        "    print('%r => %s [%s]' % (doc, prediction, y))"
      ],
      "execution_count": null,
      "outputs": [
        {
          "output_type": "stream",
          "text": [
            "'um outr problem nov tip model ele faz pont mud opin temp temp vá pra opin maior vi ! aí gent pod estim dev venc ! alô ' => Positivo [Positivo]\n",
            "'menos quer tant ir nunc oportun tant ódi dess govern podr verdad perd esperanç ness país ' => Negativo [Negativo]\n",
            "'ele 2018 2014 saib mud ' => Neutro [Neutro]\n",
            "'7 10 11 07 thierry eaí bru fal tant polít vot ? 7 10 11 09 brunn kkkkkkkklkemoticon_neg 7 10 11 09 thierry doid ? tô fal séri 7 10 11 11 brunn vot bro ' => Positivo [Negativo]\n",
            "'skaf cham dor polít quint categor ' => Neutro [Neutro]\n",
            "'emocion entrev cir marin ' => Negativo [Negativo]\n",
            "'cir gom seg risc orient pass imag tranquil ' => Positivo [Neutro]\n",
            "'0 minut ler alg sobr polít timelin record 3 minut obrig jov nerd ' => Positivo [Positivo]\n",
            "'ah velh tad cir ' => Negativo [Negativo]\n",
            "'bel ' => Positivo [Positivo]\n",
            "'nad melhor cheg cas ter var mulh grit bolsonar frent condomini vari carr polic ' => Positivo [Positivo]\n",
            "'googl lanç serviç transmiss onlin jog ' => Neutro [Neutro]\n",
            "'nunc cir smp vai ser insuper ' => Negativo [Negativo]\n",
            "'caralh gritaaa odei fal namor vem infeliz diz cois adolesc nov passag porr vão tom cu par ser chat cuid vid obrig ' => Positivo [Positivo]\n",
            "'gt fre faz arremess part beisebol impress internet assist ' => Neutro [Neutro]\n",
            "'mostr ai pra mim ond nao vi ' => Negativo [Positivo]\n",
            "'boa noit ! deu olh plan govern cir gom ? ach merec vot vam 12 ' => Positivo [Positivo]\n",
            "'fic 93849x trist lembr dilm dilm ! ' => Negativo [Negativo]\n",
            "'carac dire morr gost desgost jorn mui trist alguém relev jorn morr ant ver pt ganh ele presid :/ ' => Negativo [Negativo]\n",
            "'quer ver tip indign vál sinal atitud lul cas alianç psb exempl vi pov indign part pt don ' => Negativo [Positivo]\n"
          ],
          "name": "stdout"
        }
      ]
    },
    {
      "cell_type": "markdown",
      "metadata": {
        "id": "3E9RvBzoJpNv"
      },
      "source": [
        "## Exporting the model pipeline"
      ]
    },
    {
      "cell_type": "code",
      "metadata": {
        "id": "UVpOeP1v7luq"
      },
      "source": [
        "import pickle"
      ],
      "execution_count": null,
      "outputs": []
    },
    {
      "cell_type": "code",
      "metadata": {
        "id": "P3ufMJai7KX4"
      },
      "source": [
        "pickle.dump(grid_pipeline_LR, open('pipeline_LR', 'wb'))"
      ],
      "execution_count": null,
      "outputs": []
    },
    {
      "cell_type": "code",
      "metadata": {
        "id": "ulrW0azrUws0"
      },
      "source": [
        "loaded_model = pickle.load(open('pipeline_LR', 'rb'))"
      ],
      "execution_count": null,
      "outputs": []
    },
    {
      "cell_type": "code",
      "metadata": {
        "id": "mGKu_1Ng2_Og"
      },
      "source": [
        "predictions = loaded_model.predict(X_test)"
      ],
      "execution_count": null,
      "outputs": []
    },
    {
      "cell_type": "code",
      "metadata": {
        "colab": {
          "base_uri": "https://localhost:8080/"
        },
        "id": "ta8tBnBA3DB3",
        "outputId": "da750502-6485-4c10-fc33-b946d1d23a6f"
      },
      "source": [
        "print(classification_report(y_test, predictions))"
      ],
      "execution_count": null,
      "outputs": [
        {
          "output_type": "stream",
          "text": [
            "              precision    recall  f1-score   support\n",
            "\n",
            "    Negativo       0.73      0.78      0.75      9254\n",
            "      Neutro       0.86      0.86      0.86      9125\n",
            "    Positivo       0.70      0.66      0.68      9318\n",
            "\n",
            "    accuracy                           0.76     27697\n",
            "   macro avg       0.76      0.76      0.76     27697\n",
            "weighted avg       0.76      0.76      0.76     27697\n",
            "\n"
          ],
          "name": "stdout"
        }
      ]
    }
  ]
}
